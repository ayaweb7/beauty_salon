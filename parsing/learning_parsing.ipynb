{
 "cells": [
  {
   "cell_type": "markdown",
   "metadata": {},
   "source": [
    "# Обучение парсингу на Python\n",
    "\n",
    "## PythonToday\n",
    "\n",
    "#### @PythonToday • 235 тыс. подписчиков • 215 видео"
   ]
  },
  {
   "cell_type": "markdown",
   "metadata": {},
   "source": [
    "##  УРОК 1 | Парсинг сайтов | Разбираем методы библиотеки Beautifulsoup"
   ]
  },
  {
   "cell_type": "code",
   "execution_count": null,
   "metadata": {},
   "outputs": [],
   "source": [
    "# https://www.youtube.com/watch?v=7hn1_t2ZtJQ"
   ]
  },
  {
   "cell_type": "code",
   "execution_count": null,
   "metadata": {},
   "outputs": [],
   "source": [
    "# Искать нужные элементы в коде с помощью библиотеки:\n",
    "# !pip install beautifulsoup4"
   ]
  },
  {
   "cell_type": "code",
   "execution_count": 4,
   "metadata": {},
   "outputs": [],
   "source": [
    "# Подключаем библиотеку для поиска элементов кода на сайте !!!!!!!!!!!!!\n",
    "# Библиотека PYTHON для извлечения данных из файлов HTML и XML\n",
    "import re\n",
    "from bs4 import BeautifulSoup"
   ]
  },
  {
   "cell_type": "code",
   "execution_count": 2,
   "metadata": {},
   "outputs": [
    {
     "name": "stdout",
     "output_type": "stream",
     "text": [
      "<!DOCTYPE html>\n",
      "<html lang=\"en\">\n",
      "<head>\n",
      "    <meta charset=\"UTF-8\">\n",
      "    <title>Р“Р»Р°РІРЅР°СЏ СЃС‚СЂР°РЅРёС†Р° Р±Р»РѕРіР°</title>\n",
      "    <link rel=\"stylesheet\" href=\"style.css\">\n",
      "</head>\n",
      "<body>\n",
      "<div class=\"container\">\n",
      "    <h1>РЎС‚СЂР°РЅРёС†Р° РїРѕР»СЊР·РѕРІР°С‚РµР»СЏ Mr. Anderson</h1>\n",
      "    <div class=\"user__data\">\n",
      "        <div class=\"user__avatar\">\n",
      "            <img src=\"user_avatar.jpg\" alt=\"\">\n",
      "        </div>\n",
      "        <div class=\"user__info\">\n",
      "            <div class=\"user__name\">\n",
      "                <span>Mr Anderson</span>\n",
      "            </div>\n",
      "            <div class=\"user__birth__date\">\n",
      "                <span>Р”Р°С‚Р° СЂРѕР¶РґРµРЅРёСЏ:</span>\n",
      "                <span>01.01.1970</span>\n",
      "            </div>\n",
      "            <div class=\"user__city\">\n",
      "                <span class=\"city__label\">Р“РѕСЂРѕРґ:</span>\n",
      "                <span>Los Angeles</span>\n",
      "            </div>\n",
      "            <div class=\"social__networks\">\n",
      "                <p>РЎСЃС‹Р»РєРё РЅР° СЃРѕС†.СЃРµС‚Рё:</p>\n",
      "                <ul>\n",
      "                    <li>\n",
      "                        <a href=\"http://instagram.com/username\">Instagram</a>\n",
      "                    </li>\n",
      "                    <li>\n",
      "                        <a href=\"http://twitter.com/username\">Twitter</a>\n",
      "                    </li>\n",
      "                    <li>\n",
      "                        <a href=\"http://youtube.com/username\">Youtube</a>\n",
      "                    </li>\n",
      "                </ul>\n",
      "            </div>\n",
      "        </div>\n",
      "    </div>\n",
      "    <div class=\"user__blog__wall\">\n",
      "        <div class=\"blog__title\">Р‘Р»РѕРі</div>\n",
      "        <div class=\"user__post\">\n",
      "            <div class=\"user__post__info\">\n",
      "                <div class=\"post__title\">\n",
      "                    <h3>Р РѕСЃСЃРёР№СЃРєР°СЏ РЅРµР№СЂРѕСЃРµС‚СЊ СЃРѕСЂС‚РёСЂСѓРµС‚ РїР»Р°СЃС‚РёРє СЃ С‚РѕС‡РЅРѕСЃС‚СЊСЋ 95%</h3>\n",
      "                </div>\n",
      "                <div class=\"post__text\">\n",
      "                    Lorem ipsum dolor sit amet, consectetur adipiscing elit, sed do eiusmod tempor incididunt ut labore\n",
      "                    et dolore magna aliqua. Vitae justo eget magna fermentum iaculis eu. Nibh sit amet commodo nulla\n",
      "                    facilisi nullam vehicula ipsum. Elit pellentesque habitant morbi tristique senectus et netus et\n",
      "                    malesuada.\n",
      "                </div>\n",
      "            </div>\n",
      "        </div>\n",
      "        <div class=\"user__post\">\n",
      "            <div class=\"user__post__info\">\n",
      "                <div class=\"post__title\">\n",
      "                    <h3>Wi-Fi Hack</h3>\n",
      "                </div>\n",
      "                <div class=\"post__text\">\n",
      "                    Semper risus in hendrerit gravida rutrum quisque. Imperdiet sed euismod nisi porta lorem mollis\n",
      "                    aliquam. Blandit massa enim nec dui nunc mattis enim. Enim neque volutpat ac tincidunt vitae semper.\n",
      "                </div>\n",
      "            </div>\n",
      "        </div>\n",
      "        <div class=\"user__post\">\n",
      "            <div class=\"user__post__info\">\n",
      "                <div class=\"post__title\">\n",
      "                    <h3>Twitter Р±СѓРґРµС‚ Р±Р°РЅРёС‚СЊ РїРѕР»СЊР·РѕРІР°С‚РµР»РµР№, РєРѕС‚РѕСЂС‹Рµ Р¶РµР»Р°СЋС‚ СЃРјРµСЂС‚Рё РґСЂСѓРіРёРј</h3>\n",
      "                </div>\n",
      "                <div class=\"post__text\">\n",
      "                    Lobortis scelerisque fermentum dui faucibus in ornare quam viverra orci. Eget lorem dolor sed\n",
      "                    viverra ipsum nunc aliquet. Nunc id cursus metus aliquam eleifend mi in nulla. Aliquam id diam\n",
      "                    maecenas ultricies mi eget mauris pharetra. Ut tortor pretium viverra suspendisse potenti.\n",
      "                </div>\n",
      "            </div>\n",
      "        </div>\n",
      "    </div>\n",
      "</div>\n",
      "</body>\n",
      "</html>\n"
     ]
    }
   ],
   "source": [
    "# Для начала работы нужно открыть файл нашей страницы:\n",
    "# with open(\"blank/index.html\") as file:\n",
    "with open(\"D:/father/Programs/OSPanel/domains/parsing/lesson_1/blank/index.html\") as file:\n",
    "    src = file.read() # Сохраним содержимое файла в переменную\n",
    "\n",
    "# И прочитаем это содержимое\n",
    "print(src)"
   ]
  },
  {
   "cell_type": "code",
   "execution_count": 3,
   "metadata": {},
   "outputs": [
    {
     "name": "stdout",
     "output_type": "stream",
     "text": [
      "<!DOCTYPE html>\n",
      "<html lang=\"en\">\n",
      "<head>\n",
      "    <meta charset=\"UTF-8\">\n",
      "    <title>Главная страница блога</title>\n",
      "    <link rel=\"stylesheet\" href=\"style.css\">\n",
      "</head>\n",
      "<body>\n",
      "<div class=\"container\">\n",
      "    <h1>Страница пользователя Mr. Anderson</h1>\n",
      "    <div class=\"user__data\">\n",
      "        <div class=\"user__avatar\">\n",
      "            <img src=\"user_avatar.jpg\" alt=\"\">\n",
      "        </div>\n",
      "        <div class=\"user__info\">\n",
      "            <div class=\"user__name\">\n",
      "                <span>Mr Anderson</span>\n",
      "            </div>\n",
      "            <div class=\"user__birth__date\">\n",
      "                <span>Дата рождения:</span>\n",
      "                <span>01.01.1970</span>\n",
      "            </div>\n",
      "            <div class=\"user__city\">\n",
      "                <span class=\"city__label\">Город:</span>\n",
      "                <span>Los Angeles</span>\n",
      "            </div>\n",
      "            <div class=\"social__networks\">\n",
      "                <p>Ссылки на соц.сети:</p>\n",
      "                <ul>\n",
      "                    <li>\n",
      "                        <a href=\"http://instagram.com/username\">Instagram</a>\n",
      "                    </li>\n",
      "                    <li>\n",
      "                        <a href=\"http://twitter.com/username\">Twitter</a>\n",
      "                    </li>\n",
      "                    <li>\n",
      "                        <a href=\"http://youtube.com/username\">Youtube</a>\n",
      "                    </li>\n",
      "                </ul>\n",
      "            </div>\n",
      "        </div>\n",
      "    </div>\n",
      "    <div class=\"user__blog__wall\">\n",
      "        <div class=\"blog__title\">Блог</div>\n",
      "        <div class=\"user__post\">\n",
      "            <div class=\"user__post__info\">\n",
      "                <div class=\"post__title\">\n",
      "                    <h3>Российская нейросеть сортирует пластик с точностью 95%</h3>\n",
      "                </div>\n",
      "                <div class=\"post__text\">\n",
      "                    Lorem ipsum dolor sit amet, consectetur adipiscing elit, sed do eiusmod tempor incididunt ut labore\n",
      "                    et dolore magna aliqua. Vitae justo eget magna fermentum iaculis eu. Nibh sit amet commodo nulla\n",
      "                    facilisi nullam vehicula ipsum. Elit pellentesque habitant morbi tristique senectus et netus et\n",
      "                    malesuada.\n",
      "                </div>\n",
      "            </div>\n",
      "        </div>\n",
      "        <div class=\"user__post\">\n",
      "            <div class=\"user__post__info\">\n",
      "                <div class=\"post__title\">\n",
      "                    <h3>Wi-Fi Hack</h3>\n",
      "                </div>\n",
      "                <div class=\"post__text\">\n",
      "                    Semper risus in hendrerit gravida rutrum quisque. Imperdiet sed euismod nisi porta lorem mollis\n",
      "                    aliquam. Blandit massa enim nec dui nunc mattis enim. Enim neque volutpat ac tincidunt vitae semper.\n",
      "                </div>\n",
      "            </div>\n",
      "        </div>\n",
      "        <div class=\"user__post\">\n",
      "            <div class=\"user__post__info\">\n",
      "                <div class=\"post__title\">\n",
      "                    <h3>Twitter будет банить пользователей, которые желают смерти другим</h3>\n",
      "                </div>\n",
      "                <div class=\"post__text\">\n",
      "                    Lobortis scelerisque fermentum dui faucibus in ornare quam viverra orci. Eget lorem dolor sed\n",
      "                    viverra ipsum nunc aliquet. Nunc id cursus metus aliquam eleifend mi in nulla. Aliquam id diam\n",
      "                    maecenas ultricies mi eget mauris pharetra. Ut tortor pretium viverra suspendisse potenti.\n",
      "                </div>\n",
      "            </div>\n",
      "        </div>\n",
      "    </div>\n",
      "</div>\n",
      "</body>\n",
      "</html>\n"
     ]
    }
   ],
   "source": [
    "# Для начала работы нужно открыть файл нашей страницы:\n",
    "\n",
    "# Всем у кого открывается набор символов, вместо русского языка!\n",
    "# Нужно перекодировать файл в кодировку UTF-8 добавив в первую строчку команду encoding=\"utf-8\".\n",
    "# Вот таким образом: with open('blank/index.html', encoding=\"utf-8\") as file:\n",
    "\n",
    "with open('D:/father/Programs/OSPanel/domains/parsing/lesson_1/blank/index.html', encoding='utf-8') as file:\n",
    "    src = file.read() # Сохраним содержимое файла в переменную\n",
    "\n",
    "# И прочитаем это содержимое\n",
    "print(src)"
   ]
  },
  {
   "cell_type": "code",
   "execution_count": 5,
   "metadata": {},
   "outputs": [],
   "source": [
    "# Чтобы пользоваться методами библиотеки BEAUTIFULSOUP нужно открыть нашу переменную в этой библиотеке\n",
    "# (Преобразовать код в дерево объектов Python)\n",
    "soup = BeautifulSoup(src, \"lxml\")\n",
    "\n",
    "# LXML - это название название парсера (считается самым быстрым)\n",
    "# В стандартной установке его нет (надо устанавливать отдельно)\n",
    "# !pip install lxml"
   ]
  },
  {
   "cell_type": "code",
   "execution_count": 6,
   "metadata": {},
   "outputs": [
    {
     "name": "stdout",
     "output_type": "stream",
     "text": [
      "<title>Главная страница блога</title>\n",
      "Главная страница блога\n",
      "Главная страница блога\n"
     ]
    }
   ],
   "source": [
    "# Получаем информацию из тэга TITLE\n",
    "title = soup.title\n",
    "print(title)\n",
    "print(title.text) # Текстовое содержимое тэга\n",
    "print(title.string) # То же самое"
   ]
  },
  {
   "cell_type": "code",
   "execution_count": 11,
   "metadata": {},
   "outputs": [],
   "source": [
    "with open('D:/father/Programs/OSPanel/domains/parsing/lesson_1/blank/index2.html', encoding='utf-8') as file:\n",
    "    src2 = file.read() # Сохраним содержимое файла в переменную"
   ]
  },
  {
   "cell_type": "code",
   "execution_count": 12,
   "metadata": {},
   "outputs": [],
   "source": [
    "soup2 = BeautifulSoup(src2, \"lxml\")"
   ]
  },
  {
   "cell_type": "markdown",
   "metadata": {},
   "source": [
    "### Методы .find() и .find_all()\n",
    "\n",
    "##### Работают сверху вниз"
   ]
  },
  {
   "cell_type": "code",
   "execution_count": 8,
   "metadata": {},
   "outputs": [
    {
     "name": "stdout",
     "output_type": "stream",
     "text": [
      "<h1>Страница пользователя Mr. Anderson</h1>\n",
      "Страница пользователя Mr. Anderson\n"
     ]
    }
   ],
   "source": [
    "# Метод .find() находит самый первый встретившийся объект\n",
    "\n",
    "page_h1 = soup.find(\"h1\")\n",
    "print(page_h1)\n",
    "print(page_h1.text)"
   ]
  },
  {
   "cell_type": "code",
   "execution_count": 10,
   "metadata": {},
   "outputs": [
    {
     "name": "stdout",
     "output_type": "stream",
     "text": [
      "[<h1>Страница пользователя Mr. Anderson</h1>]\n"
     ]
    }
   ],
   "source": [
    "# Метод .find_all() находит все обекты на странице\n",
    "\n",
    "page_all_h1 = soup.find_all(\"h1\")\n",
    "print(page_all_h1)\n",
    "# print(page_all_h1.text)"
   ]
  },
  {
   "cell_type": "code",
   "execution_count": 13,
   "metadata": {},
   "outputs": [
    {
     "name": "stdout",
     "output_type": "stream",
     "text": [
      "<h1>Страница пользователя Mr. Anderson</h1>\n",
      "Страница пользователя Mr. Anderson\n",
      "-----------------\n",
      "[<h1>Страница пользователя Mr. Anderson</h1>, <h1>Ещё один h1 заголовок</h1>]\n"
     ]
    }
   ],
   "source": [
    "# Метод .find() находит самый первый встретившийся объект\n",
    "\n",
    "page_h1_2 = soup2.find(\"h1\")\n",
    "print(page_h1_2)\n",
    "print(page_h1_2.text)\n",
    "print('-----------------')\n",
    "\n",
    "# Метод .find_all() находит все обекты на странице\n",
    "\n",
    "page_all_h1_2 = soup2.find_all(\"h1\")\n",
    "print(page_all_h1_2)\n",
    "# print(page_all_h1.text)"
   ]
  },
  {
   "cell_type": "code",
   "execution_count": 14,
   "metadata": {},
   "outputs": [
    {
     "name": "stdout",
     "output_type": "stream",
     "text": [
      "Страница пользователя Mr. Anderson\n",
      "Ещё один h1 заголовок\n"
     ]
    }
   ],
   "source": [
    "# Перебор всех искомых элементов в цикле:\n",
    "for item in page_all_h1_2:\n",
    "    print(item.text)"
   ]
  },
  {
   "cell_type": "code",
   "execution_count": 16,
   "metadata": {},
   "outputs": [
    {
     "name": "stdout",
     "output_type": "stream",
     "text": [
      "Страница пользователя Mr. Anderson\n",
      "Ещё один h1 заголовок\n"
     ]
    },
    {
     "data": {
      "text/plain": [
       "[None, None]"
      ]
     },
     "execution_count": 16,
     "metadata": {},
     "output_type": "execute_result"
    }
   ],
   "source": [
    "# Magic\n",
    "# soup = BeautifulSoup(res.text, 'html')\n",
    "# links = soup.find_all('a')\n",
    "\n",
    "# Чтобы извлечь из ссылки текст:\n",
    "[print(x.text) for x in page_all_h1_2]"
   ]
  },
  {
   "cell_type": "code",
   "execution_count": 19,
   "metadata": {},
   "outputs": [
    {
     "name": "stdout",
     "output_type": "stream",
     "text": [
      "-----------------\n",
      "<div class=\"user__name\">\n",
      "<span>Mr Anderson</span>\n",
      "</div>\n",
      "-----------------\n",
      "\n",
      "Mr Anderson\n",
      "\n",
      "-----------------\n",
      "Mr Anderson\n",
      "-----------------\n"
     ]
    }
   ],
   "source": [
    "# \n",
    "user_name = soup.find(\"div\", class_=\"user__name\")\n",
    "print('-----------------')\n",
    "print(user_name)\n",
    "print('-----------------')\n",
    "print(user_name.text)\n",
    "print('-----------------')\n",
    "print(user_name.text.strip())\n",
    "print('-----------------')"
   ]
  },
  {
   "cell_type": "code",
   "execution_count": 25,
   "metadata": {},
   "outputs": [
    {
     "name": "stdout",
     "output_type": "stream",
     "text": [
      "Mr Anderson\n"
     ]
    }
   ],
   "source": [
    "# Двигаемся по цепочке вглубь кода, чтобы найти нужный элемент кода\n",
    "user_name = soup.find(\"div\", class_=\"user__name\").find(\"span\").text\n",
    "print(user_name)"
   ]
  },
  {
   "cell_type": "code",
   "execution_count": 28,
   "metadata": {},
   "outputs": [
    {
     "name": "stdout",
     "output_type": "stream",
     "text": [
      "Mr Anderson\n"
     ]
    }
   ],
   "source": [
    "# Вторым способом фильтрации атрибутов поиска является передача словаря\n",
    "user_name = soup2.find(\"div\", {\"class\": \"user__name\", \"id\": \"aaa\"}).find(\"span\").text\n",
    "print(user_name)"
   ]
  },
  {
   "cell_type": "code",
   "execution_count": 29,
   "metadata": {},
   "outputs": [
    {
     "name": "stdout",
     "output_type": "stream",
     "text": [
      "[<span>Mr Anderson</span>, <span>Дата рождения:</span>, <span>01.01.1970</span>, <span class=\"city__label\">Город:</span>, <span>Los Angeles</span>]\n"
     ]
    }
   ],
   "source": [
    "# \n",
    "find_all_spans_in_user_info = soup.find(class_=\"user__info\").find_all(\"span\")\n",
    "print(find_all_spans_in_user_info)"
   ]
  },
  {
   "cell_type": "code",
   "execution_count": 30,
   "metadata": {},
   "outputs": [
    {
     "name": "stdout",
     "output_type": "stream",
     "text": [
      "Mr Anderson\n",
      "Дата рождения:\n",
      "01.01.1970\n",
      "Город:\n",
      "Los Angeles\n"
     ]
    }
   ],
   "source": [
    "# \n",
    "for item in find_all_spans_in_user_info:\n",
    "    print(item.text)"
   ]
  },
  {
   "cell_type": "code",
   "execution_count": 31,
   "metadata": {},
   "outputs": [
    {
     "name": "stdout",
     "output_type": "stream",
     "text": [
      "<span>Mr Anderson</span>\n",
      "01.01.1970\n"
     ]
    }
   ],
   "source": [
    "# \n",
    "print(find_all_spans_in_user_info[0])\n",
    "print(find_all_spans_in_user_info[2].text)"
   ]
  },
  {
   "cell_type": "code",
   "execution_count": 32,
   "metadata": {},
   "outputs": [
    {
     "name": "stdout",
     "output_type": "stream",
     "text": [
      "[<a href=\"http://instagram.com/username\">Instagram</a>, <a href=\"http://twitter.com/username\">Twitter</a>, <a href=\"http://youtube.com/username\">Youtube</a>]\n"
     ]
    }
   ],
   "source": [
    "# ПЕРВЫЙ способ поиска элементов в коде - последовательный (углубляемся внутрь кода):\n",
    "social_links = soup.find(class_=\"social__networks\").find(\"ul\").find_all(\"a\")\n",
    "print(social_links)"
   ]
  },
  {
   "cell_type": "code",
   "execution_count": 33,
   "metadata": {},
   "outputs": [
    {
     "name": "stdout",
     "output_type": "stream",
     "text": [
      "[<a href=\"http://instagram.com/username\">Instagram</a>, <a href=\"http://twitter.com/username\">Twitter</a>, <a href=\"http://youtube.com/username\">Youtube</a>]\n"
     ]
    }
   ],
   "source": [
    "# ВТОРОЙ способ при помощи метода SOUP_ALL:\n",
    "all_a = soup.find_all(\"a\")\n",
    "print(all_a)"
   ]
  },
  {
   "cell_type": "code",
   "execution_count": 34,
   "metadata": {},
   "outputs": [
    {
     "name": "stdout",
     "output_type": "stream",
     "text": [
      "Instagram: http://instagram.com/username\n",
      "Twitter: http://twitter.com/username\n",
      "Youtube: http://youtube.com/username\n"
     ]
    }
   ],
   "source": [
    "# Находим в тэге А полезную информацию - текст и ссылку\n",
    "for item in all_a:\n",
    "    item_text = item.text\n",
    "    item_url = item.get(\"href\")\n",
    "    print(f\"{item_text}: {item_url}\")"
   ]
  },
  {
   "cell_type": "markdown",
   "metadata": {},
   "source": [
    "## Для перемещения по DOM-дереву есть ещё несколько полезных методов:"
   ]
  },
  {
   "cell_type": "markdown",
   "metadata": {},
   "source": [
    "### Методы .find_parent() и .find_parents()"
   ]
  },
  {
   "cell_type": "code",
   "execution_count": 35,
   "metadata": {},
   "outputs": [
    {
     "name": "stdout",
     "output_type": "stream",
     "text": [
      "<div class=\"user__post__info\">\n",
      "<div class=\"post__title\">\n",
      "<h3>Российская нейросеть сортирует пластик с точностью 95%</h3>\n",
      "</div>\n",
      "<div class=\"post__text\">\n",
      "                    Lorem ipsum dolor sit amet, consectetur adipiscing elit, sed do eiusmod tempor incididunt ut labore\n",
      "                    et dolore magna aliqua. Vitae justo eget magna fermentum iaculis eu. Nibh sit amet commodo nulla\n",
      "                    facilisi nullam vehicula ipsum. Elit pellentesque habitant morbi tristique senectus et netus et\n",
      "                    malesuada.\n",
      "                </div>\n",
      "</div>\n"
     ]
    }
   ],
   "source": [
    "# Определяем ПЕРВОГО родителя искомого блока (вместе со всеми находящимися в родительском блоке элементами)\n",
    "post_div = soup.find(class_=\"post__text\").find_parent()\n",
    "print(post_div)"
   ]
  },
  {
   "cell_type": "code",
   "execution_count": 36,
   "metadata": {},
   "outputs": [
    {
     "name": "stdout",
     "output_type": "stream",
     "text": [
      "<div class=\"user__post\">\n",
      "<div class=\"user__post__info\">\n",
      "<div class=\"post__title\">\n",
      "<h3>Российская нейросеть сортирует пластик с точностью 95%</h3>\n",
      "</div>\n",
      "<div class=\"post__text\">\n",
      "                    Lorem ipsum dolor sit amet, consectetur adipiscing elit, sed do eiusmod tempor incididunt ut labore\n",
      "                    et dolore magna aliqua. Vitae justo eget magna fermentum iaculis eu. Nibh sit amet commodo nulla\n",
      "                    facilisi nullam vehicula ipsum. Elit pellentesque habitant morbi tristique senectus et netus et\n",
      "                    malesuada.\n",
      "                </div>\n",
      "</div>\n",
      "</div>\n"
     ]
    }
   ],
   "source": [
    "# При уточнении параметров поиска поднимаемся вверх по коду и определяем ОПРЕДЕЛЁННОГО родителя\n",
    "post_div = soup.find(class_=\"post__text\").find_parent(\"div\", \"user__post\")\n",
    "print(post_div)"
   ]
  },
  {
   "cell_type": "code",
   "execution_count": 37,
   "metadata": {},
   "outputs": [
    {
     "name": "stdout",
     "output_type": "stream",
     "text": [
      "[<div class=\"user__post\">\n",
      "<div class=\"user__post__info\">\n",
      "<div class=\"post__title\">\n",
      "<h3>Российская нейросеть сортирует пластик с точностью 95%</h3>\n",
      "</div>\n",
      "<div class=\"post__text\">\n",
      "                    Lorem ipsum dolor sit amet, consectetur adipiscing elit, sed do eiusmod tempor incididunt ut labore\n",
      "                    et dolore magna aliqua. Vitae justo eget magna fermentum iaculis eu. Nibh sit amet commodo nulla\n",
      "                    facilisi nullam vehicula ipsum. Elit pellentesque habitant morbi tristique senectus et netus et\n",
      "                    malesuada.\n",
      "                </div>\n",
      "</div>\n",
      "</div>]\n"
     ]
    }
   ],
   "source": [
    "# КОНКРЕТНЫЙ родитель\n",
    "post_divs = soup.find(class_=\"post__text\").find_parents(\"div\", \"user__post\")\n",
    "print(post_divs)"
   ]
  },
  {
   "cell_type": "code",
   "execution_count": 38,
   "metadata": {},
   "outputs": [
    {
     "name": "stdout",
     "output_type": "stream",
     "text": [
      "[<div class=\"user__post__info\">\n",
      "<div class=\"post__title\">\n",
      "<h3>Российская нейросеть сортирует пластик с точностью 95%</h3>\n",
      "</div>\n",
      "<div class=\"post__text\">\n",
      "                    Lorem ipsum dolor sit amet, consectetur adipiscing elit, sed do eiusmod tempor incididunt ut labore\n",
      "                    et dolore magna aliqua. Vitae justo eget magna fermentum iaculis eu. Nibh sit amet commodo nulla\n",
      "                    facilisi nullam vehicula ipsum. Elit pellentesque habitant morbi tristique senectus et netus et\n",
      "                    malesuada.\n",
      "                </div>\n",
      "</div>, <div class=\"user__post\">\n",
      "<div class=\"user__post__info\">\n",
      "<div class=\"post__title\">\n",
      "<h3>Российская нейросеть сортирует пластик с точностью 95%</h3>\n",
      "</div>\n",
      "<div class=\"post__text\">\n",
      "                    Lorem ipsum dolor sit amet, consectetur adipiscing elit, sed do eiusmod tempor incididunt ut labore\n",
      "                    et dolore magna aliqua. Vitae justo eget magna fermentum iaculis eu. Nibh sit amet commodo nulla\n",
      "                    facilisi nullam vehicula ipsum. Elit pellentesque habitant morbi tristique senectus et netus et\n",
      "                    malesuada.\n",
      "                </div>\n",
      "</div>\n",
      "</div>, <div class=\"user__blog__wall\">\n",
      "<div class=\"blog__title\">Блог</div>\n",
      "<div class=\"user__post\">\n",
      "<div class=\"user__post__info\">\n",
      "<div class=\"post__title\">\n",
      "<h3>Российская нейросеть сортирует пластик с точностью 95%</h3>\n",
      "</div>\n",
      "<div class=\"post__text\">\n",
      "                    Lorem ipsum dolor sit amet, consectetur adipiscing elit, sed do eiusmod tempor incididunt ut labore\n",
      "                    et dolore magna aliqua. Vitae justo eget magna fermentum iaculis eu. Nibh sit amet commodo nulla\n",
      "                    facilisi nullam vehicula ipsum. Elit pellentesque habitant morbi tristique senectus et netus et\n",
      "                    malesuada.\n",
      "                </div>\n",
      "</div>\n",
      "</div>\n",
      "<div class=\"user__post\">\n",
      "<div class=\"user__post__info\">\n",
      "<div class=\"post__title\">\n",
      "<h3>Wi-Fi Hack</h3>\n",
      "</div>\n",
      "<div class=\"post__text\">\n",
      "                    Semper risus in hendrerit gravida rutrum quisque. Imperdiet sed euismod nisi porta lorem mollis\n",
      "                    aliquam. Blandit massa enim nec dui nunc mattis enim. Enim neque volutpat ac tincidunt vitae semper.\n",
      "                </div>\n",
      "</div>\n",
      "</div>\n",
      "<div class=\"user__post\">\n",
      "<div class=\"user__post__info\">\n",
      "<div class=\"post__title\">\n",
      "<h3>Twitter будет банить пользователей, которые желают смерти другим</h3>\n",
      "</div>\n",
      "<div class=\"post__text\">\n",
      "                    Lobortis scelerisque fermentum dui faucibus in ornare quam viverra orci. Eget lorem dolor sed\n",
      "                    viverra ipsum nunc aliquet. Nunc id cursus metus aliquam eleifend mi in nulla. Aliquam id diam\n",
      "                    maecenas ultricies mi eget mauris pharetra. Ut tortor pretium viverra suspendisse potenti.\n",
      "                </div>\n",
      "</div>\n",
      "</div>\n",
      "</div>, <div class=\"container\">\n",
      "<h1>Страница пользователя Mr. Anderson</h1>\n",
      "<div class=\"user__data\">\n",
      "<div class=\"user__avatar\">\n",
      "<img alt=\"\" src=\"user_avatar.jpg\"/>\n",
      "</div>\n",
      "<div class=\"user__info\">\n",
      "<div class=\"user__name\">\n",
      "<span>Mr Anderson</span>\n",
      "</div>\n",
      "<div class=\"user__birth__date\">\n",
      "<span>Дата рождения:</span>\n",
      "<span>01.01.1970</span>\n",
      "</div>\n",
      "<div class=\"user__city\">\n",
      "<span class=\"city__label\">Город:</span>\n",
      "<span>Los Angeles</span>\n",
      "</div>\n",
      "<div class=\"social__networks\">\n",
      "<p>Ссылки на соц.сети:</p>\n",
      "<ul>\n",
      "<li>\n",
      "<a href=\"http://instagram.com/username\">Instagram</a>\n",
      "</li>\n",
      "<li>\n",
      "<a href=\"http://twitter.com/username\">Twitter</a>\n",
      "</li>\n",
      "<li>\n",
      "<a href=\"http://youtube.com/username\">Youtube</a>\n",
      "</li>\n",
      "</ul>\n",
      "</div>\n",
      "</div>\n",
      "</div>\n",
      "<div class=\"user__blog__wall\">\n",
      "<div class=\"blog__title\">Блог</div>\n",
      "<div class=\"user__post\">\n",
      "<div class=\"user__post__info\">\n",
      "<div class=\"post__title\">\n",
      "<h3>Российская нейросеть сортирует пластик с точностью 95%</h3>\n",
      "</div>\n",
      "<div class=\"post__text\">\n",
      "                    Lorem ipsum dolor sit amet, consectetur adipiscing elit, sed do eiusmod tempor incididunt ut labore\n",
      "                    et dolore magna aliqua. Vitae justo eget magna fermentum iaculis eu. Nibh sit amet commodo nulla\n",
      "                    facilisi nullam vehicula ipsum. Elit pellentesque habitant morbi tristique senectus et netus et\n",
      "                    malesuada.\n",
      "                </div>\n",
      "</div>\n",
      "</div>\n",
      "<div class=\"user__post\">\n",
      "<div class=\"user__post__info\">\n",
      "<div class=\"post__title\">\n",
      "<h3>Wi-Fi Hack</h3>\n",
      "</div>\n",
      "<div class=\"post__text\">\n",
      "                    Semper risus in hendrerit gravida rutrum quisque. Imperdiet sed euismod nisi porta lorem mollis\n",
      "                    aliquam. Blandit massa enim nec dui nunc mattis enim. Enim neque volutpat ac tincidunt vitae semper.\n",
      "                </div>\n",
      "</div>\n",
      "</div>\n",
      "<div class=\"user__post\">\n",
      "<div class=\"user__post__info\">\n",
      "<div class=\"post__title\">\n",
      "<h3>Twitter будет банить пользователей, которые желают смерти другим</h3>\n",
      "</div>\n",
      "<div class=\"post__text\">\n",
      "                    Lobortis scelerisque fermentum dui faucibus in ornare quam viverra orci. Eget lorem dolor sed\n",
      "                    viverra ipsum nunc aliquet. Nunc id cursus metus aliquam eleifend mi in nulla. Aliquam id diam\n",
      "                    maecenas ultricies mi eget mauris pharetra. Ut tortor pretium viverra suspendisse potenti.\n",
      "                </div>\n",
      "</div>\n",
      "</div>\n",
      "</div>\n",
      "</div>, <body>\n",
      "<div class=\"container\">\n",
      "<h1>Страница пользователя Mr. Anderson</h1>\n",
      "<div class=\"user__data\">\n",
      "<div class=\"user__avatar\">\n",
      "<img alt=\"\" src=\"user_avatar.jpg\"/>\n",
      "</div>\n",
      "<div class=\"user__info\">\n",
      "<div class=\"user__name\">\n",
      "<span>Mr Anderson</span>\n",
      "</div>\n",
      "<div class=\"user__birth__date\">\n",
      "<span>Дата рождения:</span>\n",
      "<span>01.01.1970</span>\n",
      "</div>\n",
      "<div class=\"user__city\">\n",
      "<span class=\"city__label\">Город:</span>\n",
      "<span>Los Angeles</span>\n",
      "</div>\n",
      "<div class=\"social__networks\">\n",
      "<p>Ссылки на соц.сети:</p>\n",
      "<ul>\n",
      "<li>\n",
      "<a href=\"http://instagram.com/username\">Instagram</a>\n",
      "</li>\n",
      "<li>\n",
      "<a href=\"http://twitter.com/username\">Twitter</a>\n",
      "</li>\n",
      "<li>\n",
      "<a href=\"http://youtube.com/username\">Youtube</a>\n",
      "</li>\n",
      "</ul>\n",
      "</div>\n",
      "</div>\n",
      "</div>\n",
      "<div class=\"user__blog__wall\">\n",
      "<div class=\"blog__title\">Блог</div>\n",
      "<div class=\"user__post\">\n",
      "<div class=\"user__post__info\">\n",
      "<div class=\"post__title\">\n",
      "<h3>Российская нейросеть сортирует пластик с точностью 95%</h3>\n",
      "</div>\n",
      "<div class=\"post__text\">\n",
      "                    Lorem ipsum dolor sit amet, consectetur adipiscing elit, sed do eiusmod tempor incididunt ut labore\n",
      "                    et dolore magna aliqua. Vitae justo eget magna fermentum iaculis eu. Nibh sit amet commodo nulla\n",
      "                    facilisi nullam vehicula ipsum. Elit pellentesque habitant morbi tristique senectus et netus et\n",
      "                    malesuada.\n",
      "                </div>\n",
      "</div>\n",
      "</div>\n",
      "<div class=\"user__post\">\n",
      "<div class=\"user__post__info\">\n",
      "<div class=\"post__title\">\n",
      "<h3>Wi-Fi Hack</h3>\n",
      "</div>\n",
      "<div class=\"post__text\">\n",
      "                    Semper risus in hendrerit gravida rutrum quisque. Imperdiet sed euismod nisi porta lorem mollis\n",
      "                    aliquam. Blandit massa enim nec dui nunc mattis enim. Enim neque volutpat ac tincidunt vitae semper.\n",
      "                </div>\n",
      "</div>\n",
      "</div>\n",
      "<div class=\"user__post\">\n",
      "<div class=\"user__post__info\">\n",
      "<div class=\"post__title\">\n",
      "<h3>Twitter будет банить пользователей, которые желают смерти другим</h3>\n",
      "</div>\n",
      "<div class=\"post__text\">\n",
      "                    Lobortis scelerisque fermentum dui faucibus in ornare quam viverra orci. Eget lorem dolor sed\n",
      "                    viverra ipsum nunc aliquet. Nunc id cursus metus aliquam eleifend mi in nulla. Aliquam id diam\n",
      "                    maecenas ultricies mi eget mauris pharetra. Ut tortor pretium viverra suspendisse potenti.\n",
      "                </div>\n",
      "</div>\n",
      "</div>\n",
      "</div>\n",
      "</div>\n",
      "</body>, <html lang=\"en\">\n",
      "<head>\n",
      "<meta charset=\"utf-8\"/>\n",
      "<title>Главная страница блога</title>\n",
      "<link href=\"style.css\" rel=\"stylesheet\"/>\n",
      "</head>\n",
      "<body>\n",
      "<div class=\"container\">\n",
      "<h1>Страница пользователя Mr. Anderson</h1>\n",
      "<div class=\"user__data\">\n",
      "<div class=\"user__avatar\">\n",
      "<img alt=\"\" src=\"user_avatar.jpg\"/>\n",
      "</div>\n",
      "<div class=\"user__info\">\n",
      "<div class=\"user__name\">\n",
      "<span>Mr Anderson</span>\n",
      "</div>\n",
      "<div class=\"user__birth__date\">\n",
      "<span>Дата рождения:</span>\n",
      "<span>01.01.1970</span>\n",
      "</div>\n",
      "<div class=\"user__city\">\n",
      "<span class=\"city__label\">Город:</span>\n",
      "<span>Los Angeles</span>\n",
      "</div>\n",
      "<div class=\"social__networks\">\n",
      "<p>Ссылки на соц.сети:</p>\n",
      "<ul>\n",
      "<li>\n",
      "<a href=\"http://instagram.com/username\">Instagram</a>\n",
      "</li>\n",
      "<li>\n",
      "<a href=\"http://twitter.com/username\">Twitter</a>\n",
      "</li>\n",
      "<li>\n",
      "<a href=\"http://youtube.com/username\">Youtube</a>\n",
      "</li>\n",
      "</ul>\n",
      "</div>\n",
      "</div>\n",
      "</div>\n",
      "<div class=\"user__blog__wall\">\n",
      "<div class=\"blog__title\">Блог</div>\n",
      "<div class=\"user__post\">\n",
      "<div class=\"user__post__info\">\n",
      "<div class=\"post__title\">\n",
      "<h3>Российская нейросеть сортирует пластик с точностью 95%</h3>\n",
      "</div>\n",
      "<div class=\"post__text\">\n",
      "                    Lorem ipsum dolor sit amet, consectetur adipiscing elit, sed do eiusmod tempor incididunt ut labore\n",
      "                    et dolore magna aliqua. Vitae justo eget magna fermentum iaculis eu. Nibh sit amet commodo nulla\n",
      "                    facilisi nullam vehicula ipsum. Elit pellentesque habitant morbi tristique senectus et netus et\n",
      "                    malesuada.\n",
      "                </div>\n",
      "</div>\n",
      "</div>\n",
      "<div class=\"user__post\">\n",
      "<div class=\"user__post__info\">\n",
      "<div class=\"post__title\">\n",
      "<h3>Wi-Fi Hack</h3>\n",
      "</div>\n",
      "<div class=\"post__text\">\n",
      "                    Semper risus in hendrerit gravida rutrum quisque. Imperdiet sed euismod nisi porta lorem mollis\n",
      "                    aliquam. Blandit massa enim nec dui nunc mattis enim. Enim neque volutpat ac tincidunt vitae semper.\n",
      "                </div>\n",
      "</div>\n",
      "</div>\n",
      "<div class=\"user__post\">\n",
      "<div class=\"user__post__info\">\n",
      "<div class=\"post__title\">\n",
      "<h3>Twitter будет банить пользователей, которые желают смерти другим</h3>\n",
      "</div>\n",
      "<div class=\"post__text\">\n",
      "                    Lobortis scelerisque fermentum dui faucibus in ornare quam viverra orci. Eget lorem dolor sed\n",
      "                    viverra ipsum nunc aliquet. Nunc id cursus metus aliquam eleifend mi in nulla. Aliquam id diam\n",
      "                    maecenas ultricies mi eget mauris pharetra. Ut tortor pretium viverra suspendisse potenti.\n",
      "                </div>\n",
      "</div>\n",
      "</div>\n",
      "</div>\n",
      "</div>\n",
      "</body>\n",
      "</html>, <!DOCTYPE html>\n",
      "<html lang=\"en\">\n",
      "<head>\n",
      "<meta charset=\"utf-8\"/>\n",
      "<title>Главная страница блога</title>\n",
      "<link href=\"style.css\" rel=\"stylesheet\"/>\n",
      "</head>\n",
      "<body>\n",
      "<div class=\"container\">\n",
      "<h1>Страница пользователя Mr. Anderson</h1>\n",
      "<div class=\"user__data\">\n",
      "<div class=\"user__avatar\">\n",
      "<img alt=\"\" src=\"user_avatar.jpg\"/>\n",
      "</div>\n",
      "<div class=\"user__info\">\n",
      "<div class=\"user__name\">\n",
      "<span>Mr Anderson</span>\n",
      "</div>\n",
      "<div class=\"user__birth__date\">\n",
      "<span>Дата рождения:</span>\n",
      "<span>01.01.1970</span>\n",
      "</div>\n",
      "<div class=\"user__city\">\n",
      "<span class=\"city__label\">Город:</span>\n",
      "<span>Los Angeles</span>\n",
      "</div>\n",
      "<div class=\"social__networks\">\n",
      "<p>Ссылки на соц.сети:</p>\n",
      "<ul>\n",
      "<li>\n",
      "<a href=\"http://instagram.com/username\">Instagram</a>\n",
      "</li>\n",
      "<li>\n",
      "<a href=\"http://twitter.com/username\">Twitter</a>\n",
      "</li>\n",
      "<li>\n",
      "<a href=\"http://youtube.com/username\">Youtube</a>\n",
      "</li>\n",
      "</ul>\n",
      "</div>\n",
      "</div>\n",
      "</div>\n",
      "<div class=\"user__blog__wall\">\n",
      "<div class=\"blog__title\">Блог</div>\n",
      "<div class=\"user__post\">\n",
      "<div class=\"user__post__info\">\n",
      "<div class=\"post__title\">\n",
      "<h3>Российская нейросеть сортирует пластик с точностью 95%</h3>\n",
      "</div>\n",
      "<div class=\"post__text\">\n",
      "                    Lorem ipsum dolor sit amet, consectetur adipiscing elit, sed do eiusmod tempor incididunt ut labore\n",
      "                    et dolore magna aliqua. Vitae justo eget magna fermentum iaculis eu. Nibh sit amet commodo nulla\n",
      "                    facilisi nullam vehicula ipsum. Elit pellentesque habitant morbi tristique senectus et netus et\n",
      "                    malesuada.\n",
      "                </div>\n",
      "</div>\n",
      "</div>\n",
      "<div class=\"user__post\">\n",
      "<div class=\"user__post__info\">\n",
      "<div class=\"post__title\">\n",
      "<h3>Wi-Fi Hack</h3>\n",
      "</div>\n",
      "<div class=\"post__text\">\n",
      "                    Semper risus in hendrerit gravida rutrum quisque. Imperdiet sed euismod nisi porta lorem mollis\n",
      "                    aliquam. Blandit massa enim nec dui nunc mattis enim. Enim neque volutpat ac tincidunt vitae semper.\n",
      "                </div>\n",
      "</div>\n",
      "</div>\n",
      "<div class=\"user__post\">\n",
      "<div class=\"user__post__info\">\n",
      "<div class=\"post__title\">\n",
      "<h3>Twitter будет банить пользователей, которые желают смерти другим</h3>\n",
      "</div>\n",
      "<div class=\"post__text\">\n",
      "                    Lobortis scelerisque fermentum dui faucibus in ornare quam viverra orci. Eget lorem dolor sed\n",
      "                    viverra ipsum nunc aliquet. Nunc id cursus metus aliquam eleifend mi in nulla. Aliquam id diam\n",
      "                    maecenas ultricies mi eget mauris pharetra. Ut tortor pretium viverra suspendisse potenti.\n",
      "                </div>\n",
      "</div>\n",
      "</div>\n",
      "</div>\n",
      "</div>\n",
      "</body>\n",
      "</html>]\n"
     ]
    }
   ],
   "source": [
    "# Все родительские теги включая BODY и HTML\n",
    "post_divs = soup.find(class_=\"post__text\").find_parents()\n",
    "print(post_divs)"
   ]
  },
  {
   "cell_type": "markdown",
   "metadata": {},
   "source": [
    "### Методы .next_element и .find_next();   .previous_element и .find_previous()"
   ]
  },
  {
   "cell_type": "code",
   "execution_count": 40,
   "metadata": {},
   "outputs": [
    {
     "name": "stdout",
     "output_type": "stream",
     "text": [
      "-----------------\n",
      "\n",
      "\n",
      "-----------------\n"
     ]
    }
   ],
   "source": [
    "# Ищет следующий от указанного элемент кода - в данном случае - это ПЕРЕНОС СТРОКИ !!!!\n",
    "next_el = soup.find(class_=\"post__title\").next_element\n",
    "print('-----------------')\n",
    "print(next_el)\n",
    "print('-----------------')"
   ]
  },
  {
   "cell_type": "code",
   "execution_count": 41,
   "metadata": {},
   "outputs": [
    {
     "name": "stdout",
     "output_type": "stream",
     "text": [
      "-----------------\n",
      "<h3>Российская нейросеть сортирует пластик с точностью 95%</h3>\n",
      "-----------------\n"
     ]
    }
   ],
   "source": [
    "# Чтобы добиться желаемого ркзультата - повторяем этот метод\n",
    "next_el = soup.find(class_=\"post__title\").next_element.next_element\n",
    "print('-----------------')\n",
    "print(next_el)\n",
    "print('-----------------')"
   ]
  },
  {
   "cell_type": "code",
   "execution_count": 42,
   "metadata": {},
   "outputs": [
    {
     "name": "stdout",
     "output_type": "stream",
     "text": [
      "-----------------\n",
      "Российская нейросеть сортирует пластик с точностью 95%\n",
      "-----------------\n"
     ]
    }
   ],
   "source": [
    "# Вытягиваем из элемента текст\n",
    "next_el = soup.find(class_=\"post__title\").next_element.next_element.text\n",
    "print('-----------------')\n",
    "print(next_el)\n",
    "print('-----------------')"
   ]
  },
  {
   "cell_type": "code",
   "execution_count": 43,
   "metadata": {},
   "outputs": [
    {
     "name": "stdout",
     "output_type": "stream",
     "text": [
      "-----------------\n",
      "Российская нейросеть сортирует пластик с точностью 95%\n",
      "-----------------\n"
     ]
    }
   ],
   "source": [
    "# Похожий метод, который СРАЗУ возвращает следующий элемент\n",
    "next_el = soup.find(class_=\"post__title\").find_next().text\n",
    "print('-----------------')\n",
    "print(next_el)\n",
    "print('-----------------')"
   ]
  },
  {
   "cell_type": "code",
   "execution_count": 46,
   "metadata": {},
   "outputs": [
    {
     "name": "stdout",
     "output_type": "stream",
     "text": [
      "-----------------\n",
      "\n",
      "\n",
      "Российская нейросеть сортирует пластик с точностью 95%\n",
      "\n",
      "\n",
      "                    Lorem ipsum dolor sit amet, consectetur adipiscing elit, sed do eiusmod tempor incididunt ut labore\n",
      "                    et dolore magna aliqua. Vitae justo eget magna fermentum iaculis eu. Nibh sit amet commodo nulla\n",
      "                    facilisi nullam vehicula ipsum. Elit pellentesque habitant morbi tristique senectus et netus et\n",
      "                    malesuada.\n",
      "                \n",
      "\n",
      "-----------------\n"
     ]
    }
   ],
   "source": [
    "# Метод PREVIOUS() - полная противоположность - возвращает предыдущий элемент\n",
    "prev_el = soup.find(class_=\"post__title\").previous_element.previous_element.text\n",
    "print('-----------------')\n",
    "print(prev_el)\n",
    "print('-----------------')"
   ]
  },
  {
   "cell_type": "markdown",
   "metadata": {},
   "source": [
    "### Методы .find_next_sibling() и .find_previous_sibling()"
   ]
  },
  {
   "cell_type": "code",
   "execution_count": 50,
   "metadata": {},
   "outputs": [
    {
     "name": "stdout",
     "output_type": "stream",
     "text": [
      "<div class=\"post__date\">\n",
      "                    01.01.2020\n",
      "                </div>\n"
     ]
    }
   ],
   "source": [
    "# Возвращают следующий и предыдущий элементы внутри искомого кода\n",
    "next_sib = soup2.find(class_=\"post__title\").find_next_sibling()\n",
    "print(next_sib)"
   ]
  },
  {
   "cell_type": "code",
   "execution_count": 51,
   "metadata": {},
   "outputs": [
    {
     "name": "stdout",
     "output_type": "stream",
     "text": [
      "<div class=\"post__title\">\n",
      "<h3>Российская нейросеть сортирует пластик с точностью 95%</h3>\n",
      "</div>\n"
     ]
    }
   ],
   "source": [
    "# \n",
    "prev_sib = soup2.find(class_=\"post__date\").find_previous_sibling()\n",
    "print(prev_sib)"
   ]
  },
  {
   "cell_type": "code",
   "execution_count": 52,
   "metadata": {},
   "outputs": [
    {
     "name": "stdout",
     "output_type": "stream",
     "text": [
      "Российская нейросеть сортирует пластик с точностью 95%\n"
     ]
    }
   ],
   "source": [
    "# \n",
    "post_title = soup2.find(class_=\"post__date\").find_previous_sibling().find_next().text\n",
    "print(post_title)"
   ]
  },
  {
   "cell_type": "code",
   "execution_count": null,
   "metadata": {},
   "outputs": [],
   "source": [
    "# \n"
   ]
  },
  {
   "cell_type": "markdown",
   "metadata": {},
   "source": [
    "### Практикуемся в поиске ссылок с помощью метода FIND_ALL()"
   ]
  },
  {
   "cell_type": "code",
   "execution_count": 54,
   "metadata": {},
   "outputs": [
    {
     "name": "stdout",
     "output_type": "stream",
     "text": [
      "[<a data-attr=\"shop_link\" href=\"/supermarket/\">Магазин</a>, <a data-attr=\"777\" href=\"/clothes/\">Одежда для взрослых</a>]\n"
     ]
    }
   ],
   "source": [
    "# Определяем все ссылки:\n",
    "links = soup2.find(class_=\"some__links\").find_all(\"a\")\n",
    "print(links)"
   ]
  },
  {
   "cell_type": "code",
   "execution_count": 60,
   "metadata": {},
   "outputs": [
    {
     "name": "stdout",
     "output_type": "stream",
     "text": [
      "shop_link /supermarket/\n",
      "shop_link /supermarket/\n",
      "\n",
      "shop_link: /supermarket/\n",
      "shop_link: /supermarket/\n",
      "-----------------\n",
      "777 /clothes/\n",
      "777 /clothes/\n",
      "\n",
      "777: /clothes/\n",
      "777: /clothes/\n",
      "-----------------\n"
     ]
    }
   ],
   "source": [
    "# \n",
    "for link in links:\n",
    "    link_href_attr = link.get(\"href\") # С помощью метода GET\n",
    "    link_href_attr1 = link[\"href\"] # Непосредственно обращаясь к атрибуту\n",
    "\n",
    "    link_data_attr = link.get(\"data-attr\") # С помощью метода GET\n",
    "    link_data_attr1 = link[\"data-attr\"] # Непосредственно обращаясь к атрибуту\n",
    "\n",
    "#     print(link_href_attr1)\n",
    "#     print(link_data_attr1)\n",
    "    \n",
    "    print(link_data_attr1, link_href_attr1)\n",
    "    print(link_data_attr, link_href_attr)\n",
    "    print()\n",
    "    print(f\"{link_data_attr1}: {link_href_attr1}\")\n",
    "    print(f\"{link_data_attr}: {link_href_attr}\")\n",
    "    print('-----------------')"
   ]
  },
  {
   "cell_type": "code",
   "execution_count": 57,
   "metadata": {},
   "outputs": [
    {
     "name": "stdout",
     "output_type": "stream",
     "text": [
      "777: /clothes/\n"
     ]
    }
   ],
   "source": [
    "# F-функция\n",
    "print(f\"{link_data_attr1}: {link_href_attr1}\")"
   ]
  },
  {
   "cell_type": "code",
   "execution_count": null,
   "metadata": {},
   "outputs": [],
   "source": []
  },
  {
   "cell_type": "code",
   "execution_count": 62,
   "metadata": {},
   "outputs": [
    {
     "name": "stdout",
     "output_type": "stream",
     "text": [
      "None\n"
     ]
    }
   ],
   "source": [
    "# Можно искать элементы, передавая в параметр текст. НО... есть нюансы\n",
    "find_a_by_text = soup2.find(\"a\", text=\"Одежда\")\n",
    "print(find_a_by_text)"
   ]
  },
  {
   "cell_type": "code",
   "execution_count": 63,
   "metadata": {},
   "outputs": [
    {
     "name": "stdout",
     "output_type": "stream",
     "text": [
      "<a data-attr=\"777\" href=\"/clothes/\">Одежда для взрослых</a>\n"
     ]
    }
   ],
   "source": [
    "# Ищет только по точному совпадению текста\n",
    "find_a_by_text = soup2.find(\"a\", text=\"Одежда для взрослых\")\n",
    "print(find_a_by_text)"
   ]
  },
  {
   "cell_type": "code",
   "execution_count": 65,
   "metadata": {},
   "outputs": [
    {
     "name": "stdout",
     "output_type": "stream",
     "text": [
      "<a data-attr=\"777\" href=\"/clothes/\">Одежда для взрослых</a>\n",
      "Одежда для взрослых\n"
     ]
    }
   ],
   "source": [
    "# Можно воспользоваться крутым методом '.COMPILE()' из модуля регулярных выражений 'RE'\n",
    "find_a_by_text = soup2.find(\"a\", text=re.compile(\"Одежда\"))\n",
    "print(find_a_by_text)\n",
    "print(find_a_by_text.text)"
   ]
  },
  {
   "cell_type": "code",
   "execution_count": 66,
   "metadata": {},
   "outputs": [
    {
     "name": "stdout",
     "output_type": "stream",
     "text": [
      "['Wi-Fi Hack одежда', 'Одежда для взрослых']\n"
     ]
    }
   ],
   "source": [
    "# Если нужно собрать все блоки, которые имеют слово 'Одежда'\n",
    "find_all_clothes = soup2.find_all(text=re.compile(\"([Оо]дежда)\"))\n",
    "print(find_all_clothes)"
   ]
  },
  {
   "cell_type": "code",
   "execution_count": null,
   "metadata": {},
   "outputs": [],
   "source": []
  },
  {
   "cell_type": "markdown",
   "metadata": {},
   "source": [
    "##  УРОК 2 | Парсинг сайтов | Выполняем заказ на фрилансе"
   ]
  },
  {
   "cell_type": "code",
   "execution_count": null,
   "metadata": {},
   "outputs": [],
   "source": [
    "# https://www.youtube.com/watch?v=ks64MvZJe0w"
   ]
  },
  {
   "cell_type": "code",
   "execution_count": 67,
   "metadata": {},
   "outputs": [],
   "source": [
    "# Импортируем необходимые для урока библиотеки\n",
    "import random\n",
    "from time import sleep\n",
    "import requests\n",
    "from bs4 import BeautifulSoup\n",
    "import json\n",
    "import csv"
   ]
  },
  {
   "cell_type": "code",
   "execution_count": 68,
   "metadata": {},
   "outputs": [],
   "source": [
    "# URL-ссылка на страницу с категориями продуктов и калориями\n",
    "url = \"https://health-diet.ru/table_calorie/?utm_source=leftMenu&utm_medium=table_calorie\""
   ]
  },
  {
   "cell_type": "code",
   "execution_count": 69,
   "metadata": {},
   "outputs": [],
   "source": [
    "# Это нужно для некоторых сайтов (но не для всех - для этого необязательно)\n",
    "# чтобы показать сайту, что ВЫ НЕ БОТ, а обычный пользователь\n",
    "headers = {\n",
    "    \"Accept\": \"text/html,application/xhtml+xml,application/xml;q=0.9,image/avif,image/webp,image/apng,*/*;q=0.8,application/signed-exchange;v=b3;q=0.9\",\n",
    "    \"User-Agent\": \"Mozilla/5.0 (Windows NT 10.0; Win64; x64) AppleWebKit/537.36 (KHTML, like Gecko) Chrome/109.0.0.0 Safari/537.36\"\n",
    "}"
   ]
  },
  {
   "cell_type": "code",
   "execution_count": 71,
   "metadata": {},
   "outputs": [],
   "source": [
    "# Переменная возвращает результат работы метода GET библиотеки REQUESTS\n",
    "req = requests.get(url, headers=headers)\n",
    "src = req.text\n",
    "# print(src)"
   ]
  },
  {
   "cell_type": "markdown",
   "metadata": {},
   "source": [
    "#### Желательно сохранять эту информацию на время написания программы,\n",
    "##### так как многие сайты не любят, когда их парсят\n",
    "##### и велика вероятность получить БАН или ограничение по времени за большое количество запросов"
   ]
  },
  {
   "cell_type": "code",
   "execution_count": 74,
   "metadata": {},
   "outputs": [],
   "source": [
    "# Сохраним нашу страницу в файл И ЗАКОММЕНТИРУЕМ ЭТУ КОМАНДУ за ненадобностью\n",
    "# with open(\"index_l2.html\", \"w\", encoding=\"utf-8\") as file:\n",
    "#     file.write(src)"
   ]
  },
  {
   "cell_type": "code",
   "execution_count": 78,
   "metadata": {},
   "outputs": [],
   "source": [
    "# Теперь откроем наш файл, прочитаем и сохраним код страницы в переменную:\n",
    "with open(\"index_l2.html\", encoding=\"utf-8\") as file:\n",
    "    src = file.read()\n",
    "# print(src)\n",
    "    \n",
    "# В Windows в шапке в одной ячейке указаны через запятую - Продукт,Калорийность,Белки,Жиры,Углеводы. \n",
    "# Чтобы разместить правильно по ячейкам указываем\n",
    "# with open(f'data/{count}_{category_name}.csv', 'w', encoding='utf-8-sig') as file:\n",
    "#        writer = csv.writer(file, delimiter=';')"
   ]
  },
  {
   "cell_type": "code",
   "execution_count": 79,
   "metadata": {},
   "outputs": [],
   "source": [
    "# Передадим нашу переменную в объект СУПа, объявим самый быстрый парсер LXML и приступим к сбору данных\n",
    "soup = BeautifulSoup(src, \"lxml\")\n",
    "\n",
    "# Определяем классы элементов, которые нас интересуют\n",
    "all_products_hrefs = soup.find_all(class_=\"mzr-tc-group-item-href\")"
   ]
  },
  {
   "cell_type": "code",
   "execution_count": 81,
   "metadata": {},
   "outputs": [],
   "source": [
    "# Пройдёмся циклом по нашему списку и посмотрим, что нам удалось собрать и это именно то, что нам надо\n",
    "# for item in all_products_hrefs:\n",
    "#     print(item)\n",
    "\n",
    "# И ЗАКОММЕНТИРУЕМ ЭТОТ ПРОВЕРОЧНЫЙ БЛОК"
   ]
  },
  {
   "cell_type": "code",
   "execution_count": 83,
   "metadata": {},
   "outputs": [],
   "source": [
    "# Создаём переменные для текста и ссылок. Текст - получаем непосредственно, а ссылки методом GET\n",
    "# К ссылкам прикручиваем доменную постоянную часть, чтобы они отображались корректно\n",
    "\n",
    "for item in all_products_hrefs:\n",
    "    item_text = item.text\n",
    "    item_href = \"https://health-diet.ru\" + item.get(\"href\")\n",
    "#     print(f\"{item_text}: {item_href}\")\n",
    "\n",
    "# ОТЛИЧНО !!!!!"
   ]
  },
  {
   "cell_type": "code",
   "execution_count": 85,
   "metadata": {},
   "outputs": [],
   "source": [
    "# Сохраняем полученные данные в словарь. На каждой итерации цикла будем его заполнять:\n",
    "# в котором ключами будут имена категорий, а значениями - ссылки\n",
    "\n",
    "all_categories_dict = {}\n",
    "\n",
    "for item in all_products_hrefs:\n",
    "    item_text = item.text\n",
    "    item_href = \"https://health-diet.ru\" + item.get(\"href\")\n",
    "#     print(f\"{item_text}: {item_href}\")\n",
    "\n",
    "    all_categories_dict[item_text] = item_href\n",
    "    \n",
    "# print(all_categories_dict)\n",
    "\n",
    "# ОТЛИЧНО !!!!!"
   ]
  },
  {
   "cell_type": "markdown",
   "metadata": {},
   "source": [
    "### Обработка JSON файла - Сохранение данных в JSON файл"
   ]
  },
  {
   "cell_type": "code",
   "execution_count": 86,
   "metadata": {},
   "outputs": [],
   "source": [
    "# Сохраним наш словарь в JSON-файл (предварительно импортировав модуль json)\n",
    "with open(\"all_categories_dict_2.json\", \"w\") as file:\n",
    "    json.dump(all_categories_dict, file, indent=4, ensure_ascii=False)\n",
    "    \n",
    "# Сохранение с такими параметрами сэкономит поиск информации в Интернете\n",
    "# Параметр INDENT - это отсуп в нашем файле (без него все данные запишутся в 1 строку)\n",
    "# Параметр ENSURE_ASCII - не экранирует символы и помогает при работе с кириллицей"
   ]
  },
  {
   "cell_type": "code",
   "execution_count": 87,
   "metadata": {},
   "outputs": [],
   "source": [
    "# Прочитаем JSON-файл и сохраним содержимое в переменную\n",
    "with open(\"all_categories_dict_2.json\") as file:\n",
    "    all_categories = json.load(file)"
   ]
  },
  {
   "cell_type": "code",
   "execution_count": 88,
   "metadata": {},
   "outputs": [
    {
     "name": "stdout",
     "output_type": "stream",
     "text": [
      "{'Баранина и дичь': 'https://health-diet.ru/base_of_food/food_24507/', 'Бобовые': 'https://health-diet.ru/base_of_food/food_24523/', 'Вода и напитки': 'https://health-diet.ru/base_of_food/food_24509/', 'Говядина и телятина': 'https://health-diet.ru/base_of_food/food_24502/', 'Грибы': 'https://health-diet.ru/base_of_food/food_24513/', 'Детское питание': 'https://health-diet.ru/base_of_food/food_24526/', 'Жиры и масла': 'https://health-diet.ru/base_of_food/food_24515/', 'Кондитерские изделия': 'https://health-diet.ru/base_of_food/food_24525/', 'Крупы, мука, макароны': 'https://health-diet.ru/base_of_food/food_24522/', 'Молочные продукты': 'https://health-diet.ru/base_of_food/food_24519/', 'Напитки алкогольные': 'https://health-diet.ru/base_of_food/food_24508/', 'Овощи и зелень': 'https://health-diet.ru/base_of_food/food_24512/', 'Орехи и семена': 'https://health-diet.ru/base_of_food/food_24517/', 'Полуфабрикаты': 'https://health-diet.ru/base_of_meals/meals_21253/', 'Птица': 'https://health-diet.ru/base_of_food/food_24501/', 'Ресторанная еда': 'https://health-diet.ru/base_of_food/food_24527/', 'Рыба и морепродукты': 'https://health-diet.ru/base_of_food/food_24518/', 'Свинина': 'https://health-diet.ru/base_of_food/food_24503/', 'Снеки': 'https://health-diet.ru/base_of_food/food_24528/', 'Соки': 'https://health-diet.ru/base_of_food/food_24511/', 'Сосиски и колбаса': 'https://health-diet.ru/base_of_food/food_24504/', 'Травы, специи и соусы': 'https://health-diet.ru/base_of_food/food_24514/', 'Фаст-фуд': 'https://health-diet.ru/base_of_food/food_24529/', 'Фрукты и ягоды': 'https://health-diet.ru/base_of_food/food_24516/', 'Хлеб и выпечка': 'https://health-diet.ru/base_of_food/food_24524/', 'Яйца и продукты из яиц': 'https://health-diet.ru/base_of_food/food_24520/', 'Варенье и джемы': 'https://health-diet.ru/base_of_meals/meals_21252/', 'Вторые блюда': 'https://health-diet.ru/base_of_meals/meals_21243/', 'Выпечка': 'https://health-diet.ru/base_of_meals/meals_21249/', 'Гарниры': 'https://health-diet.ru/base_of_meals/meals_21244/', 'Десерты': 'https://health-diet.ru/base_of_meals/meals_21245/', 'Заготовки': 'https://health-diet.ru/base_of_meals/meals_21254/', 'Закуски': 'https://health-diet.ru/base_of_meals/meals_21250/', 'Каши': 'https://health-diet.ru/base_of_meals/meals_21247/', 'Напитки': 'https://health-diet.ru/base_of_meals/meals_21248/', 'Первые блюда': 'https://health-diet.ru/base_of_meals/meals_21242/', 'Салаты': 'https://health-diet.ru/base_of_meals/meals_21241/', 'Соусы и заправки': 'https://health-diet.ru/base_of_meals/meals_21251/', 'Campina': 'https://health-diet.ru/base_of_food/food_108930/', 'Coca-Cola': 'https://health-diet.ru/base_of_food/food_103503/', 'Danone': 'https://health-diet.ru/base_of_food/food_120438/', \"KFC Ростик'c\": 'https://health-diet.ru/base_of_food/food_120566/', \"Lay's\": 'https://health-diet.ru/base_of_food/food_111530/', 'Mars': 'https://health-diet.ru/base_of_food/food_109145/', 'Nestle': 'https://health-diet.ru/base_of_food/food_107024/', 'Subway': 'https://health-diet.ru/base_of_food/food_120802/', 'Ашан': 'https://health-diet.ru/base_of_food/food_100481/', 'Бондюэль': 'https://health-diet.ru/base_of_food/food_102398/', 'Крошка-Картошка': 'https://health-diet.ru/base_of_food/food_120310/', 'Макдоналдс (McDonalds)': 'https://health-diet.ru/base_of_food/food_124912/', 'Пятерочка': 'https://health-diet.ru/base_of_food/food_121338/', 'Роллтон': 'https://health-diet.ru/base_of_food/food_114851/', 'Черкизово': 'https://health-diet.ru/base_of_food/food_124180/', 'Яшкино': 'https://health-diet.ru/base_of_food/food_117741/'}\n"
     ]
    }
   ],
   "source": [
    "# \n",
    "print(all_categories)"
   ]
  },
  {
   "cell_type": "markdown",
   "metadata": {},
   "source": [
    "#### Создаём цикл для последующих итераций при посещении страниц сайта \n",
    "##### Замена нескольких символов в строке"
   ]
  },
  {
   "cell_type": "code",
   "execution_count": 90,
   "metadata": {},
   "outputs": [
    {
     "name": "stdout",
     "output_type": "stream",
     "text": [
      "Баранина_и_дичь\n",
      "Бобовые\n",
      "Вода_и_напитки\n",
      "Говядина_и_телятина\n",
      "Грибы\n",
      "Детское_питание\n",
      "Жиры_и_масла\n",
      "Кондитерские_изделия\n",
      "Крупы__мука__макароны\n",
      "Молочные_продукты\n",
      "Напитки_алкогольные\n",
      "Овощи_и_зелень\n",
      "Орехи_и_семена\n",
      "Полуфабрикаты\n",
      "Птица\n",
      "Ресторанная_еда\n",
      "Рыба_и_морепродукты\n",
      "Свинина\n",
      "Снеки\n",
      "Соки\n",
      "Сосиски_и_колбаса\n",
      "Травы__специи_и_соусы\n",
      "Фаст_фуд\n",
      "Фрукты_и_ягоды\n",
      "Хлеб_и_выпечка\n",
      "Яйца_и_продукты_из_яиц\n",
      "Варенье_и_джемы\n",
      "Вторые_блюда\n",
      "Выпечка\n",
      "Гарниры\n",
      "Десерты\n",
      "Заготовки\n",
      "Закуски\n",
      "Каши\n",
      "Напитки\n",
      "Первые_блюда\n",
      "Салаты\n",
      "Соусы_и_заправки\n",
      "Campina\n",
      "Coca_Cola\n",
      "Danone\n",
      "KFC_Ростик_c\n",
      "Lay_s\n",
      "Mars\n",
      "Nestle\n",
      "Subway\n",
      "Ашан\n",
      "Бондюэль\n",
      "Крошка_Картошка\n",
      "Макдоналдс_(McDonalds)\n",
      "Пятерочка\n",
      "Роллтон\n",
      "Черкизово\n",
      "Яшкино\n"
     ]
    }
   ],
   "source": [
    "# Заменим символы \" ',', 'пробел', '-', ' ' ' \" в названиях категорий на '_'\n",
    "for category_name, category_href in all_categories.items():\n",
    "\n",
    "    rep = [\",\", \" \", \"-\", \"'\"]\n",
    "    for item in rep:\n",
    "        if item in category_name:\n",
    "            category_name = category_name.replace(item, \"_\")\n",
    "    print(category_name)"
   ]
  },
  {
   "cell_type": "markdown",
   "metadata": {},
   "source": [
    "#### Переходим к запросам на страницах "
   ]
  },
  {
   "cell_type": "code",
   "execution_count": 93,
   "metadata": {},
   "outputs": [
    {
     "name": "stdout",
     "output_type": "stream",
     "text": [
      "Всего итераций: 53\n"
     ]
    }
   ],
   "source": [
    "# Тренируемся на первой странице:\n",
    "\n",
    "iteration_count = int(len(all_categories)) - 1\n",
    "count = 0\n",
    "print(f\"Всего итераций: {iteration_count}\")\n",
    "\n",
    "for category_name, category_href in all_categories.items():\n",
    "    \n",
    "    if count == 0:\n",
    "\n",
    "        rep = [\",\", \" \", \"-\", \"'\"]\n",
    "        for item in rep:\n",
    "            if item in category_name:\n",
    "                category_name = category_name.replace(item, \"_\")\n",
    "\n",
    "        req = requests.get(url=category_href, headers=headers) # Прочитаем код первой страницы\n",
    "        src = req.text # Сохраним результат первой страницы в переменную\n",
    "\n",
    "        with open(f\"data/{count}_{category_name}.html\", \"w\", encoding=\"utf-8\") as file:\n",
    "            file.write(src) # Запишем результат в файл (для этого создадим папку 'DATA')\n",
    "\n",
    "        count += 1\n",
    "# НЕ ЗАБЫВАЕМ ПРО ENCODING=\"UTF-8\" !!!!!!!!!!!!!!!!"
   ]
  },
  {
   "cell_type": "code",
   "execution_count": 100,
   "metadata": {},
   "outputs": [],
   "source": [
    "# Дальше ОПЯТЬ работаем с сохранённым локально HTML-файлом\n",
    "\n",
    "with open(\"data/0_Баранина_и_дичь.html\", encoding=\"utf-8\") as file:\n",
    "        src = file.read()\n",
    "\n",
    "soup_0 = BeautifulSoup(src, \"lxml\")\n",
    "\n",
    "# НЕ ЗАБЫВАЕМ ПРО ENCODING=\"UTF-8\" !!!!!!!!!!!!!!!!"
   ]
  },
  {
   "cell_type": "code",
   "execution_count": 101,
   "metadata": {},
   "outputs": [
    {
     "name": "stdout",
     "output_type": "stream",
     "text": [
      "<!DOCTYPE html>\n",
      "<html class=\"uk-height-1-1\">\n",
      "<head lang=\"ru\">\n",
      "<meta charset=\"utf-8\"/>\n",
      "<meta content=\"width=device-width, initial-scale=1, maximum-scale=1\" name=\"viewport\"/>\n",
      "<meta content=\"text/html; charset=utf-8\" http-equiv=\"Content-Type\"/>\n",
      "<link href=\"/manifest.json\" rel=\"manifest\"/>\n",
      "<link href=\"/favicon.svg\" rel=\"icon\"/>\n",
      "<title>Баранина и дичь. Таблица калорийности и химический состав продуктов питания.</title>\n",
      "<script type=\"application/javascript\">\n",
      "            window.mzrConfig = {\"useWebpack\":false,\"requirejs\":{\"baseUrl\":\"https:\\/\\/health-diet.ru\\/jsApp\\/v8.133.58\\/\",\"urlArgs\":\"\"},\"showAlertSanctions\":true,\"xdebugSessionStart\":false,\"oneSignal\":{\"isOnInBrowser\":false,\"appId\":\"c021220b-2627-43c4-857d-ae26cc051db2\",\"jsSdkPath\":\"https:\\/\\/cdn.onesignal.com\\/sdks\\/OneSignalSDK.js\"},\"foodDiaryMacronutrientsVersion\":\"v2\",\"routeHistory\":\"browser\",\"appVersion\":\"v8.133.58\",\"platformId\":101,\"appUrl\":\"\",\"supportEmail\":\"support@health-diet.ru\",\"appName\":\"\\u041c\\u043e\\u0439 \\u0437\\u0434\\u043e\\u0440\\u043e\\u0432\\u044b\\u0439 \\u0440\\u0430\\u0446\\u0438\\u043e\\u043d\",\"appDomain\":\"https:\\/\\/health-diet.ru\",\"loginUrl\":\"https:\\/\\/health-diet.ru\\/account\\/login\",\"getMzrConfigUrl\":\"https:\\/\\/health-diet.ru\\/api2\\/auth\\/getMzrConfig\",\"logoutUrl\":\"https:\\/\\/health-diet.ru\\/api2\\/auth\\/logout\",\"isRunFromPartnerPage\":false,\"smilesForSceditor\":{\"dropdown\":{\":D\":\"https:\\/\\/159523.selcdn.ru\\/assets\\/smiles\\/icon_biggrin.gif\",\":)\":\"https:\\/\\/159523.selcdn.ru\\/assets\\/smiles\\/ab.gif\",\":(\":\"https:\\/\\/159523.selcdn.ru\\/assets\\/smiles\\/ac.gif\",\":-o\":\"https:\\/\\/159523.selcdn.ru\\/assets\\/smiles\\/ai.gif\",\"8)\":\"https:\\/\\/159523.selcdn.ru\\/assets\\/smiles\\/af.gif\",\":{}\":\"https:\\/\\/159523.selcdn.ru\\/assets\\/smiles\\/aj.gif\",\":oops:\":\"https:\\/\\/159523.selcdn.ru\\/assets\\/smiles\\/ah.gif\",\":cry:\":\"https:\\/\\/159523.selcdn.ru\\/assets\\/smiles\\/ak.gif\",\":evil:\":\"https:\\/\\/159523.selcdn.ru\\/assets\\/smiles\\/aq.gif\",\";)\":\"https:\\/\\/159523.selcdn.ru\\/assets\\/smiles\\/ad.gif\",\":!:\":\"https:\\/\\/159523.selcdn.ru\\/assets\\/smiles\\/icon_exclaim.gif\",\":?:\":\"https:\\/\\/159523.selcdn.ru\\/assets\\/smiles\\/icon_question.gif\",\":idea:\":\"https:\\/\\/159523.selcdn.ru\\/assets\\/smiles\\/icon_idea.gif\",\":|\":\"https:\\/\\/159523.selcdn.ru\\/assets\\/smiles\\/bl.gif\",\":\\u0430\\u043d\\u0433\\u0435\\u043b:\":\"https:\\/\\/159523.selcdn.ru\\/assets\\/smiles\\/aa.gif\",\":-\\u0420\":\"https:\\/\\/159523.selcdn.ru\\/assets\\/smiles\\/ae.gif\",\":secret:\":\"https:\\/\\/159523.selcdn.ru\\/assets\\/smiles\\/al.gif\",\":\\u043a\\u0443\\u043b\\u0430\\u043a:\":\"https:\\/\\/159523.selcdn.ru\\/assets\\/smiles\\/am.gif\",\":\\u0442\\u044b \\u0447\\u0442\\u043e!:\":\"https:\\/\\/159523.selcdn.ru\\/assets\\/smiles\\/an.gif\",\":\\u0445\\u0438\\u0445\\u0438\\u043a\\u0430\\u044e:\":\"https:\\/\\/159523.selcdn.ru\\/assets\\/smiles\\/ap.gif\",\":\\u0441\\u043a\\u0443\\u0447\\u043d\\u043e:\":\"https:\\/\\/159523.selcdn.ru\\/assets\\/smiles\\/db.gif\",\":exercise:\":\"https:\\/\\/159523.selcdn.ru\\/assets\\/smiles\\/du.gif\",\":party:\":\"https:\\/\\/159523.selcdn.ru\\/assets\\/smiles\\/dv.gif\",\":\\u043f\\u043e\\u0446\\u0435\\u043b\\u043e\\u0432\\u0430\\u043b\\u0438:\":\"https:\\/\\/159523.selcdn.ru\\/assets\\/smiles\\/as.gif\",\":\\u0442\\u043e\\u0448\\u043d\\u0438\\u0442:\":\"https:\\/\\/159523.selcdn.ru\\/assets\\/smiles\\/at.gif\",\":stop:\":\"https:\\/\\/159523.selcdn.ru\\/assets\\/smiles\\/av.gif\",\":rose:\":\"https:\\/\\/159523.selcdn.ru\\/assets\\/smiles\\/ax.gif\",\":\\u0445\\u043e\\u0440\\u043e\\u0448\\u043e:\":\"https:\\/\\/159523.selcdn.ru\\/assets\\/smiles\\/ay.gif\",\":help:\":\"https:\\/\\/159523.selcdn.ru\\/assets\\/smiles\\/bc.gif\",\":good:\":\"https:\\/\\/159523.selcdn.ru\\/assets\\/smiles\\/bf.gif\",\":bravo:\":\"https:\\/\\/159523.selcdn.ru\\/assets\\/smiles\\/bi.gif\",\"LOL\":\"https:\\/\\/159523.selcdn.ru\\/assets\\/smiles\\/bj.gif\",\":\\u0438\\u0437\\u0432\\u0438\\u043d\\u0438!:\":\"https:\\/\\/159523.selcdn.ru\\/assets\\/smiles\\/bk.gif\",\":crazy:\":\"https:\\/\\/159523.selcdn.ru\\/assets\\/smiles\\/bm.gif\",\":\\u0443\\u0440\\u0430:\":\"https:\\/\\/159523.selcdn.ru\\/assets\\/smiles\\/bp.gif\",\":dance:\":\"https:\\/\\/159523.selcdn.ru\\/assets\\/smiles\\/bo.gif\",\":call-down:\":\"https:\\/\\/159523.selcdn.ru\\/assets\\/smiles\\/bq.gif\",\":think:\":\"https:\\/\\/159523.selcdn.ru\\/assets\\/smiles\\/bw.gif\",\":\\u043a\\u0440\\u0438\\u0447\\u0443:\":\"https:\\/\\/159523.selcdn.ru\\/assets\\/smiles\\/cf.gif\",\":nurse:\":\"https:\\/\\/159523.selcdn.ru\\/assets\\/smiles\\/co.gif\",\":ah:\":\"https:\\/\\/159523.selcdn.ru\\/assets\\/smiles\\/cs.gif\",\":ogle:\":\"https:\\/\\/159523.selcdn.ru\\/assets\\/smiles\\/cu.gif\",\":\\u043f\\u043e\\u0433\\u0443\\u043b\\u044f\\u043b\\u0430:\":\"https:\\/\\/159523.selcdn.ru\\/assets\\/smiles\\/cy.gif\"},\"hidden\":{\":-D\":\"https:\\/\\/159523.selcdn.ru\\/assets\\/smiles\\/icon_biggrin.gif\",\":-)\":\"https:\\/\\/159523.selcdn.ru\\/assets\\/smiles\\/ab.gif\",\":-(\":\"https:\\/\\/159523.selcdn.ru\\/assets\\/smiles\\/ac.gif\",\":shock:\":\"https:\\/\\/159523.selcdn.ru\\/assets\\/smiles\\/ai.gif\",\"8-)\":\"https:\\/\\/159523.selcdn.ru\\/assets\\/smiles\\/af.gif\",\":-{}\":\"https:\\/\\/159523.selcdn.ru\\/assets\\/smiles\\/aj.gif\",\":~(\":\"https:\\/\\/159523.selcdn.ru\\/assets\\/smiles\\/ak.gif\",\">:-<\":\"https:\\/\\/159523.selcdn.ru\\/assets\\/smiles\\/aq.gif\",\";-)\":\"https:\\/\\/159523.selcdn.ru\\/assets\\/smiles\\/ad.gif\",\":-|\":\"https:\\/\\/159523.selcdn.ru\\/assets\\/smiles\\/bl.gif\",\":\\u0420\":\"https:\\/\\/159523.selcdn.ru\\/assets\\/smiles\\/ae.gif\"}},\"pathToUikitCss\":\"https:\\/\\/health-diet.ru\\/jsApp\\/v8.133.58\\/ui\\/dist\\/css\\/uikit.css\",\"account\":{\"isAuth\":false,\"id\":false,\"name\":\"\",\"avatar\":\"https:\\/\\/fs2.tvoydnevnik.com\\/assets\\/notFound\\/user.png\",\"roles\":[\"guest\"],\"mainUserId\":0,\"currentUserId\":0,\"users\":[],\"usersList\":[]},\"imageServer\":\"https:\\/\\/fs2.tvoydnevnik.com\\/api2\\/image\\/getById\\/101\",\"foodServiceBrowser\":{\"url\":\"https:\\/\\/health-diet.ru\\/api2\\/base_of_food\\/\",\"urlList\":\"https:\\/\\/health-diet.ru\\/jsApp\\/v8.133.58\\/\\/modules\\/BaseOfFoodV2\\/list2018.json\",\"urlGroup\":\"https:\\/\\/health-diet.ru\\/jsApp\\/v8.133.58\\/\\/modules\\/BaseOfFoodV2\\/group2018.json\",\"urlAll\":\"https:\\/\\/159523.selcdn.ru\\/baseOfFood\\/common\\/all.json\",\"urlLider\":\"https:\\/\\/159523.selcdn.ru\\/baseOfFood\\/common\\/lider.json\",\"version\":11,\"tryUpdateIdPutToCacheOlderDays\":5184000},\"zozhnikUserId\":null,\"zozhnikArticleNeedPayment\":false,\"canPromocode\":false,\"endPoints\":{\"appDiaryV1\":{\"apiUrl\":\"https:\\/\\/health-diet.ru\\/api\\/\",\"accessToken\":false},\"api\":{\"url\":\"https:\\/\\/health-diet.ru\\/api\\/\",\"access_token\":false,\"withCredentials\":true,\"version\":\"appMzrV1\",\"isDiaryBackend\":true,\"id_account\":false,\"checkPublicSigOfQuery\":\"dfgfdjgkdnvcnyT&HvGcfd%^#FH\"},\"appDiaryAuthV1\":{\"vk\":\"https:\\/\\/health-diet.ru\\/auth2\\/oauth\\/vk\\/?params=\",\"fb\":\"https:\\/\\/health-diet.ru\\/auth2\\/oauth\\/fb\\/?params=\",\"mailru\":\"https:\\/\\/health-diet.ru\\/auth2\\/oauth\\/mailru\\/?params=\"},\"api2\":{\"url\":\"https:\\/\\/health-diet.ru\\/api2\\/\",\"withCredentials\":true,\"params\":{\"platformId\":101,\"token\":false,\"diaryAccountId\":false,\"routeHistory\":\"browser\"}},\"api3\":{\"url\":\"https:\\/\\/health-diet.ru\\/api3\\/\",\"withCredentials\":true,\"params\":{\"platformId\":101,\"token\":false,\"diaryAccountId\":false,\"routeHistory\":\"browser\"}},\"recipeService\":{\"url\":\"https:\\/\\/fs2.tvoydnevnik.com\\/api2\",\"withCredentials\":false,\"cookbookId\":false,\"params\":{\"jwt\":false}},\"foodService\":{\"url\":\"https:\\/\\/fs2.tvoydnevnik.com\\/api2\",\"withCredentials\":false,\"params\":{\"jwt\":false}},\"jsLogger\":{\"url\":\"https:\\/\\/d01ac277-54d2-4acc-9199-bb38938942e0.pub.cloud.scaleway.com\\/api2\",\"withCredentials\":false,\"params\":{\"version\":\"v8.133.58\",\"platformId\":101,\"host\":\"health-diet.ru\",\"isAuth\":false,\"userId\":false,\"environment\":\"production\"}},\"imageService\":{\"url\":\"https:\\/\\/fs2.tvoydnevnik.com\"}},\"auth\":{\"type\":\"redirect\",\"url\":\"http:\\/\\/health-diet.ru\\/auth\\/?backurl=\"},\"initialState\":{\"IsDev\":false,\"Features\":{\"social\":true,\"publishFoodDiaryV2\":true,\"recipeExtraEdit\":true,\"womanCalendar\":true,\"notification2\":true,\"loginV2\":true,\"socialV2\":true,\"useSceditor\":true,\"sportDiaryReport\":true,\"diaryUserPermission\":true},\"Account\":{\"social\":{\"isAuth\":false,\"id\":false,\"name\":\"\",\"dateRegister\":\"\",\"daysInSystem\":0,\"avatar\":\"https:\\/\\/fs2.tvoydnevnik.com\\/assets\\/notFound\\/user.png\",\"email\":\"\"},\"diary\":{\"isAuth\":false,\"id\":false,\"name\":\"\",\"avatar\":\"https:\\/\\/fs2.tvoydnevnik.com\\/assets\\/notFound\\/user.png\",\"roles\":[\"guest\"],\"mainUserId\":0,\"currentUserId\":0,\"users\":[],\"usersList\":[]},\"roles\":[],\"subscription\":false,\"isFullVersion\":true},\"Footer\":{\"show\":true,\"content\":[[{\"label\":\"\\u0420\\u0415\\u0426\\u0415\\u041f\\u0422\\u042b\",\"href\":\"\\/recipe\"},{\"label\":\"\\u0411\\u041b\\u041e\\u0413\\u0418\",\"href\":\"\\/people\\/commonFeed\\/\"},{\"label\":\"\\u0422\\u0410\\u0411\\u041b\\u0418\\u0426\\u0410 \\u041a\\u0410\\u041b\\u041e\\u0420\\u0418\\u0419\\u041d\\u041e\\u0421\\u0422\\u0418\",\"href\":\"\\/table_calorie\\/\",\"originLink\":true},{\"label\":\"\\u0421\\u0422\\u0410\\u0422\\u042c\\u0418\",\"href\":\"\\/article\\/\",\"originLink\":true},{\"label\":\"\\u041a\\u0410\\u041b\\u042c\\u041a\\u0423\\u041b\\u042f\\u0422\\u041e\\u0420\\u042b\",\"href\":\"\\/health_diet\\/app\\/index.php\",\"originLink\":true}],[{\"label\":\"\\u041f\\u041e\\u0418\\u0421\\u041a\",\"href\":\"\\/find\\/\",\"originLink\":true},{\"label\":\"\\u041f\\u041e\\u041c\\u041e\\u0429\\u042c\",\"href\":\"\\/diary\\/help\"}],[{\"label\":\"\\u0421\\u041e\\u0413\\u041b\\u0410\\u0428\\u0415\\u041d\\u0418\\u0415\",\"href\":\"\\/info\\/condition.php\"},{\"label\":\"\\u041a\\u041e\\u041d\\u0422\\u0410\\u041a\\u0422\\u042b\",\"href\":\"\\/info\\/contact.php\"},{\"label\":\"\\u041f\\u0420\\u0410\\u0412\\u0418\\u041b\\u0410\",\"href\":\"\\/info\\/rule.php\"}],\"info\"],\"footerLine\":[{\"type\":\"image\",\"image\":{\"src\":\"https:\\/\\/159523.selcdn.ru\\/assets\\/payment\\/visamaster.png\"}},{\"type\":\"text\",\"text\":\"\\u00a9 2009 - 2024 \\u041c\\u043e\\u0439 \\u0437\\u0434\\u043e\\u0440\\u043e\\u0432\\u044b\\u0439 \\u0440\\u0430\\u0446\\u0438\\u043e\\u043d\"}]},\"LeftMenuFromServer\":{\"empty\":[]}},\"projectMenu\":false,\"loadCss\":false,\"oldParams\":{\"api_url\":\"https:\\/\\/health-diet.ru\\/api\\/\",\"platformId\":101,\"timestamp\":\"\",\"signature\":\"\",\"message\":\"eyJwbGF0Zm9ybUlkIjoxMDEsInVzZXIiOnsiaWQiOmZhbHNlLCJuYW1lIjoiIiwiYXZhdGFyIjoiaHR0cHM6XC9cL2ZzMi50dm95ZG5ldm5pay5jb21cL2Fzc2V0c1wvbm90Rm91bmRcL3VzZXIucG5nIiwiZW1haWwiOiIiLCJhY2Nlc3NfdG9rZW4iOmZhbHNlfSwic3RhcnRBcHBOb2RlSWQiOiJhcHBEaWFyeSJ9\",\"bootstrap_type\":\"guest\"},\"features\":{\"social\":true,\"publishFoodDiaryV2\":true,\"recipeExtraEdit\":true,\"womanCalendar\":true,\"notification2\":true,\"loginV2\":true,\"socialV2\":true,\"useSceditor\":true,\"sportDiaryReport\":true,\"diaryUserPermission\":true},\"socialUser\":{\"isAuth\":false,\"id\":false,\"name\":\"\",\"dateRegister\":\"\",\"daysInSystem\":0,\"avatar\":\"https:\\/\\/fs2.tvoydnevnik.com\\/assets\\/notFound\\/user.png\",\"email\":\"\"},\"bootstrapSocial\":\"guest\",\"socketio\":{\"url\":\"https:\\/\\/health-diet.ru\",\"token\":\"{\\\"timestamp\\\":1732290674,\\\"sig\\\":\\\"e8e4610bcda5b1f7a6a0ea74f7b7e66b\\\"}\",\"eventsName\":{\"liveFeed\":\"101_liveFeed\",\"user\":\"101_user_da39a3ee5e6b4b0d3255bfef95601890afd80709\",\"prefix\":101}},\"androidVersion\":{\"name\":\"\\u041a\\u0430\\u043b\\u044c\\u043a\\u0443\\u043b\\u044f\\u0442\\u043e\\u0440 \\u043a\\u0430\\u043b\\u043e\\u0440\\u0438\\u0439 \\u041c\\u0417\\u0420\",\"storeName\":\"Google Play\",\"badge\":\"\",\"url\":\"https:\\/\\/play.google.com\\/store\\/apps\\/details?id=ru.health_diet\"},\"iphoneVersion\":{\"name\":\"\\u041c\\u043e\\u0439 \\u0437\\u0434\\u043e\\u0440\\u043e\\u0432\\u044b\\u0439 \\u0440\\u0430\\u0446\\u0438\\u043e\\u043d\",\"storeName\":\"Apple store\",\"badge\":\"\",\"url\":\"https:\\/\\/apps.apple.com\\/ru\\/app\\/%D0%BC%D0%BE%D0%B9-%D0%B7%D0%B4%D0%BE%D1%80%D0%BE%D0%B2%D1%8B%D0%B9-%D1%80%D0%B0%D1%86%D0%B8%D0%BE%D0%BD\\/id1445321534\"},\"huaweiVersion\":{\"name\":\"\\u041a\\u0430\\u043b\\u044c\\u043a\\u0443\\u043b\\u044f\\u0442\\u043e\\u0440 \\u043a\\u0430\\u043b\\u043e\\u0440\\u0438\\u0439 \\u041c\\u0417\\u0420\",\"storeName\":\"Huawei\",\"badge\":\"\",\"url\":\"https:\\/\\/appgallery.huawei.com\\/#\\/app\\/C105747173\"},\"useBaseFoodV2BySource\":false,\"applyExtraCss\":\"\",\"jsRoute\":{\"payment\":\"\\/app\\/Payment2\"},\"firebase\":{\"jwt\":\"\"},\"flagAppleCordovaShowAlert\":false,\"flagAppleShowSocialSingInTD\":true,\"flagAppleShowSocialSingInTD2\":true,\"flagAppleShowSocialSingInHD\":true,\"flagShowInAppReview\":true,\"flagSignInFacebook\":true,\"flagSignInNativeApple\":true,\"flagGetFoodBySourcesAllowUseOldVersion\":false,\"deployingAppVersions\":{\"AppStore\":\"OFF_v8.133.24\"},\"cordovaLocalStorageConfigValidDays\":360,\"checkProductIdOnProductApproved\":true,\"yandexMetrika\":{\"id\":\"166381\",\"setUserID\":false,\"params\":{\"isAuth\":false,\"partner\":\"partner101\"},\"startJs\":true}};        </script>\n",
      "<!-- Assets.header:css  -->\n",
      "<link href=\"https://health-diet.ru/jsApp/v8.133.58/ui/dist/css/uikit.css\" rel=\"stylesheet\" type=\"text/css\"/></head>\n",
      "<body class=\"mzr-body uk-height-1-1\">\n",
      "<div class=\"mzr-top-menu js-top-menu-height mzr-no-print mzr-top-menu--height\">\n",
      "<div class=\"mzr-top-menu-round-left\"></div>\n",
      "<div class=\"mzr-top-menu-round-right\"></div>\n",
      "<div class=\"uk-flex uk-flex-middle uk-flex-center mzr-top-menu-template-3\">\n",
      "<a class=\"mzr-top-menu-logo mzr-navbar-logo\" href=\"/\"> <svg class=\"\" style=\"fill: currentcolor; display:inline-block; height:60px; width:200px; user-select:none;\" viewbox=\"0 0 200 60\">\n",
      "<g>\n",
      "<path d=\"M54 50C65.0457 50 74 41.0457 74 30C74 18.9543 65.0457 10 54 10C42.9543 10 34 18.9543 34 30C34 41.0457 42.9543 50 54 50Z\" fill=\"var(--color-logo-color-circle)\"></path>\n",
      "<path d=\"M66.8044 20.5592C65.6486 19.2227 63.9147 18.2836 61.9281 18.0668C61.8197 18.0668 61.7474 18.0668 61.6391 18.0307C61.6391 18.0307 57.2684 17.5972 53.9813 20.9566C50.4414 17.4889 46.3235 18.0307 46.3235 18.0307C46.2151 18.0307 46.1429 18.0307 46.0345 18.0668C44.084 18.2836 42.3502 19.2227 41.1943 20.5592C36.4623 26.0858 40.2551 34.8634 44.373 41.3291C44.7703 41.9793 45.4927 42.3767 46.2874 42.3767H46.3235C48.0574 42.3767 49.141 40.4983 48.2741 39.0174C47.1543 37.1029 46.3596 35.658 46.3596 35.658C46.3596 35.658 43.0726 29.1923 44.1201 25.3273C44.4813 24.0269 45.6372 23.0878 46.9737 22.9433C48.8159 22.7626 51.9223 23.3045 54.0174 28.1809C56.1125 23.3045 59.1828 22.7265 61.025 22.9433C62.3615 23.0878 63.5535 24.0269 63.8786 25.3273C64.89 29.1923 61.6391 35.658 61.6391 35.658C61.6391 35.658 60.8444 37.1029 59.7246 39.0174C58.8577 40.4983 59.9414 42.3767 61.6752 42.3767H61.7474C62.506 42.3767 63.2284 41.9793 63.6618 41.3291C67.7436 34.8634 71.5364 26.0858 66.8044 20.5592Z\" fill=\"var(--color--white)\"></path>\n",
      "<path d=\"M118.552 36.7559C118.795 36.7559 118.981 36.8679 119.112 37.0919C119.261 37.3159 119.336 37.6239 119.336 38.0159C119.336 38.7439 119.159 39.3225 118.804 39.7519C117.833 40.9465 116.881 41.8145 115.948 42.3559C115.015 42.8785 114.007 43.1399 112.924 43.1399C111.281 43.1399 110.031 42.3279 109.172 40.7039C108.332 39.0612 107.912 36.6905 107.912 33.5919C107.912 31.4639 108.127 28.9252 108.556 25.9759H108.5C106.633 31.1092 104.841 36.3919 103.124 41.8239C102.937 42.4025 102.704 42.8039 102.424 43.0279C102.144 43.2519 101.743 43.3639 101.22 43.3639C100.324 43.3639 99.7453 42.9159 99.484 42.0199C99.0173 40.5265 98.6533 38.7439 98.392 36.6719C98.1307 34.5812 98 32.4719 98 30.3439C98 29.1119 98.0373 28.0385 98.112 27.1239H98.056C97.328 30.8572 96.6653 33.7785 96.068 35.8879C95.4893 37.9785 94.6493 39.7239 93.548 41.1239C92.4467 42.5239 91 43.2239 89.208 43.2239C88.2373 43.2239 87.3693 43.0185 86.604 42.6079C85.8573 42.1785 85.2787 41.6092 84.868 40.8999C84.4573 40.1905 84.252 39.4252 84.252 38.6039C84.252 38.0252 84.4013 37.5679 84.7 37.2319C84.9987 36.8772 85.4187 36.6999 85.96 36.6999C86.688 36.6999 87.136 37.0545 87.304 37.7639C87.472 38.4545 87.7427 38.9865 88.116 39.3599C88.508 39.7145 88.984 39.8919 89.544 39.8919C90.2533 39.8919 90.9347 39.2852 91.588 38.0719C92.26 36.8585 92.9507 34.9079 93.66 32.2199C94.388 29.5319 95.172 25.9665 96.012 21.5239C96.1613 20.7025 96.4693 20.1239 96.936 19.7879C97.4027 19.4332 98.0933 19.2559 99.008 19.2559C100.539 19.2559 101.248 20.0679 101.136 21.6919C101.043 23.2785 100.996 24.7159 100.996 26.0039C100.996 29.0279 101.22 32.5745 101.668 36.6439H101.724C102.209 34.5719 102.965 32.1452 103.992 29.3639C105.019 26.5825 106.111 23.9599 107.268 21.4959C107.567 20.8425 107.828 20.3665 108.052 20.0679C108.276 19.7692 108.528 19.5639 108.808 19.4519C109.088 19.3212 109.48 19.2559 109.984 19.2559C110.768 19.2559 111.365 19.4519 111.776 19.8439C112.205 20.2172 112.383 20.7585 112.308 21.4679C111.841 26.1719 111.608 29.8399 111.608 32.4719C111.608 34.7679 111.785 36.5692 112.14 37.8759C112.495 39.1639 113.083 39.8079 113.904 39.8079C114.52 39.8079 115.108 39.6212 115.668 39.2479C116.247 38.8559 116.956 38.1559 117.796 37.1479C118.001 36.8865 118.253 36.7559 118.552 36.7559Z\" fill=\"var(--color-logo-color-text)\"></path>\n",
      "<path d=\"M136.372 29.8399C137.641 30.1945 138.621 30.8105 139.312 31.6879C140.021 32.5465 140.376 33.6012 140.376 34.8519C140.376 36.3265 139.956 37.6985 139.116 38.9679C138.276 40.2372 137.081 41.2545 135.532 42.0199C134.001 42.7665 132.237 43.1399 130.24 43.1399C127.869 43.1399 126.003 42.6265 124.64 41.5999C123.296 40.5732 122.624 39.1452 122.624 37.3159C122.624 36.3825 122.792 35.6919 123.128 35.2439C123.483 34.7959 124.015 34.5719 124.724 34.5719C125.247 34.5719 125.657 34.7212 125.956 35.0199C126.273 35.2999 126.432 35.7105 126.432 36.2519C126.432 37.2225 126.553 37.9879 126.796 38.5479C127.057 39.0892 127.468 39.4905 128.028 39.7519C128.607 39.9945 129.409 40.1159 130.436 40.1159C131.556 40.1159 132.555 39.8639 133.432 39.3599C134.328 38.8559 135.019 38.1932 135.504 37.3719C136.008 36.5505 136.26 35.6732 136.26 34.7399C136.26 33.9559 136.073 33.3025 135.7 32.7799C135.327 32.2385 134.841 31.9212 134.244 31.8279C132.807 32.6492 131.351 33.0599 129.876 33.0599C129.26 33.0599 128.821 32.9572 128.56 32.7519C128.299 32.5465 128.168 32.2105 128.168 31.7439C128.168 31.0719 128.523 30.5585 129.232 30.2039C129.96 29.8492 131.099 29.6345 132.648 29.5599C134.552 28.3652 135.504 26.7972 135.504 24.8559C135.504 24.0345 135.271 23.3999 134.804 22.9519C134.337 22.4852 133.637 22.2519 132.704 22.2519C131.827 22.2519 131.052 22.3919 130.38 22.6719C129.708 22.9332 129.185 23.2972 128.812 23.7639C128.439 24.2119 128.252 24.6972 128.252 25.2199C128.252 25.3692 128.271 25.5652 128.308 25.8079C128.345 26.0505 128.364 26.2372 128.364 26.3679C128.364 26.8345 128.215 27.1892 127.916 27.4319C127.636 27.6559 127.253 27.7679 126.768 27.7679C126.059 27.7679 125.545 27.5159 125.228 27.0119C124.911 26.4892 124.752 25.7985 124.752 24.9399C124.752 23.9132 125.088 22.9705 125.76 22.1119C126.451 21.2345 127.431 20.5439 128.7 20.0399C129.969 19.5172 131.435 19.2559 133.096 19.2559C135.243 19.2559 136.811 19.6852 137.8 20.5439C138.789 21.4025 139.284 22.5785 139.284 24.0719C139.284 25.1919 139.032 26.2559 138.528 27.2639C138.043 28.2532 137.324 29.1119 136.372 29.8399Z\" fill=\"var(--color-logo-color-text)\"></path>\n",
      "<path d=\"M166.398 25.5039C166.398 26.9772 166.017 28.3292 165.254 29.5599C164.491 30.7906 163.382 31.7959 161.926 32.5759C160.47 33.3559 158.737 33.8152 156.726 33.9539L155.608 40.2199C155.175 42.6292 153.996 43.8339 152.072 43.8339C151.015 43.8339 150.035 43.5219 149.134 42.8979C148.25 42.2739 147.539 41.3206 147.002 40.0379C146.465 38.7552 146.196 37.1779 146.196 35.3059C146.196 31.7872 146.759 28.8059 147.886 26.3619C149.03 23.9006 150.555 22.0632 152.462 20.8499C154.386 19.6192 156.501 19.0039 158.806 19.0039C160.435 19.0039 161.813 19.2899 162.94 19.8619C164.084 20.4339 164.942 21.2139 165.514 22.2019C166.103 23.1726 166.398 24.2732 166.398 25.5039ZM157.194 31.2759C160.747 30.8252 162.524 28.9792 162.524 25.7379C162.524 24.5939 162.143 23.6666 161.38 22.9559C160.635 22.2279 159.473 21.8639 157.896 21.8639C156.111 21.8639 154.551 22.4272 153.216 23.5539C151.899 24.6806 150.876 26.2492 150.148 28.2599C149.437 30.2532 149.082 32.5326 149.082 35.0979C149.082 36.1726 149.186 37.1259 149.394 37.9579C149.619 38.7899 149.897 39.4399 150.226 39.9079C150.573 40.3586 150.902 40.5839 151.214 40.5839C151.647 40.5839 151.977 39.9859 152.202 38.7899L153.06 33.8759C152.384 33.7719 152.089 33.7286 152.176 33.7459C151.656 33.6592 151.318 33.5032 151.162 33.2779C151.006 33.0352 150.928 32.7319 150.928 32.3679C150.928 31.9866 151.032 31.6832 151.24 31.4579C151.465 31.2326 151.769 31.1199 152.15 31.1199C152.323 31.1199 152.453 31.1286 152.54 31.1459C152.956 31.2152 153.277 31.2586 153.502 31.2759C153.727 29.9239 154.048 28.1126 154.464 25.8419C154.568 25.2526 154.802 24.8366 155.166 24.5939C155.547 24.3339 155.989 24.2039 156.492 24.2039C157.064 24.2039 157.471 24.3166 157.714 24.5419C157.974 24.7499 158.104 25.0879 158.104 25.5559C158.104 25.8332 158.087 26.0586 158.052 26.2319L157.194 31.2759Z\" fill=\"var(--color-logo-color-text)\"></path>\n",
      "</g>\n",
      "</svg>\n",
      "</a>\n",
      "<div class=\"mzr-top-menu-content uk-flex uk-flex-space-between\">\n",
      "<div class=\"uk-flex\">\n",
      "<a class=\"uk-flex uk-flex-middle uk-flex-item-none mzr-top-menu-item mzr-top-menu--height js-top-menu-header mzr-top-menu-header-item\" id=\"js-offcanvas\" style=\"text-decoration: none;\">\n",
      "<svg class=\"\" style=\"fill: currentcolor; display:inline-block; height:24px; width:24px; user-select:none;fill:var(--top-menu-color-svg); margin-right: 8px\" viewbox=\"0 0 20 20\">\n",
      "<g><path d=\"M0 3.9998C0 3.33706 0.479695 2.7998 1.07143 2.7998H18.9286C19.5203 2.7998 20 3.33706 20 3.9998C20 4.66255 19.5203 5.1998 18.9286 5.1998H1.07143C0.479695 5.1998 0 4.66255 0 3.9998Z\"></path><path d=\"M0 9.9998C0 9.33706 0.479695 8.7998 1.07143 8.7998H18.9286C19.5203 8.7998 20 9.33706 20 9.9998C20 10.6625 19.5203 11.1998 18.9286 11.1998H1.07143C0.479695 11.1998 0 10.6625 0 9.9998Z\"></path><path d=\"M0 15.9998C0 15.3371 0.479695 14.7998 1.07143 14.7998H18.9286C19.5203 14.7998 20 15.3371 20 15.9998C20 16.6625 19.5203 17.1998 18.9286 17.1998H1.07143C0.479695 17.1998 0 16.6625 0 15.9998Z\"></path></g> </svg>\n",
      "<span></span>\n",
      "</a>\n",
      "<div class=\"uk-flex uk-flex-middle uk-flex-item-none mzr-top-menu--height mzr-top-menu-item uk-flex-center\">\n",
      "<div id=\"js-table-search\">\n",
      "                Таблицы калорийности            </div>\n",
      "</div>\n",
      "</div>\n",
      "<div class=\"uk-flex\">\n",
      "<div class=\"uk-flex uk-flex-middle uk-flex-item-none mzr-top-menu--height mzr-top-menu-item uk-flex-center\" title=\"\">\n",
      "<a class=\"uk-button uk-button-outline-transparent\" href=\"/account/login\" rel=\"nofollow\">Войти</a>\n",
      "</div>\n",
      "</div>\n",
      "</div>\n",
      "</div>\n",
      "</div>\n",
      "<div class=\"mzr-no-print mzr-top-menu-fixed\">\n",
      "<div class=\"mzr-top-menu-margin\"></div>\n",
      "</div>\n",
      "<div id=\"js-table-search_result\"></div> <div class=\"mzr-grid-3-column\">\n",
      "<div class=\"mzr-grid-content\" id=\"mzr-grid-content\">\n",
      "<div class=\"mzr-main-block\">\n",
      "<div class=\"mzr-tc-header mzr-block mzr-grid-3-column-margin-top\">\n",
      "<div class=\"mzr-block-content\">\n",
      "<ul class=\"uk-breadcrumb uk-breadcrumb-small\" itemscope=\"\" itemtype=\"http://schema.org/BreadcrumbList\">\n",
      "<li itemprop=\"itemListElement\" itemscope=\"\" itemtype=\"http://schema.org/ListItem\"><a href=\"/\" itemprop=\"item\">Главная</a><meta content=\"1\" itemprop=\"position\"/></li><li itemprop=\"itemListElement\" itemscope=\"\" itemtype=\"http://schema.org/ListItem\"><a href=\"/table_calorie/\" itemprop=\"item\">Таблица калорийности продуктов</a><meta content=\"2\" itemprop=\"position\"/></li><li itemprop=\"itemListElement\" itemscope=\"\" itemtype=\"http://schema.org/ListItem\"><a href=\"/base_of_food/food_24507/\" itemprop=\"item\">Таблица калорийности Баранина и дичь</a><meta content=\"3\" itemprop=\"position\"/></li> </ul>\n",
      "<h1>Баранина и дичь. Таблица калорийности и химический состав продуктов питания.</h1>\n",
      "<div class=\"ya-share2\" data-counter=\"\" data-services=\"vkontakte,facebook,odnoklassniki,moimir,twitter\"></div>\n",
      "</div>\n",
      "</div>\n",
      "<div class=\"mzr-block uk-margin-top\">\n",
      "<div class=\"mzr-block-content\">\n",
      "<p>Данный справочник содержит сведения о <b>продуктах питания</b> и готовых блюд. Также вы можете узнать\n",
      "                    полный химический состав: пищевая ценность, витамины и минералы для каждого наименования.</p>\n",
      "<p>(Содержание белков, жиров и углеводов в 100 граммах продукта и калорийность.)</p>\n",
      "<div class=\"uk-overflow-container\">\n",
      "<table class=\"uk-table mzr-tc-group-table uk-table-hover uk-table-striped uk-table-condensed\" style=\"min-width: 650px\">\n",
      "<colgroup>\n",
      "<col width=\"40%\"/>\n",
      "<col width=\"15%\"/>\n",
      "<col width=\"15%\"/>\n",
      "<col width=\"15%\"/>\n",
      "<col width=\"15%\"/>\n",
      "</colgroup>\n",
      "<thead>\n",
      "<tr>\n",
      "<th class=\"uk-text-left\">Продукт</th>\n",
      "<th class=\"uk-text-right\">Калорийность</th>\n",
      "<th class=\"uk-text-right\">Белки</th>\n",
      "<th class=\"uk-text-right\">Жиры</th>\n",
      "<th class=\"uk-text-right\">Углеводы</th>\n",
      "</tr>\n",
      "</thead>\n",
      "<tbody>\n",
      "<tr>\n",
      "<td><a href=\"/base_of_food/sostav/25183.php\" title=\"Химический состав продукта: Lamb, Australian, imported, fresh, external fat, cooked\">Lamb, Australian, imported, fresh, external fat, cooked</a>\n",
      "</td>\n",
      "<td class=\"uk-text-right\">538 кКал</td>\n",
      "<td class=\"uk-text-right\">16,9 г</td>\n",
      "<td class=\"uk-text-right\">52,3 г</td>\n",
      "<td class=\"uk-text-right\">0 г</td>\n",
      "</tr>\n",
      "<tr>\n",
      "<td><a href=\"/base_of_food/sostav/18812.php\" title=\"Химический состав продукта: Антилопа\">Антилопа</a>\n",
      "</td>\n",
      "<td class=\"uk-text-right\">114 кКал</td>\n",
      "<td class=\"uk-text-right\">22,38 г</td>\n",
      "<td class=\"uk-text-right\">2,03 г</td>\n",
      "<td class=\"uk-text-right\">0 г</td>\n",
      "</tr>\n",
      "<tr>\n",
      "<td><a href=\"/base_of_food/sostav/18813.php\" title=\"Химический состав продукта: Антилопа, запеченная\">Антилопа, запеченная</a>\n",
      "</td>\n",
      "<td class=\"uk-text-right\">150 кКал</td>\n",
      "<td class=\"uk-text-right\">29,45 г</td>\n",
      "<td class=\"uk-text-right\">2,67 г</td>\n",
      "<td class=\"uk-text-right\">0 г</td>\n",
      "</tr>\n",
      "<tr>\n",
      "<td><a href=\"/base_of_food/sostav/35.php\" title=\"Химический состав продукта: Баранина 1 кат.\">Баранина 1 кат.</a>\n",
      "</td>\n",
      "<td class=\"uk-text-right\">209 кКал</td>\n",
      "<td class=\"uk-text-right\">15,6 г</td>\n",
      "<td class=\"uk-text-right\">16,3 г</td>\n",
      "<td class=\"uk-text-right\">0 г</td>\n",
      "</tr>\n",
      "<tr>\n",
      "<td><a href=\"/base_of_food/sostav/696.php\" title=\"Химический состав продукта: Баранина 2 кат.\">Баранина 2 кат.</a>\n",
      "</td>\n",
      "<td class=\"uk-text-right\">166 кКал</td>\n",
      "<td class=\"uk-text-right\">19,8 г</td>\n",
      "<td class=\"uk-text-right\">9,6 г</td>\n",
      "<td class=\"uk-text-right\">0 г</td>\n",
      "</tr>\n",
      "<tr>\n",
      "<td><a href=\"/base_of_food/sostav/18960.php\" title=\"Химический состав продукта: Баранина австралийская ,голяшка, мясо и жир, обрезь до 1/8'' жира, жаренная\">Баранина австралийская ,голяшка, мясо и жир, обрезь до 1/8'' жира, жаренная</a>\n",
      "</td>\n",
      "<td class=\"uk-text-right\">231 кКал</td>\n",
      "<td class=\"uk-text-right\">25,25 г</td>\n",
      "<td class=\"uk-text-right\">13,69 г</td>\n",
      "<td class=\"uk-text-right\">0 г</td>\n",
      "</tr>\n",
      "<tr>\n",
      "<td><a href=\"/base_of_food/sostav/18959.php\" title=\"Химический состав продукта: Баранина австралийская ,голяшка, мясо и жир, обрезь до 1/8'' жира, сырая\">Баранина австралийская ,голяшка, мясо и жир, обрезь до 1/8'' жира, сырая</a>\n",
      "</td>\n",
      "<td class=\"uk-text-right\">201 кКал</td>\n",
      "<td class=\"uk-text-right\">18,59 г</td>\n",
      "<td class=\"uk-text-right\">13,48 г</td>\n",
      "<td class=\"uk-text-right\">0 г</td>\n",
      "</tr>\n",
      "<tr>\n",
      "<td><a href=\"/base_of_food/sostav/18962.php\" title=\"Химический состав продукта: Баранина австралийская ,голяшка, только мясо, обрезь до 1/8'' жира, жаренная\">Баранина австралийская ,голяшка, только мясо, обрезь до 1/8'' жира, жаренная</a>\n",
      "</td>\n",
      "<td class=\"uk-text-right\">182 кКал</td>\n",
      "<td class=\"uk-text-right\">27,18 г</td>\n",
      "<td class=\"uk-text-right\">7,27 г</td>\n",
      "<td class=\"uk-text-right\">0 г</td>\n",
      "</tr>\n",
      "<tr>\n",
      "<td><a href=\"/base_of_food/sostav/18961.php\" title=\"Химический состав продукта: Баранина австралийская ,голяшка, только мясо, обрезь до 1/8'' жира, сырая\">Баранина австралийская ,голяшка, только мясо, обрезь до 1/8'' жира, сырая</a>\n",
      "</td>\n",
      "<td class=\"uk-text-right\">133 кКал</td>\n",
      "<td class=\"uk-text-right\">20,45 г</td>\n",
      "<td class=\"uk-text-right\">5,1 г</td>\n",
      "<td class=\"uk-text-right\">0 г</td>\n",
      "</tr>\n",
      "<tr>\n",
      "<td><a href=\"/base_of_food/sostav/18946.php\" title=\"Химический состав продукта: Баранина австралийская, Мясной набор, мясо и жир, обрезь до 1/8'' жира, вареная\">Баранина австралийская, Мясной набор, мясо и жир, обрезь до 1/8'' жира, вареная</a>\n",
      "</td>\n",
      "<td class=\"uk-text-right\">256 кКал</td>\n",
      "<td class=\"uk-text-right\">24,52 г</td>\n",
      "<td class=\"uk-text-right\">16,82 г</td>\n",
      "<td class=\"uk-text-right\">0 г</td>\n",
      "</tr>\n",
      "<tr>\n",
      "<td><a href=\"/base_of_food/sostav/18945.php\" title=\"Химический состав продукта: Баранина австралийская, мясной набор, мясо и жир, обрезь до 1/8'' жира, сырая\">Баранина австралийская, мясной набор, мясо и жир, обрезь до 1/8'' жира, сырая</a>\n",
      "</td>\n",
      "<td class=\"uk-text-right\">229 кКал</td>\n",
      "<td class=\"uk-text-right\">17,84 г</td>\n",
      "<td class=\"uk-text-right\">16,97 г</td>\n",
      "<td class=\"uk-text-right\">0 г</td>\n",
      "</tr>\n",
      "<tr>\n",
      "<td><a href=\"/base_of_food/sostav/18948.php\" title=\"Химический состав продукта: Баранина австралийская, Мясной набор, только мясо, обрезь до 1/8'' жира, вареная\">Баранина австралийская, Мясной набор, только мясо, обрезь до 1/8'' жира, вареная</a>\n",
      "</td>\n",
      "<td class=\"uk-text-right\">201 кКал</td>\n",
      "<td class=\"uk-text-right\">26,71 г</td>\n",
      "<td class=\"uk-text-right\">9,63 г</td>\n",
      "<td class=\"uk-text-right\">0 г</td>\n",
      "</tr>\n",
      "<tr>\n",
      "<td><a href=\"/base_of_food/sostav/18947.php\" title=\"Химический состав продукта: Баранина австралийская, Мясной набор, только мясо, обрезь до 1/8'' жира, сырая\">Баранина австралийская, Мясной набор, только мясо, обрезь до 1/8'' жира, сырая</a>\n",
      "</td>\n",
      "<td class=\"uk-text-right\">142 кКал</td>\n",
      "<td class=\"uk-text-right\">20,25 г</td>\n",
      "<td class=\"uk-text-right\">6,18 г</td>\n",
      "<td class=\"uk-text-right\">0 г</td>\n",
      "</tr>\n",
      "<tr>\n",
      "<td><a href=\"/base_of_food/sostav/18984.php\" title=\"Химический состав продукта: Баранина австралийская, нога передняя с лопаткой, мясо и жир, обрезь до 1/8'' жира, вареная\">Баранина австралийская, нога передняя с лопаткой, мясо и жир, обрезь до 1/8'' жира, вареная</a>\n",
      "</td>\n",
      "<td class=\"uk-text-right\">296 кКал</td>\n",
      "<td class=\"uk-text-right\">23,58 г</td>\n",
      "<td class=\"uk-text-right\">21,65 г</td>\n",
      "<td class=\"uk-text-right\">0 г</td>\n",
      "</tr>\n",
      "<tr>\n",
      "<td><a href=\"/base_of_food/sostav/18986.php\" title=\"Химический состав продукта: Баранина австралийская, нога передняя с лопаткой, только мясо, обрезь до 1/8'' жира, вареная\">Баранина австралийская, нога передняя с лопаткой, только мясо, обрезь до 1/8'' жира, вареная</a>\n",
      "</td>\n",
      "<td class=\"uk-text-right\">233 кКал</td>\n",
      "<td class=\"uk-text-right\">26,18 г</td>\n",
      "<td class=\"uk-text-right\">13,44 г</td>\n",
      "<td class=\"uk-text-right\">0 г</td>\n",
      "</tr>\n",
      "<tr>\n",
      "<td><a href=\"/base_of_food/sostav/18983.php\" title=\"Химический состав продукта: Баранина австралийская, Нога передняя, с лопаткой, мясо и жир, обрезь до 1/8'' жира, сырая\">Баранина австралийская, Нога передняя, с лопаткой, мясо и жир, обрезь до 1/8'' жира, сырая</a>\n",
      "</td>\n",
      "<td class=\"uk-text-right\">256 кКал</td>\n",
      "<td class=\"uk-text-right\">16,68 г</td>\n",
      "<td class=\"uk-text-right\">20,47 г</td>\n",
      "<td class=\"uk-text-right\">0 г</td>\n",
      "</tr>\n",
      "<tr>\n",
      "<td><a href=\"/base_of_food/sostav/18958.php\" title=\"Химический состав продукта: Баранина австралийская, нога целая,  только мясо, обрезь до 1/8'' жира, жаренная\">Баранина австралийская, нога целая,  только мясо, обрезь до 1/8'' жира, жаренная</a>\n",
      "</td>\n",
      "<td class=\"uk-text-right\">190 кКал</td>\n",
      "<td class=\"uk-text-right\">27,31 г</td>\n",
      "<td class=\"uk-text-right\">8,1 г</td>\n",
      "<td class=\"uk-text-right\">0 г</td>\n",
      "</tr>\n",
      "<tr>\n",
      "<td><a href=\"/base_of_food/sostav/18955.php\" title=\"Химический состав продукта: Баранина австралийская, нога целая, мясо и жир, обрезь до 1/8'' жира, сырая\">Баранина австралийская, нога целая, мясо и жир, обрезь до 1/8'' жира, сырая</a>\n",
      "</td>\n",
      "<td class=\"uk-text-right\">215 кКал</td>\n",
      "<td class=\"uk-text-right\">18,24 г</td>\n",
      "<td class=\"uk-text-right\">15,19 г</td>\n",
      "<td class=\"uk-text-right\">0 г</td>\n",
      "</tr>\n",
      "<tr>\n",
      "<td><a href=\"/base_of_food/sostav/18956.php\" title=\"Химический состав продукта: Баранина австралийская, нога, целая, мясо и жир, обрезь до 1/8'' жира, жаренная\">Баранина австралийская, нога, целая, мясо и жир, обрезь до 1/8'' жира, жаренная</a>\n",
      "</td>\n",
      "<td class=\"uk-text-right\">244 кКал</td>\n",
      "<td class=\"uk-text-right\">25,16 г</td>\n",
      "<td class=\"uk-text-right\">15,13 г</td>\n",
      "<td class=\"uk-text-right\">0 г</td>\n",
      "</tr>\n",
      "<tr>\n",
      "<td><a href=\"/base_of_food/sostav/18957.php\" title=\"Химический состав продукта: Баранина австралийская, нога, целая, только мясо, обрезь до 1/8'' жира, сырая\">Баранина австралийская, нога, целая, только мясо, обрезь до 1/8'' жира, сырая</a>\n",
      "</td>\n",
      "<td class=\"uk-text-right\">135 кКал</td>\n",
      "<td class=\"uk-text-right\">20,46 г</td>\n",
      "<td class=\"uk-text-right\">5,23 г</td>\n",
      "<td class=\"uk-text-right\">0 г</td>\n",
      "</tr>\n",
      "<tr>\n",
      "<td><a href=\"/base_of_food/sostav/18972.php\" title=\"Химический состав продукта: Баранина австралийская, нога, центральная часть на кости, мясо и жир, обрезь до 1/8'' жира, жаренная на открытом огне\">Баранина австралийская, нога, центральная часть на кости, мясо и жир, обрезь до 1/8'' жира, жаренная на открытом огне</a>\n",
      "</td>\n",
      "<td class=\"uk-text-right\">215 кКал</td>\n",
      "<td class=\"uk-text-right\">25,54 г</td>\n",
      "<td class=\"uk-text-right\">11,78 г</td>\n",
      "<td class=\"uk-text-right\">0 г</td>\n",
      "</tr>\n",
      "<tr>\n",
      "<td><a href=\"/base_of_food/sostav/18971.php\" title=\"Химический состав продукта: Баранина австралийская, нога, центральная часть на кости, мясо и жир, обрезь до 1/8'' жира, сырая\">Баранина австралийская, нога, центральная часть на кости, мясо и жир, обрезь до 1/8'' жира, сырая</a>\n",
      "</td>\n",
      "<td class=\"uk-text-right\">195 кКал</td>\n",
      "<td class=\"uk-text-right\">19,17 г</td>\n",
      "<td class=\"uk-text-right\">12,56 г</td>\n",
      "<td class=\"uk-text-right\">0 г</td>\n",
      "</tr>\n",
      "<tr>\n",
      "<td><a href=\"/base_of_food/sostav/18974.php\" title=\"Химический состав продукта: Баранина австралийская, нога, центральная часть на кости, только мясо, обрезь до 1/8'' жира, жаренная на открытом огне\">Баранина австралийская, нога, центральная часть на кости, только мясо, обрезь до 1/8'' жира, жаренная на открытом огне</a>\n",
      "</td>\n",
      "<td class=\"uk-text-right\">183 кКал</td>\n",
      "<td class=\"uk-text-right\">26,75 г</td>\n",
      "<td class=\"uk-text-right\">7,68 г</td>\n",
      "<td class=\"uk-text-right\">0 г</td>\n",
      "</tr>\n",
      "<tr>\n",
      "<td><a href=\"/base_of_food/sostav/18973.php\" title=\"Химический состав продукта: Баранина австралийская, нога, центральная часть на кости, только мясо, обрезь до 1/8'' жира, сырая\">Баранина австралийская, нога, центральная часть на кости, только мясо, обрезь до 1/8'' жира, сырая</a>\n",
      "</td>\n",
      "<td class=\"uk-text-right\">143 кКал</td>\n",
      "<td class=\"uk-text-right\">20,65 г</td>\n",
      "<td class=\"uk-text-right\">6,08 г</td>\n",
      "<td class=\"uk-text-right\">0 г</td>\n",
      "</tr>\n",
      "<tr>\n",
      "<td><a href=\"/base_of_food/sostav/18980.php\" title=\"Химический состав продукта: Баранина австралийская, ребра, мясо и жир, обрезь до 1/8'' жира, жаренная\">Баранина австралийская, ребра, мясо и жир, обрезь до 1/8'' жира, жаренная</a>\n",
      "</td>\n",
      "<td class=\"uk-text-right\">277 кКал</td>\n",
      "<td class=\"uk-text-right\">22,24 г</td>\n",
      "<td class=\"uk-text-right\">20,21 г</td>\n",
      "<td class=\"uk-text-right\">0 г</td>\n",
      "</tr>\n",
      "<tr>\n",
      "<td><a href=\"/base_of_food/sostav/18979.php\" title=\"Химический состав продукта: Баранина австралийская, ребра, мясо и жир, обрезь до 1/8'' жира, сырая\">Баранина австралийская, ребра, мясо и жир, обрезь до 1/8'' жира, сырая</a>\n",
      "</td>\n",
      "<td class=\"uk-text-right\">237 кКал</td>\n",
      "<td class=\"uk-text-right\">21,26 г</td>\n",
      "<td class=\"uk-text-right\">16,89 г</td>\n",
      "<td class=\"uk-text-right\">0 г</td>\n",
      "</tr>\n",
      "<tr>\n",
      "<td><a href=\"/base_of_food/sostav/18982.php\" title=\"Химический состав продукта: Баранина австралийская, ребра, только мясо, обрезь до 1/8'' жира, жаренная\">Баранина австралийская, ребра, только мясо, обрезь до 1/8'' жира, жаренная</a>\n",
      "</td>\n",
      "<td class=\"uk-text-right\">210 кКал</td>\n",
      "<td class=\"uk-text-right\">24,63 г</td>\n",
      "<td class=\"uk-text-right\">11,6 г</td>\n",
      "<td class=\"uk-text-right\">0 г</td>\n",
      "</tr>\n",
      "<tr>\n",
      "<td><a href=\"/base_of_food/sostav/18981.php\" title=\"Химический состав продукта: Баранина австралийская, ребра, только мясо, обрезь до 1/8'' жира, сырая\">Баранина австралийская, ребра, только мясо, обрезь до 1/8'' жира, сырая</a>\n",
      "</td>\n",
      "<td class=\"uk-text-right\">147 кКал</td>\n",
      "<td class=\"uk-text-right\">24,07 г</td>\n",
      "<td class=\"uk-text-right\">5,59 г</td>\n",
      "<td class=\"uk-text-right\">0 г</td>\n",
      "</tr>\n",
      "<tr>\n",
      "<td><a href=\"/base_of_food/sostav/18951.php\" title='Химический состав продукта: Баранина австралийская, рулька, мясо и жир, обрезь до 1/8\" жира, сырая'>Баранина австралийская, рулька, мясо и жир, обрезь до 1/8\" жира, сырая</a>\n",
      "</td>\n",
      "<td class=\"uk-text-right\">195 кКал</td>\n",
      "<td class=\"uk-text-right\">18,85 г</td>\n",
      "<td class=\"uk-text-right\">12,68 г</td>\n",
      "<td class=\"uk-text-right\">0 г</td>\n",
      "</tr>\n",
      "<tr>\n",
      "<td><a href=\"/base_of_food/sostav/18952.php\" title='Химический состав продукта: Баранина австралийская, рулька, мясо и жир, обрезь до 1/8\" жира, тушеная'>Баранина австралийская, рулька, мясо и жир, обрезь до 1/8\" жира, тушеная</a>\n",
      "</td>\n",
      "<td class=\"uk-text-right\">236 кКал</td>\n",
      "<td class=\"uk-text-right\">24,78 г</td>\n",
      "<td class=\"uk-text-right\">14,44 г</td>\n",
      "<td class=\"uk-text-right\">0 г</td>\n",
      "</tr>\n",
      "<tr>\n",
      "<td><a href=\"/base_of_food/sostav/18953.php\" title='Химический состав продукта: Баранина австралийская, рулька, только мясо, обрезь до 1/8\" жира, сырая'>Баранина австралийская, рулька, только мясо, обрезь до 1/8\" жира, сырая</a>\n",
      "</td>\n",
      "<td class=\"uk-text-right\">123 кКал</td>\n",
      "<td class=\"uk-text-right\">20,83 г</td>\n",
      "<td class=\"uk-text-right\">3,81 г</td>\n",
      "<td class=\"uk-text-right\">0 г</td>\n",
      "</tr>\n",
      "<tr>\n",
      "<td><a href=\"/base_of_food/sostav/18954.php\" title='Химический состав продукта: Баранина австралийская, рулька, только мясо, обрезь до 1/8\" жира, тушеная'>Баранина австралийская, рулька, только мясо, обрезь до 1/8\" жира, тушеная</a>\n",
      "</td>\n",
      "<td class=\"uk-text-right\">165 кКал</td>\n",
      "<td class=\"uk-text-right\">27,5 г</td>\n",
      "<td class=\"uk-text-right\">5,22 г</td>\n",
      "<td class=\"uk-text-right\">0 г</td>\n",
      "</tr>\n",
      "<tr>\n",
      "<td><a href=\"/base_of_food/sostav/18976.php\" title=\"Химический состав продукта: Баранина австралийская, филейная часть, мясо и жир, обрезь до 1/8'' жира, жаренная на открытом огне\">Баранина австралийская, филейная часть, мясо и жир, обрезь до 1/8'' жира, жаренная на открытом огне</a>\n",
      "</td>\n",
      "<td class=\"uk-text-right\">219 кКал</td>\n",
      "<td class=\"uk-text-right\">25,49 г</td>\n",
      "<td class=\"uk-text-right\">12,25 г</td>\n",
      "<td class=\"uk-text-right\">0 г</td>\n",
      "</tr>\n",
      "<tr>\n",
      "<td><a href=\"/base_of_food/sostav/18975.php\" title=\"Химический состав продукта: Баранина австралийская, филейная часть, мясо и жир, обрезь до 1/8'' жира, сырая\">Баранина австралийская, филейная часть, мясо и жир, обрезь до 1/8'' жира, сырая</a>\n",
      "</td>\n",
      "<td class=\"uk-text-right\">203 кКал</td>\n",
      "<td class=\"uk-text-right\">19,32 г</td>\n",
      "<td class=\"uk-text-right\">13,38 г</td>\n",
      "<td class=\"uk-text-right\">0 г</td>\n",
      "</tr>\n",
      "<tr>\n",
      "<td><a href=\"/base_of_food/sostav/18978.php\" title=\"Химический состав продукта: Баранина австралийская, филейная часть, только мясо, обрезь до 1/8'' жира, жаренная на открытом огне\">Баранина австралийская, филейная часть, только мясо, обрезь до 1/8'' жира, жаренная на открытом огне</a>\n",
      "</td>\n",
      "<td class=\"uk-text-right\">192 кКал</td>\n",
      "<td class=\"uk-text-right\">26,53 г</td>\n",
      "<td class=\"uk-text-right\">8,75 г</td>\n",
      "<td class=\"uk-text-right\">0 г</td>\n",
      "</tr>\n",
      "<tr>\n",
      "<td><a href=\"/base_of_food/sostav/18977.php\" title=\"Химический состав продукта: Баранина австралийская, филейная часть, только мясо, обрезь до 1/8'' жира, сырая\">Баранина австралийская, филейная часть, только мясо, обрезь до 1/8'' жира, сырая</a>\n",
      "</td>\n",
      "<td class=\"uk-text-right\">146 кКал</td>\n",
      "<td class=\"uk-text-right\">21 г</td>\n",
      "<td class=\"uk-text-right\">6,24 г</td>\n",
      "<td class=\"uk-text-right\">0 г</td>\n",
      "</tr>\n",
      "<tr>\n",
      "<td><a href=\"/base_of_food/sostav/23965.php\" title=\"Химический состав продукта: Баранина жареная, по 1-396\">Баранина жареная, по 1-396</a>\n",
      "</td>\n",
      "<td class=\"uk-text-right\">264 кКал</td>\n",
      "<td class=\"uk-text-right\">22,4 г</td>\n",
      "<td class=\"uk-text-right\">19,4 г</td>\n",
      "<td class=\"uk-text-right\">0 г</td>\n",
      "</tr>\n",
      "<tr>\n",
      "<td><a href=\"/base_of_food/sostav/23966.php\" title=\"Химический состав продукта: Баранина отварная, по 1-392\">Баранина отварная, по 1-392</a>\n",
      "</td>\n",
      "<td class=\"uk-text-right\">244 кКал</td>\n",
      "<td class=\"uk-text-right\">21,8 г</td>\n",
      "<td class=\"uk-text-right\">17,4 г</td>\n",
      "<td class=\"uk-text-right\">0 г</td>\n",
      "</tr>\n",
      "<tr>\n",
      "<td><a href=\"/base_of_food/sostav/850.php\" title=\"Химический состав продукта: Баранина тушеная, консервы\">Баранина тушеная, консервы</a>\n",
      "</td>\n",
      "<td class=\"uk-text-right\">191 кКал</td>\n",
      "<td class=\"uk-text-right\">17,4 г</td>\n",
      "<td class=\"uk-text-right\">13,4 г</td>\n",
      "<td class=\"uk-text-right\">0,2 г</td>\n",
      "</tr>\n",
      "<tr>\n",
      "<td><a href=\"/base_of_food/sostav/23967.php\" title=\"Химический состав продукта: Баранина тушеная, по 1-422\">Баранина тушеная, по 1-422</a>\n",
      "</td>\n",
      "<td class=\"uk-text-right\">170 кКал</td>\n",
      "<td class=\"uk-text-right\">10,3 г</td>\n",
      "<td class=\"uk-text-right\">12,7 г</td>\n",
      "<td class=\"uk-text-right\">3,6 г</td>\n",
      "</tr>\n",
      "<tr>\n",
      "<td><a href=\"/base_of_food/sostav/18683.php\" title=\"Химический состав продукта: Баранина, голяшка\">Баранина, голяшка</a>\n",
      "</td>\n",
      "<td class=\"uk-text-right\">201 кКал</td>\n",
      "<td class=\"uk-text-right\">18,58 г</td>\n",
      "<td class=\"uk-text-right\">13,49 г</td>\n",
      "<td class=\"uk-text-right\">0 г</td>\n",
      "</tr>\n",
      "<tr>\n",
      "<td><a href=\"/base_of_food/sostav/18684.php\" title=\"Химический состав продукта: Баранина, голяшка, запеченная\">Баранина, голяшка, запеченная</a>\n",
      "</td>\n",
      "<td class=\"uk-text-right\">225 кКал</td>\n",
      "<td class=\"uk-text-right\">26,41 г</td>\n",
      "<td class=\"uk-text-right\">12,45 г</td>\n",
      "<td class=\"uk-text-right\">0 г</td>\n",
      "</tr>\n",
      "<tr>\n",
      "<td><a href=\"/base_of_food/sostav/18685.php\" title=\"Химический состав продукта: Баранина, голяшка, только мясо\">Баранина, голяшка, только мясо</a>\n",
      "</td>\n",
      "<td class=\"uk-text-right\">125 кКал</td>\n",
      "<td class=\"uk-text-right\">20,52 г</td>\n",
      "<td class=\"uk-text-right\">4,19 г</td>\n",
      "<td class=\"uk-text-right\">0 г</td>\n",
      "</tr>\n",
      "<tr>\n",
      "<td><a href=\"/base_of_food/sostav/18686.php\" title=\"Химический состав продукта: Баранина, голяшка, только мясо, запеченная\">Баранина, голяшка, только мясо, запеченная</a>\n",
      "</td>\n",
      "<td class=\"uk-text-right\">180 кКал</td>\n",
      "<td class=\"uk-text-right\">28,17 г</td>\n",
      "<td class=\"uk-text-right\">6,67 г</td>\n",
      "<td class=\"uk-text-right\">0 г</td>\n",
      "</tr>\n",
      "<tr>\n",
      "<td><a href=\"/base_of_food/sostav/694.php\" title=\"Химический состав продукта: Баранина, грудинка мякоть\">Баранина, грудинка мякоть</a>\n",
      "</td>\n",
      "<td class=\"uk-text-right\">288 кКал</td>\n",
      "<td class=\"uk-text-right\">14 г</td>\n",
      "<td class=\"uk-text-right\">25,8 г</td>\n",
      "<td class=\"uk-text-right\">0 г</td>\n",
      "</tr>\n",
      "<tr>\n",
      "<td><a href=\"/base_of_food/sostav/18691.php\" title=\"Химический состав продукта: Баранина, корейка\">Баранина, корейка</a>\n",
      "</td>\n",
      "<td class=\"uk-text-right\">310 кКал</td>\n",
      "<td class=\"uk-text-right\">16,32 г</td>\n",
      "<td class=\"uk-text-right\">26,63 г</td>\n",
      "<td class=\"uk-text-right\">0 г</td>\n",
      "</tr>\n",
      "<tr>\n",
      "<td><a href=\"/base_of_food/sostav/690.php\" title=\"Химический состав продукта: Баранина, корейка мякоть\">Баранина, корейка мякоть</a>\n",
      "</td>\n",
      "<td class=\"uk-text-right\">255 кКал</td>\n",
      "<td class=\"uk-text-right\">15,9 г</td>\n",
      "<td class=\"uk-text-right\">21,5 г</td>\n",
      "<td class=\"uk-text-right\">0 г</td>\n",
      "</tr>\n",
      "<tr>\n",
      "<td><a href=\"/base_of_food/sostav/18692.php\" title=\"Химический состав продукта: Баранина, корейка, жаренная на открытом огне\">Баранина, корейка, жаренная на открытом огне</a>\n",
      "</td>\n",
      "<td class=\"uk-text-right\">316 кКал</td>\n",
      "<td class=\"uk-text-right\">25,17 г</td>\n",
      "<td class=\"uk-text-right\">23,08 г</td>\n",
      "<td class=\"uk-text-right\">0 г</td>\n",
      "</tr>\n",
      "<tr>\n",
      "<td><a href=\"/base_of_food/sostav/18693.php\" title=\"Химический состав продукта: Баранина, корейка, запеченная\">Баранина, корейка, запеченная</a>\n",
      "</td>\n",
      "<td class=\"uk-text-right\">309 кКал</td>\n",
      "<td class=\"uk-text-right\">22,55 г</td>\n",
      "<td class=\"uk-text-right\">23,59 г</td>\n",
      "<td class=\"uk-text-right\">0 г</td>\n",
      "</tr>\n",
      "<tr>\n",
      "<td><a href=\"/base_of_food/sostav/18904.php\" title=\"Химический состав продукта: Баранина, корейка, мясо и жир, обрезь до 1/8'' жира, отборная, жареная\">Баранина, корейка, мясо и жир, обрезь до 1/8'' жира, отборная, жареная</a>\n",
      "</td>\n",
      "<td class=\"uk-text-right\">290 кКал</td>\n",
      "<td class=\"uk-text-right\">23,27 г</td>\n",
      "<td class=\"uk-text-right\">21,12 г</td>\n",
      "<td class=\"uk-text-right\">0 г</td>\n",
      "</tr>\n",
      "<tr>\n",
      "<td><a href=\"/base_of_food/sostav/18903.php\" title=\"Химический состав продукта: Баранина, корейка, мясо и жир, обрезь до 1/8'' жира, отборная, жареная на открытом огне\">Баранина, корейка, мясо и жир, обрезь до 1/8'' жира, отборная, жареная на открытом огне</a>\n",
      "</td>\n",
      "<td class=\"uk-text-right\">297 кКал</td>\n",
      "<td class=\"uk-text-right\">26,06 г</td>\n",
      "<td class=\"uk-text-right\">20,61 г</td>\n",
      "<td class=\"uk-text-right\">0 г</td>\n",
      "</tr>\n",
      "<tr>\n",
      "<td><a href=\"/base_of_food/sostav/18902.php\" title=\"Химический состав продукта: Баранина, корейка, мясо и жир, обрезь до 1/8'' жира, отборная, сырая\">Баранина, корейка, мясо и жир, обрезь до 1/8'' жира, отборная, сырая</a>\n",
      "</td>\n",
      "<td class=\"uk-text-right\">279 кКал</td>\n",
      "<td class=\"uk-text-right\">17,18 г</td>\n",
      "<td class=\"uk-text-right\">22,75 г</td>\n",
      "<td class=\"uk-text-right\">0 г</td>\n",
      "</tr>\n",
      "<tr>\n",
      "<td><a href=\"/base_of_food/sostav/18694.php\" title=\"Химический состав продукта: Баранина, корейка, только мясо\">Баранина, корейка, только мясо</a>\n",
      "</td>\n",
      "<td class=\"uk-text-right\">143 кКал</td>\n",
      "<td class=\"uk-text-right\">20,88 г</td>\n",
      "<td class=\"uk-text-right\">5,94 г</td>\n",
      "<td class=\"uk-text-right\">0 г</td>\n",
      "</tr>\n",
      "<tr>\n",
      "<td><a href=\"/base_of_food/sostav/18695.php\" title=\"Химический состав продукта: Баранина, корейка, только мясо, жаренная на открытом огне\">Баранина, корейка, только мясо, жаренная на открытом огне</a>\n",
      "</td>\n",
      "<td class=\"uk-text-right\">216 кКал</td>\n",
      "<td class=\"uk-text-right\">29,99 г</td>\n",
      "<td class=\"uk-text-right\">9,73 г</td>\n",
      "<td class=\"uk-text-right\">0 г</td>\n",
      "</tr>\n",
      "<tr>\n",
      "<td><a href=\"/base_of_food/sostav/18696.php\" title=\"Химический состав продукта: Баранина, корейка, только мясо, запеченная\">Баранина, корейка, только мясо, запеченная</a>\n",
      "</td>\n",
      "<td class=\"uk-text-right\">202 кКал</td>\n",
      "<td class=\"uk-text-right\">26,59 г</td>\n",
      "<td class=\"uk-text-right\">9,76 г</td>\n",
      "<td class=\"uk-text-right\">0 г</td>\n",
      "</tr>\n",
      "<tr>\n",
      "<td><a href=\"/base_of_food/sostav/695.php\" title=\"Химический состав продукта: Баранина, котлетное мясо\">Баранина, котлетное мясо</a>\n",
      "</td>\n",
      "<td class=\"uk-text-right\">238 кКал</td>\n",
      "<td class=\"uk-text-right\">16 г</td>\n",
      "<td class=\"uk-text-right\">19,3 г</td>\n",
      "<td class=\"uk-text-right\">0 г</td>\n",
      "</tr>\n",
      "<tr>\n",
      "<td><a href=\"/base_of_food/sostav/692.php\" title=\"Химический состав продукта: Баранина, лопаточная часть\">Баранина, лопаточная часть</a>\n",
      "</td>\n",
      "<td class=\"uk-text-right\">199 кКал</td>\n",
      "<td class=\"uk-text-right\">16,1 г</td>\n",
      "<td class=\"uk-text-right\">14,9 г</td>\n",
      "<td class=\"uk-text-right\">0 г</td>\n",
      "</tr>\n",
      "<tr>\n",
      "<td><a href=\"/base_of_food/sostav/18679.php\" title=\"Химический состав продукта: Баранина, нога целая (с голяшкой и оковалком)\">Баранина, нога целая (с голяшкой и оковалком)</a>\n",
      "</td>\n",
      "<td class=\"uk-text-right\">230 кКал</td>\n",
      "<td class=\"uk-text-right\">17,91 г</td>\n",
      "<td class=\"uk-text-right\">17,07 г</td>\n",
      "<td class=\"uk-text-right\">0 г</td>\n",
      "</tr>\n",
      "<tr>\n",
      "<td><a href=\"/base_of_food/sostav/18680.php\" title=\"Химический состав продукта: Баранина, нога целая (с голяшкой и оковалком), запеченная\">Баранина, нога целая (с голяшкой и оковалком), запеченная</a>\n",
      "</td>\n",
      "<td class=\"uk-text-right\">258 кКал</td>\n",
      "<td class=\"uk-text-right\">25,55 г</td>\n",
      "<td class=\"uk-text-right\">16,48 г</td>\n",
      "<td class=\"uk-text-right\">0 г</td>\n",
      "</tr>\n",
      "<tr>\n",
      "<td><a href=\"/base_of_food/sostav/18681.php\" title=\"Химический состав продукта: Баранина, нога целая (с голяшкой и оковалком), только мясо\">Баранина, нога целая (с голяшкой и оковалком), только мясо</a>\n",
      "</td>\n",
      "<td class=\"uk-text-right\">128 кКал</td>\n",
      "<td class=\"uk-text-right\">20,56 г</td>\n",
      "<td class=\"uk-text-right\">4,51 г</td>\n",
      "<td class=\"uk-text-right\">0 г</td>\n",
      "</tr>\n",
      "<tr>\n",
      "<td><a href=\"/base_of_food/sostav/18682.php\" title=\"Химический состав продукта: Баранина, нога целая (с голяшкой и оковалком), только мясо, запеченная\">Баранина, нога целая (с голяшкой и оковалком), только мясо, запеченная</a>\n",
      "</td>\n",
      "<td class=\"uk-text-right\">191 кКал</td>\n",
      "<td class=\"uk-text-right\">28,3 г</td>\n",
      "<td class=\"uk-text-right\">7,74 г</td>\n",
      "<td class=\"uk-text-right\">0 г</td>\n",
      "</tr>\n",
      "<tr>\n",
      "<td><a href=\"/base_of_food/sostav/826.php\" title=\"Химический состав продукта: Баранина, пашина\">Баранина, пашина</a>\n",
      "</td>\n",
      "<td class=\"uk-text-right\">205 кКал</td>\n",
      "<td class=\"uk-text-right\">17,6 г</td>\n",
      "<td class=\"uk-text-right\">14,9 г</td>\n",
      "<td class=\"uk-text-right\">0 г</td>\n",
      "</tr>\n",
      "<tr>\n",
      "<td><a href=\"/base_of_food/sostav/18703.php\" title=\"Химический состав продукта: Баранина, плечевая и лопаточная части\">Баранина, плечевая и лопаточная части</a>\n",
      "</td>\n",
      "<td class=\"uk-text-right\">264 кКал</td>\n",
      "<td class=\"uk-text-right\">16,58 г</td>\n",
      "<td class=\"uk-text-right\">21,45 г</td>\n",
      "<td class=\"uk-text-right\">0 г</td>\n",
      "</tr>\n",
      "<tr>\n",
      "<td><a href=\"/base_of_food/sostav/18705.php\" title=\"Химический состав продукта: Баранина, плечевая и лопаточная части, жаренная на открытом огне\">Баранина, плечевая и лопаточная части, жаренная на открытом огне</a>\n",
      "</td>\n",
      "<td class=\"uk-text-right\">278 кКал</td>\n",
      "<td class=\"uk-text-right\">24,42 г</td>\n",
      "<td class=\"uk-text-right\">19,26 г</td>\n",
      "<td class=\"uk-text-right\">0 г</td>\n",
      "</tr>\n",
      "<tr>\n",
      "<td><a href=\"/base_of_food/sostav/18709.php\" title=\"Химический состав продукта: Баранина, плечевая и лопаточная части, жаренная на открытом огне\">Баранина, плечевая и лопаточная части, жаренная на открытом огне</a>\n",
      "</td>\n",
      "<td class=\"uk-text-right\">210 кКал</td>\n",
      "<td class=\"uk-text-right\">27,12 г</td>\n",
      "<td class=\"uk-text-right\">10,5 г</td>\n",
      "<td class=\"uk-text-right\">0 г</td>\n",
      "</tr>\n",
      "<tr>\n",
      "<td><a href=\"/base_of_food/sostav/18706.php\" title=\"Химический состав продукта: Баранина, плечевая и лопаточная части, запеченная\">Баранина, плечевая и лопаточная части, запеченная</a>\n",
      "</td>\n",
      "<td class=\"uk-text-right\">276 кКал</td>\n",
      "<td class=\"uk-text-right\">22,51 г</td>\n",
      "<td class=\"uk-text-right\">19,97 г</td>\n",
      "<td class=\"uk-text-right\">0 г</td>\n",
      "</tr>\n",
      "<tr>\n",
      "<td><a href=\"/base_of_food/sostav/18707.php\" title=\"Химический состав продукта: Баранина, плечевая и лопаточная части, только мясо\">Баранина, плечевая и лопаточная части, только мясо</a>\n",
      "</td>\n",
      "<td class=\"uk-text-right\">144 кКал</td>\n",
      "<td class=\"uk-text-right\">19,55 г</td>\n",
      "<td class=\"uk-text-right\">6,76 г</td>\n",
      "<td class=\"uk-text-right\">0 г</td>\n",
      "</tr>\n",
      "<tr>\n",
      "<td><a href=\"/base_of_food/sostav/18710.php\" title=\"Химический состав продукта: Баранина, плечевая и лопаточная части, только мясо, запеченная\">Баранина, плечевая и лопаточная части, только мясо, запеченная</a>\n",
      "</td>\n",
      "<td class=\"uk-text-right\">204 кКал</td>\n",
      "<td class=\"uk-text-right\">24,94 г</td>\n",
      "<td class=\"uk-text-right\">10,77 г</td>\n",
      "<td class=\"uk-text-right\">0 г</td>\n",
      "</tr>\n",
      "<tr>\n",
      "<td><a href=\"/base_of_food/sostav/18708.php\" title=\"Химический состав продукта: Баранина, плечевая и лопаточная части, только мясо, тушеная\">Баранина, плечевая и лопаточная части, только мясо, тушеная</a>\n",
      "</td>\n",
      "<td class=\"uk-text-right\">283 кКал</td>\n",
      "<td class=\"uk-text-right\">32,81 г</td>\n",
      "<td class=\"uk-text-right\">15,89 г</td>\n",
      "<td class=\"uk-text-right\">0 г</td>\n",
      "</tr>\n",
      "<tr>\n",
      "<td><a href=\"/base_of_food/sostav/18704.php\" title=\"Химический состав продукта: Баранина, плечевая и лопаточная части, тушеная\">Баранина, плечевая и лопаточная части, тушеная</a>\n",
      "</td>\n",
      "<td class=\"uk-text-right\">344 кКал</td>\n",
      "<td class=\"uk-text-right\">28,68 г</td>\n",
      "<td class=\"uk-text-right\">24,55 г</td>\n",
      "<td class=\"uk-text-right\">0 г</td>\n",
      "</tr>\n",
      "<tr>\n",
      "<td><a href=\"/base_of_food/sostav/18697.php\" title=\"Химический состав продукта: Баранина, ребра\">Баранина, ребра</a>\n",
      "</td>\n",
      "<td class=\"uk-text-right\">372 кКал</td>\n",
      "<td class=\"uk-text-right\">14,52 г</td>\n",
      "<td class=\"uk-text-right\">34,39 г</td>\n",
      "<td class=\"uk-text-right\">0 г</td>\n",
      "</tr>\n",
      "<tr>\n",
      "<td><a href=\"/base_of_food/sostav/18698.php\" title=\"Химический состав продукта: Баранина, ребра, жаренные на открытом огне\">Баранина, ребра, жаренные на открытом огне</a>\n",
      "</td>\n",
      "<td class=\"uk-text-right\">361 кКал</td>\n",
      "<td class=\"uk-text-right\">22,13 г</td>\n",
      "<td class=\"uk-text-right\">29,59 г</td>\n",
      "<td class=\"uk-text-right\">0 г</td>\n",
      "</tr>\n",
      "<tr>\n",
      "<td><a href=\"/base_of_food/sostav/18699.php\" title=\"Химический состав продукта: Баранина, ребра, запеченные\">Баранина, ребра, запеченные</a>\n",
      "</td>\n",
      "<td class=\"uk-text-right\">359 кКал</td>\n",
      "<td class=\"uk-text-right\">21,12 г</td>\n",
      "<td class=\"uk-text-right\">29,82 г</td>\n",
      "<td class=\"uk-text-right\">0 г</td>\n",
      "</tr>\n",
      "<tr>\n",
      "<td><a href=\"/base_of_food/sostav/18700.php\" title=\"Химический состав продукта: Баранина, ребра, только мясо\">Баранина, ребра, только мясо</a>\n",
      "</td>\n",
      "<td class=\"uk-text-right\">169 кКал</td>\n",
      "<td class=\"uk-text-right\">19,98 г</td>\n",
      "<td class=\"uk-text-right\">9,23 г</td>\n",
      "<td class=\"uk-text-right\">0 г</td>\n",
      "</tr>\n",
      "<tr>\n",
      "<td><a href=\"/base_of_food/sostav/18701.php\" title=\"Химический состав продукта: Баранина, ребра, только мясо, жаренные на открытом огне\">Баранина, ребра, только мясо, жаренные на открытом огне</a>\n",
      "</td>\n",
      "<td class=\"uk-text-right\">235 кКал</td>\n",
      "<td class=\"uk-text-right\">27,74 г</td>\n",
      "<td class=\"uk-text-right\">12,95 г</td>\n",
      "<td class=\"uk-text-right\">0 г</td>\n",
      "</tr>\n",
      "<tr>\n",
      "<td><a href=\"/base_of_food/sostav/18702.php\" title=\"Химический состав продукта: Баранина, ребра, только мясо, запеченные\">Баранина, ребра, только мясо, запеченные</a>\n",
      "</td>\n",
      "<td class=\"uk-text-right\">232 кКал</td>\n",
      "<td class=\"uk-text-right\">26,16 г</td>\n",
      "<td class=\"uk-text-right\">13,31 г</td>\n",
      "<td class=\"uk-text-right\">0 г</td>\n",
      "</tr>\n",
      "<tr>\n",
      "<td><a href=\"/base_of_food/sostav/18894.php\" title=\"Химический состав продукта: Баранина, рулька\">Баранина, рулька</a>\n",
      "</td>\n",
      "<td class=\"uk-text-right\">201 кКал</td>\n",
      "<td class=\"uk-text-right\">18,91 г</td>\n",
      "<td class=\"uk-text-right\">13,38 г</td>\n",
      "<td class=\"uk-text-right\">0 г</td>\n",
      "</tr>\n",
      "<tr>\n",
      "<td><a href=\"/base_of_food/sostav/18895.php\" title=\"Химический состав продукта: Баранина, рулька тушеная\">Баранина, рулька тушеная</a>\n",
      "</td>\n",
      "<td class=\"uk-text-right\">243 кКал</td>\n",
      "<td class=\"uk-text-right\">28,37 г</td>\n",
      "<td class=\"uk-text-right\">13,46 г</td>\n",
      "<td class=\"uk-text-right\">0 г</td>\n",
      "</tr>\n",
      "<tr>\n",
      "<td><a href=\"/base_of_food/sostav/18677.php\" title=\"Химический состав продукта: Баранина, рулька, только мясо\">Баранина, рулька, только мясо</a>\n",
      "</td>\n",
      "<td class=\"uk-text-right\">120 кКал</td>\n",
      "<td class=\"uk-text-right\">21,08 г</td>\n",
      "<td class=\"uk-text-right\">3,29 г</td>\n",
      "<td class=\"uk-text-right\">0 г</td>\n",
      "</tr>\n",
      "<tr>\n",
      "<td><a href=\"/base_of_food/sostav/18678.php\" title=\"Химический состав продукта: Баранина, рулька, только мясо, тушеная\">Баранина, рулька, только мясо, тушеная</a>\n",
      "</td>\n",
      "<td class=\"uk-text-right\">187 кКал</td>\n",
      "<td class=\"uk-text-right\">31,01 г</td>\n",
      "<td class=\"uk-text-right\">6,02 г</td>\n",
      "<td class=\"uk-text-right\">0 г</td>\n",
      "</tr>\n",
      "<tr>\n",
      "<td><a href=\"/base_of_food/sostav/825.php\" title=\"Химический состав продукта: Баранина, спинная часть\">Баранина, спинная часть</a>\n",
      "</td>\n",
      "<td class=\"uk-text-right\">254 кКал</td>\n",
      "<td class=\"uk-text-right\">16,5 г</td>\n",
      "<td class=\"uk-text-right\">20,9 г</td>\n",
      "<td class=\"uk-text-right\">0 г</td>\n",
      "</tr>\n",
      "<tr>\n",
      "<td><a href=\"/base_of_food/sostav/18727.php\" title=\"Химический состав продукта: Баранина, тазобедренная и лопаточная части, только мясо, нарезанное кубиками\">Баранина, тазобедренная и лопаточная части, только мясо, нарезанное кубиками</a>\n",
      "</td>\n",
      "<td class=\"uk-text-right\">134 кКал</td>\n",
      "<td class=\"uk-text-right\">20,21 г</td>\n",
      "<td class=\"uk-text-right\">5,28 г</td>\n",
      "<td class=\"uk-text-right\">0 г</td>\n",
      "</tr>\n",
      "<tr>\n",
      "<td><a href=\"/base_of_food/sostav/18729.php\" title=\"Химический состав продукта: Баранина, тазобедренная и лопаточная части, только мясо, нарезанное кубиками, жаренная на открытом огне\">Баранина, тазобедренная и лопаточная части, только мясо, нарезанное кубиками, жаренная на открытом огне</a>\n",
      "</td>\n",
      "<td class=\"uk-text-right\">186 кКал</td>\n",
      "<td class=\"uk-text-right\">28,08 г</td>\n",
      "<td class=\"uk-text-right\">7,33 г</td>\n",
      "<td class=\"uk-text-right\">0 г</td>\n",
      "</tr>\n",
      "<tr>\n",
      "<td><a href=\"/base_of_food/sostav/18728.php\" title=\"Химический состав продукта: Баранина, тазобедренная и лопаточная части, только мясо, нарезанное кубиками, тушеная\">Баранина, тазобедренная и лопаточная части, только мясо, нарезанное кубиками, тушеная</a>\n",
      "</td>\n",
      "<td class=\"uk-text-right\">223 кКал</td>\n",
      "<td class=\"uk-text-right\">33,69 г</td>\n",
      "<td class=\"uk-text-right\">8,8 г</td>\n",
      "<td class=\"uk-text-right\">0 г</td>\n",
      "</tr>\n",
      "<tr>\n",
      "<td><a href=\"/base_of_food/sostav/691.php\" title=\"Химический состав продукта: Баранина, тазобедренная часть\">Баранина, тазобедренная часть</a>\n",
      "</td>\n",
      "<td class=\"uk-text-right\">198 кКал</td>\n",
      "<td class=\"uk-text-right\">17 г</td>\n",
      "<td class=\"uk-text-right\">14,4 г</td>\n",
      "<td class=\"uk-text-right\">0 г</td>\n",
      "</tr>\n",
      "<tr>\n",
      "<td><a href=\"/base_of_food/sostav/18745.php\" title=\"Химический состав продукта: Баранина, филейная часть, Новая зеландия, замороженная, мясо и жир, жаренная на открытом огне\">Баранина, филейная часть, Новая зеландия, замороженная, мясо и жир, жаренная на открытом огне</a>\n",
      "</td>\n",
      "<td class=\"uk-text-right\">315 кКал</td>\n",
      "<td class=\"uk-text-right\">23,43 г</td>\n",
      "<td class=\"uk-text-right\">23,88 г</td>\n",
      "<td class=\"uk-text-right\">0 г</td>\n",
      "</tr>\n",
      "<tr>\n",
      "<td><a href=\"/base_of_food/sostav/18927.php\" title=\"Химический состав продукта: Баранина, филейная часть, Новая зеландия, замороженная, мясо и жир, обрезь до 1/8'' жира, жаренная на открытом огне\">Баранина, филейная часть, Новая зеландия, замороженная, мясо и жир, обрезь до 1/8'' жира, жаренная на открытом огне</a>\n",
      "</td>\n",
      "<td class=\"uk-text-right\">296 кКал</td>\n",
      "<td class=\"uk-text-right\">24,41 г</td>\n",
      "<td class=\"uk-text-right\">21,28 г</td>\n",
      "<td class=\"uk-text-right\">0 г</td>\n",
      "</tr>\n",
      "<tr>\n",
      "<td><a href=\"/base_of_food/sostav/18926.php\" title=\"Химический состав продукта: Баранина, филейная часть, Новая зеландия, замороженная, мясо и жир, обрезь до 1/8'' жира, сырая\">Баранина, филейная часть, Новая зеландия, замороженная, мясо и жир, обрезь до 1/8'' жира, сырая</a>\n",
      "</td>\n",
      "<td class=\"uk-text-right\">273 кКал</td>\n",
      "<td class=\"uk-text-right\">17,18 г</td>\n",
      "<td class=\"uk-text-right\">22,1 г</td>\n",
      "<td class=\"uk-text-right\">0 г</td>\n",
      "</tr>\n",
      "<tr>\n",
      "<td><a href=\"/base_of_food/sostav/18744.php\" title=\"Химический состав продукта: Баранина, филейная часть, Новая зеландия, замороженная, мясо и жир, сырая\">Баранина, филейная часть, Новая зеландия, замороженная, мясо и жир, сырая</a>\n",
      "</td>\n",
      "<td class=\"uk-text-right\">298 кКал</td>\n",
      "<td class=\"uk-text-right\">15,4 г</td>\n",
      "<td class=\"uk-text-right\">26,19 г</td>\n",
      "<td class=\"uk-text-right\">0,22 г</td>\n",
      "</tr>\n",
      "<tr>\n",
      "<td><a href=\"/base_of_food/sostav/18747.php\" title=\"Химический состав продукта: Баранина, филейная часть, Новая зеландия, замороженная, только мясо, жаренная на открытом огне\">Баранина, филейная часть, Новая зеландия, замороженная, только мясо, жаренная на открытом огне</a>\n",
      "</td>\n",
      "<td class=\"uk-text-right\">199 кКал</td>\n",
      "<td class=\"uk-text-right\">29,31 г</td>\n",
      "<td class=\"uk-text-right\">8,24 г</td>\n",
      "<td class=\"uk-text-right\">0 г</td>\n",
      "</tr>\n",
      "<tr>\n",
      "<td><a href=\"/base_of_food/sostav/18746.php\" title=\"Химический состав продукта: Баранина, филейная часть, Новая зеландия, замороженная, только мясо, сырая\">Баранина, филейная часть, Новая зеландия, замороженная, только мясо, сырая</a>\n",
      "</td>\n",
      "<td class=\"uk-text-right\">142 кКал</td>\n",
      "<td class=\"uk-text-right\">19,98 г</td>\n",
      "<td class=\"uk-text-right\">6,88 г</td>\n",
      "<td class=\"uk-text-right\">0 г</td>\n",
      "</tr>\n",
      "<tr>\n",
      "<td><a href=\"/base_of_food/sostav/827.php\" title=\"Химический состав продукта: Баранина, шейная часть\">Баранина, шейная часть</a>\n",
      "</td>\n",
      "<td class=\"uk-text-right\">208 кКал</td>\n",
      "<td class=\"uk-text-right\">15,4 г</td>\n",
      "<td class=\"uk-text-right\">16,3 г</td>\n",
      "<td class=\"uk-text-right\">0 г</td>\n",
      "</tr>\n",
      "<tr>\n",
      "<td><a href=\"/base_of_food/sostav/18849.php\" title=\"Химический состав продукта: Белка\">Белка</a>\n",
      "</td>\n",
      "<td class=\"uk-text-right\">120 кКал</td>\n",
      "<td class=\"uk-text-right\">21,23 г</td>\n",
      "<td class=\"uk-text-right\">3,21 г</td>\n",
      "<td class=\"uk-text-right\">0 г</td>\n",
      "</tr>\n",
      "<tr>\n",
      "<td><a href=\"/base_of_food/sostav/18850.php\" title=\"Химический состав продукта: Белка, запеченная\">Белка, запеченная</a>\n",
      "</td>\n",
      "<td class=\"uk-text-right\">173 кКал</td>\n",
      "<td class=\"uk-text-right\">30,77 г</td>\n",
      "<td class=\"uk-text-right\">4,69 г</td>\n",
      "<td class=\"uk-text-right\">0 г</td>\n",
      "</tr>\n",
      "<tr>\n",
      "<td><a href=\"/base_of_food/sostav/18999.php\" title=\"Химический состав продукта: Бизон, мякоть плечевой части, только мясо\">Бизон, мякоть плечевой части, только мясо</a>\n",
      "</td>\n",
      "<td class=\"uk-text-right\">119 кКал</td>\n",
      "<td class=\"uk-text-right\">21,12 г</td>\n",
      "<td class=\"uk-text-right\">3,15 г</td>\n",
      "<td class=\"uk-text-right\">0 г</td>\n",
      "</tr>\n",
      "<tr>\n",
      "<td><a href=\"/base_of_food/sostav/18934.php\" title=\"Химический состав продукта: Бизон, мякоть плечевой части, только мясо\">Бизон, мякоть плечевой части, только мясо</a>\n",
      "</td>\n",
      "<td class=\"uk-text-right\">109 кКал</td>\n",
      "<td class=\"uk-text-right\">21,1 г</td>\n",
      "<td class=\"uk-text-right\">2,1 г</td>\n",
      "<td class=\"uk-text-right\">0 г</td>\n",
      "</tr>\n",
      "<tr>\n",
      "<td><a href=\"/base_of_food/sostav/18998.php\" title=\"Химический состав продукта: Бизон, мякоть плечевой части, только мясо, тушеная\">Бизон, мякоть плечевой части, только мясо, тушеная</a>\n",
      "</td>\n",
      "<td class=\"uk-text-right\">193 кКал</td>\n",
      "<td class=\"uk-text-right\">33,78 г</td>\n",
      "<td class=\"uk-text-right\">5,43 г</td>\n",
      "<td class=\"uk-text-right\">0 г</td>\n",
      "</tr>\n",
      "<tr>\n",
      "<td><a href=\"/base_of_food/sostav/19002.php\" title=\"Химический состав продукта: Бизон, стейк из верхней части бедра, только мясо\">Бизон, стейк из верхней части бедра, только мясо</a>\n",
      "</td>\n",
      "<td class=\"uk-text-right\">122 кКал</td>\n",
      "<td class=\"uk-text-right\">23,32 г</td>\n",
      "<td class=\"uk-text-right\">2,43 г</td>\n",
      "<td class=\"uk-text-right\">0 г</td>\n",
      "</tr>\n",
      "<tr>\n",
      "<td><a href=\"/base_of_food/sostav/19001.php\" title=\"Химический состав продукта: Бизон, стейк из верхней части бедра, только мясо, жаренный на открытом огне\">Бизон, стейк из верхней части бедра, только мясо, жаренный на открытом огне</a>\n",
      "</td>\n",
      "<td class=\"uk-text-right\">174 кКал</td>\n",
      "<td class=\"uk-text-right\">30,18 г</td>\n",
      "<td class=\"uk-text-right\">4,96 г</td>\n",
      "<td class=\"uk-text-right\">0 г</td>\n",
      "</tr>\n",
      "<tr>\n",
      "<td><a href=\"/base_of_food/sostav/18997.php\" title=\"Химический состав продукта: Бизон, стейк из верхней части оковалка, только мясо, жаренный на открытом огне\">Бизон, стейк из верхней части оковалка, только мясо, жаренный на открытом огне</a>\n",
      "</td>\n",
      "<td class=\"uk-text-right\">171 кКал</td>\n",
      "<td class=\"uk-text-right\">28,05 г</td>\n",
      "<td class=\"uk-text-right\">5,65 г</td>\n",
      "<td class=\"uk-text-right\">0 г</td>\n",
      "</tr>\n",
      "<tr>\n",
      "<td><a href=\"/base_of_food/sostav/18933.php\" title=\"Химический состав продукта: Бизон, стейк из рибая (реберная сердцевина, глазок), только мясо\">Бизон, стейк из рибая (реберная сердцевина, глазок), только мясо</a>\n",
      "</td>\n",
      "<td class=\"uk-text-right\">116 кКал</td>\n",
      "<td class=\"uk-text-right\">22,1 г</td>\n",
      "<td class=\"uk-text-right\">2,4 г</td>\n",
      "<td class=\"uk-text-right\">0 г</td>\n",
      "</tr>\n",
      "<tr>\n",
      "<td><a href=\"/base_of_food/sostav/19000.php\" title=\"Химический состав продукта: Бизон, стейк из рибая (реберная сердцевина, глазок), только мясо, жареный на открытом огне\">Бизон, стейк из рибая (реберная сердцевина, глазок), только мясо, жареный на открытом огне</a>\n",
      "</td>\n",
      "<td class=\"uk-text-right\">177 кКал</td>\n",
      "<td class=\"uk-text-right\">29,45 г</td>\n",
      "<td class=\"uk-text-right\">5,67 г</td>\n",
      "<td class=\"uk-text-right\">0 г</td>\n",
      "</tr>\n",
      "<tr>\n",
      "<td><a href=\"/base_of_food/sostav/18822.php\" title=\"Химический состав продукта: Бизон, только мясо\">Бизон, только мясо</a>\n",
      "</td>\n",
      "<td class=\"uk-text-right\">109 кКал</td>\n",
      "<td class=\"uk-text-right\">21,62 г</td>\n",
      "<td class=\"uk-text-right\">1,84 г</td>\n",
      "<td class=\"uk-text-right\">0 г</td>\n",
      "</tr>\n",
      "<tr>\n",
      "<td><a href=\"/base_of_food/sostav/18823.php\" title=\"Химический состав продукта: Бизон, только мясо, запеченное\">Бизон, только мясо, запеченное</a>\n",
      "</td>\n",
      "<td class=\"uk-text-right\">143 кКал</td>\n",
      "<td class=\"uk-text-right\">28,44 г</td>\n",
      "<td class=\"uk-text-right\">2,42 г</td>\n",
      "<td class=\"uk-text-right\">0 г</td>\n",
      "</tr>\n",
      "<tr>\n",
      "<td><a href=\"/base_of_food/sostav/18818.php\" title=\"Химический состав продукта: Бобер\">Бобер</a>\n",
      "</td>\n",
      "<td class=\"uk-text-right\">146 кКал</td>\n",
      "<td class=\"uk-text-right\">24,05 г</td>\n",
      "<td class=\"uk-text-right\">4,8 г</td>\n",
      "<td class=\"uk-text-right\">0 г</td>\n",
      "</tr>\n",
      "<tr>\n",
      "<td><a href=\"/base_of_food/sostav/18819.php\" title=\"Химический состав продукта: Бобер, запеченный\">Бобер, запеченный</a>\n",
      "</td>\n",
      "<td class=\"uk-text-right\">212 кКал</td>\n",
      "<td class=\"uk-text-right\">34,85 г</td>\n",
      "<td class=\"uk-text-right\">6,96 г</td>\n",
      "<td class=\"uk-text-right\">0 г</td>\n",
      "</tr>\n",
      "<tr>\n",
      "<td><a href=\"/base_of_food/sostav/20929.php\" title=\"Химический состав продукта: Буйвол, стейк из верхней части бедра (Шошони-Баннок)\">Буйвол, стейк из верхней части бедра (Шошони-Баннок)</a>\n",
      "</td>\n",
      "<td class=\"uk-text-right\">97 кКал</td>\n",
      "<td class=\"uk-text-right\">21,44 г</td>\n",
      "<td class=\"uk-text-right\">1,3 г</td>\n",
      "<td class=\"uk-text-right\">0 г</td>\n",
      "</tr>\n",
      "<tr>\n",
      "<td><a href=\"/base_of_food/sostav/20931.php\" title=\"Химический состав продукта: Буйвол, стейк из верхней части бедра приготовленный (Шошони-Баннок)\">Буйвол, стейк из верхней части бедра приготовленный (Шошони-Баннок)</a>\n",
      "</td>\n",
      "<td class=\"uk-text-right\">146 кКал</td>\n",
      "<td class=\"uk-text-right\">32,51 г</td>\n",
      "<td class=\"uk-text-right\">1,8 г</td>\n",
      "<td class=\"uk-text-right\">0 г</td>\n",
      "</tr>\n",
      "<tr>\n",
      "<td><a href=\"/base_of_food/sostav/810.php\" title=\"Химический состав продукта: Буйволятина, 1 категории\">Буйволятина, 1 категории</a>\n",
      "</td>\n",
      "<td class=\"uk-text-right\">195 кКал</td>\n",
      "<td class=\"uk-text-right\">19 г</td>\n",
      "<td class=\"uk-text-right\">13,2 г</td>\n",
      "<td class=\"uk-text-right\">0 г</td>\n",
      "</tr>\n",
      "<tr>\n",
      "<td><a href=\"/base_of_food/sostav/811.php\" title=\"Химический состав продукта: Буйволятина, 2 категории\">Буйволятина, 2 категории</a>\n",
      "</td>\n",
      "<td class=\"uk-text-right\">135 кКал</td>\n",
      "<td class=\"uk-text-right\">20,8 г</td>\n",
      "<td class=\"uk-text-right\">5,8 г</td>\n",
      "<td class=\"uk-text-right\">0 г</td>\n",
      "</tr>\n",
      "<tr>\n",
      "<td><a href=\"/base_of_food/sostav/18820.php\" title=\"Химический состав продукта: Буффало, гибрид бизона и коровы, мясной набор\">Буффало, гибрид бизона и коровы, мясной набор</a>\n",
      "</td>\n",
      "<td class=\"uk-text-right\">143 кКал</td>\n",
      "<td class=\"uk-text-right\">23,3 г</td>\n",
      "<td class=\"uk-text-right\">4,8 г</td>\n",
      "<td class=\"uk-text-right\">0 г</td>\n",
      "</tr>\n",
      "<tr>\n",
      "<td><a href=\"/base_of_food/sostav/18821.php\" title=\"Химический состав продукта: Буффало, гибрид бизона и коровы, мясной набор, запеченный\">Буффало, гибрид бизона и коровы, мясной набор, запеченный</a>\n",
      "</td>\n",
      "<td class=\"uk-text-right\">188 кКал</td>\n",
      "<td class=\"uk-text-right\">30,66 г</td>\n",
      "<td class=\"uk-text-right\">6,32 г</td>\n",
      "<td class=\"uk-text-right\">0 г</td>\n",
      "</tr>\n",
      "<tr>\n",
      "<td><a href=\"/base_of_food/sostav/54.php\" title=\"Химический состав продукта: Верблюжатина 1 категории\">Верблюжатина 1 категории</a>\n",
      "</td>\n",
      "<td class=\"uk-text-right\">160 кКал</td>\n",
      "<td class=\"uk-text-right\">18,9 г</td>\n",
      "<td class=\"uk-text-right\">9,4 г</td>\n",
      "<td class=\"uk-text-right\">0 г</td>\n",
      "</tr>\n",
      "<tr>\n",
      "<td><a href=\"/base_of_food/sostav/18826.php\" title=\"Химический состав продукта: Водяной буйвол\">Водяной буйвол</a>\n",
      "</td>\n",
      "<td class=\"uk-text-right\">99 кКал</td>\n",
      "<td class=\"uk-text-right\">20,39 г</td>\n",
      "<td class=\"uk-text-right\">1,37 г</td>\n",
      "<td class=\"uk-text-right\">0 г</td>\n",
      "</tr>\n",
      "<tr>\n",
      "<td><a href=\"/base_of_food/sostav/18827.php\" title=\"Химический состав продукта: Водяной буйвол, запеченный\">Водяной буйвол, запеченный</a>\n",
      "</td>\n",
      "<td class=\"uk-text-right\">131 кКал</td>\n",
      "<td class=\"uk-text-right\">26,83 г</td>\n",
      "<td class=\"uk-text-right\">1,8 г</td>\n",
      "<td class=\"uk-text-right\">0 г</td>\n",
      "</tr>\n",
      "<tr>\n",
      "<td><a href=\"/base_of_food/sostav/20829.php\" title=\"Химический состав продукта: Глаза оленя карибу (Аляска)\">Глаза оленя карибу (Аляска)</a>\n",
      "</td>\n",
      "<td class=\"uk-text-right\">326 кКал</td>\n",
      "<td class=\"uk-text-right\">10,8 г</td>\n",
      "<td class=\"uk-text-right\">31,4 г</td>\n",
      "<td class=\"uk-text-right\">0 г</td>\n",
      "</tr>\n",
      "<tr>\n",
      "<td><a href=\"/base_of_food/sostav/18899.php\" title=\"Химический состав продукта: Голяшка, баранина, мясо и жир, обрезь до 1/8'' жира, жаренная\">Голяшка, баранина, мясо и жир, обрезь до 1/8'' жира, жаренная</a>\n",
      "</td>\n",
      "<td class=\"uk-text-right\">217 кКал</td>\n",
      "<td class=\"uk-text-right\">26,73 г</td>\n",
      "<td class=\"uk-text-right\">11,4 г</td>\n",
      "<td class=\"uk-text-right\">0 г</td>\n",
      "</tr>\n",
      "<tr>\n",
      "<td><a href=\"/base_of_food/sostav/18898.php\" title=\"Химический состав продукта: Голяшка, баранина, мясо и жир, обрезь до 1/8'' жира, сырая\">Голяшка, баранина, мясо и жир, обрезь до 1/8'' жира, сырая</a>\n",
      "</td>\n",
      "<td class=\"uk-text-right\">185 кКал</td>\n",
      "<td class=\"uk-text-right\">18,99 г</td>\n",
      "<td class=\"uk-text-right\">11,5 г</td>\n",
      "<td class=\"uk-text-right\">0 г</td>\n",
      "</tr>\n",
      "<tr>\n",
      "<td><a href=\"/base_of_food/sostav/893.php\" title=\"Химический состав продукта: Гуляш бараний, консервы\">Гуляш бараний, консервы</a>\n",
      "</td>\n",
      "<td class=\"uk-text-right\">213 кКал</td>\n",
      "<td class=\"uk-text-right\">14,2 г</td>\n",
      "<td class=\"uk-text-right\">15,6 г</td>\n",
      "<td class=\"uk-text-right\">3,9 г</td>\n",
      "</tr>\n",
      "<tr>\n",
      "<td><a href=\"/base_of_food/sostav/18848.php\" title=\"Химический состав продукта: Енот, запеченный\">Енот, запеченный</a>\n",
      "</td>\n",
      "<td class=\"uk-text-right\">255 кКал</td>\n",
      "<td class=\"uk-text-right\">29,2 г</td>\n",
      "<td class=\"uk-text-right\">14,5 г</td>\n",
      "<td class=\"uk-text-right\">0 г</td>\n",
      "</tr>\n",
      "<tr>\n",
      "<td><a href=\"/base_of_food/sostav/18950.php\" title=\"Химический состав продукта: Жир бараний приготовленный, Австралия\">Жир бараний приготовленный, Австралия</a>\n",
      "</td>\n",
      "<td class=\"uk-text-right\">639 кКал</td>\n",
      "<td class=\"uk-text-right\">9,42 г</td>\n",
      "<td class=\"uk-text-right\">66,4 г</td>\n",
      "<td class=\"uk-text-right\">0 г</td>\n",
      "</tr>\n",
      "<tr>\n",
      "<td><a href=\"/base_of_food/sostav/18949.php\" title=\"Химический состав продукта: Жир бараний сырой, Австралия\">Жир бараний сырой, Австралия</a>\n",
      "</td>\n",
      "<td class=\"uk-text-right\">648 кКал</td>\n",
      "<td class=\"uk-text-right\">6,27 г</td>\n",
      "<td class=\"uk-text-right\">68,87 г</td>\n",
      "<td class=\"uk-text-right\">0 г</td>\n",
      "</tr>\n",
      "<tr>\n",
      "<td><a href=\"/base_of_food/sostav/896.php\" title=\"Химический состав продукта: Завтрак туриста (баранина), консервы\">Завтрак туриста (баранина), консервы</a>\n",
      "</td>\n",
      "<td class=\"uk-text-right\">210 кКал</td>\n",
      "<td class=\"uk-text-right\">18 г</td>\n",
      "<td class=\"uk-text-right\">15,2 г</td>\n",
      "<td class=\"uk-text-right\">0,2 г</td>\n",
      "</tr>\n",
      "<tr>\n",
      "<td><a href=\"/base_of_food/sostav/18824.php\" title=\"Химический состав продукта: Кабан\">Кабан</a>\n",
      "</td>\n",
      "<td class=\"uk-text-right\">122 кКал</td>\n",
      "<td class=\"uk-text-right\">21,51 г</td>\n",
      "<td class=\"uk-text-right\">3,33 г</td>\n",
      "<td class=\"uk-text-right\">0 г</td>\n",
      "</tr>\n",
      "<tr>\n",
      "<td><a href=\"/base_of_food/sostav/18825.php\" title=\"Химический состав продукта: Кабан, запеченный\">Кабан, запеченный</a>\n",
      "</td>\n",
      "<td class=\"uk-text-right\">160 кКал</td>\n",
      "<td class=\"uk-text-right\">28,3 г</td>\n",
      "<td class=\"uk-text-right\">4,38 г</td>\n",
      "<td class=\"uk-text-right\">0 г</td>\n",
      "</tr>\n",
      "<tr>\n",
      "<td><a href=\"/base_of_food/sostav/18828.php\" title=\"Химический состав продукта: Карибу (канадский олень)\">Карибу (канадский олень)</a>\n",
      "</td>\n",
      "<td class=\"uk-text-right\">127 кКал</td>\n",
      "<td class=\"uk-text-right\">22,63 г</td>\n",
      "<td class=\"uk-text-right\">3,36 г</td>\n",
      "<td class=\"uk-text-right\">0 г</td>\n",
      "</tr>\n",
      "<tr>\n",
      "<td><a href=\"/base_of_food/sostav/18829.php\" title=\"Химический состав продукта: Карибу (канадский олень), запеченный\">Карибу (канадский олень), запеченный</a>\n",
      "</td>\n",
      "<td class=\"uk-text-right\">167 кКал</td>\n",
      "<td class=\"uk-text-right\">29,77 г</td>\n",
      "<td class=\"uk-text-right\">4,42 г</td>\n",
      "<td class=\"uk-text-right\">0 г</td>\n",
      "</tr>\n",
      "<tr>\n",
      "<td><a href=\"/base_of_food/sostav/20828.php\" title=\"Химический состав продукта: Карибу, костный мозг (Аляска)\">Карибу, костный мозг (Аляска)</a>\n",
      "</td>\n",
      "<td class=\"uk-text-right\">786 кКал</td>\n",
      "<td class=\"uk-text-right\">6,7 г</td>\n",
      "<td class=\"uk-text-right\">84,4 г</td>\n",
      "<td class=\"uk-text-right\">0 г</td>\n",
      "</tr>\n",
      "<tr>\n",
      "<td><a href=\"/base_of_food/sostav/23370.php\" title=\"Химический состав продукта: Карибу, мясо задней четвертины, приготовленное (Аляска)\">Карибу, мясо задней четвертины, приготовленное (Аляска)</a>\n",
      "</td>\n",
      "<td class=\"uk-text-right\">159 кКал</td>\n",
      "<td class=\"uk-text-right\">28,81 г</td>\n",
      "<td class=\"uk-text-right\">4,82 г</td>\n",
      "<td class=\"uk-text-right\">0 г</td>\n",
      "</tr>\n",
      "<tr>\n",
      "<td><a href=\"/base_of_food/sostav/20916.php\" title=\"Химический состав продукта: Карибу, огузок (кострец), наполовину высушенный (Аляска)\">Карибу, огузок (кострец), наполовину высушенный (Аляска)</a>\n",
      "</td>\n",
      "<td class=\"uk-text-right\">255 кКал</td>\n",
      "<td class=\"uk-text-right\">52,06 г</td>\n",
      "<td class=\"uk-text-right\">5,23 г</td>\n",
      "<td class=\"uk-text-right\">0 г</td>\n",
      "</tr>\n",
      "<tr>\n",
      "<td><a href=\"/base_of_food/sostav/20918.php\" title=\"Химический состав продукта: Карибу, окорок (Аляска)\">Карибу, окорок (Аляска)</a>\n",
      "</td>\n",
      "<td class=\"uk-text-right\">122 кКал</td>\n",
      "<td class=\"uk-text-right\">22,63 г</td>\n",
      "<td class=\"uk-text-right\">3,37 г</td>\n",
      "<td class=\"uk-text-right\">0 г</td>\n",
      "</tr>\n",
      "<tr>\n",
      "<td><a href=\"/base_of_food/sostav/18834.php\" title=\"Химический состав продукта: Козлятина\">Козлятина</a>\n",
      "</td>\n",
      "<td class=\"uk-text-right\">109 кКал</td>\n",
      "<td class=\"uk-text-right\">20,6 г</td>\n",
      "<td class=\"uk-text-right\">2,31 г</td>\n",
      "<td class=\"uk-text-right\">0 г</td>\n",
      "</tr>\n",
      "<tr>\n",
      "<td><a href=\"/base_of_food/sostav/18835.php\" title=\"Химический состав продукта: Козлятина, запеченная\">Козлятина, запеченная</a>\n",
      "</td>\n",
      "<td class=\"uk-text-right\">143 кКал</td>\n",
      "<td class=\"uk-text-right\">27,1 г</td>\n",
      "<td class=\"uk-text-right\">3,03 г</td>\n",
      "<td class=\"uk-text-right\">0 г</td>\n",
      "</tr>\n",
      "<tr>\n",
      "<td><a href=\"/base_of_food/sostav/18836.php\" title=\"Химический состав продукта: Конина\">Конина</a>\n",
      "</td>\n",
      "<td class=\"uk-text-right\">133 кКал</td>\n",
      "<td class=\"uk-text-right\">21,39 г</td>\n",
      "<td class=\"uk-text-right\">4,6 г</td>\n",
      "<td class=\"uk-text-right\">0 г</td>\n",
      "</tr>\n",
      "<tr>\n",
      "<td><a href=\"/base_of_food/sostav/813.php\" title=\"Химический состав продукта: Конина 1 кат.\">Конина 1 кат.</a>\n",
      "</td>\n",
      "<td class=\"uk-text-right\">167 кКал</td>\n",
      "<td class=\"uk-text-right\">19,5 г</td>\n",
      "<td class=\"uk-text-right\">9,9 г</td>\n",
      "<td class=\"uk-text-right\">0 г</td>\n",
      "</tr>\n",
      "<tr>\n",
      "<td><a href=\"/base_of_food/sostav/814.php\" title=\"Химический состав продукта: Конина 2 кат.\">Конина 2 кат.</a>\n",
      "</td>\n",
      "<td class=\"uk-text-right\">121 кКал</td>\n",
      "<td class=\"uk-text-right\">20,9 г</td>\n",
      "<td class=\"uk-text-right\">4,1 г</td>\n",
      "<td class=\"uk-text-right\">0 г</td>\n",
      "</tr>\n",
      "<tr>\n",
      "<td><a href=\"/base_of_food/sostav/898.php\" title=\"Химический состав продукта: Конина тушеная, консервы\">Конина тушеная, консервы</a>\n",
      "</td>\n",
      "<td class=\"uk-text-right\">150 кКал</td>\n",
      "<td class=\"uk-text-right\">18,7 г</td>\n",
      "<td class=\"uk-text-right\">8,4 г</td>\n",
      "<td class=\"uk-text-right\">0 г</td>\n",
      "</tr>\n",
      "<tr>\n",
      "<td><a href=\"/base_of_food/sostav/18837.php\" title=\"Химический состав продукта: Конина, запеченная\">Конина, запеченная</a>\n",
      "</td>\n",
      "<td class=\"uk-text-right\">175 кКал</td>\n",
      "<td class=\"uk-text-right\">28,14 г</td>\n",
      "<td class=\"uk-text-right\">6,05 г</td>\n",
      "<td class=\"uk-text-right\">0 г</td>\n",
      "</tr>\n",
      "<tr>\n",
      "<td><a href=\"/base_of_food/sostav/23968.php\" title=\"Химический состав продукта: Котлеты отбивные из баранины, по 1-416\">Котлеты отбивные из баранины, по 1-416</a>\n",
      "</td>\n",
      "<td class=\"uk-text-right\">394 кКал</td>\n",
      "<td class=\"uk-text-right\">20,6 г</td>\n",
      "<td class=\"uk-text-right\">30,6 г</td>\n",
      "<td class=\"uk-text-right\">9,1 г</td>\n",
      "</tr>\n",
      "<tr>\n",
      "<td><a href=\"/base_of_food/sostav/23969.php\" title=\"Химический состав продукта: Котлеты рубленые из баранины, по 1-442\">Котлеты рубленые из баранины, по 1-442</a>\n",
      "</td>\n",
      "<td class=\"uk-text-right\">240 кКал</td>\n",
      "<td class=\"uk-text-right\">13,6 г</td>\n",
      "<td class=\"uk-text-right\">14,8 г</td>\n",
      "<td class=\"uk-text-right\">12,9 г</td>\n",
      "</tr>\n",
      "<tr>\n",
      "<td><a href=\"/base_of_food/sostav/23973.php\" title=\"Химический состав продукта: Кролик жареный, по 2-18\">Кролик жареный, по 2-18</a>\n",
      "</td>\n",
      "<td class=\"uk-text-right\">241 кКал</td>\n",
      "<td class=\"uk-text-right\">31,5 г</td>\n",
      "<td class=\"uk-text-right\">12,7 г</td>\n",
      "<td class=\"uk-text-right\">0,1 г</td>\n",
      "</tr>\n",
      "<tr>\n",
      "<td><a href=\"/base_of_food/sostav/23974.php\" title=\"Химический состав продукта: Кролик отварной, по 2-6\">Кролик отварной, по 2-6</a>\n",
      "</td>\n",
      "<td class=\"uk-text-right\">194 кКал</td>\n",
      "<td class=\"uk-text-right\">25,5 г</td>\n",
      "<td class=\"uk-text-right\">10,4 г</td>\n",
      "<td class=\"uk-text-right\">0 г</td>\n",
      "</tr>\n",
      "<tr>\n",
      "<td><a href=\"/base_of_food/sostav/18846.php\" title=\"Химический состав продукта: Кролик, дикий\">Кролик, дикий</a>\n",
      "</td>\n",
      "<td class=\"uk-text-right\">114 кКал</td>\n",
      "<td class=\"uk-text-right\">21,79 г</td>\n",
      "<td class=\"uk-text-right\">2,32 г</td>\n",
      "<td class=\"uk-text-right\">0 г</td>\n",
      "</tr>\n",
      "<tr>\n",
      "<td><a href=\"/base_of_food/sostav/18847.php\" title=\"Химический состав продукта: Кролик, дикий, тушеный\">Кролик, дикий, тушеный</a>\n",
      "</td>\n",
      "<td class=\"uk-text-right\">173 кКал</td>\n",
      "<td class=\"uk-text-right\">33,02 г</td>\n",
      "<td class=\"uk-text-right\">3,51 г</td>\n",
      "<td class=\"uk-text-right\">0 г</td>\n",
      "</tr>\n",
      "<tr>\n",
      "<td><a href=\"/base_of_food/sostav/851.php\" title=\"Химический состав продукта: Легкое баранье\">Легкое баранье</a>\n",
      "</td>\n",
      "<td class=\"uk-text-right\">83 кКал</td>\n",
      "<td class=\"uk-text-right\">15,6 г</td>\n",
      "<td class=\"uk-text-right\">2,3 г</td>\n",
      "<td class=\"uk-text-right\">0 г</td>\n",
      "</tr>\n",
      "<tr>\n",
      "<td><a href=\"/base_of_food/sostav/18871.php\" title=\"Химический состав продукта: Легкое баранье\">Легкое баранье</a>\n",
      "</td>\n",
      "<td class=\"uk-text-right\">95 кКал</td>\n",
      "<td class=\"uk-text-right\">16,7 г</td>\n",
      "<td class=\"uk-text-right\">2,6 г</td>\n",
      "<td class=\"uk-text-right\">0 г</td>\n",
      "</tr>\n",
      "<tr>\n",
      "<td><a href=\"/base_of_food/sostav/18872.php\" title=\"Химический состав продукта: Легкое баранье, тушеное\">Легкое баранье, тушеное</a>\n",
      "</td>\n",
      "<td class=\"uk-text-right\">113 кКал</td>\n",
      "<td class=\"uk-text-right\">19,88 г</td>\n",
      "<td class=\"uk-text-right\">3,1 г</td>\n",
      "<td class=\"uk-text-right\">0 г</td>\n",
      "</tr>\n",
      "<tr>\n",
      "<td><a href=\"/base_of_food/sostav/18832.php\" title=\"Химический состав продукта: Лось\">Лось</a>\n",
      "</td>\n",
      "<td class=\"uk-text-right\">111 кКал</td>\n",
      "<td class=\"uk-text-right\">22,95 г</td>\n",
      "<td class=\"uk-text-right\">1,45 г</td>\n",
      "<td class=\"uk-text-right\">0 г</td>\n",
      "</tr>\n",
      "<tr>\n",
      "<td><a href=\"/base_of_food/sostav/19007.php\" title=\"Химический состав продукта: Лось, вырезка, только мясо, жаренный на открытом огне\">Лось, вырезка, только мясо, жаренный на открытом огне</a>\n",
      "</td>\n",
      "<td class=\"uk-text-right\">162 кКал</td>\n",
      "<td class=\"uk-text-right\">30,76 г</td>\n",
      "<td class=\"uk-text-right\">3,41 г</td>\n",
      "<td class=\"uk-text-right\">0 г</td>\n",
      "</tr>\n",
      "<tr>\n",
      "<td><a href=\"/base_of_food/sostav/18833.php\" title=\"Химический состав продукта: Лось, запеченный\">Лось, запеченный</a>\n",
      "</td>\n",
      "<td class=\"uk-text-right\">146 кКал</td>\n",
      "<td class=\"uk-text-right\">30,19 г</td>\n",
      "<td class=\"uk-text-right\">1,9 г</td>\n",
      "<td class=\"uk-text-right\">0 г</td>\n",
      "</tr>\n",
      "<tr>\n",
      "<td><a href=\"/base_of_food/sostav/19005.php\" title=\"Химический состав продукта: Лось, корейка, только мясо, жаренный на открытом огне\">Лось, корейка, только мясо, жаренный на открытом огне</a>\n",
      "</td>\n",
      "<td class=\"uk-text-right\">167 кКал</td>\n",
      "<td class=\"uk-text-right\">31 г</td>\n",
      "<td class=\"uk-text-right\">3,84 г</td>\n",
      "<td class=\"uk-text-right\">0 г</td>\n",
      "</tr>\n",
      "<tr>\n",
      "<td><a href=\"/base_of_food/sostav/19006.php\" title=\"Химический состав продукта: Лось, тазобедренный отруб, только мясо, жаренный на открытом огне\">Лось, тазобедренный отруб, только мясо, жаренный на открытом огне</a>\n",
      "</td>\n",
      "<td class=\"uk-text-right\">156 кКал</td>\n",
      "<td class=\"uk-text-right\">30,94 г</td>\n",
      "<td class=\"uk-text-right\">2,64 г</td>\n",
      "<td class=\"uk-text-right\">0 г</td>\n",
      "</tr>\n",
      "<tr>\n",
      "<td><a href=\"/base_of_food/sostav/18814.php\" title=\"Химический состав продукта: Медведь\">Медведь</a>\n",
      "</td>\n",
      "<td class=\"uk-text-right\">161 кКал</td>\n",
      "<td class=\"uk-text-right\">20,1 г</td>\n",
      "<td class=\"uk-text-right\">8,3 г</td>\n",
      "<td class=\"uk-text-right\">0 г</td>\n",
      "</tr>\n",
      "<tr>\n",
      "<td><a href=\"/base_of_food/sostav/20818.php\" title=\"Химический состав продукта: Медведь полярный (белый) (Аляска)\">Медведь полярный (белый) (Аляска)</a>\n",
      "</td>\n",
      "<td class=\"uk-text-right\">130 кКал</td>\n",
      "<td class=\"uk-text-right\">25,6 г</td>\n",
      "<td class=\"uk-text-right\">3,1 г</td>\n",
      "<td class=\"uk-text-right\">0 г</td>\n",
      "</tr>\n",
      "<tr>\n",
      "<td><a href=\"/base_of_food/sostav/18815.php\" title=\"Химический состав продукта: Медведь, приготовленный на медленном огне\">Медведь, приготовленный на медленном огне</a>\n",
      "</td>\n",
      "<td class=\"uk-text-right\">259 кКал</td>\n",
      "<td class=\"uk-text-right\">32,42 г</td>\n",
      "<td class=\"uk-text-right\">13,39 г</td>\n",
      "<td class=\"uk-text-right\">0 г</td>\n",
      "</tr>\n",
      "<tr>\n",
      "<td><a href=\"/base_of_food/sostav/20817.php\" title=\"Химический состав продукта: Медведь, черный (Аляска)\">Медведь, черный (Аляска)</a>\n",
      "</td>\n",
      "<td class=\"uk-text-right\">155 кКал</td>\n",
      "<td class=\"uk-text-right\">20,1 г</td>\n",
      "<td class=\"uk-text-right\">8,3 г</td>\n",
      "<td class=\"uk-text-right\">0 г</td>\n",
      "</tr>\n",
      "<tr>\n",
      "<td><a href=\"/base_of_food/sostav/852.php\" title=\"Химический состав продукта: Мозги бараньи\">Мозги бараньи</a>\n",
      "</td>\n",
      "<td class=\"uk-text-right\">123 кКал</td>\n",
      "<td class=\"uk-text-right\">9,7 г</td>\n",
      "<td class=\"uk-text-right\">9,4 г</td>\n",
      "<td class=\"uk-text-right\">0 г</td>\n",
      "</tr>\n",
      "<tr>\n",
      "<td><a href=\"/base_of_food/sostav/18853.php\" title=\"Химический состав продукта: Мозги бараньи, жаренные на сковороде\">Мозги бараньи, жаренные на сковороде</a>\n",
      "</td>\n",
      "<td class=\"uk-text-right\">273 кКал</td>\n",
      "<td class=\"uk-text-right\">16,97 г</td>\n",
      "<td class=\"uk-text-right\">22,19 г</td>\n",
      "<td class=\"uk-text-right\">0 г</td>\n",
      "</tr>\n",
      "<tr>\n",
      "<td><a href=\"/base_of_food/sostav/18852.php\" title=\"Химический состав продукта: Мозги бараньи, тушеные\">Мозги бараньи, тушеные</a>\n",
      "</td>\n",
      "<td class=\"uk-text-right\">145 кКал</td>\n",
      "<td class=\"uk-text-right\">12,55 г</td>\n",
      "<td class=\"uk-text-right\">10,17 г</td>\n",
      "<td class=\"uk-text-right\">0 г</td>\n",
      "</tr>\n",
      "<tr>\n",
      "<td><a href=\"/base_of_food/sostav/18851.php\" title=\"Химический состав продукта: Мозги, бараньи\">Мозги, бараньи</a>\n",
      "</td>\n",
      "<td class=\"uk-text-right\">122 кКал</td>\n",
      "<td class=\"uk-text-right\">10,4 г</td>\n",
      "<td class=\"uk-text-right\">8,58 г</td>\n",
      "<td class=\"uk-text-right\">0 г</td>\n",
      "</tr>\n",
      "<tr>\n",
      "<td><a href=\"/base_of_food/sostav/18670.php\" title=\"Химический состав продукта: Мясной набор, баранина, мясо и жир, обрезь до 1/4'' жира, отборная, вареная\">Мясной набор, баранина, мясо и жир, обрезь до 1/4'' жира, отборная, вареная</a>\n",
      "</td>\n",
      "<td class=\"uk-text-right\">294 кКал</td>\n",
      "<td class=\"uk-text-right\">24,52 г</td>\n",
      "<td class=\"uk-text-right\">20,94 г</td>\n",
      "<td class=\"uk-text-right\">0 г</td>\n",
      "</tr>\n",
      "<tr>\n",
      "<td><a href=\"/base_of_food/sostav/18669.php\" title=\"Химический состав продукта: Мясной набор, баранина, мясо и жир, обрезь до 1/4'' жира, отборная, сырая\">Мясной набор, баранина, мясо и жир, обрезь до 1/4'' жира, отборная, сырая</a>\n",
      "</td>\n",
      "<td class=\"uk-text-right\">267 кКал</td>\n",
      "<td class=\"uk-text-right\">16,88 г</td>\n",
      "<td class=\"uk-text-right\">21,59 г</td>\n",
      "<td class=\"uk-text-right\">0 г</td>\n",
      "</tr>\n",
      "<tr>\n",
      "<td><a href=\"/base_of_food/sostav/18893.php\" title=\"Химический состав продукта: Мясной набор, баранина, мясо и жир, обрезь до 1/8'' жира, отборная, вареная\">Мясной набор, баранина, мясо и жир, обрезь до 1/8'' жира, отборная, вареная</a>\n",
      "</td>\n",
      "<td class=\"uk-text-right\">271 кКал</td>\n",
      "<td class=\"uk-text-right\">25,51 г</td>\n",
      "<td class=\"uk-text-right\">18,01 г</td>\n",
      "<td class=\"uk-text-right\">0 г</td>\n",
      "</tr>\n",
      "<tr>\n",
      "<td><a href=\"/base_of_food/sostav/18892.php\" title=\"Химический состав продукта: Мясной набор, баранина, мясо и жир, обрезь до 1/8'' жира, отборная, сырая\">Мясной набор, баранина, мясо и жир, обрезь до 1/8'' жира, отборная, сырая</a>\n",
      "</td>\n",
      "<td class=\"uk-text-right\">243 кКал</td>\n",
      "<td class=\"uk-text-right\">17,54 г</td>\n",
      "<td class=\"uk-text-right\">18,66 г</td>\n",
      "<td class=\"uk-text-right\">0 г</td>\n",
      "</tr>\n",
      "<tr>\n",
      "<td><a href=\"/base_of_food/sostav/18731.php\" title=\"Химический состав продукта: Мясной набор, баранина, Новая Зеландия, замороженная, мясо и жир, вареная\">Мясной набор, баранина, Новая Зеландия, замороженная, мясо и жир, вареная</a>\n",
      "</td>\n",
      "<td class=\"uk-text-right\">305 кКал</td>\n",
      "<td class=\"uk-text-right\">24,42 г</td>\n",
      "<td class=\"uk-text-right\">22,26 г</td>\n",
      "<td class=\"uk-text-right\">0 г</td>\n",
      "</tr>\n",
      "<tr>\n",
      "<td><a href=\"/base_of_food/sostav/18921.php\" title=\"Химический состав продукта: Мясной набор, баранина, Новая Зеландия, замороженная, мясо и жир, обрезь до 1/8'' жира, отборная, вареная\">Мясной набор, баранина, Новая Зеландия, замороженная, мясо и жир, обрезь до 1/8'' жира, отборная, вареная</a>\n",
      "</td>\n",
      "<td class=\"uk-text-right\">270 кКал</td>\n",
      "<td class=\"uk-text-right\">25,26 г</td>\n",
      "<td class=\"uk-text-right\">17,98 г</td>\n",
      "<td class=\"uk-text-right\">0 г</td>\n",
      "</tr>\n",
      "<tr>\n",
      "<td><a href=\"/base_of_food/sostav/18920.php\" title=\"Химический состав продукта: Мясной набор, баранина, Новая Зеландия, замороженная, мясо и жир, обрезь до 1/8'' жира, отборная, сырая\">Мясной набор, баранина, Новая Зеландия, замороженная, мясо и жир, обрезь до 1/8'' жира, отборная, сырая</a>\n",
      "</td>\n",
      "<td class=\"uk-text-right\">232 кКал</td>\n",
      "<td class=\"uk-text-right\">17,95 г</td>\n",
      "<td class=\"uk-text-right\">17,2 г</td>\n",
      "<td class=\"uk-text-right\">0 г</td>\n",
      "</tr>\n",
      "<tr>\n",
      "<td><a href=\"/base_of_food/sostav/18730.php\" title=\"Химический состав продукта: Мясной набор, баранина, Новая Зеландия, замороженная, мясо и жир, сырая\">Мясной набор, баранина, Новая Зеландия, замороженная, мясо и жир, сырая</a>\n",
      "</td>\n",
      "<td class=\"uk-text-right\">277 кКал</td>\n",
      "<td class=\"uk-text-right\">16,74 г</td>\n",
      "<td class=\"uk-text-right\">22,74 г</td>\n",
      "<td class=\"uk-text-right\">0 г</td>\n",
      "</tr>\n",
      "<tr>\n",
      "<td><a href=\"/base_of_food/sostav/18735.php\" title=\"Химический состав продукта: Мясной набор, баранина, Новая Зеландия, замороженная, только жир, вареная\">Мясной набор, баранина, Новая Зеландия, замороженная, только жир, вареная</a>\n",
      "</td>\n",
      "<td class=\"uk-text-right\">586 кКал</td>\n",
      "<td class=\"uk-text-right\">9,72 г</td>\n",
      "<td class=\"uk-text-right\">60,39 г</td>\n",
      "<td class=\"uk-text-right\">0 г</td>\n",
      "</tr>\n",
      "<tr>\n",
      "<td><a href=\"/base_of_food/sostav/18734.php\" title=\"Химический состав продукта: Мясной набор, баранина, Новая Зеландия, замороженная, только жир, сырая\">Мясной набор, баранина, Новая Зеландия, замороженная, только жир, сырая</a>\n",
      "</td>\n",
      "<td class=\"uk-text-right\">640 кКал</td>\n",
      "<td class=\"uk-text-right\">6,92 г</td>\n",
      "<td class=\"uk-text-right\">67,63 г</td>\n",
      "<td class=\"uk-text-right\">0 г</td>\n",
      "</tr>\n",
      "<tr>\n",
      "<td><a href=\"/base_of_food/sostav/18733.php\" title=\"Химический состав продукта: Мясной набор, баранина, Новая Зеландия, замороженная, только мясо, вареная\">Мясной набор, баранина, Новая Зеландия, замороженная, только мясо, вареная</a>\n",
      "</td>\n",
      "<td class=\"uk-text-right\">206 кКал</td>\n",
      "<td class=\"uk-text-right\">29,59 г</td>\n",
      "<td class=\"uk-text-right\">8,86 г</td>\n",
      "<td class=\"uk-text-right\">0 г</td>\n",
      "</tr>\n",
      "<tr>\n",
      "<td><a href=\"/base_of_food/sostav/18732.php\" title=\"Химический состав продукта: Мясной набор, баранина, Новая Зеландия, замороженная, только мясо, сырая\">Мясной набор, баранина, Новая Зеландия, замороженная, только мясо, сырая</a>\n",
      "</td>\n",
      "<td class=\"uk-text-right\">128 кКал</td>\n",
      "<td class=\"uk-text-right\">20,75 г</td>\n",
      "<td class=\"uk-text-right\">4,41 г</td>\n",
      "<td class=\"uk-text-right\">0 г</td>\n",
      "</tr>\n",
      "<tr>\n",
      "<td><a href=\"/base_of_food/sostav/18674.php\" title=\"Химический состав продукта: Мясной набор, баранина, только жир, обрезь до 1/4'' жира, отборная, вареная\">Мясной набор, баранина, только жир, обрезь до 1/4'' жира, отборная, вареная</a>\n",
      "</td>\n",
      "<td class=\"uk-text-right\">586 кКал</td>\n",
      "<td class=\"uk-text-right\">12,16 г</td>\n",
      "<td class=\"uk-text-right\">59,18 г</td>\n",
      "<td class=\"uk-text-right\">0 г</td>\n",
      "</tr>\n",
      "<tr>\n",
      "<td><a href=\"/base_of_food/sostav/18673.php\" title=\"Химический состав продукта: Мясной набор, баранина, только жир, обрезь до 1/4'' жира, отборная, сырая\">Мясной набор, баранина, только жир, обрезь до 1/4'' жира, отборная, сырая</a>\n",
      "</td>\n",
      "<td class=\"uk-text-right\">665 кКал</td>\n",
      "<td class=\"uk-text-right\">6,65 г</td>\n",
      "<td class=\"uk-text-right\">70,61 г</td>\n",
      "<td class=\"uk-text-right\">0 г</td>\n",
      "</tr>\n",
      "<tr>\n",
      "<td><a href=\"/base_of_food/sostav/18672.php\" title=\"Химический состав продукта: Мясной набор, баранина, только мясо, обрезь до 1/4'' жира, отборная, вареная\">Мясной набор, баранина, только мясо, обрезь до 1/4'' жира, отборная, вареная</a>\n",
      "</td>\n",
      "<td class=\"uk-text-right\">206 кКал</td>\n",
      "<td class=\"uk-text-right\">28,22 г</td>\n",
      "<td class=\"uk-text-right\">9,52 г</td>\n",
      "<td class=\"uk-text-right\">0 г</td>\n",
      "</tr>\n",
      "<tr>\n",
      "<td><a href=\"/base_of_food/sostav/18671.php\" title=\"Химический состав продукта: Мясной набор, баранина, только мясо, обрезь до 1/4'' жира, отборная, сырая\">Мясной набор, баранина, только мясо, обрезь до 1/4'' жира, отборная, сырая</a>\n",
      "</td>\n",
      "<td class=\"uk-text-right\">134 кКал</td>\n",
      "<td class=\"uk-text-right\">20,29 г</td>\n",
      "<td class=\"uk-text-right\">5,25 г</td>\n",
      "<td class=\"uk-text-right\">0 г</td>\n",
      "</tr>\n",
      "<tr>\n",
      "<td><a href=\"/base_of_food/sostav/815.php\" title=\"Химический состав продукта: Мясо косули\">Мясо косули</a>\n",
      "</td>\n",
      "<td class=\"uk-text-right\">138 кКал</td>\n",
      "<td class=\"uk-text-right\">21,1 г</td>\n",
      "<td class=\"uk-text-right\">6 г</td>\n",
      "<td class=\"uk-text-right\">0 г</td>\n",
      "</tr>\n",
      "<tr>\n",
      "<td><a href=\"/base_of_food/sostav/159.php\" title=\"Химический состав продукта: Мясо кролика\">Мясо кролика</a>\n",
      "</td>\n",
      "<td class=\"uk-text-right\">183 кКал</td>\n",
      "<td class=\"uk-text-right\">21,2 г</td>\n",
      "<td class=\"uk-text-right\">11 г</td>\n",
      "<td class=\"uk-text-right\">0 г</td>\n",
      "</tr>\n",
      "<tr>\n",
      "<td><a href=\"/base_of_food/sostav/816.php\" title=\"Химический состав продукта: Мясо лося\">Мясо лося</a>\n",
      "</td>\n",
      "<td class=\"uk-text-right\">101 кКал</td>\n",
      "<td class=\"uk-text-right\">21,4 г</td>\n",
      "<td class=\"uk-text-right\">1,7 г</td>\n",
      "<td class=\"uk-text-right\">0 г</td>\n",
      "</tr>\n",
      "<tr>\n",
      "<td><a href=\"/base_of_food/sostav/817.php\" title=\"Химический состав продукта: Мясо сайгака\">Мясо сайгака</a>\n",
      "</td>\n",
      "<td class=\"uk-text-right\">208 кКал</td>\n",
      "<td class=\"uk-text-right\">21,2 г</td>\n",
      "<td class=\"uk-text-right\">13,7 г</td>\n",
      "<td class=\"uk-text-right\">0 г</td>\n",
      "</tr>\n",
      "<tr>\n",
      "<td><a href=\"/base_of_food/sostav/818.php\" title=\"Химический состав продукта: Мясо яка\">Мясо яка</a>\n",
      "</td>\n",
      "<td class=\"uk-text-right\">112 кКал</td>\n",
      "<td class=\"uk-text-right\">20 г</td>\n",
      "<td class=\"uk-text-right\">3,5 г</td>\n",
      "<td class=\"uk-text-right\">0 г</td>\n",
      "</tr>\n",
      "<tr>\n",
      "<td><a href=\"/base_of_food/sostav/18911.php\" title=\"Химический состав продукта: Нога передняя, с лопаткой, баранина, мясо и жир, обрезь до 1/8'' жира, жаренная\">Нога передняя, с лопаткой, баранина, мясо и жир, обрезь до 1/8'' жира, жаренная</a>\n",
      "</td>\n",
      "<td class=\"uk-text-right\">269 кКал</td>\n",
      "<td class=\"uk-text-right\">22,7 г</td>\n",
      "<td class=\"uk-text-right\">19,08 г</td>\n",
      "<td class=\"uk-text-right\">0 г</td>\n",
      "</tr>\n",
      "<tr>\n",
      "<td><a href=\"/base_of_food/sostav/18910.php\" title=\"Химический состав продукта: Нога передняя, с лопаткой, баранина, мясо и жир, обрезь до 1/8'' жира, жаренная на открытом огне\">Нога передняя, с лопаткой, баранина, мясо и жир, обрезь до 1/8'' жира, жаренная на открытом огне</a>\n",
      "</td>\n",
      "<td class=\"uk-text-right\">268 кКал</td>\n",
      "<td class=\"uk-text-right\">23,84 г</td>\n",
      "<td class=\"uk-text-right\">18,39 г</td>\n",
      "<td class=\"uk-text-right\">0 г</td>\n",
      "</tr>\n",
      "<tr>\n",
      "<td><a href=\"/base_of_food/sostav/18908.php\" title=\"Химический состав продукта: Нога передняя, с лопаткой, баранина, мясо и жир, обрезь до 1/8'' жира, сырая\">Нога передняя, с лопаткой, баранина, мясо и жир, обрезь до 1/8'' жира, сырая</a>\n",
      "</td>\n",
      "<td class=\"uk-text-right\">244 кКал</td>\n",
      "<td class=\"uk-text-right\">17,07 г</td>\n",
      "<td class=\"uk-text-right\">18,96 г</td>\n",
      "<td class=\"uk-text-right\">0 г</td>\n",
      "</tr>\n",
      "<tr>\n",
      "<td><a href=\"/base_of_food/sostav/18909.php\" title=\"Химический состав продукта: Нога передняя, с лопаткой, баранина, мясо и жир, обрезь до 1/8'' жира, тушеная\">Нога передняя, с лопаткой, баранина, мясо и жир, обрезь до 1/8'' жира, тушеная</a>\n",
      "</td>\n",
      "<td class=\"uk-text-right\">338 кКал</td>\n",
      "<td class=\"uk-text-right\">29,46 г</td>\n",
      "<td class=\"uk-text-right\">23,57 г</td>\n",
      "<td class=\"uk-text-right\">0 г</td>\n",
      "</tr>\n",
      "<tr>\n",
      "<td><a href=\"/base_of_food/sostav/18930.php\" title=\"Химический состав продукта: Нога, передняя, с лопаткой, баранина, Новая Зеландия, замороженная, мясо и жир, обрезь до 1/8'' жира, сырая\">Нога, передняя, с лопаткой, баранина, Новая Зеландия, замороженная, мясо и жир, обрезь до 1/8'' жира, сырая</a>\n",
      "</td>\n",
      "<td class=\"uk-text-right\">251 кКал</td>\n",
      "<td class=\"uk-text-right\">17,19 г</td>\n",
      "<td class=\"uk-text-right\">19,74 г</td>\n",
      "<td class=\"uk-text-right\">0 г</td>\n",
      "</tr>\n",
      "<tr>\n",
      "<td><a href=\"/base_of_food/sostav/18931.php\" title=\"Химический состав продукта: Нога, передняя, с лопаткой, баранина, Новая Зеландия, замороженная, мясо и жир, обрезь до 1/8'' жира, тушеная\">Нога, передняя, с лопаткой, баранина, Новая Зеландия, замороженная, мясо и жир, обрезь до 1/8'' жира, тушеная</a>\n",
      "</td>\n",
      "<td class=\"uk-text-right\">342 кКал</td>\n",
      "<td class=\"uk-text-right\">29,43 г</td>\n",
      "<td class=\"uk-text-right\">24,03 г</td>\n",
      "<td class=\"uk-text-right\">0 г</td>\n",
      "</tr>\n",
      "<tr>\n",
      "<td><a href=\"/base_of_food/sostav/18752.php\" title=\"Химический состав продукта: Нога, передняя, с лопаткой, баранина, Новая Зеландия, замороженная, мясо и жир, сырая\">Нога, передняя, с лопаткой, баранина, Новая Зеландия, замороженная, мясо и жир, сырая</a>\n",
      "</td>\n",
      "<td class=\"uk-text-right\">272 кКал</td>\n",
      "<td class=\"uk-text-right\">16,16 г</td>\n",
      "<td class=\"uk-text-right\">22,89 г</td>\n",
      "<td class=\"uk-text-right\">0,24 г</td>\n",
      "</tr>\n",
      "<tr>\n",
      "<td><a href=\"/base_of_food/sostav/18753.php\" title=\"Химический состав продукта: Нога, передняя, с лопаткой, баранина, Новая Зеландия, замороженная, мясо и жир, тушеная\">Нога, передняя, с лопаткой, баранина, Новая Зеландия, замороженная, мясо и жир, тушеная</a>\n",
      "</td>\n",
      "<td class=\"uk-text-right\">357 кКал</td>\n",
      "<td class=\"uk-text-right\">28,21 г</td>\n",
      "<td class=\"uk-text-right\">26,27 г</td>\n",
      "<td class=\"uk-text-right\">0 г</td>\n",
      "</tr>\n",
      "<tr>\n",
      "<td><a href=\"/base_of_food/sostav/18754.php\" title=\"Химический состав продукта: Нога, передняя, с лопаткой, баранина, Новая Зеландия, замороженная, только мясо, сырая\">Нога, передняя, с лопаткой, баранина, Новая Зеландия, замороженная, только мясо, сырая</a>\n",
      "</td>\n",
      "<td class=\"uk-text-right\">154 кКал</td>\n",
      "<td class=\"uk-text-right\">19,72 г</td>\n",
      "<td class=\"uk-text-right\">8,3 г</td>\n",
      "<td class=\"uk-text-right\">0 г</td>\n",
      "</tr>\n",
      "<tr>\n",
      "<td><a href=\"/base_of_food/sostav/18755.php\" title=\"Химический состав продукта: Нога, передняя, с лопаткой, баранина, Новая Зеландия, замороженная, только мясо, тушеная\">Нога, передняя, с лопаткой, баранина, Новая Зеландия, замороженная, только мясо, тушеная</a>\n",
      "</td>\n",
      "<td class=\"uk-text-right\">285 кКал</td>\n",
      "<td class=\"uk-text-right\">34,06 г</td>\n",
      "<td class=\"uk-text-right\">15,5 г</td>\n",
      "<td class=\"uk-text-right\">0 г</td>\n",
      "</tr>\n",
      "<tr>\n",
      "<td><a href=\"/base_of_food/sostav/18897.php\" title=\"Химический состав продукта: Нога, целая, баранина, мясо и жир, обрезь до 1/8'' жира, отборная, жаренная\">Нога, целая, баранина, мясо и жир, обрезь до 1/8'' жира, отборная, жаренная</a>\n",
      "</td>\n",
      "<td class=\"uk-text-right\">242 кКал</td>\n",
      "<td class=\"uk-text-right\">26,2 г</td>\n",
      "<td class=\"uk-text-right\">14,42 г</td>\n",
      "<td class=\"uk-text-right\">0 г</td>\n",
      "</tr>\n",
      "<tr>\n",
      "<td><a href=\"/base_of_food/sostav/18896.php\" title=\"Химический состав продукта: Нога, целая, баранина, мясо и жир, обрезь до 1/8'' жира, отборная, сырая\">Нога, целая, баранина, мясо и жир, обрезь до 1/8'' жира, отборная, сырая</a>\n",
      "</td>\n",
      "<td class=\"uk-text-right\">209 кКал</td>\n",
      "<td class=\"uk-text-right\">18,47 г</td>\n",
      "<td class=\"uk-text-right\">14,42 г</td>\n",
      "<td class=\"uk-text-right\">0 г</td>\n",
      "</tr>\n",
      "<tr>\n",
      "<td><a href=\"/base_of_food/sostav/18741.php\" title=\"Химический состав продукта: Нога, целая, баранина, Новая Зеландия, замороженная, мясо и жир, жаренная\">Нога, целая, баранина, Новая Зеландия, замороженная, мясо и жир, жаренная</a>\n",
      "</td>\n",
      "<td class=\"uk-text-right\">246 кКал</td>\n",
      "<td class=\"uk-text-right\">24,81 г</td>\n",
      "<td class=\"uk-text-right\">15,56 г</td>\n",
      "<td class=\"uk-text-right\">0 г</td>\n",
      "</tr>\n",
      "<tr>\n",
      "<td><a href=\"/base_of_food/sostav/18925.php\" title='Химический состав продукта: Нога, целая, баранина, Новая Зеландия, замороженная, мясо и жир, обрезь до 1/8\" жира, жаренная'>Нога, целая, баранина, Новая Зеландия, замороженная, мясо и жир, обрезь до 1/8\" жира, жаренная</a>\n",
      "</td>\n",
      "<td class=\"uk-text-right\">234 кКал</td>\n",
      "<td class=\"uk-text-right\">25,34 г</td>\n",
      "<td class=\"uk-text-right\">13,95 г</td>\n",
      "<td class=\"uk-text-right\">0 г</td>\n",
      "</tr>\n",
      "<tr>\n",
      "<td><a href=\"/base_of_food/sostav/18924.php\" title='Химический состав продукта: Нога, целая, баранина, Новая Зеландия, замороженная, мясо и жир, обрезь до 1/8\" жира, сырая'>Нога, целая, баранина, Новая Зеландия, замороженная, мясо и жир, обрезь до 1/8\" жира, сырая</a>\n",
      "</td>\n",
      "<td class=\"uk-text-right\">201 кКал</td>\n",
      "<td class=\"uk-text-right\">18,76 г</td>\n",
      "<td class=\"uk-text-right\">13,37 г</td>\n",
      "<td class=\"uk-text-right\">0 г</td>\n",
      "</tr>\n",
      "<tr>\n",
      "<td><a href=\"/base_of_food/sostav/18740.php\" title=\"Химический состав продукта: Нога, целая, баранина, Новая Зеландия, замороженная, мясо и жир, сырая\">Нога, целая, баранина, Новая Зеландия, замороженная, мясо и жир, сырая</a>\n",
      "</td>\n",
      "<td class=\"uk-text-right\">206 кКал</td>\n",
      "<td class=\"uk-text-right\">18,64 г</td>\n",
      "<td class=\"uk-text-right\">14,52 г</td>\n",
      "<td class=\"uk-text-right\">0,13 г</td>\n",
      "</tr>\n",
      "<tr>\n",
      "<td><a href=\"/base_of_food/sostav/18743.php\" title=\"Химический состав продукта: Нога, целая, баранина, Новая Зеландия, замороженная, только мясо, жаренная\">Нога, целая, баранина, Новая Зеландия, замороженная, только мясо, жаренная</a>\n",
      "</td>\n",
      "<td class=\"uk-text-right\">181 кКал</td>\n",
      "<td class=\"uk-text-right\">27,68 г</td>\n",
      "<td class=\"uk-text-right\">7,01 г</td>\n",
      "<td class=\"uk-text-right\">0 г</td>\n",
      "</tr>\n",
      "<tr>\n",
      "<td><a href=\"/base_of_food/sostav/18742.php\" title=\"Химический состав продукта: Нога, целая, баранина, Новая Зеландия, замороженная, только мясо, сырая\">Нога, целая, баранина, Новая Зеландия, замороженная, только мясо, сырая</a>\n",
      "</td>\n",
      "<td class=\"uk-text-right\">126 кКал</td>\n",
      "<td class=\"uk-text-right\">21,1 г</td>\n",
      "<td class=\"uk-text-right\">4,64 г</td>\n",
      "<td class=\"uk-text-right\">0 г</td>\n",
      "</tr>\n",
      "<tr>\n",
      "<td><a href=\"/base_of_food/sostav/819.php\" title=\"Химический состав продукта: Оленина 1 кат.\">Оленина 1 кат.</a>\n",
      "</td>\n",
      "<td class=\"uk-text-right\">155 кКал</td>\n",
      "<td class=\"uk-text-right\">19,5 г</td>\n",
      "<td class=\"uk-text-right\">8,5 г</td>\n",
      "<td class=\"uk-text-right\">0 г</td>\n",
      "</tr>\n",
      "<tr>\n",
      "<td><a href=\"/base_of_food/sostav/903.php\" title=\"Химический состав продукта: Оленина тушеная, консервы\">Оленина тушеная, консервы</a>\n",
      "</td>\n",
      "<td class=\"uk-text-right\">171 кКал</td>\n",
      "<td class=\"uk-text-right\">19,3 г</td>\n",
      "<td class=\"uk-text-right\">10,4 г</td>\n",
      "<td class=\"uk-text-right\">0 г</td>\n",
      "</tr>\n",
      "<tr>\n",
      "<td><a href=\"/base_of_food/sostav/820.php\" title=\"Химический состав продукта: Оленина, 2 категории\">Оленина, 2 категории</a>\n",
      "</td>\n",
      "<td class=\"uk-text-right\">125 кКал</td>\n",
      "<td class=\"uk-text-right\">21 г</td>\n",
      "<td class=\"uk-text-right\">4,5 г</td>\n",
      "<td class=\"uk-text-right\">0 г</td>\n",
      "</tr>\n",
      "<tr>\n",
      "<td><a href=\"/base_of_food/sostav/18830.php\" title=\"Химический состав продукта: Олень, (лань)\">Олень, (лань)</a>\n",
      "</td>\n",
      "<td class=\"uk-text-right\">120 кКал</td>\n",
      "<td class=\"uk-text-right\">22,96 г</td>\n",
      "<td class=\"uk-text-right\">2,42 г</td>\n",
      "<td class=\"uk-text-right\">0 г</td>\n",
      "</tr>\n",
      "<tr>\n",
      "<td><a href=\"/base_of_food/sostav/18831.php\" title=\"Химический состав продукта: Олень, (лань), запеченный\">Олень, (лань), запеченный</a>\n",
      "</td>\n",
      "<td class=\"uk-text-right\">158 кКал</td>\n",
      "<td class=\"uk-text-right\">30,21 г</td>\n",
      "<td class=\"uk-text-right\">3,19 г</td>\n",
      "<td class=\"uk-text-right\">0 г</td>\n",
      "</tr>\n",
      "<tr>\n",
      "<td><a href=\"/base_of_food/sostav/19011.php\" title=\"Химический состав продукта: Олень, (лань), мякоть плечевой части, только мясо, тушеный\">Олень, (лань), мякоть плечевой части, только мясо, тушеный</a>\n",
      "</td>\n",
      "<td class=\"uk-text-right\">191 кКал</td>\n",
      "<td class=\"uk-text-right\">36,28 г</td>\n",
      "<td class=\"uk-text-right\">3,95 г</td>\n",
      "<td class=\"uk-text-right\">0 г</td>\n",
      "</tr>\n",
      "<tr>\n",
      "<td><a href=\"/base_of_food/sostav/19013.php\" title=\"Химический состав продукта: Олень, (лань), стейк из верхней части бедра, только мясо, жареный на открытом огне\">Олень, (лань), стейк из верхней части бедра, только мясо, жареный на открытом огне</a>\n",
      "</td>\n",
      "<td class=\"uk-text-right\">152 кКал</td>\n",
      "<td class=\"uk-text-right\">31,47 г</td>\n",
      "<td class=\"uk-text-right\">1,92 г</td>\n",
      "<td class=\"uk-text-right\">0 г</td>\n",
      "</tr>\n",
      "<tr>\n",
      "<td><a href=\"/base_of_food/sostav/19010.php\" title=\"Химический состав продукта: Олень, (лань), стейк из филея, только мясо, жаренный на открытом огне\">Олень, (лань), стейк из филея, только мясо, жаренный на открытом огне</a>\n",
      "</td>\n",
      "<td class=\"uk-text-right\">150 кКал</td>\n",
      "<td class=\"uk-text-right\">30,2 г</td>\n",
      "<td class=\"uk-text-right\">2,38 г</td>\n",
      "<td class=\"uk-text-right\">0 г</td>\n",
      "</tr>\n",
      "<tr>\n",
      "<td><a href=\"/base_of_food/sostav/20874.php\" title=\"Химический состав продукта: Олень, сырой, (Аляска, Ситка)\">Олень, сырой, (Аляска, Ситка)</a>\n",
      "</td>\n",
      "<td class=\"uk-text-right\">116 кКал</td>\n",
      "<td class=\"uk-text-right\">21,5 г</td>\n",
      "<td class=\"uk-text-right\">2,66 г</td>\n",
      "<td class=\"uk-text-right\">0 г</td>\n",
      "</tr>\n",
      "<tr>\n",
      "<td><a href=\"/base_of_food/sostav/18840.php\" title=\"Химический состав продукта: Ондатра (выхухоль)\">Ондатра (выхухоль)</a>\n",
      "</td>\n",
      "<td class=\"uk-text-right\">162 кКал</td>\n",
      "<td class=\"uk-text-right\">20,76 г</td>\n",
      "<td class=\"uk-text-right\">8,1 г</td>\n",
      "<td class=\"uk-text-right\">0 г</td>\n",
      "</tr>\n",
      "<tr>\n",
      "<td><a href=\"/base_of_food/sostav/18841.php\" title=\"Химический состав продукта: Ондатра (выхухоль), запеченная\">Ондатра (выхухоль), запеченная</a>\n",
      "</td>\n",
      "<td class=\"uk-text-right\">234 кКал</td>\n",
      "<td class=\"uk-text-right\">30,09 г</td>\n",
      "<td class=\"uk-text-right\">11,74 г</td>\n",
      "<td class=\"uk-text-right\">0 г</td>\n",
      "</tr>\n",
      "<tr>\n",
      "<td><a href=\"/base_of_food/sostav/18842.php\" title=\"Химический состав продукта: Опоссум, запеченный\">Опоссум, запеченный</a>\n",
      "</td>\n",
      "<td class=\"uk-text-right\">221 кКал</td>\n",
      "<td class=\"uk-text-right\">30,2 г</td>\n",
      "<td class=\"uk-text-right\">10,2 г</td>\n",
      "<td class=\"uk-text-right\">0 г</td>\n",
      "</tr>\n",
      "<tr>\n",
      "<td><a href=\"/base_of_food/sostav/273.php\" title=\"Химический состав продукта: Печень баранья\">Печень баранья</a>\n",
      "</td>\n",
      "<td class=\"uk-text-right\">101 кКал</td>\n",
      "<td class=\"uk-text-right\">18,7 г</td>\n",
      "<td class=\"uk-text-right\">2,9 г</td>\n",
      "<td class=\"uk-text-right\">0 г</td>\n",
      "</tr>\n",
      "<tr>\n",
      "<td><a href=\"/base_of_food/sostav/18865.php\" title=\"Химический состав продукта: Печень баранья\">Печень баранья</a>\n",
      "</td>\n",
      "<td class=\"uk-text-right\">139 кКал</td>\n",
      "<td class=\"uk-text-right\">20,38 г</td>\n",
      "<td class=\"uk-text-right\">5,02 г</td>\n",
      "<td class=\"uk-text-right\">1,78 г</td>\n",
      "</tr>\n",
      "<tr>\n",
      "<td><a href=\"/base_of_food/sostav/18867.php\" title=\"Химический состав продукта: Печень баранья, жаренная  на сковороде\">Печень баранья, жаренная  на сковороде</a>\n",
      "</td>\n",
      "<td class=\"uk-text-right\">238 кКал</td>\n",
      "<td class=\"uk-text-right\">25,53 г</td>\n",
      "<td class=\"uk-text-right\">12,65 г</td>\n",
      "<td class=\"uk-text-right\">3,78 г</td>\n",
      "</tr>\n",
      "<tr>\n",
      "<td><a href=\"/base_of_food/sostav/18866.php\" title=\"Химический состав продукта: Печень баранья, тушеная\">Печень баранья, тушеная</a>\n",
      "</td>\n",
      "<td class=\"uk-text-right\">220 кКал</td>\n",
      "<td class=\"uk-text-right\">30,57 г</td>\n",
      "<td class=\"uk-text-right\">8,81 г</td>\n",
      "<td class=\"uk-text-right\">2,53 г</td>\n",
      "</tr>\n",
      "<tr>\n",
      "<td><a href=\"/base_of_food/sostav/20830.php\" title=\"Химический состав продукта: Печень северного оленя карибу, (Аляска)\">Печень северного оленя карибу, (Аляска)</a>\n",
      "</td>\n",
      "<td class=\"uk-text-right\">122 кКал</td>\n",
      "<td class=\"uk-text-right\">15 г</td>\n",
      "<td class=\"uk-text-right\">3,9 г</td>\n",
      "<td class=\"uk-text-right\">6,8 г</td>\n",
      "</tr>\n",
      "<tr>\n",
      "<td><a href=\"/base_of_food/sostav/23970.php\" title=\"Химический состав продукта: Поджарка из баранины, по 1-408\">Поджарка из баранины, по 1-408</a>\n",
      "</td>\n",
      "<td class=\"uk-text-right\">409 кКал</td>\n",
      "<td class=\"uk-text-right\">19,5 г</td>\n",
      "<td class=\"uk-text-right\">35,1 г</td>\n",
      "<td class=\"uk-text-right\">3,9 г</td>\n",
      "</tr>\n",
      "<tr>\n",
      "<td><a href=\"/base_of_food/sostav/18876.php\" title=\"Химический состав продукта: Поджелудочная железа баранья\">Поджелудочная железа баранья</a>\n",
      "</td>\n",
      "<td class=\"uk-text-right\">152 кКал</td>\n",
      "<td class=\"uk-text-right\">14,84 г</td>\n",
      "<td class=\"uk-text-right\">9,82 г</td>\n",
      "<td class=\"uk-text-right\">0 г</td>\n",
      "</tr>\n",
      "<tr>\n",
      "<td><a href=\"/base_of_food/sostav/18877.php\" title=\"Химический состав продукта: Поджелудочная железа баранья тушеная\">Поджелудочная железа баранья тушеная</a>\n",
      "</td>\n",
      "<td class=\"uk-text-right\">234 кКал</td>\n",
      "<td class=\"uk-text-right\">22,83 г</td>\n",
      "<td class=\"uk-text-right\">15,12 г</td>\n",
      "<td class=\"uk-text-right\">0 г</td>\n",
      "</tr>\n",
      "<tr>\n",
      "<td><a href=\"/base_of_food/sostav/584.php\" title=\"Химический состав продукта: Почки бараньи\">Почки бараньи</a>\n",
      "</td>\n",
      "<td class=\"uk-text-right\">77 кКал</td>\n",
      "<td class=\"uk-text-right\">13,6 г</td>\n",
      "<td class=\"uk-text-right\">2,5 г</td>\n",
      "<td class=\"uk-text-right\">0 г</td>\n",
      "</tr>\n",
      "<tr>\n",
      "<td><a href=\"/base_of_food/sostav/18861.php\" title=\"Химический состав продукта: Почки бараньи\">Почки бараньи</a>\n",
      "</td>\n",
      "<td class=\"uk-text-right\">97 кКал</td>\n",
      "<td class=\"uk-text-right\">15,74 г</td>\n",
      "<td class=\"uk-text-right\">2,95 г</td>\n",
      "<td class=\"uk-text-right\">0,82 г</td>\n",
      "</tr>\n",
      "<tr>\n",
      "<td><a href=\"/base_of_food/sostav/18862.php\" title=\"Химический состав продукта: Почки бараньи, тушеные\">Почки бараньи, тушеные</a>\n",
      "</td>\n",
      "<td class=\"uk-text-right\">137 кКал</td>\n",
      "<td class=\"uk-text-right\">23,65 г</td>\n",
      "<td class=\"uk-text-right\">3,62 г</td>\n",
      "<td class=\"uk-text-right\">0,99 г</td>\n",
      "</tr>\n",
      "<tr>\n",
      "<td><a href=\"/base_of_food/sostav/23971.php\" title=\"Химический состав продукта: Рагу из баранины, по 1-430\">Рагу из баранины, по 1-430</a>\n",
      "</td>\n",
      "<td class=\"uk-text-right\">152 кКал</td>\n",
      "<td class=\"uk-text-right\">5,1 г</td>\n",
      "<td class=\"uk-text-right\">10,1 г</td>\n",
      "<td class=\"uk-text-right\">10,1 г</td>\n",
      "</tr>\n",
      "<tr>\n",
      "<td><a href=\"/base_of_food/sostav/23975.php\" title=\"Химический состав продукта: Рагу из кролика, по 2-10\">Рагу из кролика, по 2-10</a>\n",
      "</td>\n",
      "<td class=\"uk-text-right\">123 кКал</td>\n",
      "<td class=\"uk-text-right\">6,4 г</td>\n",
      "<td class=\"uk-text-right\">6,1 г</td>\n",
      "<td class=\"uk-text-right\">10,4 г</td>\n",
      "</tr>\n",
      "<tr>\n",
      "<td><a href=\"/base_of_food/sostav/18907.php\" title=\"Химический состав продукта: Ребра, баранина, мясо и жир, обрезь до 1/8'' жира, отборная, жаренная\">Ребра, баранина, мясо и жир, обрезь до 1/8'' жира, отборная, жаренная</a>\n",
      "</td>\n",
      "<td class=\"uk-text-right\">341 кКал</td>\n",
      "<td class=\"uk-text-right\">21,82 г</td>\n",
      "<td class=\"uk-text-right\">27,53 г</td>\n",
      "<td class=\"uk-text-right\">0 г</td>\n",
      "</tr>\n",
      "<tr>\n",
      "<td><a href=\"/base_of_food/sostav/18906.php\" title=\"Химический состав продукта: Ребра, баранина, мясо и жир, обрезь до 1/8'' жира, отборная, жаренная на открытом огне\">Ребра, баранина, мясо и жир, обрезь до 1/8'' жира, отборная, жаренная на открытом огне</a>\n",
      "</td>\n",
      "<td class=\"uk-text-right\">340 кКал</td>\n",
      "<td class=\"uk-text-right\">23,06 г</td>\n",
      "<td class=\"uk-text-right\">26,82 г</td>\n",
      "<td class=\"uk-text-right\">0 г</td>\n",
      "</tr>\n",
      "<tr>\n",
      "<td><a href=\"/base_of_food/sostav/18905.php\" title=\"Химический состав продукта: Ребра, баранина, мясо и жир, обрезь до 1/8'' жира, отборная, сырая\">Ребра, баранина, мясо и жир, обрезь до 1/8'' жира, отборная, сырая</a>\n",
      "</td>\n",
      "<td class=\"uk-text-right\">342 кКал</td>\n",
      "<td class=\"uk-text-right\">15,32 г</td>\n",
      "<td class=\"uk-text-right\">30,71 г</td>\n",
      "<td class=\"uk-text-right\">0 г</td>\n",
      "</tr>\n",
      "<tr>\n",
      "<td><a href=\"/base_of_food/sostav/18749.php\" title=\"Химический состав продукта: Ребра, баранина, Новая Зеландия, замороженная, мясо и жир, жаренная\">Ребра, баранина, Новая Зеландия, замороженная, мясо и жир, жаренная</a>\n",
      "</td>\n",
      "<td class=\"uk-text-right\">253 кКал</td>\n",
      "<td class=\"uk-text-right\">22,06 г</td>\n",
      "<td class=\"uk-text-right\">18,29 г</td>\n",
      "<td class=\"uk-text-right\">0,04 г</td>\n",
      "</tr>\n",
      "<tr>\n",
      "<td><a href=\"/base_of_food/sostav/18929.php\" title=\"Химический состав продукта: Ребра, баранина, Новая Зеландия, замороженная, мясо и жир, обрезь дл 1/8'' жира, жаренная\">Ребра, баранина, Новая Зеландия, замороженная, мясо и жир, обрезь дл 1/8'' жира, жаренная</a>\n",
      "</td>\n",
      "<td class=\"uk-text-right\">317 кКал</td>\n",
      "<td class=\"uk-text-right\">19,86 г</td>\n",
      "<td class=\"uk-text-right\">25,74 г</td>\n",
      "<td class=\"uk-text-right\">0 г</td>\n",
      "</tr>\n",
      "<tr>\n",
      "<td><a href=\"/base_of_food/sostav/18928.php\" title=\"Химический состав продукта: Ребра, баранина, Новая Зеландия, замороженная, мясо и жир, обрезь дл 1/8'' жира, сырая\">Ребра, баранина, Новая Зеландия, замороженная, мясо и жир, обрезь дл 1/8'' жира, сырая</a>\n",
      "</td>\n",
      "<td class=\"uk-text-right\">311 кКал</td>\n",
      "<td class=\"uk-text-right\">15,87 г</td>\n",
      "<td class=\"uk-text-right\">27 г</td>\n",
      "<td class=\"uk-text-right\">0 г</td>\n",
      "</tr>\n",
      "<tr>\n",
      "<td><a href=\"/base_of_food/sostav/18748.php\" title=\"Химический состав продукта: Ребра, баранина, Новая Зеландия, замороженная, мясо и жир, сырая\">Ребра, баранина, Новая Зеландия, замороженная, мясо и жир, сырая</a>\n",
      "</td>\n",
      "<td class=\"uk-text-right\">240 кКал</td>\n",
      "<td class=\"uk-text-right\">18,12 г</td>\n",
      "<td class=\"uk-text-right\">18,52 г</td>\n",
      "<td class=\"uk-text-right\">0,13 г</td>\n",
      "</tr>\n",
      "<tr>\n",
      "<td><a href=\"/base_of_food/sostav/18751.php\" title=\"Химический состав продукта: Ребра, баранина, Новая Зеландия, замороженная, только мясо, жаренная\">Ребра, баранина, Новая Зеландия, замороженная, только мясо, жаренная</a>\n",
      "</td>\n",
      "<td class=\"uk-text-right\">196 кКал</td>\n",
      "<td class=\"uk-text-right\">24,42 г</td>\n",
      "<td class=\"uk-text-right\">10,16 г</td>\n",
      "<td class=\"uk-text-right\">0 г</td>\n",
      "</tr>\n",
      "<tr>\n",
      "<td><a href=\"/base_of_food/sostav/18750.php\" title=\"Химический состав продукта: Ребра, баранина, Новая Зеландия, замороженная, только мясо, сырая\">Ребра, баранина, Новая Зеландия, замороженная, только мясо, сырая</a>\n",
      "</td>\n",
      "<td class=\"uk-text-right\">160 кКал</td>\n",
      "<td class=\"uk-text-right\">20,65 г</td>\n",
      "<td class=\"uk-text-right\">8,61 г</td>\n",
      "<td class=\"uk-text-right\">0 г</td>\n",
      "</tr>\n",
      "<tr>\n",
      "<td><a href=\"/base_of_food/sostav/853.php\" title=\"Химический состав продукта: Рубец бараний\">Рубец бараний</a>\n",
      "</td>\n",
      "<td class=\"uk-text-right\">82 кКал</td>\n",
      "<td class=\"uk-text-right\">11,5 г</td>\n",
      "<td class=\"uk-text-right\">4 г</td>\n",
      "<td class=\"uk-text-right\">0 г</td>\n",
      "</tr>\n",
      "<tr>\n",
      "<td><a href=\"/base_of_food/sostav/18675.php\" title='Химический состав продукта: Рулька, баранина, мясо и жир, обрезь до 1/4\" жира, отборная, сырая'>Рулька, баранина, мясо и жир, обрезь до 1/4\" жира, отборная, сырая</a>\n",
      "</td>\n",
      "<td class=\"uk-text-right\">201 кКал</td>\n",
      "<td class=\"uk-text-right\">18,91 г</td>\n",
      "<td class=\"uk-text-right\">13,38 г</td>\n",
      "<td class=\"uk-text-right\">0 г</td>\n",
      "</tr>\n",
      "<tr>\n",
      "<td><a href=\"/base_of_food/sostav/18676.php\" title='Химический состав продукта: Рулька, баранина, мясо и жир, обрезь до 1/4\" жира, отборная, тушеная'>Рулька, баранина, мясо и жир, обрезь до 1/4\" жира, отборная, тушеная</a>\n",
      "</td>\n",
      "<td class=\"uk-text-right\">243 кКал</td>\n",
      "<td class=\"uk-text-right\">28,37 г</td>\n",
      "<td class=\"uk-text-right\">13,46 г</td>\n",
      "<td class=\"uk-text-right\">0 г</td>\n",
      "</tr>\n",
      "<tr>\n",
      "<td><a href=\"/base_of_food/sostav/18922.php\" title='Химический состав продукта: Рулька, баранина, Новая Зеландия, замороженная, мясо и жир, обрезь до 1/8\" жира, сырая'>Рулька, баранина, Новая Зеландия, замороженная, мясо и жир, обрезь до 1/8\" жира, сырая</a>\n",
      "</td>\n",
      "<td class=\"uk-text-right\">223 кКал</td>\n",
      "<td class=\"uk-text-right\">18,04 г</td>\n",
      "<td class=\"uk-text-right\">16,15 г</td>\n",
      "<td class=\"uk-text-right\">0 г</td>\n",
      "</tr>\n",
      "<tr>\n",
      "<td><a href=\"/base_of_food/sostav/18923.php\" title='Химический состав продукта: Рулька, баранина, Новая Зеландия, замороженная, мясо и жир, обрезь до 1/8\" жира, тушеная'>Рулька, баранина, Новая Зеландия, замороженная, мясо и жир, обрезь до 1/8\" жира, тушеная</a>\n",
      "</td>\n",
      "<td class=\"uk-text-right\">258 кКал</td>\n",
      "<td class=\"uk-text-right\">26,97 г</td>\n",
      "<td class=\"uk-text-right\">15,83 г</td>\n",
      "<td class=\"uk-text-right\">0 г</td>\n",
      "</tr>\n",
      "<tr>\n",
      "<td><a href=\"/base_of_food/sostav/18736.php\" title=\"Химический состав продукта: Рулька, баранина, Новая Зеландия, замороженная, мясо и жир, сырая\">Рулька, баранина, Новая Зеландия, замороженная, мясо и жир, сырая</a>\n",
      "</td>\n",
      "<td class=\"uk-text-right\">183 кКал</td>\n",
      "<td class=\"uk-text-right\">20,09 г</td>\n",
      "<td class=\"uk-text-right\">11,38 г</td>\n",
      "<td class=\"uk-text-right\">0,09 г</td>\n",
      "</tr>\n",
      "<tr>\n",
      "<td><a href=\"/base_of_food/sostav/18737.php\" title=\"Химический состав продукта: Рулька, баранина, Новая Зеландия, замороженная, мясо и жир, тушеная\">Рулька, баранина, Новая Зеландия, замороженная, мясо и жир, тушеная</a>\n",
      "</td>\n",
      "<td class=\"uk-text-right\">258 кКал</td>\n",
      "<td class=\"uk-text-right\">26,97 г</td>\n",
      "<td class=\"uk-text-right\">15,83 г</td>\n",
      "<td class=\"uk-text-right\">0 г</td>\n",
      "</tr>\n",
      "<tr>\n",
      "<td><a href=\"/base_of_food/sostav/18738.php\" title=\"Химический состав продукта: Рулька, баранина, Новая Зеландия, замороженная, только мясо, сырая\">Рулька, баранина, Новая Зеландия, замороженная, только мясо, сырая</a>\n",
      "</td>\n",
      "<td class=\"uk-text-right\">122 кКал</td>\n",
      "<td class=\"uk-text-right\">22,05 г</td>\n",
      "<td class=\"uk-text-right\">3,77 г</td>\n",
      "<td class=\"uk-text-right\">0 г</td>\n",
      "</tr>\n",
      "<tr>\n",
      "<td><a href=\"/base_of_food/sostav/18739.php\" title=\"Химический состав продукта: Рулька, баранина, Новая Зеландия, замороженная, только мясо, тушеная\">Рулька, баранина, Новая Зеландия, замороженная, только мясо, тушеная</a>\n",
      "</td>\n",
      "<td class=\"uk-text-right\">209 кКал</td>\n",
      "<td class=\"uk-text-right\">33,31 г</td>\n",
      "<td class=\"uk-text-right\">8,4 г</td>\n",
      "<td class=\"uk-text-right\">0 г</td>\n",
      "</tr>\n",
      "<tr>\n",
      "<td><a href=\"/base_of_food/sostav/18880.php\" title=\"Химический состав продукта: Селезенка баранья\">Селезенка баранья</a>\n",
      "</td>\n",
      "<td class=\"uk-text-right\">101 кКал</td>\n",
      "<td class=\"uk-text-right\">17,2 г</td>\n",
      "<td class=\"uk-text-right\">3,1 г</td>\n",
      "<td class=\"uk-text-right\">0 г</td>\n",
      "</tr>\n",
      "<tr>\n",
      "<td><a href=\"/base_of_food/sostav/18881.php\" title=\"Химический состав продукта: Селезенка баранья, тушеная\">Селезенка баранья, тушеная</a>\n",
      "</td>\n",
      "<td class=\"uk-text-right\">156 кКал</td>\n",
      "<td class=\"uk-text-right\">26,46 г</td>\n",
      "<td class=\"uk-text-right\">4,77 г</td>\n",
      "<td class=\"uk-text-right\">0 г</td>\n",
      "</tr>\n",
      "<tr>\n",
      "<td><a href=\"/base_of_food/sostav/336.php\" title=\"Химический состав продукта: Сердце баранье\">Сердце баранье</a>\n",
      "</td>\n",
      "<td class=\"uk-text-right\">86 кКал</td>\n",
      "<td class=\"uk-text-right\">13,5 г</td>\n",
      "<td class=\"uk-text-right\">3,5 г</td>\n",
      "<td class=\"uk-text-right\">0 г</td>\n",
      "</tr>\n",
      "<tr>\n",
      "<td><a href=\"/base_of_food/sostav/18857.php\" title=\"Химический состав продукта: Сердце баранье\">Сердце баранье</a>\n",
      "</td>\n",
      "<td class=\"uk-text-right\">122 кКал</td>\n",
      "<td class=\"uk-text-right\">16,47 г</td>\n",
      "<td class=\"uk-text-right\">5,68 г</td>\n",
      "<td class=\"uk-text-right\">0,21 г</td>\n",
      "</tr>\n",
      "<tr>\n",
      "<td><a href=\"/base_of_food/sostav/18858.php\" title=\"Химический состав продукта: Сердце баранье, тушеное\">Сердце баранье, тушеное</a>\n",
      "</td>\n",
      "<td class=\"uk-text-right\">185 кКал</td>\n",
      "<td class=\"uk-text-right\">24,97 г</td>\n",
      "<td class=\"uk-text-right\">7,91 г</td>\n",
      "<td class=\"uk-text-right\">1,93 г</td>\n",
      "</tr>\n",
      "<tr>\n",
      "<td><a href=\"/base_of_food/sostav/18890.php\" title=\"Химический состав продукта: Фарш из баранины\">Фарш из баранины</a>\n",
      "</td>\n",
      "<td class=\"uk-text-right\">282 кКал</td>\n",
      "<td class=\"uk-text-right\">16,56 г</td>\n",
      "<td class=\"uk-text-right\">23,41 г</td>\n",
      "<td class=\"uk-text-right\">0 г</td>\n",
      "</tr>\n",
      "<tr>\n",
      "<td><a href=\"/base_of_food/sostav/18891.php\" title=\"Химический состав продукта: Фарш из баранины, жаренный на открытом огне\">Фарш из баранины, жаренный на открытом огне</a>\n",
      "</td>\n",
      "<td class=\"uk-text-right\">283 кКал</td>\n",
      "<td class=\"uk-text-right\">24,75 г</td>\n",
      "<td class=\"uk-text-right\">19,65 г</td>\n",
      "<td class=\"uk-text-right\">0 г</td>\n",
      "</tr>\n",
      "<tr>\n",
      "<td><a href=\"/base_of_food/sostav/20871.php\" title=\"Химический состав продукта: Фарш из мяса белки (Аляска)\">Фарш из мяса белки (Аляска)</a>\n",
      "</td>\n",
      "<td class=\"uk-text-right\">111 кКал</td>\n",
      "<td class=\"uk-text-right\">19,3 г</td>\n",
      "<td class=\"uk-text-right\">3,8 г</td>\n",
      "<td class=\"uk-text-right\">0 г</td>\n",
      "</tr>\n",
      "<tr>\n",
      "<td><a href=\"/base_of_food/sostav/18995.php\" title=\"Химический состав продукта: Фарш из мяса бизона\">Фарш из мяса бизона</a>\n",
      "</td>\n",
      "<td class=\"uk-text-right\">223 кКал</td>\n",
      "<td class=\"uk-text-right\">18,67 г</td>\n",
      "<td class=\"uk-text-right\">15,93 г</td>\n",
      "<td class=\"uk-text-right\">0 г</td>\n",
      "</tr>\n",
      "<tr>\n",
      "<td><a href=\"/base_of_food/sostav/18996.php\" title=\"Химический состав продукта: Фарш из мяса бизона, жаренный на сковороде\">Фарш из мяса бизона, жаренный на сковороде</a>\n",
      "</td>\n",
      "<td class=\"uk-text-right\">238 кКал</td>\n",
      "<td class=\"uk-text-right\">23,77 г</td>\n",
      "<td class=\"uk-text-right\">15,13 г</td>\n",
      "<td class=\"uk-text-right\">0 г</td>\n",
      "</tr>\n",
      "<tr>\n",
      "<td><a href=\"/base_of_food/sostav/18817.php\" title=\"Химический состав продукта: Фарш из мяса зубра пастбищного\">Фарш из мяса зубра пастбищного</a>\n",
      "</td>\n",
      "<td class=\"uk-text-right\">146 кКал</td>\n",
      "<td class=\"uk-text-right\">20,23 г</td>\n",
      "<td class=\"uk-text-right\">7,21 г</td>\n",
      "<td class=\"uk-text-right\">0,05 г</td>\n",
      "</tr>\n",
      "<tr>\n",
      "<td><a href=\"/base_of_food/sostav/18816.php\" title=\"Химический состав продукта: Фарш из мяса зубра пастбищного, приготовленный\">Фарш из мяса зубра пастбищного, приготовленный</a>\n",
      "</td>\n",
      "<td class=\"uk-text-right\">179 кКал</td>\n",
      "<td class=\"uk-text-right\">25,45 г</td>\n",
      "<td class=\"uk-text-right\">8,62 г</td>\n",
      "<td class=\"uk-text-right\">0 г</td>\n",
      "</tr>\n",
      "<tr>\n",
      "<td><a href=\"/base_of_food/sostav/19003.php\" title=\"Химический состав продукта: Фарш из мяса лося\">Фарш из мяса лося</a>\n",
      "</td>\n",
      "<td class=\"uk-text-right\">172 кКал</td>\n",
      "<td class=\"uk-text-right\">21,76 г</td>\n",
      "<td class=\"uk-text-right\">8,82 г</td>\n",
      "<td class=\"uk-text-right\">0 г</td>\n",
      "</tr>\n",
      "<tr>\n",
      "<td><a href=\"/base_of_food/sostav/19004.php\" title=\"Химический состав продукта: Фарш из мяса лося, жаренный на сковороде\">Фарш из мяса лося, жаренный на сковороде</a>\n",
      "</td>\n",
      "<td class=\"uk-text-right\">193 кКал</td>\n",
      "<td class=\"uk-text-right\">26,64 г</td>\n",
      "<td class=\"uk-text-right\">8,74 г</td>\n",
      "<td class=\"uk-text-right\">0 г</td>\n",
      "</tr>\n",
      "<tr>\n",
      "<td><a href=\"/base_of_food/sostav/19008.php\" title=\"Химический состав продукта: Фарш из мяса оленя (лани)\">Фарш из мяса оленя (лани)</a>\n",
      "</td>\n",
      "<td class=\"uk-text-right\">157 кКал</td>\n",
      "<td class=\"uk-text-right\">21,78 г</td>\n",
      "<td class=\"uk-text-right\">7,13 г</td>\n",
      "<td class=\"uk-text-right\">0 г</td>\n",
      "</tr>\n",
      "<tr>\n",
      "<td><a href=\"/base_of_food/sostav/19009.php\" title=\"Химический состав продукта: Фарш из мяса оленя (лани), жаренный на сковороде\">Фарш из мяса оленя (лани), жаренный на сковороде</a>\n",
      "</td>\n",
      "<td class=\"uk-text-right\">187 кКал</td>\n",
      "<td class=\"uk-text-right\">26,45 г</td>\n",
      "<td class=\"uk-text-right\">8,22 г</td>\n",
      "<td class=\"uk-text-right\">0 г</td>\n",
      "</tr>\n",
      "<tr>\n",
      "<td><a href=\"/base_of_food/sostav/23972.php\" title=\"Химический состав продукта: Шницель отбивной из баранины, по 1-416\">Шницель отбивной из баранины, по 1-416</a>\n",
      "</td>\n",
      "<td class=\"uk-text-right\">333 кКал</td>\n",
      "<td class=\"uk-text-right\">21,8 г</td>\n",
      "<td class=\"uk-text-right\">23,2 г</td>\n",
      "<td class=\"uk-text-right\">9,1 г</td>\n",
      "</tr>\n",
      "<tr>\n",
      "<td><a href=\"/base_of_food/sostav/824.php\" title=\"Химический состав продукта: Ягнятина\">Ягнятина</a>\n",
      "</td>\n",
      "<td class=\"uk-text-right\">196 кКал</td>\n",
      "<td class=\"uk-text-right\">17,2 г</td>\n",
      "<td class=\"uk-text-right\">14,1 г</td>\n",
      "<td class=\"uk-text-right\">0 г</td>\n",
      "</tr>\n",
      "<tr>\n",
      "<td><a href=\"/base_of_food/sostav/18719.php\" title=\"Химический состав продукта: Ягнятина, лопаточная часть\">Ягнятина, лопаточная часть</a>\n",
      "</td>\n",
      "<td class=\"uk-text-right\">259 кКал</td>\n",
      "<td class=\"uk-text-right\">16,63 г</td>\n",
      "<td class=\"uk-text-right\">20,86 г</td>\n",
      "<td class=\"uk-text-right\">0 г</td>\n",
      "</tr>\n",
      "<tr>\n",
      "<td><a href=\"/base_of_food/sostav/18721.php\" title=\"Химический состав продукта: Ягнятина, лопаточная часть жаренная на открытом огне\">Ягнятина, лопаточная часть жаренная на открытом огне</a>\n",
      "</td>\n",
      "<td class=\"uk-text-right\">278 кКал</td>\n",
      "<td class=\"uk-text-right\">23,08 г</td>\n",
      "<td class=\"uk-text-right\">19,94 г</td>\n",
      "<td class=\"uk-text-right\">0 г</td>\n",
      "</tr>\n",
      "<tr>\n",
      "<td><a href=\"/base_of_food/sostav/18723.php\" title=\"Химический состав продукта: Ягнятина, лопаточная часть только мясо\">Ягнятина, лопаточная часть только мясо</a>\n",
      "</td>\n",
      "<td class=\"uk-text-right\">151 кКал</td>\n",
      "<td class=\"uk-text-right\">19,29 г</td>\n",
      "<td class=\"uk-text-right\">7,63 г</td>\n",
      "<td class=\"uk-text-right\">0 г</td>\n",
      "</tr>\n",
      "<tr>\n",
      "<td><a href=\"/base_of_food/sostav/18725.php\" title=\"Химический состав продукта: Ягнятина, лопаточная часть только мясо, жаренная на открытом огне\">Ягнятина, лопаточная часть только мясо, жаренная на открытом огне</a>\n",
      "</td>\n",
      "<td class=\"uk-text-right\">211 кКал</td>\n",
      "<td class=\"uk-text-right\">25,48 г</td>\n",
      "<td class=\"uk-text-right\">11,32 г</td>\n",
      "<td class=\"uk-text-right\">0 г</td>\n",
      "</tr>\n",
      "<tr>\n",
      "<td><a href=\"/base_of_food/sostav/18726.php\" title=\"Химический состав продукта: Ягнятина, лопаточная часть только мясо, запеченная\">Ягнятина, лопаточная часть только мясо, запеченная</a>\n",
      "</td>\n",
      "<td class=\"uk-text-right\">209 кКал</td>\n",
      "<td class=\"uk-text-right\">24,61 г</td>\n",
      "<td class=\"uk-text-right\">11,57 г</td>\n",
      "<td class=\"uk-text-right\">0 г</td>\n",
      "</tr>\n",
      "<tr>\n",
      "<td><a href=\"/base_of_food/sostav/18722.php\" title=\"Химический состав продукта: Ягнятина, лопаточная часть, запеченная\">Ягнятина, лопаточная часть, запеченная</a>\n",
      "</td>\n",
      "<td class=\"uk-text-right\">281 кКал</td>\n",
      "<td class=\"uk-text-right\">22,25 г</td>\n",
      "<td class=\"uk-text-right\">20,61 г</td>\n",
      "<td class=\"uk-text-right\">0 г</td>\n",
      "</tr>\n",
      "<tr>\n",
      "<td><a href=\"/base_of_food/sostav/18724.php\" title=\"Химический состав продукта: Ягнятина, лопаточная часть, только мясо, тушеная\">Ягнятина, лопаточная часть, только мясо, тушеная</a>\n",
      "</td>\n",
      "<td class=\"uk-text-right\">288 кКал</td>\n",
      "<td class=\"uk-text-right\">32,35 г</td>\n",
      "<td class=\"uk-text-right\">16,64 г</td>\n",
      "<td class=\"uk-text-right\">0 г</td>\n",
      "</tr>\n",
      "<tr>\n",
      "<td><a href=\"/base_of_food/sostav/18720.php\" title=\"Химический состав продукта: Ягнятина, лопаточная часть, тушеная\">Ягнятина, лопаточная часть, тушеная</a>\n",
      "</td>\n",
      "<td class=\"uk-text-right\">345 кКал</td>\n",
      "<td class=\"uk-text-right\">28,51 г</td>\n",
      "<td class=\"uk-text-right\">24,73 г</td>\n",
      "<td class=\"uk-text-right\">0 г</td>\n",
      "</tr>\n",
      "<tr>\n",
      "<td><a href=\"/base_of_food/sostav/18687.php\" title=\"Химический состав продукта: Ягнятина, окорок\">Ягнятина, окорок</a>\n",
      "</td>\n",
      "<td class=\"uk-text-right\">272 кКал</td>\n",
      "<td class=\"uk-text-right\">16,94 г</td>\n",
      "<td class=\"uk-text-right\">22,11 г</td>\n",
      "<td class=\"uk-text-right\">0 г</td>\n",
      "</tr>\n",
      "<tr>\n",
      "<td><a href=\"/base_of_food/sostav/18688.php\" title=\"Химический состав продукта: Ягнятина, окорок, запеченный\">Ягнятина, окорок, запеченный</a>\n",
      "</td>\n",
      "<td class=\"uk-text-right\">292 кКал</td>\n",
      "<td class=\"uk-text-right\">24,63 г</td>\n",
      "<td class=\"uk-text-right\">20,67 г</td>\n",
      "<td class=\"uk-text-right\">0 г</td>\n",
      "</tr>\n",
      "<tr>\n",
      "<td><a href=\"/base_of_food/sostav/18690.php\" title=\"Химический состав продукта: Ягнятина, окорок, только мясо, запеченный\">Ягнятина, окорок, только мясо, запеченный</a>\n",
      "</td>\n",
      "<td class=\"uk-text-right\">204 кКал</td>\n",
      "<td class=\"uk-text-right\">28,35 г</td>\n",
      "<td class=\"uk-text-right\">9,17 г</td>\n",
      "<td class=\"uk-text-right\">0 г</td>\n",
      "</tr>\n",
      "<tr>\n",
      "<td><a href=\"/base_of_food/sostav/18711.php\" title=\"Химический состав продукта: Ягнятина, плечевая часть\">Ягнятина, плечевая часть</a>\n",
      "</td>\n",
      "<td class=\"uk-text-right\">260 кКал</td>\n",
      "<td class=\"uk-text-right\">16,79 г</td>\n",
      "<td class=\"uk-text-right\">20,9 г</td>\n",
      "<td class=\"uk-text-right\">0 г</td>\n",
      "</tr>\n",
      "<tr>\n",
      "<td><a href=\"/base_of_food/sostav/18713.php\" title=\"Химический состав продукта: Ягнятина, плечевая часть, жаренная на открытом огне\">Ягнятина, плечевая часть, жаренная на открытом огне</a>\n",
      "</td>\n",
      "<td class=\"uk-text-right\">281 кКал</td>\n",
      "<td class=\"uk-text-right\">24,44 г</td>\n",
      "<td class=\"uk-text-right\">19,55 г</td>\n",
      "<td class=\"uk-text-right\">0 г</td>\n",
      "</tr>\n",
      "<tr>\n",
      "<td><a href=\"/base_of_food/sostav/18714.php\" title=\"Химический состав продукта: Ягнятина, плечевая часть, запеченная\">Ягнятина, плечевая часть, запеченная</a>\n",
      "</td>\n",
      "<td class=\"uk-text-right\">279 кКал</td>\n",
      "<td class=\"uk-text-right\">22,53 г</td>\n",
      "<td class=\"uk-text-right\">20,24 г</td>\n",
      "<td class=\"uk-text-right\">0 г</td>\n",
      "</tr>\n",
      "<tr>\n",
      "<td><a href=\"/base_of_food/sostav/18715.php\" title=\"Химический состав продукта: Ягнятина, плечевая часть, только мясо\">Ягнятина, плечевая часть, только мясо</a>\n",
      "</td>\n",
      "<td class=\"uk-text-right\">132 кКал</td>\n",
      "<td class=\"uk-text-right\">19,99 г</td>\n",
      "<td class=\"uk-text-right\">5,2 г</td>\n",
      "<td class=\"uk-text-right\">0 г</td>\n",
      "</tr>\n",
      "<tr>\n",
      "<td><a href=\"/base_of_food/sostav/18717.php\" title=\"Химический состав продукта: Ягнятина, плечевая часть, только мясо, жаренная на открытом огне\">Ягнятина, плечевая часть, только мясо, жаренная на открытом огне</a>\n",
      "</td>\n",
      "<td class=\"uk-text-right\">200 кКал</td>\n",
      "<td class=\"uk-text-right\">27,71 г</td>\n",
      "<td class=\"uk-text-right\">9,02 г</td>\n",
      "<td class=\"uk-text-right\">0 г</td>\n",
      "</tr>\n",
      "<tr>\n",
      "<td><a href=\"/base_of_food/sostav/18718.php\" title=\"Химический состав продукта: Ягнятина, плечевая часть, только мясо, запеченная\">Ягнятина, плечевая часть, только мясо, запеченная</a>\n",
      "</td>\n",
      "<td class=\"uk-text-right\">192 кКал</td>\n",
      "<td class=\"uk-text-right\">25,46 г</td>\n",
      "<td class=\"uk-text-right\">9,26 г</td>\n",
      "<td class=\"uk-text-right\">0 г</td>\n",
      "</tr>\n",
      "<tr>\n",
      "<td><a href=\"/base_of_food/sostav/18716.php\" title=\"Химический состав продукта: Ягнятина, плечевая часть, только мясо, тушеная\">Ягнятина, плечевая часть, только мясо, тушеная</a>\n",
      "</td>\n",
      "<td class=\"uk-text-right\">279 кКал</td>\n",
      "<td class=\"uk-text-right\">35,54 г</td>\n",
      "<td class=\"uk-text-right\">14,08 г</td>\n",
      "<td class=\"uk-text-right\">0 г</td>\n",
      "</tr>\n",
      "<tr>\n",
      "<td><a href=\"/base_of_food/sostav/18712.php\" title=\"Химический состав продукта: Ягнятина, плечевая часть, тушеная\">Ягнятина, плечевая часть, тушеная</a>\n",
      "</td>\n",
      "<td class=\"uk-text-right\">346 кКал</td>\n",
      "<td class=\"uk-text-right\">30,39 г</td>\n",
      "<td class=\"uk-text-right\">24 г</td>\n",
      "<td class=\"uk-text-right\">0 г</td>\n",
      "</tr>\n",
      "<tr>\n",
      "<td><a href=\"/base_of_food/sostav/451.php\" title=\"Химический состав продукта: Язык бараний\">Язык бараний</a>\n",
      "</td>\n",
      "<td class=\"uk-text-right\">195 кКал</td>\n",
      "<td class=\"uk-text-right\">12,6 г</td>\n",
      "<td class=\"uk-text-right\">16,1 г</td>\n",
      "<td class=\"uk-text-right\">0 г</td>\n",
      "</tr>\n",
      "<tr>\n",
      "<td><a href=\"/base_of_food/sostav/18886.php\" title=\"Химический состав продукта: Язык бараний\">Язык бараний</a>\n",
      "</td>\n",
      "<td class=\"uk-text-right\">222 кКал</td>\n",
      "<td class=\"uk-text-right\">15,7 г</td>\n",
      "<td class=\"uk-text-right\">17,17 г</td>\n",
      "<td class=\"uk-text-right\">0 г</td>\n",
      "</tr>\n",
      "<tr>\n",
      "<td><a href=\"/base_of_food/sostav/18887.php\" title=\"Химический состав продукта: Язык бараний тушеный\">Язык бараний тушеный</a>\n",
      "</td>\n",
      "<td class=\"uk-text-right\">275 кКал</td>\n",
      "<td class=\"uk-text-right\">21,57 г</td>\n",
      "<td class=\"uk-text-right\">20,28 г</td>\n",
      "<td class=\"uk-text-right\">0 г</td>\n",
      "</tr>\n",
      "<tr>\n",
      "<td><a href=\"/base_of_food/sostav/20832.php\" title=\"Химический состав продукта: Язык оленя карибу (Аляска)\">Язык оленя карибу (Аляска)</a>\n",
      "</td>\n",
      "<td class=\"uk-text-right\">260 кКал</td>\n",
      "<td class=\"uk-text-right\">13,7 г</td>\n",
      "<td class=\"uk-text-right\">22,8 г</td>\n",
      "<td class=\"uk-text-right\">0 г</td>\n",
      "</tr>\n",
      "</tbody>\n",
      "</table>\n",
      "</div>\n",
      "</div>\n",
      "</div>\n",
      "<div class=\"mzr-block uk-margin-top\">\n",
      "<div class=\"mzr-block-header-light mzr-font--body16sb\">Калькуляторы</div>\n",
      "<div class=\"mzr-block-content\">\n",
      "<div class=\"uk-grid\">\n",
      "<div class=\"uk-width-1-1 uk-width-medium-1-2 uk-margin-bottom\">\n",
      "<a class=\"mzr-media\" href=\"/health_diet/app/CalcNorm.php?utm_source=hd&amp;utm_medium=content&amp;utm_campaign=calculatorList&amp;utm_term=norms\"><img class=\"mzr-media-figure\" src=\"https://159523.selcdn.ru/assets/HealthDiet/Components/CalculatorList/mainMenuCalculator.png\" style=\"width: 60px; height: 60px;\"/>\n",
      "<div class=\"mzr-media-body\">\n",
      "<div class=\"mzr-media-title\">Калькулятор суточных норм нутриентов</div>\n",
      "<div class=\"mzr-media-text\">Рассчитает норму калорий, белков, жиров, углеводов, а также витаминов и минералов в зависимости от пола, возраста, веса и уровня физической активности.</div>\n",
      "</div>\n",
      "</a>\n",
      "</div>\n",
      "<div class=\"uk-width-1-1 uk-width-medium-1-2 uk-margin-bottom\">\n",
      "<a class=\"mzr-media\" href=\"/diary/foodDiary?utm_source=hd&amp;utm_medium=content&amp;utm_campaign=calculatorList&amp;utm_term=foodDiary\"><img class=\"mzr-media-figure\" src=\"https://159523.selcdn.ru/assets/HealthDiet/Components/CalculatorList/mainMenuFoodDiary.png\" style=\"width: 60px; height: 60px;\"/>\n",
      "<div class=\"mzr-media-body\">\n",
      "<div class=\"mzr-media-title\">Калькулятор калорий, витаминов и минералов</div>\n",
      "<div class=\"mzr-media-text\">Посчитает белки, жиры, углеводы, витамины и минералы в вашем суточном меню.</div>\n",
      "</div>\n",
      "</a>\n",
      "</div>\n",
      "<div class=\"uk-width-1-1 uk-width-medium-1-2 uk-margin-bottom\">\n",
      "<a class=\"mzr-media\" href=\"/health_diet/recipe/index.php?utm_source=hd&amp;utm_medium=content&amp;utm_campaign=calculatorList&amp;utm_term=recipeCalc\"><img class=\"mzr-media-figure\" src=\"https://159523.selcdn.ru/assets/HealthDiet/Components/CalculatorList/mainMenuUserFood.png\" style=\"width: 60px; height: 60px;\"/>\n",
      "<div class=\"mzr-media-body\">\n",
      "<div class=\"mzr-media-title\">Калькулятор-анализатор рецептов</div>\n",
      "<div class=\"mzr-media-text\">Посчитает калорийность и химический состав блюда, рецепта</div>\n",
      "</div>\n",
      "</a>\n",
      "</div>\n",
      "<div class=\"uk-width-1-1 uk-width-medium-1-2 uk-margin-bottom\">\n",
      "<a class=\"mzr-media\" href=\"/calorie/foodLider?utm_source=hd&amp;utm_medium=content&amp;utm_campaign=calculatorList&amp;utm_term=foodLider\"><img class=\"mzr-media-figure\" src=\"https://159523.selcdn.ru/assets/HealthDiet/Components/CalculatorList/mainMenuFoodLider.png\" style=\"width: 60px; height: 60px;\"/>\n",
      "<div class=\"mzr-media-body\">\n",
      "<div class=\"mzr-media-title\">Продукты-лидеры</div>\n",
      "<div class=\"mzr-media-text\">Полный справочник самых полезных продуктов с маскимальным содержанием витаминов и минералов</div>\n",
      "</div>\n",
      "</a>\n",
      "</div>\n",
      "<div class=\"uk-width-1-1 uk-width-medium-1-2 uk-margin-bottom\">\n",
      "<a class=\"mzr-media\" href=\"/loseWeight/step1?utm_source=hd&amp;utm_medium=content&amp;utm_campaign=calculatorList&amp;utm_term=loseWeight\"><img class=\"mzr-media-figure\" src=\"https://159523.selcdn.ru/assets/HealthDiet/Components/CalculatorList/mainMenuEnter.png\" style=\"width: 60px; height: 60px;\"/>\n",
      "<div class=\"mzr-media-body\">\n",
      "<div class=\"mzr-media-title\">Рекомедации по похудению</div>\n",
      "<div class=\"mzr-media-text\">Калькулятор идеального веса, индекс массы тела, расчёт коридора калорийности, рекомендации по снижению, план действий.</div>\n",
      "</div>\n",
      "</a>\n",
      "</div>\n",
      "<div class=\"uk-width-1-1 uk-width-medium-1-2 uk-margin-bottom\">\n",
      "<a class=\"mzr-media\" href=\"/diary/sportDiary?utm_source=hd&amp;utm_medium=content&amp;utm_campaign=calculatorList&amp;utm_term=sportDiary\"><img class=\"mzr-media-figure\" src=\"https://159523.selcdn.ru/assets/HealthDiet/Components/CalculatorList/mainMenuSportDiary.png\" style=\"width: 60px; height: 60px;\"/>\n",
      "<div class=\"mzr-media-body\">\n",
      "<div class=\"mzr-media-title\">Калькулятор расхода калорий</div>\n",
      "<div class=\"mzr-media-text\">Посчитает энергозатраты при различных видах физических упражнений</div>\n",
      "</div>\n",
      "</a>\n",
      "</div>\n",
      "<div class=\"uk-width-1-1 uk-width-medium-1-2 uk-margin-bottom\">\n",
      "<a class=\"mzr-media\" href=\"/health_diet/app/bmi2.php?utm_source=hd&amp;utm_medium=content&amp;utm_campaign=calculatorList&amp;utm_term=bmi\"><img class=\"mzr-media-figure\" src=\"https://159523.selcdn.ru/assets/HealthDiet/Components/CalculatorList/BMI.png\" style=\"width: 60px; height: 60px;\"/>\n",
      "<div class=\"mzr-media-body\">\n",
      "<div class=\"mzr-media-title\">Индекс массы тела</div>\n",
      "<div class=\"mzr-media-text\">Индекс массы тела (BMI, ИМТ) — величина, позволяющая оценить степень соответствия массы человека и его роста и, тем самым, косвенно оценить, является ли масса недостаточной, нормальной или избыточной.</div>\n",
      "</div>\n",
      "</a>\n",
      "</div>\n",
      "<div class=\"uk-width-1-1 uk-width-medium-1-2 uk-margin-bottom\">\n",
      "<a class=\"mzr-media\" href=\"/health_diet/app/analizator_produktov.php?utm_source=hd&amp;utm_medium=content&amp;utm_campaign=calculatorList&amp;utm_term=analizator\"><img class=\"mzr-media-figure\" src=\"https://159523.selcdn.ru/assets/HealthDiet/Components/CalculatorList/analizator.png\" style=\"width: 60px; height: 60px;\"/>\n",
      "<div class=\"mzr-media-body\">\n",
      "<div class=\"mzr-media-title\">Калькулятор и анализатор продуктов</div>\n",
      "<div class=\"mzr-media-text\">Калькулятор продуктов позволит вам легко увидеть плюсы и минусы продукта и поможет составить рацион, который будет полностью сбалансирован.</div>\n",
      "</div>\n",
      "</a>\n",
      "</div>\n",
      "</div>\n",
      "</div>\n",
      "</div>\n",
      "</div>\n",
      "</div><!--<div class=\"mzr-grid-content\">-->\n",
      "<div class=\"mzr-grid-left-side\" id=\"mzr-grid-left-side\">\n",
      "<aside class=\"mzr-left-menu mod-padding-default mod-place-leftColumn\">\n",
      "<div class=\"mzr-left-menu-items\">\n",
      "<a class=\"mzr-left-menu-item uk-link-reset mzr-left-menu-item-header\">\n",
      "<span>Таблицы калорийности</span>\n",
      "</a>\n",
      "<a class=\"mzr-left-menu-item uk-link-reset mzr-left-menu-item-header\" href=\"/table_calorie/?utm_source=leftMenu&amp;utm_medium=table_calorie\">\n",
      "<span>Продукты питания</span>\n",
      "</a>\n",
      "<a class=\"mzr-left-menu-item uk-link-reset\" href=\"/base_of_food/food_24507/?utm_source=leftMenu&amp;utm_medium=base_of_food\">\n",
      "<div class=\"mzr-left-menu-item-image\"><img alt=\"\" src=\"//159523.selcdn.ru/assets/repo/table_calorie/group_image/32/24507.png\"/></div>\n",
      "<span>Баранина и дичь</span>\n",
      "</a>\n",
      "<a class=\"mzr-left-menu-item uk-link-reset\" href=\"/base_of_food/food_24523/?utm_source=leftMenu&amp;utm_medium=base_of_food\">\n",
      "<div class=\"mzr-left-menu-item-image\"><img alt=\"\" src=\"//159523.selcdn.ru/assets/repo/table_calorie/group_image/32/24523.png\"/></div>\n",
      "<span>Бобовые</span>\n",
      "</a>\n",
      "<a class=\"mzr-left-menu-item uk-link-reset\" href=\"/base_of_food/food_24509/?utm_source=leftMenu&amp;utm_medium=base_of_food\">\n",
      "<div class=\"mzr-left-menu-item-image\"><img alt=\"\" src=\"//159523.selcdn.ru/assets/repo/table_calorie/group_image/32/24509.png\"/></div>\n",
      "<span>Вода и напитки</span>\n",
      "</a>\n",
      "<a class=\"mzr-left-menu-item uk-link-reset\" href=\"/base_of_food/food_24502/?utm_source=leftMenu&amp;utm_medium=base_of_food\">\n",
      "<div class=\"mzr-left-menu-item-image\"><img alt=\"\" src=\"//159523.selcdn.ru/assets/repo/table_calorie/group_image/32/24502.png\"/></div>\n",
      "<span>Говядина и телятина</span>\n",
      "</a>\n",
      "<a class=\"mzr-left-menu-item uk-link-reset\" href=\"/base_of_food/food_24513/?utm_source=leftMenu&amp;utm_medium=base_of_food\">\n",
      "<div class=\"mzr-left-menu-item-image\"><img alt=\"\" src=\"//159523.selcdn.ru/assets/repo/table_calorie/group_image/32/24513.png\"/></div>\n",
      "<span>Грибы</span>\n",
      "</a>\n",
      "<a class=\"mzr-left-menu-item uk-link-reset\" href=\"/base_of_food/food_24526/?utm_source=leftMenu&amp;utm_medium=base_of_food\">\n",
      "<div class=\"mzr-left-menu-item-image\"><img alt=\"\" src=\"//159523.selcdn.ru/assets/repo/table_calorie/group_image/32/24526.png\"/></div>\n",
      "<span>Детское питание</span>\n",
      "</a>\n",
      "<a class=\"mzr-left-menu-item uk-link-reset\" href=\"/base_of_food/food_24515/?utm_source=leftMenu&amp;utm_medium=base_of_food\">\n",
      "<div class=\"mzr-left-menu-item-image\"><img alt=\"\" src=\"//159523.selcdn.ru/assets/repo/table_calorie/group_image/32/24515.png\"/></div>\n",
      "<span>Жиры и масла</span>\n",
      "</a>\n",
      "<a class=\"mzr-left-menu-item uk-link-reset\" href=\"/base_of_food/food_24525/?utm_source=leftMenu&amp;utm_medium=base_of_food\">\n",
      "<div class=\"mzr-left-menu-item-image\"><img alt=\"\" src=\"//159523.selcdn.ru/assets/repo/table_calorie/group_image/32/24525.png\"/></div>\n",
      "<span>Кондитерские изделия</span>\n",
      "</a>\n",
      "<a class=\"mzr-left-menu-item uk-link-reset\" href=\"/base_of_food/food_24522/?utm_source=leftMenu&amp;utm_medium=base_of_food\">\n",
      "<div class=\"mzr-left-menu-item-image\"><img alt=\"\" src=\"//159523.selcdn.ru/assets/repo/table_calorie/group_image/32/24522.png\"/></div>\n",
      "<span>Крупы, мука, макароны</span>\n",
      "</a>\n",
      "<a class=\"mzr-left-menu-item uk-link-reset\" href=\"/base_of_food/food_24519/?utm_source=leftMenu&amp;utm_medium=base_of_food\">\n",
      "<div class=\"mzr-left-menu-item-image\"><img alt=\"\" src=\"//159523.selcdn.ru/assets/repo/table_calorie/group_image/32/24519.png\"/></div>\n",
      "<span>Молочные продукты</span>\n",
      "</a>\n",
      "<a class=\"mzr-left-menu-item uk-link-reset\" href=\"/base_of_food/food_24508/?utm_source=leftMenu&amp;utm_medium=base_of_food\">\n",
      "<div class=\"mzr-left-menu-item-image\"><img alt=\"\" src=\"//159523.selcdn.ru/assets/repo/table_calorie/group_image/32/24508.png\"/></div>\n",
      "<span>Напитки алкогольные</span>\n",
      "</a>\n",
      "<a class=\"mzr-left-menu-item uk-link-reset\" href=\"/base_of_food/food_24512/?utm_source=leftMenu&amp;utm_medium=base_of_food\">\n",
      "<div class=\"mzr-left-menu-item-image\"><img alt=\"\" src=\"//159523.selcdn.ru/assets/repo/table_calorie/group_image/32/24512.png\"/></div>\n",
      "<span>Овощи и зелень</span>\n",
      "</a>\n",
      "<a class=\"mzr-left-menu-item uk-link-reset\" href=\"/base_of_food/food_24517/?utm_source=leftMenu&amp;utm_medium=base_of_food\">\n",
      "<div class=\"mzr-left-menu-item-image\"><img alt=\"\" src=\"//159523.selcdn.ru/assets/repo/table_calorie/group_image/32/24517.png\"/></div>\n",
      "<span>Орехи и семена</span>\n",
      "</a>\n",
      "<a class=\"mzr-left-menu-item uk-link-reset\" href=\"/base_of_food/food_24506/?utm_source=leftMenu&amp;utm_medium=base_of_food\">\n",
      "<div class=\"mzr-left-menu-item-image\"><img alt=\"\" src=\"//159523.selcdn.ru/assets/repo/table_calorie/group_image/32/24506.png\"/></div>\n",
      "<span>Полуфабрикаты</span>\n",
      "</a>\n",
      "<a class=\"mzr-left-menu-item uk-link-reset\" href=\"/base_of_food/food_24501/?utm_source=leftMenu&amp;utm_medium=base_of_food\">\n",
      "<div class=\"mzr-left-menu-item-image\"><img alt=\"\" src=\"//159523.selcdn.ru/assets/repo/table_calorie/group_image/32/24501.png\"/></div>\n",
      "<span>Птица</span>\n",
      "</a>\n",
      "<a class=\"mzr-left-menu-item uk-link-reset\" href=\"/base_of_food/food_24527/?utm_source=leftMenu&amp;utm_medium=base_of_food\">\n",
      "<div class=\"mzr-left-menu-item-image\"><img alt=\"\" src=\"//159523.selcdn.ru/assets/repo/table_calorie/group_image/32/24527.png\"/></div>\n",
      "<span>Ресторанная еда</span>\n",
      "</a>\n",
      "<a class=\"mzr-left-menu-item uk-link-reset\" href=\"/base_of_food/food_24518/?utm_source=leftMenu&amp;utm_medium=base_of_food\">\n",
      "<div class=\"mzr-left-menu-item-image\"><img alt=\"\" src=\"//159523.selcdn.ru/assets/repo/table_calorie/group_image/32/24518.png\"/></div>\n",
      "<span>Рыба и морепродукты</span>\n",
      "</a>\n",
      "<a class=\"mzr-left-menu-item uk-link-reset\" href=\"/base_of_food/food_24503/?utm_source=leftMenu&amp;utm_medium=base_of_food\">\n",
      "<div class=\"mzr-left-menu-item-image\"><img alt=\"\" src=\"//159523.selcdn.ru/assets/repo/table_calorie/group_image/32/24503.png\"/></div>\n",
      "<span>Свинина</span>\n",
      "</a>\n",
      "<a class=\"mzr-left-menu-item uk-link-reset\" href=\"/base_of_food/food_24528/?utm_source=leftMenu&amp;utm_medium=base_of_food\">\n",
      "<div class=\"mzr-left-menu-item-image\"><img alt=\"\" src=\"//159523.selcdn.ru/assets/repo/table_calorie/group_image/32/24528.png\"/></div>\n",
      "<span>Снеки</span>\n",
      "</a>\n",
      "<a class=\"mzr-left-menu-item uk-link-reset\" href=\"/base_of_food/food_24511/?utm_source=leftMenu&amp;utm_medium=base_of_food\">\n",
      "<div class=\"mzr-left-menu-item-image\"><img alt=\"\" src=\"//159523.selcdn.ru/assets/repo/table_calorie/group_image/32/24511.png\"/></div>\n",
      "<span>Соки</span>\n",
      "</a>\n",
      "<a class=\"mzr-left-menu-item uk-link-reset\" href=\"/base_of_food/food_24504/?utm_source=leftMenu&amp;utm_medium=base_of_food\">\n",
      "<div class=\"mzr-left-menu-item-image\"><img alt=\"\" src=\"//159523.selcdn.ru/assets/repo/table_calorie/group_image/32/24504.png\"/></div>\n",
      "<span>Сосиски и колбаса</span>\n",
      "</a>\n",
      "<a class=\"mzr-left-menu-item uk-link-reset\" href=\"/base_of_food/food_24514/?utm_source=leftMenu&amp;utm_medium=base_of_food\">\n",
      "<div class=\"mzr-left-menu-item-image\"><img alt=\"\" src=\"//159523.selcdn.ru/assets/repo/table_calorie/group_image/32/24514.png\"/></div>\n",
      "<span>Травы, специи и соусы</span>\n",
      "</a>\n",
      "<a class=\"mzr-left-menu-item uk-link-reset\" href=\"/base_of_food/food_24529/?utm_source=leftMenu&amp;utm_medium=base_of_food\">\n",
      "<div class=\"mzr-left-menu-item-image\"><img alt=\"\" src=\"//159523.selcdn.ru/assets/repo/table_calorie/group_image/32/24529.png\"/></div>\n",
      "<span>Фаст-фуд</span>\n",
      "</a>\n",
      "<a class=\"mzr-left-menu-item uk-link-reset\" href=\"/base_of_food/food_24516/?utm_source=leftMenu&amp;utm_medium=base_of_food\">\n",
      "<div class=\"mzr-left-menu-item-image\"><img alt=\"\" src=\"//159523.selcdn.ru/assets/repo/table_calorie/group_image/32/24516.png\"/></div>\n",
      "<span>Фрукты и ягоды</span>\n",
      "</a>\n",
      "<a class=\"mzr-left-menu-item uk-link-reset\" href=\"/base_of_food/food_24524/?utm_source=leftMenu&amp;utm_medium=base_of_food\">\n",
      "<div class=\"mzr-left-menu-item-image\"><img alt=\"\" src=\"//159523.selcdn.ru/assets/repo/table_calorie/group_image/32/24524.png\"/></div>\n",
      "<span>Хлеб и выпечка</span>\n",
      "</a>\n",
      "<a class=\"mzr-left-menu-item uk-link-reset\" href=\"/base_of_food/food_24520/?utm_source=leftMenu&amp;utm_medium=base_of_food\">\n",
      "<div class=\"mzr-left-menu-item-image\"><img alt=\"\" src=\"//159523.selcdn.ru/assets/repo/table_calorie/group_image/32/24520.png\"/></div>\n",
      "<span>Яйца и продукты из яиц</span>\n",
      "</a>\n",
      "<a class=\"mzr-left-menu-item uk-link-reset mzr-left-menu-item-header\" href=\"/base_of_meals/?utm_source=leftMenu&amp;utm_medium=base_of_meals\">\n",
      "<span>Готовые блюда и рецепты</span>\n",
      "</a>\n",
      "<a class=\"mzr-left-menu-item uk-link-reset\" href=\"/base_of_meals/meals_21252/?utm_source=leftMenu&amp;utm_medium=base_of_meals\">\n",
      "<div class=\"mzr-left-menu-item-image\"><img alt=\"\" src=\"//159523.selcdn.ru/assets/repo/table_calorie/group_image/32/21252.png\"/></div>\n",
      "<span>Варенье и джемы</span>\n",
      "</a>\n",
      "<a class=\"mzr-left-menu-item uk-link-reset\" href=\"/base_of_meals/meals_21243/?utm_source=leftMenu&amp;utm_medium=base_of_meals\">\n",
      "<div class=\"mzr-left-menu-item-image\"><img alt=\"\" src=\"//159523.selcdn.ru/assets/repo/table_calorie/group_image/32/21243.png\"/></div>\n",
      "<span>Вторые блюда</span>\n",
      "</a>\n",
      "<a class=\"mzr-left-menu-item uk-link-reset\" href=\"/base_of_meals/meals_21249/?utm_source=leftMenu&amp;utm_medium=base_of_meals\">\n",
      "<div class=\"mzr-left-menu-item-image\"><img alt=\"\" src=\"//159523.selcdn.ru/assets/repo/table_calorie/group_image/32/21249.png\"/></div>\n",
      "<span>Выпечка</span>\n",
      "</a>\n",
      "<a class=\"mzr-left-menu-item uk-link-reset\" href=\"/base_of_meals/meals_21244/?utm_source=leftMenu&amp;utm_medium=base_of_meals\">\n",
      "<div class=\"mzr-left-menu-item-image\"><img alt=\"\" src=\"//159523.selcdn.ru/assets/repo/table_calorie/group_image/32/21244.png\"/></div>\n",
      "<span>Гарниры</span>\n",
      "</a>\n",
      "<a class=\"mzr-left-menu-item uk-link-reset\" href=\"/base_of_meals/meals_21245/?utm_source=leftMenu&amp;utm_medium=base_of_meals\">\n",
      "<div class=\"mzr-left-menu-item-image\"><img alt=\"\" src=\"//159523.selcdn.ru/assets/repo/table_calorie/group_image/32/21245.png\"/></div>\n",
      "<span>Десерты</span>\n",
      "</a>\n",
      "<a class=\"mzr-left-menu-item uk-link-reset\" href=\"/base_of_meals/meals_21254/?utm_source=leftMenu&amp;utm_medium=base_of_meals\">\n",
      "<div class=\"mzr-left-menu-item-image\"><img alt=\"\" src=\"//159523.selcdn.ru/assets/repo/table_calorie/group_image/32/21254.png\"/></div>\n",
      "<span>Заготовки</span>\n",
      "</a>\n",
      "<a class=\"mzr-left-menu-item uk-link-reset\" href=\"/base_of_meals/meals_21250/?utm_source=leftMenu&amp;utm_medium=base_of_meals\">\n",
      "<div class=\"mzr-left-menu-item-image\"><img alt=\"\" src=\"//159523.selcdn.ru/assets/repo/table_calorie/group_image/32/21250.png\"/></div>\n",
      "<span>Закуски</span>\n",
      "</a>\n",
      "<a class=\"mzr-left-menu-item uk-link-reset\" href=\"/base_of_meals/meals_21247/?utm_source=leftMenu&amp;utm_medium=base_of_meals\">\n",
      "<div class=\"mzr-left-menu-item-image\"><img alt=\"\" src=\"//159523.selcdn.ru/assets/repo/table_calorie/group_image/32/21247.png\"/></div>\n",
      "<span>Каши</span>\n",
      "</a>\n",
      "<a class=\"mzr-left-menu-item uk-link-reset\" href=\"/base_of_meals/meals_21248/?utm_source=leftMenu&amp;utm_medium=base_of_meals\">\n",
      "<div class=\"mzr-left-menu-item-image\"><img alt=\"\" src=\"//159523.selcdn.ru/assets/repo/table_calorie/group_image/32/21248.png\"/></div>\n",
      "<span>Напитки</span>\n",
      "</a>\n",
      "<a class=\"mzr-left-menu-item uk-link-reset\" href=\"/base_of_meals/meals_21242/?utm_source=leftMenu&amp;utm_medium=base_of_meals\">\n",
      "<div class=\"mzr-left-menu-item-image\"><img alt=\"\" src=\"//159523.selcdn.ru/assets/repo/table_calorie/group_image/32/21242.png\"/></div>\n",
      "<span>Первые блюда</span>\n",
      "</a>\n",
      "<a class=\"mzr-left-menu-item uk-link-reset\" href=\"/base_of_meals/meals_21253/?utm_source=leftMenu&amp;utm_medium=base_of_meals\">\n",
      "<div class=\"mzr-left-menu-item-image\"><img alt=\"\" src=\"//159523.selcdn.ru/assets/repo/table_calorie/group_image/32/21253.png\"/></div>\n",
      "<span>Полуфабрикаты</span>\n",
      "</a>\n",
      "<a class=\"mzr-left-menu-item uk-link-reset\" href=\"/base_of_meals/meals_21241/?utm_source=leftMenu&amp;utm_medium=base_of_meals\">\n",
      "<div class=\"mzr-left-menu-item-image\"><img alt=\"\" src=\"//159523.selcdn.ru/assets/repo/table_calorie/group_image/32/21241.png\"/></div>\n",
      "<span>Салаты</span>\n",
      "</a>\n",
      "<a class=\"mzr-left-menu-item uk-link-reset\" href=\"/base_of_meals/meals_21251/?utm_source=leftMenu&amp;utm_medium=base_of_meals\">\n",
      "<div class=\"mzr-left-menu-item-image\"><img alt=\"\" src=\"//159523.selcdn.ru/assets/repo/table_calorie/group_image/32/21251.png\"/></div>\n",
      "<span>Соусы и заправки</span>\n",
      "</a>\n",
      "<a class=\"mzr-left-menu-item uk-link-reset mzr-left-menu-item-header\" href=\"/diary/foodDiary?utm_source=leftMenu&amp;utm_medium=diary\">\n",
      "<span>Питание и тренировки</span>\n",
      "</a>\n",
      "<a class=\"mzr-left-menu-item uk-link-reset mod-level-0\" href=\"/loseWeight/step1?utm_source=leftMenu&amp;utm_medium=loseWeight\">\n",
      "<svg class=\"uk-margin-small-right uk-flex-item-none mod-svg-item\" style=\"fill: currentcolor; display:inline-block; height:16px; width:16px; user-select:none;fill:var(--color--secondary-midtone);\" viewbox=\"0 0 16 16\">\n",
      "<path clip-rule=\"evenodd\" d=\"M0.842102 1.22856L0.842115 1.22519V1.22104C0.842115 0.988499 1.03063 0.799988 1.26317 0.799988L1.2669 0.800004L1.27067 0.799988H4.21053H12.6316H15.5714C15.8081 0.799988 16 0.991866 16 1.22856C16 1.46525 15.8081 1.65713 15.5714 1.65713L13.4737 1.65713V4.22856C13.4737 4.70195 13.0967 5.0857 12.6316 5.0857H4.21053C3.74545 5.0857 3.36842 4.70195 3.36842 4.22856V1.65713L1.68422 1.65713L1.68422 4.30164C2.17482 4.47814 2.52632 4.95438 2.52632 5.51419C2.52632 6.22427 1.96078 6.7999 1.26316 6.7999C0.565535 6.7999 0 6.22427 0 5.51419C0 4.95438 0.351502 4.47813 0.842114 4.30163L0.842115 1.23193L0.842102 1.22856ZM4.21053 1.65713H12.6316V4.22856H4.21053L4.21053 1.65713ZM5.05262 6.79996H12.2174L12.2181 6.79996L14.3158 6.79996V8.51425H5.05262V6.79996ZM14.3158 5.94282H12.2181H5.05262C4.58754 5.94282 4.21052 6.32657 4.21052 6.79996V8.51425C4.21052 8.98763 4.58754 9.37139 5.05262 9.37139H12.2095L12.2181 9.37147H15.5714C15.8081 9.37147 16 9.17959 16 8.9429C16 8.70621 15.8081 8.51433 15.5714 8.51433H15.1579V8.51425V6.79996L15.5714 6.79996C15.8081 6.79996 16 6.60808 16 6.37139C16 6.1347 15.8081 5.94282 15.5714 5.94282H14.3158ZM2.52632 11.0856H10.5338H12.6316V13.657H2.52632V11.0856ZM13.4737 11.0856V13.657V13.6572H13.8872C14.1239 13.6572 14.3158 13.849 14.3158 14.0857C14.3158 14.3224 14.1239 14.5143 13.8872 14.5143H10.5338L10.524 14.5142H2.52633C2.06124 14.5142 1.68422 14.1304 1.68422 13.657V11.0856C1.68422 10.6122 2.06124 10.2285 2.52632 10.2285H10.5338H12.6316H13.8872C14.1239 10.2285 14.3158 10.4204 14.3158 10.657C14.3158 10.8937 14.1239 11.0856 13.8872 11.0856H13.4737ZM1.52632 5.51419C1.52632 5.68875 1.39188 5.7999 1.26316 5.7999C1.13443 5.7999 1 5.68875 1 5.51419C1 5.33963 1.13443 5.22848 1.26316 5.22848C1.39188 5.22848 1.52632 5.33963 1.52632 5.51419Z\" fill-rule=\"evenodd\"></path> </svg>\n",
      "<span>Курс похудения</span>\n",
      "</a>\n",
      "<a class=\"mzr-left-menu-item uk-link-reset mod-level-0\" href=\"/diary/foodDiary?utm_source=leftMenu&amp;utm_medium=diary\">\n",
      "<svg class=\"uk-margin-small-right uk-flex-item-none mod-svg-item\" style=\"fill: currentcolor; display:inline-block; height:16px; width:16px; user-select:none;fill:var(--color--secondary-midtone);\" viewbox=\"0 0 24 24\">\n",
      "<path d=\"M8.25 0C7.67438 0 7.14844 0.2175 6.75 0.574313C6.35156 0.2175 5.82562 0 5.25 0C4.67438 0 4.14844 0.2175 3.75 0.574313C3.35156 0.2175 2.82563 0 2.25 0C1.00931 0 0 1.00931 0 2.25V8.25C0 10.0605 0.953625 11.0141 1.71975 11.7802C2.43525 12.4959 3 13.0605 3 14.25V21.75C3 22.9907 4.00931 24 5.25 24C6.49069 24 7.5 22.9907 7.5 21.75V14.25C7.5 13.0605 8.06475 12.4959 8.78025 11.7802C9.54638 11.0141 10.5 10.0605 10.5 8.25V2.25C10.5 1.00931 9.49069 0 8.25 0ZM9 8.25C9 9.4395 8.43525 10.0041 7.71975 10.7198C6.95363 11.4859 6 12.4395 6 14.25V21.75C6 22.1646 5.66456 22.5 5.25 22.5C4.83544 22.5 4.5 22.1646 4.5 21.75V14.25C4.5 12.4395 3.54638 11.4859 2.78025 10.7198C2.06475 10.0041 1.5 9.4395 1.5 8.25V2.25C1.5 1.83544 1.83544 1.5 2.25 1.5C2.66456 1.5 3 1.83544 3 2.25V6.75C3 7.16456 3.33544 7.5 3.75 7.5C4.16456 7.5 4.5 7.16456 4.5 6.75V2.25C4.5 1.83544 4.83544 1.5 5.25 1.5C5.66456 1.5 6 1.83544 6 2.25V6.75C6 7.16456 6.33544 7.5 6.75 7.5C7.16456 7.5 7.5 7.16456 7.5 6.75V2.25C7.5 1.83544 7.83544 1.5 8.25 1.5C8.66456 1.5 9 1.83544 9 2.25V8.25ZM22.2803 12.2197C21.5648 11.5041 21 10.9395 21 9.75V2.25C21 1.00931 19.9907 0 18.75 0C17.5093 0 16.5 1.00931 16.5 2.25V9.75C16.5 10.9395 15.9353 11.5041 15.2197 12.2197C14.4536 12.9859 13.5 13.9395 13.5 15.75C13.5 16.0869 13.5593 24 18.75 24C23.9408 24 24 16.0869 24 15.75C24 13.9395 23.0464 12.9859 22.2803 12.2197ZM18.75 22.5C15.0542 22.5 15 15.8233 15 15.75C15 14.5605 15.5648 13.9959 16.2803 13.2803C17.0464 12.5141 18 11.5605 18 9.75V2.25C18 1.83544 18.3354 1.5 18.75 1.5C19.1646 1.5 19.5 1.83544 19.5 2.25V9.75C19.5 11.5605 20.4536 12.5141 21.2197 13.2803C21.9352 13.9959 22.5 14.5605 22.5 15.75C22.5 15.8173 22.4569 22.5 18.75 22.5Z\"></path> </svg>\n",
      "<span>Дневник питания</span>\n",
      "</a>\n",
      "<a class=\"mzr-left-menu-item uk-link-reset mod-level-0\" href=\"/diary/sportDiary?utm_source=leftMenu&amp;utm_medium=diary\">\n",
      "<svg class=\"uk-margin-small-right uk-flex-item-none mod-svg-item\" style=\"fill: currentcolor; display:inline-block; height:16px; width:16px; user-select:none;fill:var(--color--secondary-midtone);\" viewbox=\"0 0 24 24\">\n",
      "<g>\n",
      "<path d=\"M1.84753 8.01943C1.59244 8.01943 1.38564 8.22622 1.38564 8.48131V15.9643C1.38564 16.2194 1.59244 16.4262 1.84753 16.4262H2.09767C2.35276 16.4262 2.55955 16.2194 2.55955 15.9643V8.48131C2.55955 8.22622 2.35276 8.01943 2.09767 8.01943H1.84753ZM0 8.48131C0 7.46095 0.827165 6.63379 1.84753 6.63379H2.09767C3.11803 6.63379 3.9452 7.46095 3.9452 8.48131V15.9643C3.9452 16.9847 3.11803 17.8119 2.09767 17.8119H1.84753C0.827165 17.8119 0 16.9847 0 15.9643V8.48131Z\"></path>\n",
      "<path d=\"M4.47764 6.37588C4.22255 6.37588 4.01576 6.58267 4.01576 6.83776V17.6085C4.01576 17.8636 4.22255 18.0703 4.47764 18.0703H6.37162C6.62671 18.0703 6.8335 17.8636 6.8335 17.6085V6.83776C6.8335 6.58267 6.62671 6.37588 6.37162 6.37588H4.47764ZM2.63011 6.83776C2.63011 5.8174 3.45728 4.99023 4.47764 4.99023H6.37162C7.39198 4.99023 8.21914 5.8174 8.21914 6.83776V17.6085C8.21914 18.6288 7.39198 19.456 6.37162 19.456H4.47764C3.45728 19.456 2.63011 18.6288 2.63011 17.6085V6.83776Z\"></path>\n",
      "<path d=\"M8.75162 11.3075C8.49653 11.3075 8.28974 11.5143 8.28974 11.7694V12.6771C8.28974 12.9322 8.49653 13.139 8.75162 13.139H15.2483C15.5034 13.139 15.7102 12.9322 15.7102 12.6771V11.7694C15.7102 11.5143 15.5034 11.3075 15.2483 11.3075H8.75162ZM6.9041 11.7694C6.9041 10.749 7.73126 9.92188 8.75162 9.92188H15.2483C16.2687 9.92188 17.0959 10.749 17.0959 11.7694V12.6771C17.0959 13.6974 16.2687 14.5246 15.2483 14.5246H8.75162C7.73126 14.5246 6.9041 13.6974 6.9041 12.6771V11.7694Z\"></path>\n",
      "<path d=\"M22.1525 16.4269C22.4076 16.4269 22.6144 16.2201 22.6144 15.965V8.48195C22.6144 8.22686 22.4076 8.02006 22.1525 8.02006H21.9023C21.6472 8.02006 21.4404 8.22686 21.4404 8.48195V15.965C21.4404 16.2201 21.6472 16.4269 21.9023 16.4269H22.1525ZM24 15.965C24 16.9853 23.1728 17.8125 22.1525 17.8125H21.9023C20.882 17.8125 20.0548 16.9853 20.0548 15.965V8.48195C20.0548 7.46159 20.882 6.63442 21.9023 6.63442H22.1525C23.1728 6.63442 24 7.46159 24 8.48195V15.965Z\"></path>\n",
      "<path d=\"M19.5222 18.0704C19.7773 18.0704 19.9841 17.8636 19.9841 17.6085V6.83782C19.9841 6.58273 19.7773 6.37594 19.5222 6.37594H17.6283C17.3732 6.37594 17.1664 6.58273 17.1664 6.83782V17.6085C17.1664 17.8636 17.3732 18.0704 17.6283 18.0704H19.5222ZM21.3698 17.6085C21.3698 18.6289 20.5426 19.4561 19.5222 19.4561H17.6283C16.6079 19.4561 15.7807 18.6289 15.7807 17.6085L15.7807 6.83782C15.7807 5.81746 16.6079 4.9903 17.6283 4.9903H19.5222C20.5426 4.9903 21.3698 5.81746 21.3698 6.83782V17.6085Z\"></path>\n",
      "</g> </svg>\n",
      "<span>Дневник тренировок</span>\n",
      "</a>\n",
      "<a class=\"mzr-left-menu-item uk-link-reset mod-level-0\" href=\"/diary/measuring?utm_source=leftMenu&amp;utm_medium=diary\">\n",
      "<svg class=\"uk-margin-small-right uk-flex-item-none mod-svg-item\" style=\"fill: currentcolor; display:inline-block; height:16px; width:16px; user-select:none;fill:var(--color--secondary-midtone);\" viewbox=\"0 0 24 24\">\n",
      "<g>\n",
      "<path d=\"M17.1429 0H6.85715C5.03852 0 3.29438 0.722446 2.00841 2.00841C0.722443 3.29437 0 5.03851 0 6.85713V21.4285C0 22.1105 0.270919 22.7645 0.753153 23.2468C1.23539 23.7291 1.88945 24 2.57143 24H21.4286C22.1105 24 22.7647 23.7291 23.2468 23.2468C23.7291 22.7645 24 22.1105 24 21.4285V6.85713C24 5.03851 23.2776 3.29437 21.9916 2.00841C20.7056 0.722446 18.9615 0 17.1429 0ZM22.2857 21.4285C22.2857 21.6558 22.1954 21.8739 22.0346 22.0346C21.874 22.1954 21.6559 22.2856 21.4286 22.2856H2.57143C2.3441 22.2856 2.12609 22.1954 1.96534 22.0346C1.8046 21.8739 1.71429 21.6558 1.71429 21.4285V6.85713C1.71429 5.49316 2.25613 4.18506 3.2206 3.22059C4.18508 2.25612 5.49318 1.71429 6.85715 1.71429H17.1429C18.5068 1.71429 19.8149 2.25612 20.7794 3.22059C21.7439 4.18506 22.2857 5.49316 22.2857 6.85713V21.4285Z\"></path>\n",
      "<path d=\"M14.182 8.12504L12.8764 12.2558C12.8422 12.3643 12.8292 12.478 12.8384 12.5904C12.8475 12.7029 12.8786 12.8119 12.9298 12.9111C12.981 13.0104 13.0514 13.098 13.1368 13.1691C13.2223 13.24 13.3211 13.293 13.4279 13.3249C13.6036 13.3774 13.793 13.3706 13.9676 13.3055C14.0928 13.2586 14.2062 13.1834 14.2989 13.0855C14.3916 12.9876 14.461 12.8699 14.5014 12.7417L15.807 8.61089C15.8763 8.39178 15.8571 8.15605 15.7537 7.95556C15.6503 7.75507 15.4712 7.60624 15.2556 7.54181C15.149 7.50991 15.0365 7.49969 14.9248 7.51173C14.8131 7.52378 14.7044 7.55786 14.6046 7.61201C14.4033 7.72139 14.2512 7.90594 14.182 8.12504Z\"></path>\n",
      "<path d=\"M4.07086 7.27089L3.48755 6.64449C3.23551 6.89833 3.1621 7.28855 3.30356 7.62247L4.07086 7.27089ZM11.8112 4.55816L11.8389 5.42969C12.2909 5.41413 12.6497 5.02853 12.6497 4.55816H11.8112ZM6.95073 14.0689L6.18344 14.4205C6.27683 14.6409 6.45374 14.8114 6.67222 14.8913C6.89069 14.9715 7.13126 14.9539 7.33686 14.843L6.95073 14.0689ZM11.9886 12.7115L12.0076 11.8397C11.9951 11.8393 11.9826 11.8393 11.97 11.8396L11.9886 12.7115ZM16.915 14.0689L16.522 14.8393C16.7288 14.9533 16.9722 14.9724 17.1931 14.8916C17.414 14.8108 17.5923 14.6375 17.685 14.414L16.915 14.0689ZM19.7309 7.2709L20.5009 7.6159C20.6373 7.28648 20.5659 6.90375 20.3209 6.65135L19.7309 7.2709ZM12.1705 4.55845H11.332C11.332 5.02835 11.69 5.41372 12.1415 5.42994L12.1705 4.55845ZM12.1705 4.55169H13.009C13.009 4.07009 12.6336 3.67969 12.1705 3.67969V4.55169ZM11.9886 4.55343L11.9733 5.42528C11.9834 5.42548 11.9935 5.42548 12.0037 5.42529L11.9886 4.55343ZM11.8112 4.55169V3.67969C11.3481 3.67969 10.9727 4.0701 10.9727 4.55169H11.8112ZM4.65415 7.8973C5.52306 7.02217 6.81804 6.41168 8.1957 6.01459C9.56044 5.62121 10.9217 5.46127 11.8389 5.42969L11.7835 3.68664C10.7561 3.72201 9.26048 3.89793 7.74781 4.33394C6.24804 4.76623 4.64513 5.47864 3.48755 6.64449L4.65415 7.8973ZM7.71803 13.7173L4.83815 6.91932L3.30356 7.62247L6.18344 14.4205L7.71803 13.7173ZM11.97 11.8396C9.69836 11.8919 7.45023 12.817 6.56462 13.2949L7.33686 14.843C8.08405 14.4398 10.0759 13.6276 12.0072 13.5832L11.97 11.8396ZM11.9697 13.5832C13.8504 13.6274 15.7931 14.4371 16.522 14.8393L17.3079 13.2986C16.4402 12.8198 14.2367 11.892 12.0076 11.8397L11.9697 13.5832ZM17.685 14.414L20.5009 7.6159L18.9608 6.9259L16.1449 13.7239L17.685 14.414ZM20.3209 6.65135C19.1881 5.48451 17.6195 4.77062 16.1515 4.33716C14.6715 3.90012 13.2075 3.72317 12.1995 3.68698L12.1415 5.42994C13.0371 5.46209 14.364 5.62231 15.6935 6.01486C17.0352 6.41101 18.295 7.01917 19.1408 7.89046L20.3209 6.65135ZM11.332 4.55169V4.55845H13.009V4.55169H11.332ZM12.0037 5.42529C12.0618 5.4242 12.1175 5.42369 12.1705 5.42369V3.67969C12.107 3.67969 12.0414 3.6803 11.9735 3.68157L12.0037 5.42529ZM12.0039 3.68157C11.9376 3.68032 11.8733 3.67969 11.8112 3.67969V5.42369C11.8626 5.42369 11.9167 5.42421 11.9733 5.42528L12.0039 3.68157ZM10.9727 4.55169V4.55816H12.6497V4.55169H10.9727Z\"></path>\n",
      "</g> </svg>\n",
      "<span>Вес и измерения</span>\n",
      "</a>\n",
      "<a class=\"mzr-left-menu-item uk-link-reset mod-level-0\" href=\"/people/commonFeed?utm_source=leftMenu&amp;utm_medium=people\">\n",
      "<svg class=\"uk-margin-small-right uk-flex-item-none mod-svg-item\" style=\"fill: currentcolor; display:inline-block; height:16px; width:16px; user-select:none;fill:var(--color--secondary-midtone);\" viewbox=\"0 0 20 20\">\n",
      "<g>\n",
      "<path clip-rule=\"evenodd\" d=\"M1 1.85714C1 1.38376 1.38376 1 1.85714 1C4.10837 1 6.33756 1.44341 8.41743 2.30492C10.4973 3.16643 12.3871 4.42916 13.979 6.02103C15.5708 7.61289 16.8336 9.5027 17.6951 11.5826C18.5566 13.6624 19 15.8916 19 18.1429C19 18.6162 18.6162 19 18.1429 19C17.6695 19 17.2857 18.6162 17.2857 18.1429C17.2857 16.1167 16.8866 14.1105 16.1113 12.2386C15.3359 10.3667 14.1995 8.66588 12.7668 7.23321C11.3341 5.80053 9.63328 4.66407 7.7614 3.88872C5.88952 3.11336 3.88325 2.71429 1.85714 2.71429C1.38376 2.71429 1 2.33053 1 1.85714Z\" fill-rule=\"evenodd\"></path>\n",
      "<path clip-rule=\"evenodd\" d=\"M1 7.57199C1 7.0986 1.38376 6.71484 1.85714 6.71484C3.35796 6.71484 4.84409 7.01045 6.23067 7.58479C7.61725 8.15913 8.87712 9.00095 9.93836 10.0622C10.9996 11.1234 11.8414 12.3833 12.4158 13.7699C12.9901 15.1565 13.2857 16.6426 13.2857 18.1434C13.2857 18.6168 12.902 19.0006 12.4286 19.0006C11.9552 19.0006 11.5714 18.6168 11.5714 18.1434C11.5714 16.8677 11.3202 15.6045 10.832 14.4259C10.3438 13.2473 9.62823 12.1764 8.72618 11.2744C7.82413 10.3723 6.75323 9.65677 5.57464 9.16859C4.39605 8.6804 3.13284 8.42913 1.85714 8.42913C1.38376 8.42913 1 8.04537 1 7.57199Z\" fill-rule=\"evenodd\"></path>\n",
      "<path d=\"M6.14285 15.9993C6.14285 17.1828 5.18346 18.1422 4 18.1422C2.81653 18.1422 1.85714 17.1828 1.85714 15.9993C1.85714 14.8158 2.81653 13.8564 4 13.8564C5.18346 13.8564 6.14285 14.8158 6.14285 15.9993Z\"></path>\n",
      "</g> </svg>\n",
      "<span>Общая лента</span>\n",
      "</a>\n",
      "<a class=\"mzr-left-menu-item uk-link-reset mod-level-0\" href=\"/recipe/?utm_source=leftMenu&amp;utm_medium=recipe\">\n",
      "<svg class=\"uk-margin-small-right uk-flex-item-none mod-svg-item\" style=\"fill: currentcolor; display:inline-block; height:16px; width:16px; user-select:none;fill:var(--color--secondary-midtone);\" viewbox=\"0 0 24 24\">\n",
      "<g>\n",
      "<path d=\"M21.128 1.40624H21.1781C21.5666 1.40624 21.8812 1.09149 21.8812 0.703124C21.8812 0.314757 21.5666 0 21.1781 0H4.98582C3.55997 0 2.4 1.15997 2.4 2.586V21.4141C2.4 22.84 3.55997 24 4.98582 24H19.2952C20.7211 24 21.8812 22.84 21.8812 21.4141V6.35155C21.8812 5.64129 21.5933 4.99712 21.1282 4.52929V1.40624H21.128ZM4.98582 1.40624H19.7218V3.80145C19.5829 3.77838 19.4405 3.76574 19.2952 3.76574H4.98582C4.33542 3.76574 3.80625 3.23657 3.80625 2.586C3.80625 1.93542 4.33542 1.40624 4.98582 1.40624ZM20.4751 21.4141C20.4751 22.0645 19.9459 22.5937 19.2952 22.5937H4.98582C4.33542 22.5937 3.80625 22.0645 3.80625 21.4141V4.8869C4.16019 5.06909 4.56119 5.17199 4.98582 5.17199H19.2952C19.5488 5.17199 19.7838 5.25274 19.9764 5.38934C19.9933 5.40325 20.0107 5.41644 20.0288 5.4287C20.3005 5.64495 20.4751 5.9782 20.4751 6.35155V21.4141Z\"></path>\n",
      "<path d=\"M14.7764 8.96155C14.7112 8.96155 14.6456 8.96356 14.5801 8.9674C13.9526 8.29724 13.0684 7.90723 12.1406 7.90723C11.2128 7.90723 10.3286 8.29706 9.70126 8.9674C9.63552 8.96356 9.56997 8.96155 9.50479 8.96155C7.66348 8.96155 6.16568 10.4595 6.16568 12.3006C6.16568 13.9007 7.2969 15.2413 8.80166 15.5653V19.1541C8.80166 19.5425 9.11642 19.8572 9.50479 19.8572H14.7766C15.1647 19.8572 15.4797 19.5425 15.4797 19.1541V15.5653C16.9843 15.2415 18.1157 13.9007 18.1157 12.3006C18.1157 10.4595 16.6177 8.96155 14.7764 8.96155ZM10.2079 18.451V17.5979H14.0735V18.451H10.2079ZM14.7764 14.2335C14.3882 14.2335 14.0733 14.5483 14.0733 14.9366V16.1916H10.2077V14.9366C10.2077 14.5483 9.89296 14.2335 9.5046 14.2335C8.43893 14.2335 7.57192 13.3663 7.57192 12.3006C7.57192 11.235 8.43893 10.3679 9.5046 10.3679C9.62435 10.3679 9.74648 10.3795 9.86751 10.4024C10.1359 10.4531 10.4099 10.3436 10.5694 10.1215C10.9325 9.6156 11.5199 9.31348 12.1406 9.31348C12.7613 9.31348 13.3487 9.6156 13.7118 10.1215C13.8713 10.3438 14.1452 10.4533 14.4138 10.4024C14.5347 10.3795 14.6568 10.3679 14.7766 10.3679C15.8422 10.3679 16.7094 11.235 16.7094 12.3006C16.7094 13.3663 15.8422 14.2335 14.7764 14.2335Z\"></path>\n",
      "</g> </svg>\n",
      "<span>Рецепты</span>\n",
      "</a>\n",
      "<a class=\"mzr-left-menu-item uk-link-reset mod-level-0\" href=\"/article/?utm_source=leftMenu&amp;utm_medium=article\">\n",
      "<svg class=\"uk-margin-small-right uk-flex-item-none mod-svg-item\" style=\"fill: currentcolor; display:inline-block; height:16px; width:16px; user-select:none;fill:var(--color--secondary-midtone);\" viewbox=\"0 0 24 24\">\n",
      "<g>\n",
      "<path clip-rule=\"evenodd\" d=\"M17.6062 1.30469C18.0412 1.30469 18.3938 1.65731 18.3938 2.0923V9.71397H23.2124C23.6474 9.71397 24 10.0666 24 10.5016V18.9109C24 20.9512 22.322 22.5015 20.4092 22.5015C18.369 22.5015 16.8186 20.8237 16.8186 18.9109V2.0923C16.8186 1.65731 17.1712 1.30469 17.6062 1.30469ZM18.3938 11.2892V18.9109C18.3938 19.988 19.2728 20.9263 20.4092 20.9263C21.4864 20.9263 22.4248 20.0472 22.4248 18.9109V11.2892H18.3938Z\" fill-rule=\"evenodd\"></path>\n",
      "<path clip-rule=\"evenodd\" d=\"M0 2.0923C0 1.65731 0.352624 1.30469 0.787608 1.30469H17.6062C18.0412 1.30469 18.3938 1.65731 18.3938 2.0923V18.9109C18.3938 19.7889 18.9266 20.5141 19.724 20.7799C20.0456 20.8871 20.2625 21.1881 20.2625 21.5271V21.7139C20.2625 22.1489 19.9099 22.5015 19.4749 22.5015H3.5907C1.55034 22.5015 0 20.8237 0 18.9109V2.0923ZM1.57522 2.8799V18.9109C1.57522 19.988 2.45422 20.9263 3.5907 20.9263H17.4332C17.0412 20.3522 16.8186 19.6571 16.8186 18.9109V2.8799H1.57522Z\" fill-rule=\"evenodd\"></path>\n",
      "<path clip-rule=\"evenodd\" d=\"M4.29813 7.51124C4.29813 7.07626 4.65075 6.72363 5.08573 6.72363H12.5607C12.9957 6.72363 13.3483 7.07626 13.3483 7.51124C13.3483 7.94623 12.9957 8.29885 12.5607 8.29885H5.08573C4.65075 8.29885 4.29813 7.94623 4.29813 7.51124Z\" fill-rule=\"evenodd\"></path>\n",
      "<path clip-rule=\"evenodd\" d=\"M4.29813 11.2495C4.29813 10.8145 4.65075 10.4619 5.08573 10.4619H8.8232C9.25818 10.4619 9.6108 10.8145 9.6108 11.2495C9.6108 11.6845 9.25818 12.0371 8.8232 12.0371H5.08573C4.65075 12.0371 4.29813 11.6845 4.29813 11.2495Z\" fill-rule=\"evenodd\"></path>\n",
      "</g> </svg>\n",
      "<span>Статьи</span>\n",
      "</a>\n",
      "<a class=\"mzr-left-menu-item uk-link-reset mod-level-0\" href=\"/people/successStory?utm_source=leftMenu&amp;utm_medium=people\">\n",
      "<svg class=\"uk-margin-small-right uk-flex-item-none mod-svg-item\" style=\"fill: currentcolor; display:inline-block; height:16px; width:16px; user-select:none;fill:var(--color--secondary-midtone);\" viewbox=\"0 0 30 30\">\n",
      "<path d=\"M23.6079 29.9994C23.4301 29.9994 23.2512 29.9555 23.0905 29.8655L15.0002 25.3934L6.91112 29.8655C6.5522 30.0658 6.11078 30.0401 5.77543 29.8034C5.44008 29.5666 5.26865 29.1594 5.33508 28.7544L6.89076 19.2146L3.49547 15.7818C3.07977 15.3608 3.08298 14.6826 3.50404 14.2669C3.92511 13.8512 4.60331 13.8544 5.01901 14.2754L8.79787 18.0961C9.03894 18.3404 9.14929 18.6843 9.09358 19.0218L7.80468 26.9234L14.4817 23.2324C14.8042 23.0546 15.1963 23.0546 15.5188 23.2324L22.1958 26.9234L20.9069 19.0218C20.8523 18.6864 20.9605 18.3436 21.1973 18.1014L26.7054 12.4562L19.1423 11.3012C18.7898 11.2466 18.4866 11.0205 18.3345 10.6969L15.0002 3.5935L11.666 10.6969C11.5139 11.0205 11.2107 11.2466 10.8582 11.3012L1.23373 12.7712C0.650885 12.8633 0.102324 12.4594 0.0123258 11.8733C-0.0766011 11.2884 0.325177 10.7419 0.910166 10.6519L9.96892 9.26875L14.0306 0.616059C14.2063 0.239995 14.5845 0 15.0002 0C15.416 0 15.7942 0.239995 15.9699 0.616059L20.0316 9.26875L29.0903 10.6519C29.4868 10.713 29.8167 10.9905 29.9442 11.3709C30.0717 11.7512 29.9753 12.1723 29.6957 12.4594L23.1097 19.2093L24.6665 28.7544C24.7329 29.1594 24.5604 29.5666 24.2261 29.8034C24.0408 29.933 23.8244 29.9994 23.6079 29.9994Z\"></path> </svg>\n",
      "<span>Истории успеха</span>\n",
      "</a>\n",
      "<a class=\"mzr-left-menu-item uk-link-reset mod-level-0\" href=\"/table_calorie/?utm_source=leftMenu&amp;utm_medium=table_calorie\">\n",
      "<svg class=\"uk-margin-small-right uk-flex-item-none mod-svg-item\" style=\"fill: currentcolor; display:inline-block; height:16px; width:16px; user-select:none;fill:var(--color--secondary-midtone);\" viewbox=\"0 0 16 16\">\n",
      "<g>\n",
      "<path d=\"M7.99997 6.10352e-05C3.58877 6.10352e-05 0 3.58884 0 8.00003C0 12.4112 3.58877 16 7.99997 16C12.4112 16 16 12.4112 16 8.00003C16 3.58883 12.4112 6.10352e-05 7.99997 6.10352e-05ZM4.3949 10.5081L3.41448 9.07249H3.16239V10.5081H2.16739V5.43363H3.16239V8.31913H3.38825L4.21127 6.9972H5.31946L4.18504 8.58545L5.49327 10.5081H4.3949ZM6.6549 9.56454C6.75865 9.7577 6.94381 9.85426 7.19955 9.85426C7.37005 9.85426 7.50931 9.80694 7.61209 9.70805C7.7148 9.60923 7.76882 9.49893 7.76882 9.31414H8.63775L8.64756 9.33173C8.65626 9.69027 8.52134 9.98925 8.24261 10.2307C7.96394 10.4723 7.618 10.5925 7.20487 10.5925C6.67584 10.5925 6.26726 10.425 5.98087 10.0906C5.69454 9.75616 5.55042 9.32641 5.55042 8.80179V8.70335C5.55042 8.18094 5.69402 7.75145 5.97925 7.4148C6.26455 7.07821 6.67213 6.90985 7.20109 6.90985C7.63832 6.90985 7.99097 7.03446 8.2588 7.28365C8.5265 7.53284 8.65615 7.87681 8.64745 8.28339L8.64101 8.31916H7.76882C7.76882 8.12016 7.7185 7.967 7.61799 7.84565C7.51743 7.72436 7.37866 7.65568 7.20154 7.65568C6.948 7.65568 6.75865 7.74989 6.6549 7.9463C6.55102 8.14271 6.48855 8.39191 6.48855 8.70181V8.80004C6.48855 9.11654 6.55102 9.37137 6.6549 9.56454ZM11.2739 10.5081C11.239 10.4513 11.2088 10.3495 11.1838 10.2599C11.1586 10.1703 11.1406 10.0822 11.1297 9.9882C11.0312 10.1609 10.9018 10.3059 10.7411 10.4196C10.5804 10.5333 10.3886 10.591 10.1656 10.591C9.79405 10.591 9.50772 10.4959 9.30663 10.3046C9.10549 10.1133 9.00498 9.85289 9.00498 9.52287C9.00498 9.17524 9.13879 8.90851 9.40662 8.71716C9.67431 8.52595 10.0651 8.43283 10.5788 8.43283H11.1366V8.14598C11.1366 7.97548 11.0801 7.84322 10.9905 7.74921C10.9009 7.65526 10.7628 7.60824 10.5879 7.60824C10.4327 7.60824 10.3101 7.64591 10.226 7.72135C10.1418 7.79673 10.0983 7.90113 10.0983 8.03443L9.17292 8.03119L9.16924 8.01152C9.15399 7.71208 9.28385 7.45359 9.55928 7.23608C9.83471 7.01858 10.1964 6.90982 10.6445 6.90982C11.0686 6.90982 11.4132 7.01754 11.6777 7.23277C11.9421 7.44813 12.0748 7.75466 12.0748 8.15248V9.61816C12.0748 9.78431 12.0869 9.93309 12.1121 10.0796C12.1372 10.226 12.1767 10.3802 12.2314 10.5081H11.2739V10.5081ZM12.8281 10.5081V5.43363H13.8231V10.5081H12.8281Z\"></path>\n",
      "<path d=\"M10.1165 9.10917C10.0116 9.21083 9.95911 9.33983 9.95911 9.4841C9.95911 9.60213 9.99845 9.7003 10.0771 9.77242C10.1558 9.84455 10.2629 9.8821 10.3985 9.8821C10.5668 9.8821 10.7282 9.84138 10.8593 9.75835C10.9905 9.67524 11.0656 9.57986 11.1366 9.47058V8.94452H10.5788C10.3755 8.94453 10.2214 9.00757 10.1165 9.10917Z\"></path>\n",
      "</g> </svg>\n",
      "<span>Таблицы калорийности</span>\n",
      "</a>\n",
      "<a class=\"mzr-left-menu-item uk-link-reset mod-level-0\" href=\"/find?utm_source=leftMenu&amp;utm_medium=find\">\n",
      "<svg class=\"uk-margin-small-right uk-flex-item-none mod-svg-item\" style=\"fill: currentcolor; display:inline-block; height:16px; width:16px; user-select:none;fill:var(--color--secondary-midtone);\" viewbox=\"0 0 36 36\">\n",
      "<g>\n",
      "<path d=\"M1.60678 27.676L11.0119 19.3615C11.6574 20.5089 12.4561 21.5951 13.4291 22.5705C14.4045 23.546 15.4882 24.3423 16.6355 24.9878L8.32609 34.3934C7.45678 35.3758 6.21743 35.9577 4.90756 35.9977C3.59288 36.0378 2.32307 35.536 1.3948 34.6053C0.464252 33.677 -0.0375483 32.4071 0.00235956 31.0948C0.0425035 29.7824 0.624433 28.5455 1.60678 27.676Z\"></path>\n",
      "<path d=\"M15.349 3.53808C20.068 -1.17936 27.7438 -1.17936 32.4628 3.53808C37.1795 8.25726 37.1795 15.9334 32.4605 20.6525C27.7438 25.3694 20.068 25.3694 15.349 20.6525C10.6324 15.9334 10.6324 8.25734 15.349 3.53808ZM18.2281 17.7735C21.3568 20.9024 26.4527 20.9024 29.5838 17.7735C32.7126 14.6423 32.7126 9.54602 29.5838 6.41717C26.4528 3.28595 21.3568 3.28595 18.2257 6.41717C15.0969 9.5461 15.0969 14.6423 18.2281 17.7735Z\"></path>\n",
      "<path d=\"M26.064 8.017C26.2785 7.80258 26.5541 7.69898 26.8321 7.65656C27.2398 7.5976 27.6684 7.70127 27.9842 8.017C30.2342 10.2671 30.2318 13.9261 27.9842 16.1737C27.6684 16.4896 27.2398 16.5932 26.8298 16.5342C26.5517 16.4918 26.2785 16.3882 26.064 16.1737C25.534 15.6437 25.5363 14.7861 26.064 14.2535C27.2561 13.0636 27.2561 11.127 26.064 9.93715C25.534 9.40471 25.5363 8.54708 26.064 8.017Z\"></path>\n",
      "</g> </svg>\n",
      "<span>Поиск</span>\n",
      "</a>\n",
      "<div class=\"mzr-left-menu-bottom\">\n",
      "<a class=\"uk-display-block uk-link-reset uk-text-muted\" href=\"/diary/help\">\n",
      "                        Помощь и обратная связь\n",
      "                    </a>\n",
      "</div>\n",
      "<div id=\"js-mzr-left-menu-bottom-apps\"></div>\n",
      "</div>\n",
      "</aside>\n",
      "</div><!--<div class=\"mzr-grid-left-side\">-->\n",
      "<div class=\"mzr-grid-clear-fix-after-content\"></div>\n",
      "<div class=\"mzr-grid-right-side\" id=\"mzr-grid-right-side\">\n",
      "<div class=\"mzr-column-header\">Интересные блоги</div>\n",
      "<div class=\"mzr-js-show-random-list uk-flex uk-flex-wrap uk-flex-space-between\">\n",
      "<a class=\"mzr-post-interesting-promo mzr-shadow mzr-js-show-random-list-item\" href=\"/people/user/975306/blog/392261/?utm_source=rightColumn&amp;utm_medium=bestPost\">\n",
      "<div class=\"el_inner\">\n",
      "<div class=\"uk-clearfix\">\n",
      "<div class=\"uk-float-left\">\n",
      "<img class=\"mzr-avatar\" src=\"https://fs2.tvoydnevnik.com/api2/image/getById/101/user/50/975306\"/>\n",
      "</div>\n",
      "<div class=\"el_right\">\n",
      "<div class=\"el_author\">Надежда Бобровская</div>\n",
      "<div class=\"el_date\">20-11-2024</div>\n",
      "</div>\n",
      "</div>\n",
      "<div class=\"el_title\">Дневник питания за 20.11.2024</div>\n",
      "<div class=\"el_text\">Всем привет!!  Ну вот расскажите от чего я могла т...</div>\n",
      "</div>\n",
      "<div class=\"mzr-post-preview-bottom-menu\">\n",
      "<span>3</span>\n",
      "<i class=\"uk-icon-thumbs-up\"></i>\n",
      "<span>136</span>\n",
      "<i class=\"uk-icon-comments\"></i>\n",
      "</div>\n",
      "</a>\n",
      "<a class=\"mzr-post-interesting-promo mzr-shadow mzr-js-show-random-list-item\" href=\"/people/user/891159/blog/392301/?utm_source=rightColumn&amp;utm_medium=bestPost\">\n",
      "<div class=\"el_inner\">\n",
      "<div class=\"uk-clearfix\">\n",
      "<div class=\"uk-float-left\">\n",
      "<img class=\"mzr-avatar\" src=\"https://fs2.tvoydnevnik.com/api2/image/getById/101/user/50/891159\"/>\n",
      "</div>\n",
      "<div class=\"el_right\">\n",
      "<div class=\"el_author\">Элли</div>\n",
      "<div class=\"el_date\">21-11-2024</div>\n",
      "</div>\n",
      "</div>\n",
      "<div class=\"el_title\">Дневник тренировок за 20.11.2024</div>\n",
      "<div class=\"el_text\">Всем доброго утра и хорошего настроения!!!:)\n",
      "По ви...</div>\n",
      "</div>\n",
      "<div class=\"mzr-post-preview-bottom-menu\">\n",
      "<span>13</span>\n",
      "<i class=\"uk-icon-thumbs-up\"></i>\n",
      "<span>97</span>\n",
      "<i class=\"uk-icon-comments\"></i>\n",
      "</div>\n",
      "</a>\n",
      "<a class=\"mzr-post-interesting-promo mzr-shadow mzr-js-show-random-list-item\" href=\"/people/user/166234/blog/392406/?utm_source=rightColumn&amp;utm_medium=bestPost\">\n",
      "<div class=\"el_inner\">\n",
      "<div class=\"uk-clearfix\">\n",
      "<div class=\"uk-float-left\">\n",
      "<img class=\"mzr-avatar\" src=\"https://fs2.tvoydnevnik.com/api2/image/getById/101/user/50/166234\"/>\n",
      "</div>\n",
      "<div class=\"el_right\">\n",
      "<div class=\"el_author\">Артем</div>\n",
      "<div class=\"el_date\">22-11-2024</div>\n",
      "</div>\n",
      "</div>\n",
      "<div class=\"el_title\">Дневник питания за 21.11.2024</div>\n",
      "<div class=\"el_text\">Ну штош захотелось написать мотивировочный пост, з...</div>\n",
      "</div>\n",
      "<div class=\"mzr-post-preview-bottom-menu\">\n",
      "<span>7</span>\n",
      "<i class=\"uk-icon-thumbs-up\"></i>\n",
      "<span>55</span>\n",
      "<i class=\"uk-icon-comments\"></i>\n",
      "</div>\n",
      "</a>\n",
      "<a class=\"mzr-post-interesting-promo mzr-shadow mzr-js-show-random-list-item\" href=\"/people/user/486729/blog/391741/?utm_source=rightColumn&amp;utm_medium=bestPost\" style=\"display:none;\">\n",
      "<div class=\"el_inner\">\n",
      "<div class=\"uk-clearfix\">\n",
      "<div class=\"uk-float-left\">\n",
      "<img class=\"mzr-avatar\" src=\"https://fs2.tvoydnevnik.com/api2/image/getById/101/user/50/486729\"/>\n",
      "</div>\n",
      "<div class=\"el_right\">\n",
      "<div class=\"el_author\">ГалинаЯ (ИМТ 24,5)</div>\n",
      "<div class=\"el_date\">15-11-2024</div>\n",
      "</div>\n",
      "</div>\n",
      "<div class=\"el_title\">Дневник питания за 15.11.2024</div>\n",
      "<div class=\"el_text\">Кто рано встаёт, тот Галина.Шла утром, и думала: д...</div>\n",
      "</div>\n",
      "<div class=\"mzr-post-preview-bottom-menu\">\n",
      "<span>15</span>\n",
      "<i class=\"uk-icon-thumbs-up\"></i>\n",
      "<span>46</span>\n",
      "<i class=\"uk-icon-comments\"></i>\n",
      "</div>\n",
      "</a>\n",
      "</div>\n",
      "<div class=\"mzr-column-header\">Лучшие рационы</div>\n",
      "<div class=\"mzr-js-show-random-list uk-flex uk-flex-wrap uk-flex-space-between\">\n",
      "<a class=\"mzr-post-best-food-diary mzr-shadow mzr-js-show-random-list-item\" href=\"/people/user/919198/blog/390489/?utm_source=rightColumn&amp;utm_medium=bestFoodDiary\">\n",
      "<div class=\"el_inner\">\n",
      "<div class=\"uk-clearfix\">\n",
      "<div class=\"uk-float-left\">\n",
      "<img class=\"mzr-avatar\" src=\"https://fs2.tvoydnevnik.com/api2/image/getById/101/user/50/919198\"/>\n",
      "</div>\n",
      "<div class=\"el_right\">\n",
      "<div class=\"el_author\">Танюра</div>\n",
      "<div class=\"el_date\">2024-11-02</div>\n",
      "</div>\n",
      "</div>\n",
      "<div class=\"el_calorie\"><i class=\"flaticon-hot68\"></i> Калорийность: <i>1033 кКал</i></div>\n",
      "<div class=\"el_rating\"><i class=\"flaticon-bar-graph1\"></i> Витамины и минералы: <i>89%</i></div>\n",
      "</div>\n",
      "</a>\n",
      "<a class=\"mzr-post-best-food-diary mzr-shadow mzr-js-show-random-list-item\" href=\"/people/user/943169/blog/391026/?utm_source=rightColumn&amp;utm_medium=bestFoodDiary\">\n",
      "<div class=\"el_inner\">\n",
      "<div class=\"uk-clearfix\">\n",
      "<div class=\"uk-float-left\">\n",
      "<img class=\"mzr-avatar\" src=\"https://fs2.tvoydnevnik.com/api2/image/getById/101/user/50/943169\"/>\n",
      "</div>\n",
      "<div class=\"el_right\">\n",
      "<div class=\"el_author\">Наталья</div>\n",
      "<div class=\"el_date\">2024-11-07</div>\n",
      "</div>\n",
      "</div>\n",
      "<div class=\"el_calorie\"><i class=\"flaticon-hot68\"></i> Калорийность: <i>1125 кКал</i></div>\n",
      "<div class=\"el_rating\"><i class=\"flaticon-bar-graph1\"></i> Витамины и минералы: <i>85%</i></div>\n",
      "</div>\n",
      "</a>\n",
      "<a class=\"mzr-post-best-food-diary mzr-shadow mzr-js-show-random-list-item\" href=\"/people/user/919198/blog/391427/?utm_source=rightColumn&amp;utm_medium=bestFoodDiary\">\n",
      "<div class=\"el_inner\">\n",
      "<div class=\"uk-clearfix\">\n",
      "<div class=\"uk-float-left\">\n",
      "<img class=\"mzr-avatar\" src=\"https://fs2.tvoydnevnik.com/api2/image/getById/101/user/50/919198\"/>\n",
      "</div>\n",
      "<div class=\"el_right\">\n",
      "<div class=\"el_author\">Танюра</div>\n",
      "<div class=\"el_date\">2024-11-12</div>\n",
      "</div>\n",
      "</div>\n",
      "<div class=\"el_calorie\"><i class=\"flaticon-hot68\"></i> Калорийность: <i>1154 кКал</i></div>\n",
      "<div class=\"el_rating\"><i class=\"flaticon-bar-graph1\"></i> Витамины и минералы: <i>85%</i></div>\n",
      "</div>\n",
      "</a>\n",
      "</div>\n",
      "<div class=\"mzr-column-header\">Новые рецепты</div>\n",
      "<div class=\"mzr-js-show-random-list uk-flex uk-flex-wrap uk-flex-space-between\">\n",
      "<a class=\"mzr-post-recipe-preview mzr-shadow mzr-js-show-random-list-item\" href=\"/people/user/988771/blog/392207/?utm_source=rightColumn&amp;utm_medium=recipe\">\n",
      "<div class=\"el_title\">Сырники</div>\n",
      "<div class=\"el_author\">Автор <span class=\"el_author-name\">Татьяна</span></div>\n",
      "<div class=\"el_image\">\n",
      "<img class=\"el_image-avatar mzr-avatar mzr-shadow\" src=\"https://fs2.tvoydnevnik.com/api2/image/getById/101/user/50/988771\"/>\n",
      "<img class=\"el_photo\" src=\"https://fs2.tvoydnevnik.com/api2/image/getById/101/file/240/754765\"/>\n",
      "</div>\n",
      "<div class=\"el_nutrients uk-clearfix\">\n",
      "<div class=\"el_nutrients-item\" title=\"Калорийность на 100 г\">\n",
      "<div class=\"mzr-icon-nutr-calorie\"></div>\n",
      "<div>134.6</div>\n",
      "</div>\n",
      "<div class=\"el_nutrients-item\" title=\"Белки на 100 г\">\n",
      "<div class=\"mzr-icon-nutr-protein\"></div>\n",
      "<div>15.8</div>\n",
      "</div>\n",
      "<div class=\"el_nutrients-item\" title=\"Жиры на 100 г\">\n",
      "<div class=\"mzr-icon-nutr-fat\"></div>\n",
      "<div>4.1</div>\n",
      "</div>\n",
      "<div class=\"el_nutrients-item\" title=\"Углеводы на 100 г\">\n",
      "<div class=\"mzr-icon-nutr-carb\"></div>\n",
      "<div>7.9</div>\n",
      "</div>\n",
      "<div class=\"el_nutrients-item mod--last\" title=\"Рейтинг по нутриентам\">\n",
      "<div class=\"uk-icon-signal\"></div>\n",
      "<div>7</div>\n",
      "</div>\n",
      "</div>\n",
      "<div class=\"mzr-post-preview-bottom-menu\">\n",
      "<span>2</span>\n",
      "<i class=\"uk-icon-thumbs-up\"></i>\n",
      "<span>0</span>\n",
      "<i class=\"uk-icon-comments\"></i>\n",
      "</div>\n",
      "</a>\n",
      "<a class=\"mzr-post-recipe-preview mzr-shadow mzr-js-show-random-list-item\" href=\"/people/user/750887/blog/392249/?utm_source=rightColumn&amp;utm_medium=recipe\">\n",
      "<div class=\"el_title\">Котлеты из кальмара</div>\n",
      "<div class=\"el_author\">Автор <span class=\"el_author-name\">Море Перемен</span></div>\n",
      "<div class=\"el_image\">\n",
      "<img class=\"el_image-avatar mzr-avatar mzr-shadow\" src=\"https://fs2.tvoydnevnik.com/api2/image/getById/101/user/50/750887\"/>\n",
      "<img class=\"el_photo\" src=\"https://fs2.tvoydnevnik.com/api2/image/getById/101/file/240/754870\"/>\n",
      "</div>\n",
      "<div class=\"el_nutrients uk-clearfix\">\n",
      "<div class=\"el_nutrients-item\" title=\"Калорийность на 100 г\">\n",
      "<div class=\"mzr-icon-nutr-calorie\"></div>\n",
      "<div>188</div>\n",
      "</div>\n",
      "<div class=\"el_nutrients-item\" title=\"Белки на 100 г\">\n",
      "<div class=\"mzr-icon-nutr-protein\"></div>\n",
      "<div>14</div>\n",
      "</div>\n",
      "<div class=\"el_nutrients-item\" title=\"Жиры на 100 г\">\n",
      "<div class=\"mzr-icon-nutr-fat\"></div>\n",
      "<div>12.3</div>\n",
      "</div>\n",
      "<div class=\"el_nutrients-item\" title=\"Углеводы на 100 г\">\n",
      "<div class=\"mzr-icon-nutr-carb\"></div>\n",
      "<div>5.2</div>\n",
      "</div>\n",
      "<div class=\"el_nutrients-item mod--last\" title=\"Рейтинг по нутриентам\">\n",
      "<div class=\"uk-icon-signal\"></div>\n",
      "<div>12</div>\n",
      "</div>\n",
      "</div>\n",
      "<div class=\"mzr-post-preview-bottom-menu\">\n",
      "<span>1</span>\n",
      "<i class=\"uk-icon-thumbs-up\"></i>\n",
      "<span>0</span>\n",
      "<i class=\"uk-icon-comments\"></i>\n",
      "</div>\n",
      "</a>\n",
      "<a class=\"mzr-post-recipe-preview mzr-shadow mzr-js-show-random-list-item\" href=\"/people/user/757798/blog/392100/?utm_source=rightColumn&amp;utm_medium=recipe\">\n",
      "<div class=\"el_title\">Говядина по-монгольски с рисом из цветной капусты</div>\n",
      "<div class=\"el_author\">Автор <span class=\"el_author-name\">InnaLandina</span></div>\n",
      "<div class=\"el_image\">\n",
      "<img class=\"el_image-avatar mzr-avatar mzr-shadow\" src=\"https://fs2.tvoydnevnik.com/api2/image/getById/101/user/50/757798\"/>\n",
      "<img class=\"el_photo\" src=\"https://fs2.tvoydnevnik.com/api2/image/getById/101/file/240/753918\"/>\n",
      "</div>\n",
      "<div class=\"el_nutrients uk-clearfix\">\n",
      "<div class=\"el_nutrients-item\" title=\"Калорийность на 100 г\">\n",
      "<div class=\"mzr-icon-nutr-calorie\"></div>\n",
      "<div>245.9</div>\n",
      "</div>\n",
      "<div class=\"el_nutrients-item\" title=\"Белки на 100 г\">\n",
      "<div class=\"mzr-icon-nutr-protein\"></div>\n",
      "<div>15.4</div>\n",
      "</div>\n",
      "<div class=\"el_nutrients-item\" title=\"Жиры на 100 г\">\n",
      "<div class=\"mzr-icon-nutr-fat\"></div>\n",
      "<div>17.5</div>\n",
      "</div>\n",
      "<div class=\"el_nutrients-item\" title=\"Углеводы на 100 г\">\n",
      "<div class=\"mzr-icon-nutr-carb\"></div>\n",
      "<div>6.7</div>\n",
      "</div>\n",
      "<div class=\"el_nutrients-item mod--last\" title=\"Рейтинг по нутриентам\">\n",
      "<div class=\"uk-icon-signal\"></div>\n",
      "<div>0</div>\n",
      "</div>\n",
      "</div>\n",
      "<div class=\"mzr-post-preview-bottom-menu\">\n",
      "<span>1</span>\n",
      "<i class=\"uk-icon-thumbs-up\"></i>\n",
      "<span>0</span>\n",
      "<i class=\"uk-icon-comments\"></i>\n",
      "</div>\n",
      "</a>\n",
      "</div>\n",
      "</div><!--<div class=\"mzr-grid-right-side\">-->\n",
      "</div><!--<div class=\"mzr-grid-3-column\">-->\n",
      "<div class=\"uk-margin-top\"></div>\n",
      "<style>\n",
      "            .banner-blue-balans-method,.banner-blue-balans-method:hover{color:#fff;text-decoration:none}.banner-blue-balans-method{overflow:hidden;box-sizing:border-box;background-color:#5AAADC;font-size:12px;display:block}.banner-blue-balans-method td{padding:0;vertical-align:middle}.banner-blue-balans-method .el-oport{vertical-align:top}.banner-blue-balans-method .el-oport>div{line-height:1.2}.banner-blue-balans-method .el-oport>div:first-of-type{font-size:15px;line-height:1.2;margin-bottom:7px;font-weight:700}.banner-blue-balans-method .el-oport-padding-left{padding-left:15px}.banner-blue-balans-method .el-oport-padding-right{padding-right:15px}.banner-blue-balans-method .el-oport-padding-top{padding-top:5px}.banner-blue-balans-method .el-header{font-size:18px;text-align:center;vertical-align:middle;border-bottom:1px solid #7AC5F7;padding:15px 5px 5px}.banner-blue-balans-method>table{border-collapse:collapse}.banner-blue-balans-method .mod-banner-check{height:40px;width:100px;max-width:none}.banner-blue-balans-method{vertical-align:bottom}.banner-blue-balans-method .mod-banner-girl-wrap>div{height:216px;width:200px}.banner-blue-balans-method .mod-banner-girl-wrap>div>img{height:216px;width:300px;max-width:none;margin-left:-50px}@media (max-width:850px){.banner-blue-balans-method{display:none}}\n",
      "        </style>\n",
      "<a class=\"banner-blue-balans-method uk-margin-bottom\" href=\"/loseWeight/step1?utm_source=tableCalorie&amp;utm_medium=banner&amp;utm_term=banner-blue-balans-method\" title=\"Ознакомиться с методикой бесплатно.\">\n",
      "</a><table class=\"uk-container-center\">\n",
      "<colgroup>\n",
      "<col align=\"left\" width=\"240px\"/>\n",
      "<col align=\"right\" width=\"100px\"/>\n",
      "<col align=\"center\" width=\"200px\"/>\n",
      "<col align=\"left\" width=\"100px\"/>\n",
      "<col align=\"right\" width=\"240px\"/>\n",
      "</colgroup>\n",
      "<tbody>\n",
      "<tr><td class=\"el-header\" colspan=\"5\">СБАЛАНСИРОВАННАЯ МЕТОДИКА СНИЖЕНИЯ ВЕСА</td></tr>\n",
      "<tr>\n",
      "<td class=\"el-oport el-oport-padding-right el-oport-padding-top\">\n",
      "<div>Никаких жёстких диет</div>\n",
      "<div>Питайтесь более полезной едой и</div>\n",
      "<div>становитесь стройнее и здоровее</div>\n",
      "</td>\n",
      "<td>\n",
      "<img alt=\"\" class=\"mod-banner-check\" src=\"https://159523.selcdn.ru/upload/assets/2016/banner-blue-balans-method/left-check.png\"/>\n",
      "</td>\n",
      "<td class=\"mod-banner-girl-wrap\" rowspan=\"3\">\n",
      "<div>\n",
      "<img alt=\"\" src=\"https://159523.selcdn.ru/upload/assets/2016/banner-blue-balans-method/girl.png\"/>\n",
      "</div>\n",
      "</td>\n",
      "<td>\n",
      "<img alt=\"\" class=\"mod-banner-check\" src=\"https://159523.selcdn.ru/upload/assets/2016/banner-blue-balans-method/right-check.png\"/>\n",
      "</td>\n",
      "<td class=\"el-oport el-oport-padding-left el-oport-padding-top\">\n",
      "<div>Дневник питания</div>\n",
      "<div>Контролируйте своё питание и</div>\n",
      "<div>приобретайте полезные привычки</div>\n",
      "</td>\n",
      "</tr>\n",
      "<tr>\n",
      "<td class=\"el-oport el-oport-padding-right\">\n",
      "<div>Честная работа над собой</div>\n",
      "<div>Скорость похудения за счёт жира, а не</div>\n",
      "<div>мышц или воды - не более 5 кг в месяц</div>\n",
      "</td>\n",
      "<td>\n",
      "<img alt=\"\" class=\"mod-banner-check\" src=\"https://159523.selcdn.ru/upload/assets/2016/banner-blue-balans-method/left-check.png\"/>\n",
      "</td>\n",
      "<td>\n",
      "<img alt=\"\" class=\"mod-banner-check\" src=\"https://159523.selcdn.ru/upload/assets/2016/banner-blue-balans-method/right-check.png\"/>\n",
      "</td>\n",
      "<td class=\"el-oport el-oport-padding-left\">\n",
      "<div>Дневник тренировок</div>\n",
      "<div>Почувствуйте разницу между “худым”</div>\n",
      "<div>и “стройным” телом</div>\n",
      "</td>\n",
      "</tr>\n",
      "<tr>\n",
      "<td class=\"el-oport el-oport-padding-right\">\n",
      "<div>Теория и база знаний</div>\n",
      "<div>Всё, что нужно знать о физиологии,</div>\n",
      "<div>чтобы худеть с умом</div>\n",
      "</td>\n",
      "<td>\n",
      "<img alt=\"\" class=\"mod-banner-check\" src=\"https://159523.selcdn.ru/upload/assets/2016/banner-blue-balans-method/left-check.png\"/>\n",
      "</td>\n",
      "<td>\n",
      "<img alt=\"\" class=\"mod-banner-check\" src=\"https://159523.selcdn.ru/upload/assets/2016/banner-blue-balans-method/right-check.png\"/>\n",
      "</td>\n",
      "<td class=\"el-oport el-oport-padding-left\">\n",
      "<div>Сообщество</div>\n",
      "<div>Найдите единомышленников</div>\n",
      "<div>и достигайте цели вместе</div>\n",
      "</td>\n",
      "</tr>\n",
      "</tbody>\n",
      "</table>\n",
      "<footer class=\"uk-margin-top\">\n",
      "<div class=\"mzr-footer\">\n",
      "<div class=\"uk-container uk-container-center\">\n",
      "<div class=\"uk-grid\">\n",
      "<div class=\"uk-width-medium-1-4 uk-width-small-1-2\">\n",
      "<ul>\n",
      "<li><a href=\"/diary/\">ДНЕВНИК ПИТАНИЯ</a></li>\n",
      "<li><a href=\"/recipe/\">РЕЦЕПТЫ</a></li>\n",
      "<li><a href=\"/people/commonFeed/\">БЛОГИ</a></li>\n",
      "<li><a href=\"/article/\">СТАТЬИ</a></li> </ul>\n",
      "</div>\n",
      "<div class=\"uk-width-medium-1-4 uk-width-small-1-2\">\n",
      "<ul>\n",
      "<li><a href=\"/find/\">ПОИСК</a></li>\n",
      "<li><a href=\"/table_calorie/\">ТАБЛИЦА КАЛОРИЙНОСТИ</a></li>\n",
      "<li><a href=\"/base_of_meals/\">КАЛОРИЙНОСТЬ РЕЦЕПТОВ</a></li>\n",
      "<li><a href=\"/otvet/\">ОТВЕТЫ</a></li> </ul>\n",
      "</div>\n",
      "<div class=\"uk-width-medium-1-4 uk-width-small-1-2\">\n",
      "<ul>\n",
      "<li><a href=\"/info/pravoobladatelyam.php\" rel=\"nofollow\">ПРАВООБЛАДАТЕЛЯМ</a></li>\n",
      "<li><a href=\"/diary/help/\" rel=\"nofollow\">СПРАВКА</a></li>\n",
      "<li><a href=\"/diary/help/\" rel=\"nofollow\">ЗАДАТЬ ВОПРОС</a>   <a href=\"/info/contact.php\">КОНТАКТЫ</a></li>\n",
      "<li><a href=\"/info/condition.php\" rel=\"nofollow\">СОГЛАШЕНИЕ</a> <a href=\"/info/rule.php\" rel=\"nofollow\">ПРАВИЛА</a>\n",
      "</li>\n",
      "<!--                                <li><a rel=\"nofollow\" href=\"https://tvoydnevnik.com/info/partner.php\">ПАРТНЕРСТВО</a></li>-->\n",
      "</ul>\n",
      "</div>\n",
      "<div class=\"uk-width-medium-1-4 uk-width-small-1-2\">\n",
      "<div class=\"b-footer__21\"><span>18+</span></div>\n",
      "<p>\n",
      "                                Информация предоставляется\n",
      "                                исключительно в справочных\n",
      "                                целях.<br/>\n",
      "                                Не занимайтесь самолечением.\n",
      "                                Всегда консультируйтесь c врачом.\n",
      "                            </p>\n",
      "</div>\n",
      "</div>\n",
      "</div>\n",
      "</div>\n",
      "<div class=\"mzr-footer-line uk-flex uk-flex-center uk-flex-middle uk-flex-wrap uk-flex-wrap-space-around\">\n",
      "<!--                <div class=\"uk-margin-left\">-->\n",
      "<!--                    <a rel=\"nofollow\" href=\"https://money.yandex.ru\" target=\"_blank\"> <img-->\n",
      "<!--                                src=\"https://money.yandex.ru/img/yamoney_logo88x31.gif\" alt=\"Я принимаю Яндекс.Деньги\"-->\n",
      "<!--                                title=\"Я принимаю Яндекс.Деньги\" border=\"0\" width=\"88\" height=\"31\"/></a>-->\n",
      "<!--                </div>-->\n",
      "<div class=\"uk-margin-left\">\n",
      "</div>\n",
      "<div class=\"uk-margin-left\">© 2009 - 2024 Мой здоровый рацион. Все права защищены.\n",
      "                </div>\n",
      "</div>\n",
      "</footer>\n",
      "<!-- Yandex.Metrika counter -->\n",
      "<script type=\"text/javascript\">\n",
      "            (function (d, w, c) {\n",
      "                (w[c] = w[c] || []).push(function() {\n",
      "                    try {\n",
      "                        w.yaCounter166381 = new Ya.Metrika({\n",
      "                            id:166381,\n",
      "                            clickmap:true,\n",
      "                            trackLinks:true,\n",
      "                            accurateTrackBounce:true,\n",
      "                            trackHash:true,\n",
      "                            ecommerce:\"dataLayer\"\n",
      "                        });\n",
      "\n",
      "                                            } catch(e) { }\n",
      "                });\n",
      "\n",
      "                var n = d.getElementsByTagName(\"script\")[0],\n",
      "                    s = d.createElement(\"script\"),\n",
      "                    f = function () { n.parentNode.insertBefore(s, n); };\n",
      "                s.type = \"text/javascript\";\n",
      "                s.async = true;\n",
      "                s.src = \"https://mc.yandex.ru/metrika/watch.js\";\n",
      "\n",
      "                if (w.opera == \"[object Opera]\") {\n",
      "                    d.addEventListener(\"DOMContentLoaded\", f, false);\n",
      "                } else { f(); }\n",
      "            })(document, window, \"yandex_metrika_callbacks\");\n",
      "        </script>\n",
      "<noscript><div><img alt=\"\" src=\"https://mc.yandex.ru/watch/166381\" style=\"position:absolute; left:-9999px;\"/></div></noscript>\n",
      "<!-- /Yandex.Metrika counter -->\n",
      "<!-- Assets.requirejs:Js  -->\n",
      "<script src=\"https://health-diet.ru/jsApp/v8.133.58/vendor/requirejs/require.js\"></script>\n",
      "<script src=\"https://health-diet.ru/jsApp/v8.133.58/appDiary/config/requirejs_config_v2.js\"></script>\n",
      "<!-- Assets.requirejs:RequireJs  -->\n",
      "<script type=\"text/javascript\">\n",
      "requirejs(['jquery','uikit','appBitrix/CommonApp'], function(jquery,uikit,CommonApp){\n",
      "CommonApp.tableCalorieFoodSearch();\n",
      "});\n",
      "</script><!-- Assets.footer:Js  -->\n",
      "<script src=\"//yastatic.net/es5-shims/0.0.2/es5-shims.min.js\"></script>\n",
      "<script src=\"//yastatic.net/share2/share.js\"></script></body>\n",
      "<script>\n",
      "\n",
      "    function browserCanUseCssVariables() {\n",
      "        return window.CSS && CSS.supports('color', 'var(--fake-var)');\n",
      "    }\n",
      "\n",
      "    if (!browserCanUseCssVariables()) {\n",
      "        requirejs([\"modules/Cordova/css-vars-ponyfill@2\"], function (cssVars) {\n",
      "            cssVars({\n",
      "                onlyLegacy: true,\n",
      "                shadowDOM: true,\n",
      "                watch: true,\n",
      "            });\n",
      "\n",
      "            setTimeout(function () {\n",
      "\n",
      "                container.notify()({\n",
      "                    message: \"Ваш браузер устаревший. Мы его не поддерживаем. \" +\n",
      "                        \"\\nУстановите современный браузер Google Chrome, Firefox или Yandex.\",\n",
      "                    timeout: 150000,\n",
      "                    pos: \"top-center\",\n",
      "                    status: \"warning\",\n",
      "                })\n",
      "            }, 3000)\n",
      "\n",
      "        });\n",
      "    }\n",
      "</script>\n",
      "</html>\n",
      "\n"
     ]
    }
   ],
   "source": [
    "# \n",
    "print(soup_0)"
   ]
  },
  {
   "cell_type": "markdown",
   "metadata": {},
   "source": [
    "### Получение заголовков таблицы "
   ]
  },
  {
   "cell_type": "code",
   "execution_count": 104,
   "metadata": {},
   "outputs": [
    {
     "ename": "SyntaxError",
     "evalue": "'continue' not properly in loop (<ipython-input-104-5a33e89e7a53>, line 4)",
     "output_type": "error",
     "traceback": [
      "\u001b[1;36m  File \u001b[1;32m\"<ipython-input-104-5a33e89e7a53>\"\u001b[1;36m, line \u001b[1;32m4\u001b[0m\n\u001b[1;33m    continue\u001b[0m\n\u001b[1;37m    ^\u001b[0m\n\u001b[1;31mSyntaxError\u001b[0m\u001b[1;31m:\u001b[0m 'continue' not properly in loop\n"
     ]
    }
   ],
   "source": [
    "# проверка страницы на наличие таблицы с продуктами\n",
    "alert_block = soup_0.find(class_=\"uk-alert-danger\")\n",
    "if alert_block is not None:\n",
    "    continue"
   ]
  },
  {
   "cell_type": "code",
   "execution_count": 102,
   "metadata": {},
   "outputs": [
    {
     "name": "stdout",
     "output_type": "stream",
     "text": [
      "Продукт\n"
     ]
    }
   ],
   "source": [
    "# собираем заголовки таблицы\n",
    "# Для этого найдём первый TR на странице и соберём все тэги TH для него:\n",
    "table_head = soup_0.find(class_=\"mzr-tc-group-table\").find(\"tr\").find_all(\"th\")\n",
    "product = table_head[0].text\n",
    "calories = table_head[1].text\n",
    "proteins = table_head[2].text\n",
    "fats = table_head[3].text\n",
    "carbohydrates = table_head[4].text"
   ]
  },
  {
   "cell_type": "code",
   "execution_count": 103,
   "metadata": {},
   "outputs": [
    {
     "name": "stdout",
     "output_type": "stream",
     "text": [
      "Продукт Калорийность Белки Жиры Углеводы\n"
     ]
    }
   ],
   "source": [
    "# \n",
    "print(product, calories, proteins, fats, carbohydrates)"
   ]
  },
  {
   "cell_type": "markdown",
   "metadata": {},
   "source": [
    "#### Запись заголовков в csv файл"
   ]
  },
  {
   "cell_type": "code",
   "execution_count": 105,
   "metadata": {},
   "outputs": [],
   "source": [
    "# Поставим данные на запись в файл CSV\n",
    "with open(f\"data/{count}_{category_name}_0.csv\", \"w\", encoding=\"utf-8\") as file:\n",
    "        writer = csv.writer(file)\n",
    "        writer.writerow(\n",
    "            (\n",
    "                product,\n",
    "                calories,\n",
    "                proteins,\n",
    "                fats,\n",
    "                carbohydrates\n",
    "            )\n",
    "        )"
   ]
  },
  {
   "cell_type": "code",
   "execution_count": 106,
   "metadata": {},
   "outputs": [],
   "source": [
    "# собираем данные продуктов\n",
    "# Для этого соберём все тэги 'TR' внутри 'TBODY'\n",
    "products_data = soup_0.find(class_=\"mzr-tc-group-table\").find(\"tbody\").find_all(\"tr\")"
   ]
  },
  {
   "cell_type": "markdown",
   "metadata": {},
   "source": [
    "###### Если использовать метод супа .select() вместо .find(), то можно существенно сократить код.\n",
    "Как пример, на 14:20 минуте видео, строка 80, вместо\n",
    "products_data = soup.find(class_='mzr-tc-group-table').find('tbody').find_all('tr')\n",
    "можно написать\n",
    "products_data = soup.select('.mzr-tc-group-table tbody tr')\n",
    "Метод .select() позволяет использовать синтаксис как в css, очень удобно"
   ]
  },
  {
   "cell_type": "markdown",
   "metadata": {},
   "source": [
    "### Получение химического состава продуктов со страницы"
   ]
  },
  {
   "cell_type": "code",
   "execution_count": 108,
   "metadata": {},
   "outputs": [],
   "source": [
    "# Пройдём в цикле по строкам таблицы\n",
    "product_info = []\n",
    "for item in products_data:\n",
    "    product_tds = item.find_all(\"td\")\n",
    "\n",
    "    title = product_tds[0].find(\"a\").text\n",
    "    calories = product_tds[1].text\n",
    "    proteins = product_tds[2].text\n",
    "    fats = product_tds[3].text\n",
    "    carbohydrates = product_tds[4].text\n",
    "\n",
    "    product_info.append(\n",
    "        {\n",
    "            \"Title\": title,\n",
    "            \"Calories\": calories,\n",
    "            \"Proteins\": proteins,\n",
    "            \"Fats\": fats,\n",
    "            \"Carbohydrates\": carbohydrates\n",
    "        }\n",
    "    )"
   ]
  },
  {
   "cell_type": "code",
   "execution_count": 109,
   "metadata": {},
   "outputs": [
    {
     "data": {
      "text/plain": [
       "[{'Title': 'Lamb, Australian, imported, fresh, external fat, cooked',\n",
       "  'Calories': '538 кКал',\n",
       "  'Proteins': '16,9 г',\n",
       "  'Fats': '52,3 г',\n",
       "  'Carbohydrates': '0 г'},\n",
       " {'Title': 'Антилопа',\n",
       "  'Calories': '114 кКал',\n",
       "  'Proteins': '22,38 г',\n",
       "  'Fats': '2,03 г',\n",
       "  'Carbohydrates': '0 г'},\n",
       " {'Title': 'Антилопа, запеченная',\n",
       "  'Calories': '150 кКал',\n",
       "  'Proteins': '29,45 г',\n",
       "  'Fats': '2,67 г',\n",
       "  'Carbohydrates': '0 г'},\n",
       " {'Title': 'Баранина 1 кат.',\n",
       "  'Calories': '209 кКал',\n",
       "  'Proteins': '15,6 г',\n",
       "  'Fats': '16,3 г',\n",
       "  'Carbohydrates': '0 г'},\n",
       " {'Title': 'Баранина 2 кат.',\n",
       "  'Calories': '166 кКал',\n",
       "  'Proteins': '19,8 г',\n",
       "  'Fats': '9,6 г',\n",
       "  'Carbohydrates': '0 г'},\n",
       " {'Title': \"Баранина австралийская ,голяшка, мясо и жир, обрезь до 1/8'' жира, жаренная\",\n",
       "  'Calories': '231 кКал',\n",
       "  'Proteins': '25,25 г',\n",
       "  'Fats': '13,69 г',\n",
       "  'Carbohydrates': '0 г'},\n",
       " {'Title': \"Баранина австралийская ,голяшка, мясо и жир, обрезь до 1/8'' жира, сырая\",\n",
       "  'Calories': '201 кКал',\n",
       "  'Proteins': '18,59 г',\n",
       "  'Fats': '13,48 г',\n",
       "  'Carbohydrates': '0 г'},\n",
       " {'Title': \"Баранина австралийская ,голяшка, только мясо, обрезь до 1/8'' жира, жаренная\",\n",
       "  'Calories': '182 кКал',\n",
       "  'Proteins': '27,18 г',\n",
       "  'Fats': '7,27 г',\n",
       "  'Carbohydrates': '0 г'},\n",
       " {'Title': \"Баранина австралийская ,голяшка, только мясо, обрезь до 1/8'' жира, сырая\",\n",
       "  'Calories': '133 кКал',\n",
       "  'Proteins': '20,45 г',\n",
       "  'Fats': '5,1 г',\n",
       "  'Carbohydrates': '0 г'},\n",
       " {'Title': \"Баранина австралийская, Мясной набор, мясо и жир, обрезь до 1/8'' жира, вареная\",\n",
       "  'Calories': '256 кКал',\n",
       "  'Proteins': '24,52 г',\n",
       "  'Fats': '16,82 г',\n",
       "  'Carbohydrates': '0 г'},\n",
       " {'Title': \"Баранина австралийская, мясной набор, мясо и жир, обрезь до 1/8'' жира, сырая\",\n",
       "  'Calories': '229 кКал',\n",
       "  'Proteins': '17,84 г',\n",
       "  'Fats': '16,97 г',\n",
       "  'Carbohydrates': '0 г'},\n",
       " {'Title': \"Баранина австралийская, Мясной набор, только мясо, обрезь до 1/8'' жира, вареная\",\n",
       "  'Calories': '201 кКал',\n",
       "  'Proteins': '26,71 г',\n",
       "  'Fats': '9,63 г',\n",
       "  'Carbohydrates': '0 г'},\n",
       " {'Title': \"Баранина австралийская, Мясной набор, только мясо, обрезь до 1/8'' жира, сырая\",\n",
       "  'Calories': '142 кКал',\n",
       "  'Proteins': '20,25 г',\n",
       "  'Fats': '6,18 г',\n",
       "  'Carbohydrates': '0 г'},\n",
       " {'Title': \"Баранина австралийская, нога передняя с лопаткой, мясо и жир, обрезь до 1/8'' жира, вареная\",\n",
       "  'Calories': '296 кКал',\n",
       "  'Proteins': '23,58 г',\n",
       "  'Fats': '21,65 г',\n",
       "  'Carbohydrates': '0 г'},\n",
       " {'Title': \"Баранина австралийская, нога передняя с лопаткой, только мясо, обрезь до 1/8'' жира, вареная\",\n",
       "  'Calories': '233 кКал',\n",
       "  'Proteins': '26,18 г',\n",
       "  'Fats': '13,44 г',\n",
       "  'Carbohydrates': '0 г'},\n",
       " {'Title': \"Баранина австралийская, Нога передняя, с лопаткой, мясо и жир, обрезь до 1/8'' жира, сырая\",\n",
       "  'Calories': '256 кКал',\n",
       "  'Proteins': '16,68 г',\n",
       "  'Fats': '20,47 г',\n",
       "  'Carbohydrates': '0 г'},\n",
       " {'Title': \"Баранина австралийская, нога целая,  только мясо, обрезь до 1/8'' жира, жаренная\",\n",
       "  'Calories': '190 кКал',\n",
       "  'Proteins': '27,31 г',\n",
       "  'Fats': '8,1 г',\n",
       "  'Carbohydrates': '0 г'},\n",
       " {'Title': \"Баранина австралийская, нога целая, мясо и жир, обрезь до 1/8'' жира, сырая\",\n",
       "  'Calories': '215 кКал',\n",
       "  'Proteins': '18,24 г',\n",
       "  'Fats': '15,19 г',\n",
       "  'Carbohydrates': '0 г'},\n",
       " {'Title': \"Баранина австралийская, нога, целая, мясо и жир, обрезь до 1/8'' жира, жаренная\",\n",
       "  'Calories': '244 кКал',\n",
       "  'Proteins': '25,16 г',\n",
       "  'Fats': '15,13 г',\n",
       "  'Carbohydrates': '0 г'},\n",
       " {'Title': \"Баранина австралийская, нога, целая, только мясо, обрезь до 1/8'' жира, сырая\",\n",
       "  'Calories': '135 кКал',\n",
       "  'Proteins': '20,46 г',\n",
       "  'Fats': '5,23 г',\n",
       "  'Carbohydrates': '0 г'},\n",
       " {'Title': \"Баранина австралийская, нога, центральная часть на кости, мясо и жир, обрезь до 1/8'' жира, жаренная на открытом огне\",\n",
       "  'Calories': '215 кКал',\n",
       "  'Proteins': '25,54 г',\n",
       "  'Fats': '11,78 г',\n",
       "  'Carbohydrates': '0 г'},\n",
       " {'Title': \"Баранина австралийская, нога, центральная часть на кости, мясо и жир, обрезь до 1/8'' жира, сырая\",\n",
       "  'Calories': '195 кКал',\n",
       "  'Proteins': '19,17 г',\n",
       "  'Fats': '12,56 г',\n",
       "  'Carbohydrates': '0 г'},\n",
       " {'Title': \"Баранина австралийская, нога, центральная часть на кости, только мясо, обрезь до 1/8'' жира, жаренная на открытом огне\",\n",
       "  'Calories': '183 кКал',\n",
       "  'Proteins': '26,75 г',\n",
       "  'Fats': '7,68 г',\n",
       "  'Carbohydrates': '0 г'},\n",
       " {'Title': \"Баранина австралийская, нога, центральная часть на кости, только мясо, обрезь до 1/8'' жира, сырая\",\n",
       "  'Calories': '143 кКал',\n",
       "  'Proteins': '20,65 г',\n",
       "  'Fats': '6,08 г',\n",
       "  'Carbohydrates': '0 г'},\n",
       " {'Title': \"Баранина австралийская, ребра, мясо и жир, обрезь до 1/8'' жира, жаренная\",\n",
       "  'Calories': '277 кКал',\n",
       "  'Proteins': '22,24 г',\n",
       "  'Fats': '20,21 г',\n",
       "  'Carbohydrates': '0 г'},\n",
       " {'Title': \"Баранина австралийская, ребра, мясо и жир, обрезь до 1/8'' жира, сырая\",\n",
       "  'Calories': '237 кКал',\n",
       "  'Proteins': '21,26 г',\n",
       "  'Fats': '16,89 г',\n",
       "  'Carbohydrates': '0 г'},\n",
       " {'Title': \"Баранина австралийская, ребра, только мясо, обрезь до 1/8'' жира, жаренная\",\n",
       "  'Calories': '210 кКал',\n",
       "  'Proteins': '24,63 г',\n",
       "  'Fats': '11,6 г',\n",
       "  'Carbohydrates': '0 г'},\n",
       " {'Title': \"Баранина австралийская, ребра, только мясо, обрезь до 1/8'' жира, сырая\",\n",
       "  'Calories': '147 кКал',\n",
       "  'Proteins': '24,07 г',\n",
       "  'Fats': '5,59 г',\n",
       "  'Carbohydrates': '0 г'},\n",
       " {'Title': 'Баранина австралийская, рулька, мясо и жир, обрезь до 1/8\" жира, сырая',\n",
       "  'Calories': '195 кКал',\n",
       "  'Proteins': '18,85 г',\n",
       "  'Fats': '12,68 г',\n",
       "  'Carbohydrates': '0 г'},\n",
       " {'Title': 'Баранина австралийская, рулька, мясо и жир, обрезь до 1/8\" жира, тушеная',\n",
       "  'Calories': '236 кКал',\n",
       "  'Proteins': '24,78 г',\n",
       "  'Fats': '14,44 г',\n",
       "  'Carbohydrates': '0 г'},\n",
       " {'Title': 'Баранина австралийская, рулька, только мясо, обрезь до 1/8\" жира, сырая',\n",
       "  'Calories': '123 кКал',\n",
       "  'Proteins': '20,83 г',\n",
       "  'Fats': '3,81 г',\n",
       "  'Carbohydrates': '0 г'},\n",
       " {'Title': 'Баранина австралийская, рулька, только мясо, обрезь до 1/8\" жира, тушеная',\n",
       "  'Calories': '165 кКал',\n",
       "  'Proteins': '27,5 г',\n",
       "  'Fats': '5,22 г',\n",
       "  'Carbohydrates': '0 г'},\n",
       " {'Title': \"Баранина австралийская, филейная часть, мясо и жир, обрезь до 1/8'' жира, жаренная на открытом огне\",\n",
       "  'Calories': '219 кКал',\n",
       "  'Proteins': '25,49 г',\n",
       "  'Fats': '12,25 г',\n",
       "  'Carbohydrates': '0 г'},\n",
       " {'Title': \"Баранина австралийская, филейная часть, мясо и жир, обрезь до 1/8'' жира, сырая\",\n",
       "  'Calories': '203 кКал',\n",
       "  'Proteins': '19,32 г',\n",
       "  'Fats': '13,38 г',\n",
       "  'Carbohydrates': '0 г'},\n",
       " {'Title': \"Баранина австралийская, филейная часть, только мясо, обрезь до 1/8'' жира, жаренная на открытом огне\",\n",
       "  'Calories': '192 кКал',\n",
       "  'Proteins': '26,53 г',\n",
       "  'Fats': '8,75 г',\n",
       "  'Carbohydrates': '0 г'},\n",
       " {'Title': \"Баранина австралийская, филейная часть, только мясо, обрезь до 1/8'' жира, сырая\",\n",
       "  'Calories': '146 кКал',\n",
       "  'Proteins': '21 г',\n",
       "  'Fats': '6,24 г',\n",
       "  'Carbohydrates': '0 г'},\n",
       " {'Title': 'Баранина жареная, по 1-396',\n",
       "  'Calories': '264 кКал',\n",
       "  'Proteins': '22,4 г',\n",
       "  'Fats': '19,4 г',\n",
       "  'Carbohydrates': '0 г'},\n",
       " {'Title': 'Баранина отварная, по 1-392',\n",
       "  'Calories': '244 кКал',\n",
       "  'Proteins': '21,8 г',\n",
       "  'Fats': '17,4 г',\n",
       "  'Carbohydrates': '0 г'},\n",
       " {'Title': 'Баранина тушеная, консервы',\n",
       "  'Calories': '191 кКал',\n",
       "  'Proteins': '17,4 г',\n",
       "  'Fats': '13,4 г',\n",
       "  'Carbohydrates': '0,2 г'},\n",
       " {'Title': 'Баранина тушеная, по 1-422',\n",
       "  'Calories': '170 кКал',\n",
       "  'Proteins': '10,3 г',\n",
       "  'Fats': '12,7 г',\n",
       "  'Carbohydrates': '3,6 г'},\n",
       " {'Title': 'Баранина, голяшка',\n",
       "  'Calories': '201 кКал',\n",
       "  'Proteins': '18,58 г',\n",
       "  'Fats': '13,49 г',\n",
       "  'Carbohydrates': '0 г'},\n",
       " {'Title': 'Баранина, голяшка, запеченная',\n",
       "  'Calories': '225 кКал',\n",
       "  'Proteins': '26,41 г',\n",
       "  'Fats': '12,45 г',\n",
       "  'Carbohydrates': '0 г'},\n",
       " {'Title': 'Баранина, голяшка, только мясо',\n",
       "  'Calories': '125 кКал',\n",
       "  'Proteins': '20,52 г',\n",
       "  'Fats': '4,19 г',\n",
       "  'Carbohydrates': '0 г'},\n",
       " {'Title': 'Баранина, голяшка, только мясо, запеченная',\n",
       "  'Calories': '180 кКал',\n",
       "  'Proteins': '28,17 г',\n",
       "  'Fats': '6,67 г',\n",
       "  'Carbohydrates': '0 г'},\n",
       " {'Title': 'Баранина, грудинка мякоть',\n",
       "  'Calories': '288 кКал',\n",
       "  'Proteins': '14 г',\n",
       "  'Fats': '25,8 г',\n",
       "  'Carbohydrates': '0 г'},\n",
       " {'Title': 'Баранина, корейка',\n",
       "  'Calories': '310 кКал',\n",
       "  'Proteins': '16,32 г',\n",
       "  'Fats': '26,63 г',\n",
       "  'Carbohydrates': '0 г'},\n",
       " {'Title': 'Баранина, корейка мякоть',\n",
       "  'Calories': '255 кКал',\n",
       "  'Proteins': '15,9 г',\n",
       "  'Fats': '21,5 г',\n",
       "  'Carbohydrates': '0 г'},\n",
       " {'Title': 'Баранина, корейка, жаренная на открытом огне',\n",
       "  'Calories': '316 кКал',\n",
       "  'Proteins': '25,17 г',\n",
       "  'Fats': '23,08 г',\n",
       "  'Carbohydrates': '0 г'},\n",
       " {'Title': 'Баранина, корейка, запеченная',\n",
       "  'Calories': '309 кКал',\n",
       "  'Proteins': '22,55 г',\n",
       "  'Fats': '23,59 г',\n",
       "  'Carbohydrates': '0 г'},\n",
       " {'Title': \"Баранина, корейка, мясо и жир, обрезь до 1/8'' жира, отборная, жареная\",\n",
       "  'Calories': '290 кКал',\n",
       "  'Proteins': '23,27 г',\n",
       "  'Fats': '21,12 г',\n",
       "  'Carbohydrates': '0 г'},\n",
       " {'Title': \"Баранина, корейка, мясо и жир, обрезь до 1/8'' жира, отборная, жареная на открытом огне\",\n",
       "  'Calories': '297 кКал',\n",
       "  'Proteins': '26,06 г',\n",
       "  'Fats': '20,61 г',\n",
       "  'Carbohydrates': '0 г'},\n",
       " {'Title': \"Баранина, корейка, мясо и жир, обрезь до 1/8'' жира, отборная, сырая\",\n",
       "  'Calories': '279 кКал',\n",
       "  'Proteins': '17,18 г',\n",
       "  'Fats': '22,75 г',\n",
       "  'Carbohydrates': '0 г'},\n",
       " {'Title': 'Баранина, корейка, только мясо',\n",
       "  'Calories': '143 кКал',\n",
       "  'Proteins': '20,88 г',\n",
       "  'Fats': '5,94 г',\n",
       "  'Carbohydrates': '0 г'},\n",
       " {'Title': 'Баранина, корейка, только мясо, жаренная на открытом огне',\n",
       "  'Calories': '216 кКал',\n",
       "  'Proteins': '29,99 г',\n",
       "  'Fats': '9,73 г',\n",
       "  'Carbohydrates': '0 г'},\n",
       " {'Title': 'Баранина, корейка, только мясо, запеченная',\n",
       "  'Calories': '202 кКал',\n",
       "  'Proteins': '26,59 г',\n",
       "  'Fats': '9,76 г',\n",
       "  'Carbohydrates': '0 г'},\n",
       " {'Title': 'Баранина, котлетное мясо',\n",
       "  'Calories': '238 кКал',\n",
       "  'Proteins': '16 г',\n",
       "  'Fats': '19,3 г',\n",
       "  'Carbohydrates': '0 г'},\n",
       " {'Title': 'Баранина, лопаточная часть',\n",
       "  'Calories': '199 кКал',\n",
       "  'Proteins': '16,1 г',\n",
       "  'Fats': '14,9 г',\n",
       "  'Carbohydrates': '0 г'},\n",
       " {'Title': 'Баранина, нога целая (с голяшкой и оковалком)',\n",
       "  'Calories': '230 кКал',\n",
       "  'Proteins': '17,91 г',\n",
       "  'Fats': '17,07 г',\n",
       "  'Carbohydrates': '0 г'},\n",
       " {'Title': 'Баранина, нога целая (с голяшкой и оковалком), запеченная',\n",
       "  'Calories': '258 кКал',\n",
       "  'Proteins': '25,55 г',\n",
       "  'Fats': '16,48 г',\n",
       "  'Carbohydrates': '0 г'},\n",
       " {'Title': 'Баранина, нога целая (с голяшкой и оковалком), только мясо',\n",
       "  'Calories': '128 кКал',\n",
       "  'Proteins': '20,56 г',\n",
       "  'Fats': '4,51 г',\n",
       "  'Carbohydrates': '0 г'},\n",
       " {'Title': 'Баранина, нога целая (с голяшкой и оковалком), только мясо, запеченная',\n",
       "  'Calories': '191 кКал',\n",
       "  'Proteins': '28,3 г',\n",
       "  'Fats': '7,74 г',\n",
       "  'Carbohydrates': '0 г'},\n",
       " {'Title': 'Баранина, пашина',\n",
       "  'Calories': '205 кКал',\n",
       "  'Proteins': '17,6 г',\n",
       "  'Fats': '14,9 г',\n",
       "  'Carbohydrates': '0 г'},\n",
       " {'Title': 'Баранина, плечевая и лопаточная части',\n",
       "  'Calories': '264 кКал',\n",
       "  'Proteins': '16,58 г',\n",
       "  'Fats': '21,45 г',\n",
       "  'Carbohydrates': '0 г'},\n",
       " {'Title': 'Баранина, плечевая и лопаточная части, жаренная на открытом огне',\n",
       "  'Calories': '278 кКал',\n",
       "  'Proteins': '24,42 г',\n",
       "  'Fats': '19,26 г',\n",
       "  'Carbohydrates': '0 г'},\n",
       " {'Title': 'Баранина, плечевая и лопаточная части, жаренная на открытом огне',\n",
       "  'Calories': '210 кКал',\n",
       "  'Proteins': '27,12 г',\n",
       "  'Fats': '10,5 г',\n",
       "  'Carbohydrates': '0 г'},\n",
       " {'Title': 'Баранина, плечевая и лопаточная части, запеченная',\n",
       "  'Calories': '276 кКал',\n",
       "  'Proteins': '22,51 г',\n",
       "  'Fats': '19,97 г',\n",
       "  'Carbohydrates': '0 г'},\n",
       " {'Title': 'Баранина, плечевая и лопаточная части, только мясо',\n",
       "  'Calories': '144 кКал',\n",
       "  'Proteins': '19,55 г',\n",
       "  'Fats': '6,76 г',\n",
       "  'Carbohydrates': '0 г'},\n",
       " {'Title': 'Баранина, плечевая и лопаточная части, только мясо, запеченная',\n",
       "  'Calories': '204 кКал',\n",
       "  'Proteins': '24,94 г',\n",
       "  'Fats': '10,77 г',\n",
       "  'Carbohydrates': '0 г'},\n",
       " {'Title': 'Баранина, плечевая и лопаточная части, только мясо, тушеная',\n",
       "  'Calories': '283 кКал',\n",
       "  'Proteins': '32,81 г',\n",
       "  'Fats': '15,89 г',\n",
       "  'Carbohydrates': '0 г'},\n",
       " {'Title': 'Баранина, плечевая и лопаточная части, тушеная',\n",
       "  'Calories': '344 кКал',\n",
       "  'Proteins': '28,68 г',\n",
       "  'Fats': '24,55 г',\n",
       "  'Carbohydrates': '0 г'},\n",
       " {'Title': 'Баранина, ребра',\n",
       "  'Calories': '372 кКал',\n",
       "  'Proteins': '14,52 г',\n",
       "  'Fats': '34,39 г',\n",
       "  'Carbohydrates': '0 г'},\n",
       " {'Title': 'Баранина, ребра, жаренные на открытом огне',\n",
       "  'Calories': '361 кКал',\n",
       "  'Proteins': '22,13 г',\n",
       "  'Fats': '29,59 г',\n",
       "  'Carbohydrates': '0 г'},\n",
       " {'Title': 'Баранина, ребра, запеченные',\n",
       "  'Calories': '359 кКал',\n",
       "  'Proteins': '21,12 г',\n",
       "  'Fats': '29,82 г',\n",
       "  'Carbohydrates': '0 г'},\n",
       " {'Title': 'Баранина, ребра, только мясо',\n",
       "  'Calories': '169 кКал',\n",
       "  'Proteins': '19,98 г',\n",
       "  'Fats': '9,23 г',\n",
       "  'Carbohydrates': '0 г'},\n",
       " {'Title': 'Баранина, ребра, только мясо, жаренные на открытом огне',\n",
       "  'Calories': '235 кКал',\n",
       "  'Proteins': '27,74 г',\n",
       "  'Fats': '12,95 г',\n",
       "  'Carbohydrates': '0 г'},\n",
       " {'Title': 'Баранина, ребра, только мясо, запеченные',\n",
       "  'Calories': '232 кКал',\n",
       "  'Proteins': '26,16 г',\n",
       "  'Fats': '13,31 г',\n",
       "  'Carbohydrates': '0 г'},\n",
       " {'Title': 'Баранина, рулька',\n",
       "  'Calories': '201 кКал',\n",
       "  'Proteins': '18,91 г',\n",
       "  'Fats': '13,38 г',\n",
       "  'Carbohydrates': '0 г'},\n",
       " {'Title': 'Баранина, рулька тушеная',\n",
       "  'Calories': '243 кКал',\n",
       "  'Proteins': '28,37 г',\n",
       "  'Fats': '13,46 г',\n",
       "  'Carbohydrates': '0 г'},\n",
       " {'Title': 'Баранина, рулька, только мясо',\n",
       "  'Calories': '120 кКал',\n",
       "  'Proteins': '21,08 г',\n",
       "  'Fats': '3,29 г',\n",
       "  'Carbohydrates': '0 г'},\n",
       " {'Title': 'Баранина, рулька, только мясо, тушеная',\n",
       "  'Calories': '187 кКал',\n",
       "  'Proteins': '31,01 г',\n",
       "  'Fats': '6,02 г',\n",
       "  'Carbohydrates': '0 г'},\n",
       " {'Title': 'Баранина, спинная часть',\n",
       "  'Calories': '254 кКал',\n",
       "  'Proteins': '16,5 г',\n",
       "  'Fats': '20,9 г',\n",
       "  'Carbohydrates': '0 г'},\n",
       " {'Title': 'Баранина, тазобедренная и лопаточная части, только мясо, нарезанное кубиками',\n",
       "  'Calories': '134 кКал',\n",
       "  'Proteins': '20,21 г',\n",
       "  'Fats': '5,28 г',\n",
       "  'Carbohydrates': '0 г'},\n",
       " {'Title': 'Баранина, тазобедренная и лопаточная части, только мясо, нарезанное кубиками, жаренная на открытом огне',\n",
       "  'Calories': '186 кКал',\n",
       "  'Proteins': '28,08 г',\n",
       "  'Fats': '7,33 г',\n",
       "  'Carbohydrates': '0 г'},\n",
       " {'Title': 'Баранина, тазобедренная и лопаточная части, только мясо, нарезанное кубиками, тушеная',\n",
       "  'Calories': '223 кКал',\n",
       "  'Proteins': '33,69 г',\n",
       "  'Fats': '8,8 г',\n",
       "  'Carbohydrates': '0 г'},\n",
       " {'Title': 'Баранина, тазобедренная часть',\n",
       "  'Calories': '198 кКал',\n",
       "  'Proteins': '17 г',\n",
       "  'Fats': '14,4 г',\n",
       "  'Carbohydrates': '0 г'},\n",
       " {'Title': 'Баранина, филейная часть, Новая зеландия, замороженная, мясо и жир, жаренная на открытом огне',\n",
       "  'Calories': '315 кКал',\n",
       "  'Proteins': '23,43 г',\n",
       "  'Fats': '23,88 г',\n",
       "  'Carbohydrates': '0 г'},\n",
       " {'Title': \"Баранина, филейная часть, Новая зеландия, замороженная, мясо и жир, обрезь до 1/8'' жира, жаренная на открытом огне\",\n",
       "  'Calories': '296 кКал',\n",
       "  'Proteins': '24,41 г',\n",
       "  'Fats': '21,28 г',\n",
       "  'Carbohydrates': '0 г'},\n",
       " {'Title': \"Баранина, филейная часть, Новая зеландия, замороженная, мясо и жир, обрезь до 1/8'' жира, сырая\",\n",
       "  'Calories': '273 кКал',\n",
       "  'Proteins': '17,18 г',\n",
       "  'Fats': '22,1 г',\n",
       "  'Carbohydrates': '0 г'},\n",
       " {'Title': 'Баранина, филейная часть, Новая зеландия, замороженная, мясо и жир, сырая',\n",
       "  'Calories': '298 кКал',\n",
       "  'Proteins': '15,4 г',\n",
       "  'Fats': '26,19 г',\n",
       "  'Carbohydrates': '0,22 г'},\n",
       " {'Title': 'Баранина, филейная часть, Новая зеландия, замороженная, только мясо, жаренная на открытом огне',\n",
       "  'Calories': '199 кКал',\n",
       "  'Proteins': '29,31 г',\n",
       "  'Fats': '8,24 г',\n",
       "  'Carbohydrates': '0 г'},\n",
       " {'Title': 'Баранина, филейная часть, Новая зеландия, замороженная, только мясо, сырая',\n",
       "  'Calories': '142 кКал',\n",
       "  'Proteins': '19,98 г',\n",
       "  'Fats': '6,88 г',\n",
       "  'Carbohydrates': '0 г'},\n",
       " {'Title': 'Баранина, шейная часть',\n",
       "  'Calories': '208 кКал',\n",
       "  'Proteins': '15,4 г',\n",
       "  'Fats': '16,3 г',\n",
       "  'Carbohydrates': '0 г'},\n",
       " {'Title': 'Белка',\n",
       "  'Calories': '120 кКал',\n",
       "  'Proteins': '21,23 г',\n",
       "  'Fats': '3,21 г',\n",
       "  'Carbohydrates': '0 г'},\n",
       " {'Title': 'Белка, запеченная',\n",
       "  'Calories': '173 кКал',\n",
       "  'Proteins': '30,77 г',\n",
       "  'Fats': '4,69 г',\n",
       "  'Carbohydrates': '0 г'},\n",
       " {'Title': 'Бизон, мякоть плечевой части, только мясо',\n",
       "  'Calories': '119 кКал',\n",
       "  'Proteins': '21,12 г',\n",
       "  'Fats': '3,15 г',\n",
       "  'Carbohydrates': '0 г'},\n",
       " {'Title': 'Бизон, мякоть плечевой части, только мясо',\n",
       "  'Calories': '109 кКал',\n",
       "  'Proteins': '21,1 г',\n",
       "  'Fats': '2,1 г',\n",
       "  'Carbohydrates': '0 г'},\n",
       " {'Title': 'Бизон, мякоть плечевой части, только мясо, тушеная',\n",
       "  'Calories': '193 кКал',\n",
       "  'Proteins': '33,78 г',\n",
       "  'Fats': '5,43 г',\n",
       "  'Carbohydrates': '0 г'},\n",
       " {'Title': 'Бизон, стейк из верхней части бедра, только мясо',\n",
       "  'Calories': '122 кКал',\n",
       "  'Proteins': '23,32 г',\n",
       "  'Fats': '2,43 г',\n",
       "  'Carbohydrates': '0 г'},\n",
       " {'Title': 'Бизон, стейк из верхней части бедра, только мясо, жаренный на открытом огне',\n",
       "  'Calories': '174 кКал',\n",
       "  'Proteins': '30,18 г',\n",
       "  'Fats': '4,96 г',\n",
       "  'Carbohydrates': '0 г'},\n",
       " {'Title': 'Бизон, стейк из верхней части оковалка, только мясо, жаренный на открытом огне',\n",
       "  'Calories': '171 кКал',\n",
       "  'Proteins': '28,05 г',\n",
       "  'Fats': '5,65 г',\n",
       "  'Carbohydrates': '0 г'},\n",
       " {'Title': 'Бизон, стейк из рибая (реберная сердцевина, глазок), только мясо',\n",
       "  'Calories': '116 кКал',\n",
       "  'Proteins': '22,1 г',\n",
       "  'Fats': '2,4 г',\n",
       "  'Carbohydrates': '0 г'},\n",
       " {'Title': 'Бизон, стейк из рибая (реберная сердцевина, глазок), только мясо, жареный на открытом огне',\n",
       "  'Calories': '177 кКал',\n",
       "  'Proteins': '29,45 г',\n",
       "  'Fats': '5,67 г',\n",
       "  'Carbohydrates': '0 г'},\n",
       " {'Title': 'Бизон, только мясо',\n",
       "  'Calories': '109 кКал',\n",
       "  'Proteins': '21,62 г',\n",
       "  'Fats': '1,84 г',\n",
       "  'Carbohydrates': '0 г'},\n",
       " {'Title': 'Бизон, только мясо, запеченное',\n",
       "  'Calories': '143 кКал',\n",
       "  'Proteins': '28,44 г',\n",
       "  'Fats': '2,42 г',\n",
       "  'Carbohydrates': '0 г'},\n",
       " {'Title': 'Бобер',\n",
       "  'Calories': '146 кКал',\n",
       "  'Proteins': '24,05 г',\n",
       "  'Fats': '4,8 г',\n",
       "  'Carbohydrates': '0 г'},\n",
       " {'Title': 'Бобер, запеченный',\n",
       "  'Calories': '212 кКал',\n",
       "  'Proteins': '34,85 г',\n",
       "  'Fats': '6,96 г',\n",
       "  'Carbohydrates': '0 г'},\n",
       " {'Title': 'Буйвол, стейк из верхней части бедра (Шошони-Баннок)',\n",
       "  'Calories': '97 кКал',\n",
       "  'Proteins': '21,44 г',\n",
       "  'Fats': '1,3 г',\n",
       "  'Carbohydrates': '0 г'},\n",
       " {'Title': 'Буйвол, стейк из верхней части бедра приготовленный (Шошони-Баннок)',\n",
       "  'Calories': '146 кКал',\n",
       "  'Proteins': '32,51 г',\n",
       "  'Fats': '1,8 г',\n",
       "  'Carbohydrates': '0 г'},\n",
       " {'Title': 'Буйволятина, 1 категории',\n",
       "  'Calories': '195 кКал',\n",
       "  'Proteins': '19 г',\n",
       "  'Fats': '13,2 г',\n",
       "  'Carbohydrates': '0 г'},\n",
       " {'Title': 'Буйволятина, 2 категории',\n",
       "  'Calories': '135 кКал',\n",
       "  'Proteins': '20,8 г',\n",
       "  'Fats': '5,8 г',\n",
       "  'Carbohydrates': '0 г'},\n",
       " {'Title': 'Буффало, гибрид бизона и коровы, мясной набор',\n",
       "  'Calories': '143 кКал',\n",
       "  'Proteins': '23,3 г',\n",
       "  'Fats': '4,8 г',\n",
       "  'Carbohydrates': '0 г'},\n",
       " {'Title': 'Буффало, гибрид бизона и коровы, мясной набор, запеченный',\n",
       "  'Calories': '188 кКал',\n",
       "  'Proteins': '30,66 г',\n",
       "  'Fats': '6,32 г',\n",
       "  'Carbohydrates': '0 г'},\n",
       " {'Title': 'Верблюжатина 1 категории',\n",
       "  'Calories': '160 кКал',\n",
       "  'Proteins': '18,9 г',\n",
       "  'Fats': '9,4 г',\n",
       "  'Carbohydrates': '0 г'},\n",
       " {'Title': 'Водяной буйвол',\n",
       "  'Calories': '99 кКал',\n",
       "  'Proteins': '20,39 г',\n",
       "  'Fats': '1,37 г',\n",
       "  'Carbohydrates': '0 г'},\n",
       " {'Title': 'Водяной буйвол, запеченный',\n",
       "  'Calories': '131 кКал',\n",
       "  'Proteins': '26,83 г',\n",
       "  'Fats': '1,8 г',\n",
       "  'Carbohydrates': '0 г'},\n",
       " {'Title': 'Глаза оленя карибу (Аляска)',\n",
       "  'Calories': '326 кКал',\n",
       "  'Proteins': '10,8 г',\n",
       "  'Fats': '31,4 г',\n",
       "  'Carbohydrates': '0 г'},\n",
       " {'Title': \"Голяшка, баранина, мясо и жир, обрезь до 1/8'' жира, жаренная\",\n",
       "  'Calories': '217 кКал',\n",
       "  'Proteins': '26,73 г',\n",
       "  'Fats': '11,4 г',\n",
       "  'Carbohydrates': '0 г'},\n",
       " {'Title': \"Голяшка, баранина, мясо и жир, обрезь до 1/8'' жира, сырая\",\n",
       "  'Calories': '185 кКал',\n",
       "  'Proteins': '18,99 г',\n",
       "  'Fats': '11,5 г',\n",
       "  'Carbohydrates': '0 г'},\n",
       " {'Title': 'Гуляш бараний, консервы',\n",
       "  'Calories': '213 кКал',\n",
       "  'Proteins': '14,2 г',\n",
       "  'Fats': '15,6 г',\n",
       "  'Carbohydrates': '3,9 г'},\n",
       " {'Title': 'Енот, запеченный',\n",
       "  'Calories': '255 кКал',\n",
       "  'Proteins': '29,2 г',\n",
       "  'Fats': '14,5 г',\n",
       "  'Carbohydrates': '0 г'},\n",
       " {'Title': 'Жир бараний приготовленный, Австралия',\n",
       "  'Calories': '639 кКал',\n",
       "  'Proteins': '9,42 г',\n",
       "  'Fats': '66,4 г',\n",
       "  'Carbohydrates': '0 г'},\n",
       " {'Title': 'Жир бараний сырой, Австралия',\n",
       "  'Calories': '648 кКал',\n",
       "  'Proteins': '6,27 г',\n",
       "  'Fats': '68,87 г',\n",
       "  'Carbohydrates': '0 г'},\n",
       " {'Title': 'Завтрак туриста (баранина), консервы',\n",
       "  'Calories': '210 кКал',\n",
       "  'Proteins': '18 г',\n",
       "  'Fats': '15,2 г',\n",
       "  'Carbohydrates': '0,2 г'},\n",
       " {'Title': 'Кабан',\n",
       "  'Calories': '122 кКал',\n",
       "  'Proteins': '21,51 г',\n",
       "  'Fats': '3,33 г',\n",
       "  'Carbohydrates': '0 г'},\n",
       " {'Title': 'Кабан, запеченный',\n",
       "  'Calories': '160 кКал',\n",
       "  'Proteins': '28,3 г',\n",
       "  'Fats': '4,38 г',\n",
       "  'Carbohydrates': '0 г'},\n",
       " {'Title': 'Карибу (канадский олень)',\n",
       "  'Calories': '127 кКал',\n",
       "  'Proteins': '22,63 г',\n",
       "  'Fats': '3,36 г',\n",
       "  'Carbohydrates': '0 г'},\n",
       " {'Title': 'Карибу (канадский олень), запеченный',\n",
       "  'Calories': '167 кКал',\n",
       "  'Proteins': '29,77 г',\n",
       "  'Fats': '4,42 г',\n",
       "  'Carbohydrates': '0 г'},\n",
       " {'Title': 'Карибу, костный мозг (Аляска)',\n",
       "  'Calories': '786 кКал',\n",
       "  'Proteins': '6,7 г',\n",
       "  'Fats': '84,4 г',\n",
       "  'Carbohydrates': '0 г'},\n",
       " {'Title': 'Карибу, мясо задней четвертины, приготовленное (Аляска)',\n",
       "  'Calories': '159 кКал',\n",
       "  'Proteins': '28,81 г',\n",
       "  'Fats': '4,82 г',\n",
       "  'Carbohydrates': '0 г'},\n",
       " {'Title': 'Карибу, огузок (кострец), наполовину высушенный (Аляска)',\n",
       "  'Calories': '255 кКал',\n",
       "  'Proteins': '52,06 г',\n",
       "  'Fats': '5,23 г',\n",
       "  'Carbohydrates': '0 г'},\n",
       " {'Title': 'Карибу, окорок (Аляска)',\n",
       "  'Calories': '122 кКал',\n",
       "  'Proteins': '22,63 г',\n",
       "  'Fats': '3,37 г',\n",
       "  'Carbohydrates': '0 г'},\n",
       " {'Title': 'Козлятина',\n",
       "  'Calories': '109 кКал',\n",
       "  'Proteins': '20,6 г',\n",
       "  'Fats': '2,31 г',\n",
       "  'Carbohydrates': '0 г'},\n",
       " {'Title': 'Козлятина, запеченная',\n",
       "  'Calories': '143 кКал',\n",
       "  'Proteins': '27,1 г',\n",
       "  'Fats': '3,03 г',\n",
       "  'Carbohydrates': '0 г'},\n",
       " {'Title': 'Конина',\n",
       "  'Calories': '133 кКал',\n",
       "  'Proteins': '21,39 г',\n",
       "  'Fats': '4,6 г',\n",
       "  'Carbohydrates': '0 г'},\n",
       " {'Title': 'Конина 1 кат.',\n",
       "  'Calories': '167 кКал',\n",
       "  'Proteins': '19,5 г',\n",
       "  'Fats': '9,9 г',\n",
       "  'Carbohydrates': '0 г'},\n",
       " {'Title': 'Конина 2 кат.',\n",
       "  'Calories': '121 кКал',\n",
       "  'Proteins': '20,9 г',\n",
       "  'Fats': '4,1 г',\n",
       "  'Carbohydrates': '0 г'},\n",
       " {'Title': 'Конина тушеная, консервы',\n",
       "  'Calories': '150 кКал',\n",
       "  'Proteins': '18,7 г',\n",
       "  'Fats': '8,4 г',\n",
       "  'Carbohydrates': '0 г'},\n",
       " {'Title': 'Конина, запеченная',\n",
       "  'Calories': '175 кКал',\n",
       "  'Proteins': '28,14 г',\n",
       "  'Fats': '6,05 г',\n",
       "  'Carbohydrates': '0 г'},\n",
       " {'Title': 'Котлеты отбивные из баранины, по 1-416',\n",
       "  'Calories': '394 кКал',\n",
       "  'Proteins': '20,6 г',\n",
       "  'Fats': '30,6 г',\n",
       "  'Carbohydrates': '9,1 г'},\n",
       " {'Title': 'Котлеты рубленые из баранины, по 1-442',\n",
       "  'Calories': '240 кКал',\n",
       "  'Proteins': '13,6 г',\n",
       "  'Fats': '14,8 г',\n",
       "  'Carbohydrates': '12,9 г'},\n",
       " {'Title': 'Кролик жареный, по 2-18',\n",
       "  'Calories': '241 кКал',\n",
       "  'Proteins': '31,5 г',\n",
       "  'Fats': '12,7 г',\n",
       "  'Carbohydrates': '0,1 г'},\n",
       " {'Title': 'Кролик отварной, по 2-6',\n",
       "  'Calories': '194 кКал',\n",
       "  'Proteins': '25,5 г',\n",
       "  'Fats': '10,4 г',\n",
       "  'Carbohydrates': '0 г'},\n",
       " {'Title': 'Кролик, дикий',\n",
       "  'Calories': '114 кКал',\n",
       "  'Proteins': '21,79 г',\n",
       "  'Fats': '2,32 г',\n",
       "  'Carbohydrates': '0 г'},\n",
       " {'Title': 'Кролик, дикий, тушеный',\n",
       "  'Calories': '173 кКал',\n",
       "  'Proteins': '33,02 г',\n",
       "  'Fats': '3,51 г',\n",
       "  'Carbohydrates': '0 г'},\n",
       " {'Title': 'Легкое баранье',\n",
       "  'Calories': '83 кКал',\n",
       "  'Proteins': '15,6 г',\n",
       "  'Fats': '2,3 г',\n",
       "  'Carbohydrates': '0 г'},\n",
       " {'Title': 'Легкое баранье',\n",
       "  'Calories': '95 кКал',\n",
       "  'Proteins': '16,7 г',\n",
       "  'Fats': '2,6 г',\n",
       "  'Carbohydrates': '0 г'},\n",
       " {'Title': 'Легкое баранье, тушеное',\n",
       "  'Calories': '113 кКал',\n",
       "  'Proteins': '19,88 г',\n",
       "  'Fats': '3,1 г',\n",
       "  'Carbohydrates': '0 г'},\n",
       " {'Title': 'Лось',\n",
       "  'Calories': '111 кКал',\n",
       "  'Proteins': '22,95 г',\n",
       "  'Fats': '1,45 г',\n",
       "  'Carbohydrates': '0 г'},\n",
       " {'Title': 'Лось, вырезка, только мясо, жаренный на открытом огне',\n",
       "  'Calories': '162 кКал',\n",
       "  'Proteins': '30,76 г',\n",
       "  'Fats': '3,41 г',\n",
       "  'Carbohydrates': '0 г'},\n",
       " {'Title': 'Лось, запеченный',\n",
       "  'Calories': '146 кКал',\n",
       "  'Proteins': '30,19 г',\n",
       "  'Fats': '1,9 г',\n",
       "  'Carbohydrates': '0 г'},\n",
       " {'Title': 'Лось, корейка, только мясо, жаренный на открытом огне',\n",
       "  'Calories': '167 кКал',\n",
       "  'Proteins': '31 г',\n",
       "  'Fats': '3,84 г',\n",
       "  'Carbohydrates': '0 г'},\n",
       " {'Title': 'Лось, тазобедренный отруб, только мясо, жаренный на открытом огне',\n",
       "  'Calories': '156 кКал',\n",
       "  'Proteins': '30,94 г',\n",
       "  'Fats': '2,64 г',\n",
       "  'Carbohydrates': '0 г'},\n",
       " {'Title': 'Медведь',\n",
       "  'Calories': '161 кКал',\n",
       "  'Proteins': '20,1 г',\n",
       "  'Fats': '8,3 г',\n",
       "  'Carbohydrates': '0 г'},\n",
       " {'Title': 'Медведь полярный (белый) (Аляска)',\n",
       "  'Calories': '130 кКал',\n",
       "  'Proteins': '25,6 г',\n",
       "  'Fats': '3,1 г',\n",
       "  'Carbohydrates': '0 г'},\n",
       " {'Title': 'Медведь, приготовленный на медленном огне',\n",
       "  'Calories': '259 кКал',\n",
       "  'Proteins': '32,42 г',\n",
       "  'Fats': '13,39 г',\n",
       "  'Carbohydrates': '0 г'},\n",
       " {'Title': 'Медведь, черный (Аляска)',\n",
       "  'Calories': '155 кКал',\n",
       "  'Proteins': '20,1 г',\n",
       "  'Fats': '8,3 г',\n",
       "  'Carbohydrates': '0 г'},\n",
       " {'Title': 'Мозги бараньи',\n",
       "  'Calories': '123 кКал',\n",
       "  'Proteins': '9,7 г',\n",
       "  'Fats': '9,4 г',\n",
       "  'Carbohydrates': '0 г'},\n",
       " {'Title': 'Мозги бараньи, жаренные на сковороде',\n",
       "  'Calories': '273 кКал',\n",
       "  'Proteins': '16,97 г',\n",
       "  'Fats': '22,19 г',\n",
       "  'Carbohydrates': '0 г'},\n",
       " {'Title': 'Мозги бараньи, тушеные',\n",
       "  'Calories': '145 кКал',\n",
       "  'Proteins': '12,55 г',\n",
       "  'Fats': '10,17 г',\n",
       "  'Carbohydrates': '0 г'},\n",
       " {'Title': 'Мозги, бараньи',\n",
       "  'Calories': '122 кКал',\n",
       "  'Proteins': '10,4 г',\n",
       "  'Fats': '8,58 г',\n",
       "  'Carbohydrates': '0 г'},\n",
       " {'Title': \"Мясной набор, баранина, мясо и жир, обрезь до 1/4'' жира, отборная, вареная\",\n",
       "  'Calories': '294 кКал',\n",
       "  'Proteins': '24,52 г',\n",
       "  'Fats': '20,94 г',\n",
       "  'Carbohydrates': '0 г'},\n",
       " {'Title': \"Мясной набор, баранина, мясо и жир, обрезь до 1/4'' жира, отборная, сырая\",\n",
       "  'Calories': '267 кКал',\n",
       "  'Proteins': '16,88 г',\n",
       "  'Fats': '21,59 г',\n",
       "  'Carbohydrates': '0 г'},\n",
       " {'Title': \"Мясной набор, баранина, мясо и жир, обрезь до 1/8'' жира, отборная, вареная\",\n",
       "  'Calories': '271 кКал',\n",
       "  'Proteins': '25,51 г',\n",
       "  'Fats': '18,01 г',\n",
       "  'Carbohydrates': '0 г'},\n",
       " {'Title': \"Мясной набор, баранина, мясо и жир, обрезь до 1/8'' жира, отборная, сырая\",\n",
       "  'Calories': '243 кКал',\n",
       "  'Proteins': '17,54 г',\n",
       "  'Fats': '18,66 г',\n",
       "  'Carbohydrates': '0 г'},\n",
       " {'Title': 'Мясной набор, баранина, Новая Зеландия, замороженная, мясо и жир, вареная',\n",
       "  'Calories': '305 кКал',\n",
       "  'Proteins': '24,42 г',\n",
       "  'Fats': '22,26 г',\n",
       "  'Carbohydrates': '0 г'},\n",
       " {'Title': \"Мясной набор, баранина, Новая Зеландия, замороженная, мясо и жир, обрезь до 1/8'' жира, отборная, вареная\",\n",
       "  'Calories': '270 кКал',\n",
       "  'Proteins': '25,26 г',\n",
       "  'Fats': '17,98 г',\n",
       "  'Carbohydrates': '0 г'},\n",
       " {'Title': \"Мясной набор, баранина, Новая Зеландия, замороженная, мясо и жир, обрезь до 1/8'' жира, отборная, сырая\",\n",
       "  'Calories': '232 кКал',\n",
       "  'Proteins': '17,95 г',\n",
       "  'Fats': '17,2 г',\n",
       "  'Carbohydrates': '0 г'},\n",
       " {'Title': 'Мясной набор, баранина, Новая Зеландия, замороженная, мясо и жир, сырая',\n",
       "  'Calories': '277 кКал',\n",
       "  'Proteins': '16,74 г',\n",
       "  'Fats': '22,74 г',\n",
       "  'Carbohydrates': '0 г'},\n",
       " {'Title': 'Мясной набор, баранина, Новая Зеландия, замороженная, только жир, вареная',\n",
       "  'Calories': '586 кКал',\n",
       "  'Proteins': '9,72 г',\n",
       "  'Fats': '60,39 г',\n",
       "  'Carbohydrates': '0 г'},\n",
       " {'Title': 'Мясной набор, баранина, Новая Зеландия, замороженная, только жир, сырая',\n",
       "  'Calories': '640 кКал',\n",
       "  'Proteins': '6,92 г',\n",
       "  'Fats': '67,63 г',\n",
       "  'Carbohydrates': '0 г'},\n",
       " {'Title': 'Мясной набор, баранина, Новая Зеландия, замороженная, только мясо, вареная',\n",
       "  'Calories': '206 кКал',\n",
       "  'Proteins': '29,59 г',\n",
       "  'Fats': '8,86 г',\n",
       "  'Carbohydrates': '0 г'},\n",
       " {'Title': 'Мясной набор, баранина, Новая Зеландия, замороженная, только мясо, сырая',\n",
       "  'Calories': '128 кКал',\n",
       "  'Proteins': '20,75 г',\n",
       "  'Fats': '4,41 г',\n",
       "  'Carbohydrates': '0 г'},\n",
       " {'Title': \"Мясной набор, баранина, только жир, обрезь до 1/4'' жира, отборная, вареная\",\n",
       "  'Calories': '586 кКал',\n",
       "  'Proteins': '12,16 г',\n",
       "  'Fats': '59,18 г',\n",
       "  'Carbohydrates': '0 г'},\n",
       " {'Title': \"Мясной набор, баранина, только жир, обрезь до 1/4'' жира, отборная, сырая\",\n",
       "  'Calories': '665 кКал',\n",
       "  'Proteins': '6,65 г',\n",
       "  'Fats': '70,61 г',\n",
       "  'Carbohydrates': '0 г'},\n",
       " {'Title': \"Мясной набор, баранина, только мясо, обрезь до 1/4'' жира, отборная, вареная\",\n",
       "  'Calories': '206 кКал',\n",
       "  'Proteins': '28,22 г',\n",
       "  'Fats': '9,52 г',\n",
       "  'Carbohydrates': '0 г'},\n",
       " {'Title': \"Мясной набор, баранина, только мясо, обрезь до 1/4'' жира, отборная, сырая\",\n",
       "  'Calories': '134 кКал',\n",
       "  'Proteins': '20,29 г',\n",
       "  'Fats': '5,25 г',\n",
       "  'Carbohydrates': '0 г'},\n",
       " {'Title': 'Мясо косули',\n",
       "  'Calories': '138 кКал',\n",
       "  'Proteins': '21,1 г',\n",
       "  'Fats': '6 г',\n",
       "  'Carbohydrates': '0 г'},\n",
       " {'Title': 'Мясо кролика',\n",
       "  'Calories': '183 кКал',\n",
       "  'Proteins': '21,2 г',\n",
       "  'Fats': '11 г',\n",
       "  'Carbohydrates': '0 г'},\n",
       " {'Title': 'Мясо лося',\n",
       "  'Calories': '101 кКал',\n",
       "  'Proteins': '21,4 г',\n",
       "  'Fats': '1,7 г',\n",
       "  'Carbohydrates': '0 г'},\n",
       " {'Title': 'Мясо сайгака',\n",
       "  'Calories': '208 кКал',\n",
       "  'Proteins': '21,2 г',\n",
       "  'Fats': '13,7 г',\n",
       "  'Carbohydrates': '0 г'},\n",
       " {'Title': 'Мясо яка',\n",
       "  'Calories': '112 кКал',\n",
       "  'Proteins': '20 г',\n",
       "  'Fats': '3,5 г',\n",
       "  'Carbohydrates': '0 г'},\n",
       " {'Title': \"Нога передняя, с лопаткой, баранина, мясо и жир, обрезь до 1/8'' жира, жаренная\",\n",
       "  'Calories': '269 кКал',\n",
       "  'Proteins': '22,7 г',\n",
       "  'Fats': '19,08 г',\n",
       "  'Carbohydrates': '0 г'},\n",
       " {'Title': \"Нога передняя, с лопаткой, баранина, мясо и жир, обрезь до 1/8'' жира, жаренная на открытом огне\",\n",
       "  'Calories': '268 кКал',\n",
       "  'Proteins': '23,84 г',\n",
       "  'Fats': '18,39 г',\n",
       "  'Carbohydrates': '0 г'},\n",
       " {'Title': \"Нога передняя, с лопаткой, баранина, мясо и жир, обрезь до 1/8'' жира, сырая\",\n",
       "  'Calories': '244 кКал',\n",
       "  'Proteins': '17,07 г',\n",
       "  'Fats': '18,96 г',\n",
       "  'Carbohydrates': '0 г'},\n",
       " {'Title': \"Нога передняя, с лопаткой, баранина, мясо и жир, обрезь до 1/8'' жира, тушеная\",\n",
       "  'Calories': '338 кКал',\n",
       "  'Proteins': '29,46 г',\n",
       "  'Fats': '23,57 г',\n",
       "  'Carbohydrates': '0 г'},\n",
       " {'Title': \"Нога, передняя, с лопаткой, баранина, Новая Зеландия, замороженная, мясо и жир, обрезь до 1/8'' жира, сырая\",\n",
       "  'Calories': '251 кКал',\n",
       "  'Proteins': '17,19 г',\n",
       "  'Fats': '19,74 г',\n",
       "  'Carbohydrates': '0 г'},\n",
       " {'Title': \"Нога, передняя, с лопаткой, баранина, Новая Зеландия, замороженная, мясо и жир, обрезь до 1/8'' жира, тушеная\",\n",
       "  'Calories': '342 кКал',\n",
       "  'Proteins': '29,43 г',\n",
       "  'Fats': '24,03 г',\n",
       "  'Carbohydrates': '0 г'},\n",
       " {'Title': 'Нога, передняя, с лопаткой, баранина, Новая Зеландия, замороженная, мясо и жир, сырая',\n",
       "  'Calories': '272 кКал',\n",
       "  'Proteins': '16,16 г',\n",
       "  'Fats': '22,89 г',\n",
       "  'Carbohydrates': '0,24 г'},\n",
       " {'Title': 'Нога, передняя, с лопаткой, баранина, Новая Зеландия, замороженная, мясо и жир, тушеная',\n",
       "  'Calories': '357 кКал',\n",
       "  'Proteins': '28,21 г',\n",
       "  'Fats': '26,27 г',\n",
       "  'Carbohydrates': '0 г'},\n",
       " {'Title': 'Нога, передняя, с лопаткой, баранина, Новая Зеландия, замороженная, только мясо, сырая',\n",
       "  'Calories': '154 кКал',\n",
       "  'Proteins': '19,72 г',\n",
       "  'Fats': '8,3 г',\n",
       "  'Carbohydrates': '0 г'},\n",
       " {'Title': 'Нога, передняя, с лопаткой, баранина, Новая Зеландия, замороженная, только мясо, тушеная',\n",
       "  'Calories': '285 кКал',\n",
       "  'Proteins': '34,06 г',\n",
       "  'Fats': '15,5 г',\n",
       "  'Carbohydrates': '0 г'},\n",
       " {'Title': \"Нога, целая, баранина, мясо и жир, обрезь до 1/8'' жира, отборная, жаренная\",\n",
       "  'Calories': '242 кКал',\n",
       "  'Proteins': '26,2 г',\n",
       "  'Fats': '14,42 г',\n",
       "  'Carbohydrates': '0 г'},\n",
       " {'Title': \"Нога, целая, баранина, мясо и жир, обрезь до 1/8'' жира, отборная, сырая\",\n",
       "  'Calories': '209 кКал',\n",
       "  'Proteins': '18,47 г',\n",
       "  'Fats': '14,42 г',\n",
       "  'Carbohydrates': '0 г'},\n",
       " {'Title': 'Нога, целая, баранина, Новая Зеландия, замороженная, мясо и жир, жаренная',\n",
       "  'Calories': '246 кКал',\n",
       "  'Proteins': '24,81 г',\n",
       "  'Fats': '15,56 г',\n",
       "  'Carbohydrates': '0 г'},\n",
       " {'Title': 'Нога, целая, баранина, Новая Зеландия, замороженная, мясо и жир, обрезь до 1/8\" жира, жаренная',\n",
       "  'Calories': '234 кКал',\n",
       "  'Proteins': '25,34 г',\n",
       "  'Fats': '13,95 г',\n",
       "  'Carbohydrates': '0 г'},\n",
       " {'Title': 'Нога, целая, баранина, Новая Зеландия, замороженная, мясо и жир, обрезь до 1/8\" жира, сырая',\n",
       "  'Calories': '201 кКал',\n",
       "  'Proteins': '18,76 г',\n",
       "  'Fats': '13,37 г',\n",
       "  'Carbohydrates': '0 г'},\n",
       " {'Title': 'Нога, целая, баранина, Новая Зеландия, замороженная, мясо и жир, сырая',\n",
       "  'Calories': '206 кКал',\n",
       "  'Proteins': '18,64 г',\n",
       "  'Fats': '14,52 г',\n",
       "  'Carbohydrates': '0,13 г'},\n",
       " {'Title': 'Нога, целая, баранина, Новая Зеландия, замороженная, только мясо, жаренная',\n",
       "  'Calories': '181 кКал',\n",
       "  'Proteins': '27,68 г',\n",
       "  'Fats': '7,01 г',\n",
       "  'Carbohydrates': '0 г'},\n",
       " {'Title': 'Нога, целая, баранина, Новая Зеландия, замороженная, только мясо, сырая',\n",
       "  'Calories': '126 кКал',\n",
       "  'Proteins': '21,1 г',\n",
       "  'Fats': '4,64 г',\n",
       "  'Carbohydrates': '0 г'},\n",
       " {'Title': 'Оленина 1 кат.',\n",
       "  'Calories': '155 кКал',\n",
       "  'Proteins': '19,5 г',\n",
       "  'Fats': '8,5 г',\n",
       "  'Carbohydrates': '0 г'},\n",
       " {'Title': 'Оленина тушеная, консервы',\n",
       "  'Calories': '171 кКал',\n",
       "  'Proteins': '19,3 г',\n",
       "  'Fats': '10,4 г',\n",
       "  'Carbohydrates': '0 г'},\n",
       " {'Title': 'Оленина, 2 категории',\n",
       "  'Calories': '125 кКал',\n",
       "  'Proteins': '21 г',\n",
       "  'Fats': '4,5 г',\n",
       "  'Carbohydrates': '0 г'},\n",
       " {'Title': 'Олень, (лань)',\n",
       "  'Calories': '120 кКал',\n",
       "  'Proteins': '22,96 г',\n",
       "  'Fats': '2,42 г',\n",
       "  'Carbohydrates': '0 г'},\n",
       " {'Title': 'Олень, (лань), запеченный',\n",
       "  'Calories': '158 кКал',\n",
       "  'Proteins': '30,21 г',\n",
       "  'Fats': '3,19 г',\n",
       "  'Carbohydrates': '0 г'},\n",
       " {'Title': 'Олень, (лань), мякоть плечевой части, только мясо, тушеный',\n",
       "  'Calories': '191 кКал',\n",
       "  'Proteins': '36,28 г',\n",
       "  'Fats': '3,95 г',\n",
       "  'Carbohydrates': '0 г'},\n",
       " {'Title': 'Олень, (лань), стейк из верхней части бедра, только мясо, жареный на открытом огне',\n",
       "  'Calories': '152 кКал',\n",
       "  'Proteins': '31,47 г',\n",
       "  'Fats': '1,92 г',\n",
       "  'Carbohydrates': '0 г'},\n",
       " {'Title': 'Олень, (лань), стейк из филея, только мясо, жаренный на открытом огне',\n",
       "  'Calories': '150 кКал',\n",
       "  'Proteins': '30,2 г',\n",
       "  'Fats': '2,38 г',\n",
       "  'Carbohydrates': '0 г'},\n",
       " {'Title': 'Олень, сырой, (Аляска, Ситка)',\n",
       "  'Calories': '116 кКал',\n",
       "  'Proteins': '21,5 г',\n",
       "  'Fats': '2,66 г',\n",
       "  'Carbohydrates': '0 г'},\n",
       " {'Title': 'Ондатра (выхухоль)',\n",
       "  'Calories': '162 кКал',\n",
       "  'Proteins': '20,76 г',\n",
       "  'Fats': '8,1 г',\n",
       "  'Carbohydrates': '0 г'},\n",
       " {'Title': 'Ондатра (выхухоль), запеченная',\n",
       "  'Calories': '234 кКал',\n",
       "  'Proteins': '30,09 г',\n",
       "  'Fats': '11,74 г',\n",
       "  'Carbohydrates': '0 г'},\n",
       " {'Title': 'Опоссум, запеченный',\n",
       "  'Calories': '221 кКал',\n",
       "  'Proteins': '30,2 г',\n",
       "  'Fats': '10,2 г',\n",
       "  'Carbohydrates': '0 г'},\n",
       " {'Title': 'Печень баранья',\n",
       "  'Calories': '101 кКал',\n",
       "  'Proteins': '18,7 г',\n",
       "  'Fats': '2,9 г',\n",
       "  'Carbohydrates': '0 г'},\n",
       " {'Title': 'Печень баранья',\n",
       "  'Calories': '139 кКал',\n",
       "  'Proteins': '20,38 г',\n",
       "  'Fats': '5,02 г',\n",
       "  'Carbohydrates': '1,78 г'},\n",
       " {'Title': 'Печень баранья, жаренная  на сковороде',\n",
       "  'Calories': '238 кКал',\n",
       "  'Proteins': '25,53 г',\n",
       "  'Fats': '12,65 г',\n",
       "  'Carbohydrates': '3,78 г'},\n",
       " {'Title': 'Печень баранья, тушеная',\n",
       "  'Calories': '220 кКал',\n",
       "  'Proteins': '30,57 г',\n",
       "  'Fats': '8,81 г',\n",
       "  'Carbohydrates': '2,53 г'},\n",
       " {'Title': 'Печень северного оленя карибу, (Аляска)',\n",
       "  'Calories': '122 кКал',\n",
       "  'Proteins': '15 г',\n",
       "  'Fats': '3,9 г',\n",
       "  'Carbohydrates': '6,8 г'},\n",
       " {'Title': 'Поджарка из баранины, по 1-408',\n",
       "  'Calories': '409 кКал',\n",
       "  'Proteins': '19,5 г',\n",
       "  'Fats': '35,1 г',\n",
       "  'Carbohydrates': '3,9 г'},\n",
       " {'Title': 'Поджелудочная железа баранья',\n",
       "  'Calories': '152 кКал',\n",
       "  'Proteins': '14,84 г',\n",
       "  'Fats': '9,82 г',\n",
       "  'Carbohydrates': '0 г'},\n",
       " {'Title': 'Поджелудочная железа баранья тушеная',\n",
       "  'Calories': '234 кКал',\n",
       "  'Proteins': '22,83 г',\n",
       "  'Fats': '15,12 г',\n",
       "  'Carbohydrates': '0 г'},\n",
       " {'Title': 'Почки бараньи',\n",
       "  'Calories': '77 кКал',\n",
       "  'Proteins': '13,6 г',\n",
       "  'Fats': '2,5 г',\n",
       "  'Carbohydrates': '0 г'},\n",
       " {'Title': 'Почки бараньи',\n",
       "  'Calories': '97 кКал',\n",
       "  'Proteins': '15,74 г',\n",
       "  'Fats': '2,95 г',\n",
       "  'Carbohydrates': '0,82 г'},\n",
       " {'Title': 'Почки бараньи, тушеные',\n",
       "  'Calories': '137 кКал',\n",
       "  'Proteins': '23,65 г',\n",
       "  'Fats': '3,62 г',\n",
       "  'Carbohydrates': '0,99 г'},\n",
       " {'Title': 'Рагу из баранины, по 1-430',\n",
       "  'Calories': '152 кКал',\n",
       "  'Proteins': '5,1 г',\n",
       "  'Fats': '10,1 г',\n",
       "  'Carbohydrates': '10,1 г'},\n",
       " {'Title': 'Рагу из кролика, по 2-10',\n",
       "  'Calories': '123 кКал',\n",
       "  'Proteins': '6,4 г',\n",
       "  'Fats': '6,1 г',\n",
       "  'Carbohydrates': '10,4 г'},\n",
       " {'Title': \"Ребра, баранина, мясо и жир, обрезь до 1/8'' жира, отборная, жаренная\",\n",
       "  'Calories': '341 кКал',\n",
       "  'Proteins': '21,82 г',\n",
       "  'Fats': '27,53 г',\n",
       "  'Carbohydrates': '0 г'},\n",
       " {'Title': \"Ребра, баранина, мясо и жир, обрезь до 1/8'' жира, отборная, жаренная на открытом огне\",\n",
       "  'Calories': '340 кКал',\n",
       "  'Proteins': '23,06 г',\n",
       "  'Fats': '26,82 г',\n",
       "  'Carbohydrates': '0 г'},\n",
       " {'Title': \"Ребра, баранина, мясо и жир, обрезь до 1/8'' жира, отборная, сырая\",\n",
       "  'Calories': '342 кКал',\n",
       "  'Proteins': '15,32 г',\n",
       "  'Fats': '30,71 г',\n",
       "  'Carbohydrates': '0 г'},\n",
       " {'Title': 'Ребра, баранина, Новая Зеландия, замороженная, мясо и жир, жаренная',\n",
       "  'Calories': '253 кКал',\n",
       "  'Proteins': '22,06 г',\n",
       "  'Fats': '18,29 г',\n",
       "  'Carbohydrates': '0,04 г'},\n",
       " {'Title': \"Ребра, баранина, Новая Зеландия, замороженная, мясо и жир, обрезь дл 1/8'' жира, жаренная\",\n",
       "  'Calories': '317 кКал',\n",
       "  'Proteins': '19,86 г',\n",
       "  'Fats': '25,74 г',\n",
       "  'Carbohydrates': '0 г'},\n",
       " {'Title': \"Ребра, баранина, Новая Зеландия, замороженная, мясо и жир, обрезь дл 1/8'' жира, сырая\",\n",
       "  'Calories': '311 кКал',\n",
       "  'Proteins': '15,87 г',\n",
       "  'Fats': '27 г',\n",
       "  'Carbohydrates': '0 г'},\n",
       " {'Title': 'Ребра, баранина, Новая Зеландия, замороженная, мясо и жир, сырая',\n",
       "  'Calories': '240 кКал',\n",
       "  'Proteins': '18,12 г',\n",
       "  'Fats': '18,52 г',\n",
       "  'Carbohydrates': '0,13 г'},\n",
       " {'Title': 'Ребра, баранина, Новая Зеландия, замороженная, только мясо, жаренная',\n",
       "  'Calories': '196 кКал',\n",
       "  'Proteins': '24,42 г',\n",
       "  'Fats': '10,16 г',\n",
       "  'Carbohydrates': '0 г'},\n",
       " {'Title': 'Ребра, баранина, Новая Зеландия, замороженная, только мясо, сырая',\n",
       "  'Calories': '160 кКал',\n",
       "  'Proteins': '20,65 г',\n",
       "  'Fats': '8,61 г',\n",
       "  'Carbohydrates': '0 г'},\n",
       " {'Title': 'Рубец бараний',\n",
       "  'Calories': '82 кКал',\n",
       "  'Proteins': '11,5 г',\n",
       "  'Fats': '4 г',\n",
       "  'Carbohydrates': '0 г'},\n",
       " {'Title': 'Рулька, баранина, мясо и жир, обрезь до 1/4\" жира, отборная, сырая',\n",
       "  'Calories': '201 кКал',\n",
       "  'Proteins': '18,91 г',\n",
       "  'Fats': '13,38 г',\n",
       "  'Carbohydrates': '0 г'},\n",
       " {'Title': 'Рулька, баранина, мясо и жир, обрезь до 1/4\" жира, отборная, тушеная',\n",
       "  'Calories': '243 кКал',\n",
       "  'Proteins': '28,37 г',\n",
       "  'Fats': '13,46 г',\n",
       "  'Carbohydrates': '0 г'},\n",
       " {'Title': 'Рулька, баранина, Новая Зеландия, замороженная, мясо и жир, обрезь до 1/8\" жира, сырая',\n",
       "  'Calories': '223 кКал',\n",
       "  'Proteins': '18,04 г',\n",
       "  'Fats': '16,15 г',\n",
       "  'Carbohydrates': '0 г'},\n",
       " {'Title': 'Рулька, баранина, Новая Зеландия, замороженная, мясо и жир, обрезь до 1/8\" жира, тушеная',\n",
       "  'Calories': '258 кКал',\n",
       "  'Proteins': '26,97 г',\n",
       "  'Fats': '15,83 г',\n",
       "  'Carbohydrates': '0 г'},\n",
       " {'Title': 'Рулька, баранина, Новая Зеландия, замороженная, мясо и жир, сырая',\n",
       "  'Calories': '183 кКал',\n",
       "  'Proteins': '20,09 г',\n",
       "  'Fats': '11,38 г',\n",
       "  'Carbohydrates': '0,09 г'},\n",
       " {'Title': 'Рулька, баранина, Новая Зеландия, замороженная, мясо и жир, тушеная',\n",
       "  'Calories': '258 кКал',\n",
       "  'Proteins': '26,97 г',\n",
       "  'Fats': '15,83 г',\n",
       "  'Carbohydrates': '0 г'},\n",
       " {'Title': 'Рулька, баранина, Новая Зеландия, замороженная, только мясо, сырая',\n",
       "  'Calories': '122 кКал',\n",
       "  'Proteins': '22,05 г',\n",
       "  'Fats': '3,77 г',\n",
       "  'Carbohydrates': '0 г'},\n",
       " {'Title': 'Рулька, баранина, Новая Зеландия, замороженная, только мясо, тушеная',\n",
       "  'Calories': '209 кКал',\n",
       "  'Proteins': '33,31 г',\n",
       "  'Fats': '8,4 г',\n",
       "  'Carbohydrates': '0 г'},\n",
       " {'Title': 'Селезенка баранья',\n",
       "  'Calories': '101 кКал',\n",
       "  'Proteins': '17,2 г',\n",
       "  'Fats': '3,1 г',\n",
       "  'Carbohydrates': '0 г'},\n",
       " {'Title': 'Селезенка баранья, тушеная',\n",
       "  'Calories': '156 кКал',\n",
       "  'Proteins': '26,46 г',\n",
       "  'Fats': '4,77 г',\n",
       "  'Carbohydrates': '0 г'},\n",
       " {'Title': 'Сердце баранье',\n",
       "  'Calories': '86 кКал',\n",
       "  'Proteins': '13,5 г',\n",
       "  'Fats': '3,5 г',\n",
       "  'Carbohydrates': '0 г'},\n",
       " {'Title': 'Сердце баранье',\n",
       "  'Calories': '122 кКал',\n",
       "  'Proteins': '16,47 г',\n",
       "  'Fats': '5,68 г',\n",
       "  'Carbohydrates': '0,21 г'},\n",
       " {'Title': 'Сердце баранье, тушеное',\n",
       "  'Calories': '185 кКал',\n",
       "  'Proteins': '24,97 г',\n",
       "  'Fats': '7,91 г',\n",
       "  'Carbohydrates': '1,93 г'},\n",
       " {'Title': 'Фарш из баранины',\n",
       "  'Calories': '282 кКал',\n",
       "  'Proteins': '16,56 г',\n",
       "  'Fats': '23,41 г',\n",
       "  'Carbohydrates': '0 г'},\n",
       " {'Title': 'Фарш из баранины, жаренный на открытом огне',\n",
       "  'Calories': '283 кКал',\n",
       "  'Proteins': '24,75 г',\n",
       "  'Fats': '19,65 г',\n",
       "  'Carbohydrates': '0 г'},\n",
       " {'Title': 'Фарш из мяса белки (Аляска)',\n",
       "  'Calories': '111 кКал',\n",
       "  'Proteins': '19,3 г',\n",
       "  'Fats': '3,8 г',\n",
       "  'Carbohydrates': '0 г'},\n",
       " {'Title': 'Фарш из мяса бизона',\n",
       "  'Calories': '223 кКал',\n",
       "  'Proteins': '18,67 г',\n",
       "  'Fats': '15,93 г',\n",
       "  'Carbohydrates': '0 г'},\n",
       " {'Title': 'Фарш из мяса бизона, жаренный на сковороде',\n",
       "  'Calories': '238 кКал',\n",
       "  'Proteins': '23,77 г',\n",
       "  'Fats': '15,13 г',\n",
       "  'Carbohydrates': '0 г'},\n",
       " {'Title': 'Фарш из мяса зубра пастбищного',\n",
       "  'Calories': '146 кКал',\n",
       "  'Proteins': '20,23 г',\n",
       "  'Fats': '7,21 г',\n",
       "  'Carbohydrates': '0,05 г'},\n",
       " {'Title': 'Фарш из мяса зубра пастбищного, приготовленный',\n",
       "  'Calories': '179 кКал',\n",
       "  'Proteins': '25,45 г',\n",
       "  'Fats': '8,62 г',\n",
       "  'Carbohydrates': '0 г'},\n",
       " {'Title': 'Фарш из мяса лося',\n",
       "  'Calories': '172 кКал',\n",
       "  'Proteins': '21,76 г',\n",
       "  'Fats': '8,82 г',\n",
       "  'Carbohydrates': '0 г'},\n",
       " {'Title': 'Фарш из мяса лося, жаренный на сковороде',\n",
       "  'Calories': '193 кКал',\n",
       "  'Proteins': '26,64 г',\n",
       "  'Fats': '8,74 г',\n",
       "  'Carbohydrates': '0 г'},\n",
       " {'Title': 'Фарш из мяса оленя (лани)',\n",
       "  'Calories': '157 кКал',\n",
       "  'Proteins': '21,78 г',\n",
       "  'Fats': '7,13 г',\n",
       "  'Carbohydrates': '0 г'},\n",
       " {'Title': 'Фарш из мяса оленя (лани), жаренный на сковороде',\n",
       "  'Calories': '187 кКал',\n",
       "  'Proteins': '26,45 г',\n",
       "  'Fats': '8,22 г',\n",
       "  'Carbohydrates': '0 г'},\n",
       " {'Title': 'Шницель отбивной из баранины, по 1-416',\n",
       "  'Calories': '333 кКал',\n",
       "  'Proteins': '21,8 г',\n",
       "  'Fats': '23,2 г',\n",
       "  'Carbohydrates': '9,1 г'},\n",
       " {'Title': 'Ягнятина',\n",
       "  'Calories': '196 кКал',\n",
       "  'Proteins': '17,2 г',\n",
       "  'Fats': '14,1 г',\n",
       "  'Carbohydrates': '0 г'},\n",
       " {'Title': 'Ягнятина, лопаточная часть',\n",
       "  'Calories': '259 кКал',\n",
       "  'Proteins': '16,63 г',\n",
       "  'Fats': '20,86 г',\n",
       "  'Carbohydrates': '0 г'},\n",
       " {'Title': 'Ягнятина, лопаточная часть жаренная на открытом огне',\n",
       "  'Calories': '278 кКал',\n",
       "  'Proteins': '23,08 г',\n",
       "  'Fats': '19,94 г',\n",
       "  'Carbohydrates': '0 г'},\n",
       " {'Title': 'Ягнятина, лопаточная часть только мясо',\n",
       "  'Calories': '151 кКал',\n",
       "  'Proteins': '19,29 г',\n",
       "  'Fats': '7,63 г',\n",
       "  'Carbohydrates': '0 г'},\n",
       " {'Title': 'Ягнятина, лопаточная часть только мясо, жаренная на открытом огне',\n",
       "  'Calories': '211 кКал',\n",
       "  'Proteins': '25,48 г',\n",
       "  'Fats': '11,32 г',\n",
       "  'Carbohydrates': '0 г'},\n",
       " {'Title': 'Ягнятина, лопаточная часть только мясо, запеченная',\n",
       "  'Calories': '209 кКал',\n",
       "  'Proteins': '24,61 г',\n",
       "  'Fats': '11,57 г',\n",
       "  'Carbohydrates': '0 г'},\n",
       " {'Title': 'Ягнятина, лопаточная часть, запеченная',\n",
       "  'Calories': '281 кКал',\n",
       "  'Proteins': '22,25 г',\n",
       "  'Fats': '20,61 г',\n",
       "  'Carbohydrates': '0 г'},\n",
       " {'Title': 'Ягнятина, лопаточная часть, только мясо, тушеная',\n",
       "  'Calories': '288 кКал',\n",
       "  'Proteins': '32,35 г',\n",
       "  'Fats': '16,64 г',\n",
       "  'Carbohydrates': '0 г'},\n",
       " {'Title': 'Ягнятина, лопаточная часть, тушеная',\n",
       "  'Calories': '345 кКал',\n",
       "  'Proteins': '28,51 г',\n",
       "  'Fats': '24,73 г',\n",
       "  'Carbohydrates': '0 г'},\n",
       " {'Title': 'Ягнятина, окорок',\n",
       "  'Calories': '272 кКал',\n",
       "  'Proteins': '16,94 г',\n",
       "  'Fats': '22,11 г',\n",
       "  'Carbohydrates': '0 г'},\n",
       " {'Title': 'Ягнятина, окорок, запеченный',\n",
       "  'Calories': '292 кКал',\n",
       "  'Proteins': '24,63 г',\n",
       "  'Fats': '20,67 г',\n",
       "  'Carbohydrates': '0 г'},\n",
       " {'Title': 'Ягнятина, окорок, только мясо, запеченный',\n",
       "  'Calories': '204 кКал',\n",
       "  'Proteins': '28,35 г',\n",
       "  'Fats': '9,17 г',\n",
       "  'Carbohydrates': '0 г'},\n",
       " {'Title': 'Ягнятина, плечевая часть',\n",
       "  'Calories': '260 кКал',\n",
       "  'Proteins': '16,79 г',\n",
       "  'Fats': '20,9 г',\n",
       "  'Carbohydrates': '0 г'},\n",
       " {'Title': 'Ягнятина, плечевая часть, жаренная на открытом огне',\n",
       "  'Calories': '281 кКал',\n",
       "  'Proteins': '24,44 г',\n",
       "  'Fats': '19,55 г',\n",
       "  'Carbohydrates': '0 г'},\n",
       " {'Title': 'Ягнятина, плечевая часть, запеченная',\n",
       "  'Calories': '279 кКал',\n",
       "  'Proteins': '22,53 г',\n",
       "  'Fats': '20,24 г',\n",
       "  'Carbohydrates': '0 г'},\n",
       " {'Title': 'Ягнятина, плечевая часть, только мясо',\n",
       "  'Calories': '132 кКал',\n",
       "  'Proteins': '19,99 г',\n",
       "  'Fats': '5,2 г',\n",
       "  'Carbohydrates': '0 г'},\n",
       " {'Title': 'Ягнятина, плечевая часть, только мясо, жаренная на открытом огне',\n",
       "  'Calories': '200 кКал',\n",
       "  'Proteins': '27,71 г',\n",
       "  'Fats': '9,02 г',\n",
       "  'Carbohydrates': '0 г'},\n",
       " {'Title': 'Ягнятина, плечевая часть, только мясо, запеченная',\n",
       "  'Calories': '192 кКал',\n",
       "  'Proteins': '25,46 г',\n",
       "  'Fats': '9,26 г',\n",
       "  'Carbohydrates': '0 г'},\n",
       " {'Title': 'Ягнятина, плечевая часть, только мясо, тушеная',\n",
       "  'Calories': '279 кКал',\n",
       "  'Proteins': '35,54 г',\n",
       "  'Fats': '14,08 г',\n",
       "  'Carbohydrates': '0 г'},\n",
       " {'Title': 'Ягнятина, плечевая часть, тушеная',\n",
       "  'Calories': '346 кКал',\n",
       "  'Proteins': '30,39 г',\n",
       "  'Fats': '24 г',\n",
       "  'Carbohydrates': '0 г'},\n",
       " {'Title': 'Язык бараний',\n",
       "  'Calories': '195 кКал',\n",
       "  'Proteins': '12,6 г',\n",
       "  'Fats': '16,1 г',\n",
       "  'Carbohydrates': '0 г'},\n",
       " {'Title': 'Язык бараний',\n",
       "  'Calories': '222 кКал',\n",
       "  'Proteins': '15,7 г',\n",
       "  'Fats': '17,17 г',\n",
       "  'Carbohydrates': '0 г'},\n",
       " {'Title': 'Язык бараний тушеный',\n",
       "  'Calories': '275 кКал',\n",
       "  'Proteins': '21,57 г',\n",
       "  'Fats': '20,28 г',\n",
       "  'Carbohydrates': '0 г'},\n",
       " {'Title': 'Язык оленя карибу (Аляска)',\n",
       "  'Calories': '260 кКал',\n",
       "  'Proteins': '13,7 г',\n",
       "  'Fats': '22,8 г',\n",
       "  'Carbohydrates': '0 г'}]"
      ]
     },
     "execution_count": 109,
     "metadata": {},
     "output_type": "execute_result"
    }
   ],
   "source": [
    "# \n",
    "product_info"
   ]
  },
  {
   "cell_type": "markdown",
   "metadata": {},
   "source": [
    "### Запись химического состава продуктов в csv файл"
   ]
  },
  {
   "cell_type": "code",
   "execution_count": 112,
   "metadata": {},
   "outputs": [],
   "source": [
    "# Продолжим записывать данные в наш CSV-файл (\"a\" - от слова append или добавить)\n",
    "with open(f\"data/{count}_{category_name}_0.csv\", \"a\", encoding=\"utf-8\") as file:\n",
    "    writer = csv.writer(file)\n",
    "    writer.writerow(\n",
    "        (\n",
    "            title,\n",
    "            calories,\n",
    "            proteins,\n",
    "            fats,\n",
    "            carbohydrates\n",
    "        )\n",
    "    )"
   ]
  },
  {
   "cell_type": "markdown",
   "metadata": {},
   "source": [
    "### Создание списка и запись данных в json файл "
   ]
  },
  {
   "cell_type": "code",
   "execution_count": null,
   "metadata": {},
   "outputs": [],
   "source": [
    "# \n",
    "with open(f\"data/{count}_{category_name}.json\", \"a\", encoding=\"utf-8\") as file:\n",
    "        json.dump(product_info, file, indent=4, ensure_ascii=False)"
   ]
  },
  {
   "cell_type": "code",
   "execution_count": null,
   "metadata": {},
   "outputs": [],
   "source": []
  },
  {
   "cell_type": "markdown",
   "metadata": {},
   "source": [
    "### Запуск парсера, объединение всех кусков кода в одно целое"
   ]
  },
  {
   "cell_type": "code",
   "execution_count": null,
   "metadata": {},
   "outputs": [],
   "source": [
    "# Прочитаем JSON-файл и сохраним содержимое в переменную\n",
    "with open(\"all_categories_dict_2.json\") as file:\n",
    "    all_categories = json.load(file)"
   ]
  },
  {
   "cell_type": "code",
   "execution_count": 114,
   "metadata": {},
   "outputs": [
    {
     "name": "stdout",
     "output_type": "stream",
     "text": [
      "Всего итераций: 53\n",
      "# Итерация 1. Баранина_и_дичь записан...\n",
      "Осталось итераций: 52\n",
      "# Итерация 2. Бобовые записан...\n",
      "Осталось итераций: 51\n",
      "# Итерация 3. Вода_и_напитки записан...\n",
      "Осталось итераций: 50\n",
      "# Итерация 4. Говядина_и_телятина записан...\n",
      "Осталось итераций: 49\n",
      "# Итерация 5. Грибы записан...\n",
      "Осталось итераций: 48\n",
      "# Итерация 6. Детское_питание записан...\n",
      "Осталось итераций: 47\n",
      "# Итерация 7. Жиры_и_масла записан...\n",
      "Осталось итераций: 46\n",
      "# Итерация 8. Кондитерские_изделия записан...\n",
      "Осталось итераций: 45\n",
      "# Итерация 9. Крупы__мука__макароны записан...\n",
      "Осталось итераций: 44\n",
      "# Итерация 10. Молочные_продукты записан...\n",
      "Осталось итераций: 43\n",
      "# Итерация 11. Напитки_алкогольные записан...\n",
      "Осталось итераций: 42\n",
      "# Итерация 12. Овощи_и_зелень записан...\n",
      "Осталось итераций: 41\n"
     ]
    },
    {
     "ename": "UnicodeEncodeError",
     "evalue": "'charmap' codec can't encode character '\\U0001f339' in position 199253: character maps to <undefined>",
     "output_type": "error",
     "traceback": [
      "\u001b[1;31m---------------------------------------------------------------------------\u001b[0m",
      "\u001b[1;31mUnicodeEncodeError\u001b[0m                        Traceback (most recent call last)",
      "\u001b[1;32m<ipython-input-114-8fcf8ee64df0>\u001b[0m in \u001b[0;36m<module>\u001b[1;34m\u001b[0m\n\u001b[0;32m     18\u001b[0m \u001b[1;33m\u001b[0m\u001b[0m\n\u001b[0;32m     19\u001b[0m     \u001b[1;32mwith\u001b[0m \u001b[0mopen\u001b[0m\u001b[1;33m(\u001b[0m\u001b[1;34mf\"data/{count}_{category_name}.html\"\u001b[0m\u001b[1;33m,\u001b[0m \u001b[1;34m\"w\"\u001b[0m\u001b[1;33m)\u001b[0m \u001b[1;32mas\u001b[0m \u001b[0mfile\u001b[0m\u001b[1;33m:\u001b[0m\u001b[1;33m\u001b[0m\u001b[1;33m\u001b[0m\u001b[0m\n\u001b[1;32m---> 20\u001b[1;33m         \u001b[0mfile\u001b[0m\u001b[1;33m.\u001b[0m\u001b[0mwrite\u001b[0m\u001b[1;33m(\u001b[0m\u001b[0msrc\u001b[0m\u001b[1;33m)\u001b[0m\u001b[1;33m\u001b[0m\u001b[1;33m\u001b[0m\u001b[0m\n\u001b[0m\u001b[0;32m     21\u001b[0m \u001b[1;33m\u001b[0m\u001b[0m\n\u001b[0;32m     22\u001b[0m     \u001b[1;32mwith\u001b[0m \u001b[0mopen\u001b[0m\u001b[1;33m(\u001b[0m\u001b[1;34mf\"data/{count}_{category_name}.html\"\u001b[0m\u001b[1;33m)\u001b[0m \u001b[1;32mas\u001b[0m \u001b[0mfile\u001b[0m\u001b[1;33m:\u001b[0m\u001b[1;33m\u001b[0m\u001b[1;33m\u001b[0m\u001b[0m\n",
      "\u001b[1;32mC:\\anaconda3\\lib\\encodings\\cp1251.py\u001b[0m in \u001b[0;36mencode\u001b[1;34m(self, input, final)\u001b[0m\n\u001b[0;32m     17\u001b[0m \u001b[1;32mclass\u001b[0m \u001b[0mIncrementalEncoder\u001b[0m\u001b[1;33m(\u001b[0m\u001b[0mcodecs\u001b[0m\u001b[1;33m.\u001b[0m\u001b[0mIncrementalEncoder\u001b[0m\u001b[1;33m)\u001b[0m\u001b[1;33m:\u001b[0m\u001b[1;33m\u001b[0m\u001b[1;33m\u001b[0m\u001b[0m\n\u001b[0;32m     18\u001b[0m     \u001b[1;32mdef\u001b[0m \u001b[0mencode\u001b[0m\u001b[1;33m(\u001b[0m\u001b[0mself\u001b[0m\u001b[1;33m,\u001b[0m \u001b[0minput\u001b[0m\u001b[1;33m,\u001b[0m \u001b[0mfinal\u001b[0m\u001b[1;33m=\u001b[0m\u001b[1;32mFalse\u001b[0m\u001b[1;33m)\u001b[0m\u001b[1;33m:\u001b[0m\u001b[1;33m\u001b[0m\u001b[1;33m\u001b[0m\u001b[0m\n\u001b[1;32m---> 19\u001b[1;33m         \u001b[1;32mreturn\u001b[0m \u001b[0mcodecs\u001b[0m\u001b[1;33m.\u001b[0m\u001b[0mcharmap_encode\u001b[0m\u001b[1;33m(\u001b[0m\u001b[0minput\u001b[0m\u001b[1;33m,\u001b[0m\u001b[0mself\u001b[0m\u001b[1;33m.\u001b[0m\u001b[0merrors\u001b[0m\u001b[1;33m,\u001b[0m\u001b[0mencoding_table\u001b[0m\u001b[1;33m)\u001b[0m\u001b[1;33m[\u001b[0m\u001b[1;36m0\u001b[0m\u001b[1;33m]\u001b[0m\u001b[1;33m\u001b[0m\u001b[1;33m\u001b[0m\u001b[0m\n\u001b[0m\u001b[0;32m     20\u001b[0m \u001b[1;33m\u001b[0m\u001b[0m\n\u001b[0;32m     21\u001b[0m \u001b[1;32mclass\u001b[0m \u001b[0mIncrementalDecoder\u001b[0m\u001b[1;33m(\u001b[0m\u001b[0mcodecs\u001b[0m\u001b[1;33m.\u001b[0m\u001b[0mIncrementalDecoder\u001b[0m\u001b[1;33m)\u001b[0m\u001b[1;33m:\u001b[0m\u001b[1;33m\u001b[0m\u001b[1;33m\u001b[0m\u001b[0m\n",
      "\u001b[1;31mUnicodeEncodeError\u001b[0m: 'charmap' codec can't encode character '\\U0001f339' in position 199253: character maps to <undefined>"
     ]
    }
   ],
   "source": [
    "# \n",
    "with open(\"all_categories_dict_2.json\") as file:\n",
    "    all_categories = json.load(file)\n",
    "\n",
    "iteration_count = int(len(all_categories)) - 1\n",
    "count = 0\n",
    "print(f\"Всего итераций: {iteration_count}\")\n",
    "\n",
    "for category_name, category_href in all_categories.items():\n",
    "\n",
    "    rep = [\",\", \" \", \"-\", \"'\"]\n",
    "    for item in rep:\n",
    "        if item in category_name:\n",
    "            category_name = category_name.replace(item, \"_\")\n",
    "\n",
    "    req = requests.get(url=category_href, headers=headers)\n",
    "    src = req.text\n",
    "\n",
    "    with open(f\"data/{count}_{category_name}.html\", \"w\") as file:\n",
    "        file.write(src)\n",
    "\n",
    "    with open(f\"data/{count}_{category_name}.html\") as file:\n",
    "        src = file.read()\n",
    "\n",
    "    soup = BeautifulSoup(src, \"lxml\")\n",
    "\n",
    "    # проверка страницы на наличие таблицы с продуктами\n",
    "    alert_block = soup.find(class_=\"uk-alert-danger\")\n",
    "    if alert_block is not None:\n",
    "        continue\n",
    "\n",
    "    # собираем заголовки таблицы\n",
    "    table_head = soup.find(class_=\"mzr-tc-group-table\").find(\"tr\").find_all(\"th\")\n",
    "    product = table_head[0].text\n",
    "    calories = table_head[1].text\n",
    "    proteins = table_head[2].text\n",
    "    fats = table_head[3].text\n",
    "    carbohydrates = table_head[4].text\n",
    "\n",
    "    with open(f\"data/{count}_{category_name}.csv\", \"w\", encoding=\"utf-8\") as file:\n",
    "        writer = csv.writer(file)\n",
    "        writer.writerow(\n",
    "            (\n",
    "                product,\n",
    "                calories,\n",
    "                proteins,\n",
    "                fats,\n",
    "                carbohydrates\n",
    "            )\n",
    "        )\n",
    "\n",
    "    # собираем данные продуктов\n",
    "    products_data = soup.find(class_=\"mzr-tc-group-table\").find(\"tbody\").find_all(\"tr\")\n",
    "\n",
    "    product_info = []\n",
    "    for item in products_data:\n",
    "        product_tds = item.find_all(\"td\")\n",
    "\n",
    "        title = product_tds[0].find(\"a\").text\n",
    "        calories = product_tds[1].text\n",
    "        proteins = product_tds[2].text\n",
    "        fats = product_tds[3].text\n",
    "        carbohydrates = product_tds[4].text\n",
    "\n",
    "        product_info.append(\n",
    "            {\n",
    "                \"Title\": title,\n",
    "                \"Calories\": calories,\n",
    "                \"Proteins\": proteins,\n",
    "                \"Fats\": fats,\n",
    "                \"Carbohydrates\": carbohydrates\n",
    "            }\n",
    "        )\n",
    "\n",
    "        with open(f\"data/{count}_{category_name}.csv\", \"a\", encoding=\"utf-8\") as file:\n",
    "            writer = csv.writer(file)\n",
    "            writer.writerow(\n",
    "                (\n",
    "                    title,\n",
    "                    calories,\n",
    "                    proteins,\n",
    "                    fats,\n",
    "                    carbohydrates\n",
    "                )\n",
    "            )\n",
    "            \n",
    "# Создаём третий файл в формате JSON, в который будем записывать данные в виде словаря\n",
    "# который весьма полезен и удобен для чтения (в дополнение к формату CSV)\n",
    "    with open(f\"data/{count}_{category_name}.json\", \"a\", encoding=\"utf-8\") as file:\n",
    "        json.dump(product_info, file, indent=4, ensure_ascii=False)\n",
    "\n",
    "    count += 1\n",
    "    print(f\"# Итерация {count}. {category_name} записан...\")\n",
    "    iteration_count = iteration_count - 1\n",
    "\n",
    "    if iteration_count == 0:\n",
    "        print(\"Работа завершена\")\n",
    "        break\n",
    "\n",
    "    print(f\"Осталось итераций: {iteration_count}\")\n",
    "    sleep(random.randrange(2, 4)) # Для симуляции работы реального пользователя, а не робота"
   ]
  },
  {
   "cell_type": "code",
   "execution_count": null,
   "metadata": {},
   "outputs": [],
   "source": []
  },
  {
   "cell_type": "markdown",
   "metadata": {},
   "source": [
    "##  УРОК 3 | Парсинг динамического сайта | Выполняем заказ на фрилансе "
   ]
  },
  {
   "cell_type": "code",
   "execution_count": null,
   "metadata": {},
   "outputs": [],
   "source": [
    "# https://www.youtube.com/watch?v=gy_YlibMW6Q"
   ]
  },
  {
   "cell_type": "code",
   "execution_count": null,
   "metadata": {},
   "outputs": [],
   "source": []
  },
  {
   "cell_type": "markdown",
   "metadata": {},
   "source": [
    "## !!!!! Вернуться к этому видео, когда нужно будет парсить динамический сайт !!!!!"
   ]
  },
  {
   "cell_type": "code",
   "execution_count": null,
   "metadata": {},
   "outputs": [],
   "source": []
  },
  {
   "cell_type": "code",
   "execution_count": 67,
   "metadata": {},
   "outputs": [],
   "source": [
    "# Импортируем необходимые для урока библиотеки\n",
    "import json\n",
    "import os\n",
    "import random\n",
    "import re\n",
    "import time\n",
    "import requests\n",
    "from bs4 import BeautifulSoup"
   ]
  },
  {
   "cell_type": "markdown",
   "metadata": {},
   "source": [
    "#### Комментарий программиста к этому уроку"
   ]
  },
  {
   "cell_type": "markdown",
   "metadata": {},
   "source": [
    "##### Я понимаю что код написан быстро, но для новичков нужно будет учесть несколько не критичных, но ошибок в коде:\n",
    "\n",
    "1. Довольно странно постоянно сохранять html файл, потом открывать его и парсить данные из него (по сути просто лишние движения). Правильно будет просто использовать responce.text и доставать информацию оттуда (но возможно у заказчика было требования сохранить html файлы)\n",
    "\n",
    "2. Хардкод пагинации может привести к тому что в будущем не все стартапы будут пасриться (на сайт банально добавят новые стартапы и пагинаций станет больше). Правильно будет проверять ответ на каждой итерации цикла, и если responce.status_code == 404 то выходим из цикла\n",
    "\n",
    "3. Это уже ошибка в стиле написания кода. Абсолютно весь код находится в одной функции. Получения запроса с основного сайта и распарсивание карточек стартапов должно быть отдельно (для сумасшедших можно даже на 2 функции разбить). Парсинг данных со страницы стартапа так же должно производится отдельной функцией. Сохранения json, так же должно быть отдельной функцией.\n",
    "\n",
    "4. Это скорее совет чем ошибка. На сайте не так много карточек, но если учесть что в будующем их вероятно станет больше (запросов станет больше), то код может выполняться несколько десятков минут. Если вы пишите парсер и либо он уже делает много запросов, либо есть вероятность что в будующем он будет делать много запросов, то просто необходимо использовать aiohttp (или любую другую асинхронную библиотеку). Если парсер одноразовый, это можно упустить.\n",
    "\n",
    "5. Было бы правильно вывести базовый URL в отдельную переменную, а не копировать его к каждой относительной ссылке.\n",
    "\n",
    "6. Считается неправильным отлавливать все исключения в блоке try except, так как если пользователь нажмёт CTRL+C, то это не прекратит работу программы, а выкинет исключение. Если вам нужно поймать конкретное исключение, укажите его в блоке except, если нужно отловить все (за исключением нажатия CTRL+C), то просто внутри блока except выполняйте проверку.\n",
    "\n",
    "7. Заголовки лучше прописывать вне функции как константу (в ином случаи вы либо используете одну функцию на всю программу (что неправильно) либо копипастите headers в тело каждой функции)\n",
    "\n",
    "8. Что бы не заниматься лишними телодвижениями, можно использовать XPATH для указания необходимого блока.\n",
    "\n",
    "Думаю это всё к чему смог придраться. Отличный урок особенно для новичков.\n",
    "На парсерах можно заработать первый деньги питон разработчику, так как офферов достаточно много.\n",
    "\n",
    "Дам совет для тех кто парсит какой то сложный сайт.\n",
    "Изучите траффик, который идёт от сайта. Иногда можно найти запрос в котором все данные поступают в одном json ответе и вам не нужно долбить сайт сотнями запросов.\n",
    "Если вам удалось найти такой запрос, считайте что вы выполнили заказ на фрилансе за 5 минут, так как вам остаётся лишь достать данные из json и сохранить туда, куда укажет заказчик."
   ]
  },
  {
   "cell_type": "markdown",
   "metadata": {},
   "source": [
    "#### Пример кода для простого парсинга"
   ]
  },
  {
   "cell_type": "code",
   "execution_count": 127,
   "metadata": {},
   "outputs": [],
   "source": [
    "# Самый простой запрос для парсинга вебсайта (сайт недоступен - нужно подставить любой другой URL и переписать классы)\n",
    "\n",
    "import requests\n",
    "from bs4 import BeautifulSoup\n",
    "\n",
    "# url = 'https://www.вологда.рф'\n",
    "url = 'https://vologda-oblast.ru/'\n",
    "# чтобы показать сайту, что ВЫ НЕ БОТ, а обычный пользователь\n",
    "headers = {\n",
    "    'accept': 'text/html,application/xhtml+xml,application/xml;q=0.9,image/avif,image/webp,image/apng,*/*;q=0.8,application/signed-exchange;v=b3;q=0.9',\n",
    "    'user-agent': 'Mozilla/5.0 (Windows NT 10.0; Win64; x64) AppleWebKit/537.36 (KHTML, like Gecko) Chrome/109.0.0.0 Safari/537.36'\n",
    "}\n",
    "\n",
    "# url = 'https://znanija.com/task/37248755'\n",
    "# headers = {'user-agent': 'Mozilla/5.0 (X11; Linux x86_64) AppleWebKit/537.36 (KHTML, like Gecko) Chrome/90.0.4430.72 Safari/537.36'}\n",
    "\n",
    "# with open(url, encoding='utf-8') as file:\n",
    "#     src = file.read() # Сохраним содержимое файла в переменную\n",
    "\n",
    "r = requests.get(url, headers=headers)\n",
    "soup = BeautifulSoup(r.content, 'lxml')\n",
    "# soup = BeautifulSoup(src, 'lxml')\n",
    "# answer = soup.find('div', class_='item')\n",
    "answer = soup.find('div', class_='news-list')\n",
    "\n",
    "# print(answer.text)\n",
    "# print(answer)"
   ]
  },
  {
   "cell_type": "markdown",
   "metadata": {},
   "source": [
    "### Изучаем структуру страницы"
   ]
  },
  {
   "cell_type": "code",
   "execution_count": null,
   "metadata": {},
   "outputs": [],
   "source": [
    "# Website: http://www.edutainme.ru"
   ]
  },
  {
   "cell_type": "code",
   "execution_count": null,
   "metadata": {},
   "outputs": [],
   "source": [
    "# Создаём функцию, которая принимает на вход адрес страницы и заголовки с юзер-агентом\n"
   ]
  },
  {
   "cell_type": "code",
   "execution_count": null,
   "metadata": {},
   "outputs": [],
   "source": [
    "# \n"
   ]
  },
  {
   "cell_type": "markdown",
   "metadata": {},
   "source": [
    "### Создаём функцию, и получаем главную страницу"
   ]
  },
  {
   "cell_type": "code",
   "execution_count": null,
   "metadata": {},
   "outputs": [],
   "source": [
    "# \n"
   ]
  },
  {
   "cell_type": "code",
   "execution_count": null,
   "metadata": {},
   "outputs": [],
   "source": [
    "# \n"
   ]
  },
  {
   "cell_type": "code",
   "execution_count": null,
   "metadata": {},
   "outputs": [],
   "source": [
    "# \n"
   ]
  },
  {
   "cell_type": "markdown",
   "metadata": {},
   "source": [
    "### Получаем ссылки на стартапы с первой страницы"
   ]
  },
  {
   "cell_type": "code",
   "execution_count": null,
   "metadata": {},
   "outputs": [],
   "source": [
    "# \n"
   ]
  },
  {
   "cell_type": "code",
   "execution_count": null,
   "metadata": {},
   "outputs": [],
   "source": [
    "# \n"
   ]
  },
  {
   "cell_type": "code",
   "execution_count": null,
   "metadata": {},
   "outputs": [],
   "source": [
    "# \n"
   ]
  },
  {
   "cell_type": "markdown",
   "metadata": {},
   "source": [
    "### Получаем страницу стартапа"
   ]
  },
  {
   "cell_type": "code",
   "execution_count": null,
   "metadata": {},
   "outputs": [],
   "source": [
    "# \n"
   ]
  },
  {
   "cell_type": "code",
   "execution_count": null,
   "metadata": {},
   "outputs": [],
   "source": [
    "# \n"
   ]
  },
  {
   "cell_type": "code",
   "execution_count": null,
   "metadata": {},
   "outputs": [],
   "source": [
    "# \n"
   ]
  },
  {
   "cell_type": "markdown",
   "metadata": {},
   "source": [
    "### Собираем данные стартапа"
   ]
  },
  {
   "cell_type": "code",
   "execution_count": null,
   "metadata": {},
   "outputs": [],
   "source": [
    "# \n"
   ]
  },
  {
   "cell_type": "code",
   "execution_count": null,
   "metadata": {},
   "outputs": [],
   "source": [
    "# \n"
   ]
  },
  {
   "cell_type": "code",
   "execution_count": null,
   "metadata": {},
   "outputs": [],
   "source": [
    "# \n"
   ]
  },
  {
   "cell_type": "markdown",
   "metadata": {},
   "source": [
    "### Сохраняем данные в JSON файл"
   ]
  },
  {
   "cell_type": "code",
   "execution_count": null,
   "metadata": {},
   "outputs": [],
   "source": [
    "# \n"
   ]
  },
  {
   "cell_type": "code",
   "execution_count": null,
   "metadata": {},
   "outputs": [],
   "source": [
    "# \n"
   ]
  },
  {
   "cell_type": "code",
   "execution_count": null,
   "metadata": {},
   "outputs": [],
   "source": [
    "# \n"
   ]
  },
  {
   "cell_type": "markdown",
   "metadata": {},
   "source": [
    "### Собираем данные всех стартапов с первой страницы"
   ]
  },
  {
   "cell_type": "code",
   "execution_count": null,
   "metadata": {},
   "outputs": [],
   "source": [
    "# \n"
   ]
  },
  {
   "cell_type": "code",
   "execution_count": null,
   "metadata": {},
   "outputs": [],
   "source": [
    "# \n"
   ]
  },
  {
   "cell_type": "code",
   "execution_count": null,
   "metadata": {},
   "outputs": [],
   "source": [
    "# \n"
   ]
  },
  {
   "cell_type": "markdown",
   "metadata": {},
   "source": [
    "### Сбор динамических данных"
   ]
  },
  {
   "cell_type": "code",
   "execution_count": null,
   "metadata": {},
   "outputs": [],
   "source": [
    "# \n"
   ]
  },
  {
   "cell_type": "code",
   "execution_count": null,
   "metadata": {},
   "outputs": [],
   "source": [
    "# \n"
   ]
  },
  {
   "cell_type": "code",
   "execution_count": null,
   "metadata": {},
   "outputs": [],
   "source": [
    "# \n"
   ]
  },
  {
   "cell_type": "markdown",
   "metadata": {},
   "source": [
    "### Запуск парсера"
   ]
  },
  {
   "cell_type": "code",
   "execution_count": null,
   "metadata": {},
   "outputs": [],
   "source": [
    "# \n"
   ]
  },
  {
   "cell_type": "code",
   "execution_count": null,
   "metadata": {},
   "outputs": [],
   "source": [
    "# \n"
   ]
  },
  {
   "cell_type": "code",
   "execution_count": null,
   "metadata": {},
   "outputs": [],
   "source": [
    "# \n",
    "def get_data(url):\n",
    "    headers = {\n",
    "        \"user-agent\": \"Mozilla/5.0 (Linux; Android 6.0; Nexus 5 Build/MRA58N) AppleWebKit/537.36 (KHTML, like Gecko) Chrome/86.0.4240.183 Mobile Safari/537.36\"\n",
    "    }\n",
    "\n",
    "    projects_data_list = []\n",
    "    iteration_count = 23\n",
    "    print(f\"Всего итераций: #{iteration_count}\")\n",
    "\n",
    "    for item in range(1, 24):\n",
    "        req = requests.get(url + f\"&PAGEN_1={item}&PAGEN_2={item}\", headers)\n",
    "\n",
    "        folder_name = f\"data/data_{item}\"\n",
    "\n",
    "        if os.path.exists(folder_name):\n",
    "            print(\"Папка уже существует!\")\n",
    "        else:\n",
    "            os.mkdir(folder_name)\n",
    "\n",
    "        with open(f\"{folder_name}/projects_{item}.html\", \"w\") as file:\n",
    "            file.write(req.text)\n",
    "\n",
    "        with open(f\"{folder_name}/projects_{item}.html\") as file:\n",
    "            src = file.read()\n",
    "\n",
    "        soup = BeautifulSoup(src, \"lxml\")\n",
    "        articles = soup.find_all(\"article\", class_=\"ib19\")\n",
    "\n",
    "        projects_urls = []\n",
    "        for article in articles:\n",
    "            project_url = \"http://www.edutainme.ru\" + article.find(\"div\", class_=\"txtBlock\").find(\"a\").get(\"href\")\n",
    "            projects_urls.append(project_url)\n",
    "\n",
    "        for project_url in projects_urls:\n",
    "            req = requests.get(project_url, headers)\n",
    "            project_name = project_url.split(\"/\")[-2]\n",
    "\n",
    "            with open(f\"{folder_name}/{project_name}.html\", \"w\") as file:\n",
    "                file.write(req.text)\n",
    "\n",
    "            with open(f\"{folder_name}/{project_name}.html\") as file:\n",
    "                src = file.read()\n",
    "\n",
    "            soup = BeautifulSoup(src, \"lxml\")\n",
    "            project_data = soup.find(\"div\", class_=\"inside\")\n",
    "\n",
    "            try:\n",
    "                project_logo = \"http://www.edutainme.ru\" + project_data.find(\"div\", class_=\"Img logo\").find(\"img\").get(\"src\")\n",
    "            except Exception:\n",
    "                project_logo = \"No project logo\"\n",
    "\n",
    "            try:\n",
    "                project_name = project_data.find(\"div\", class_=\"txt\").find(\"h1\").text\n",
    "            except Exception:\n",
    "                project_name = \"No project name\"\n",
    "\n",
    "            try:\n",
    "                project_short_description = project_data.find(\"div\", class_=\"txt\").find(\"h4\", class_=\"head\").text\n",
    "            except Exception:\n",
    "                project_short_description = \"No project short description\"\n",
    "\n",
    "            try:\n",
    "                project_website = project_data.find(\"div\", class_=\"txt\").find(\"p\").find(\"a\").text\n",
    "            except Exception:\n",
    "                project_website = \"No project website\"\n",
    "\n",
    "            try:\n",
    "                project_full_description = project_data.find(\"div\", class_=\"textWrap\").find(\"div\", class_=\"rBlock\").text\n",
    "            except Exception:\n",
    "                project_full_description = \"No project full description\"\n",
    "\n",
    "            def replace_string(string):\n",
    "                return ''.join(re.sub(r'(<p>|</p>)', \"\", string))\n",
    "            project_full_description = replace_string(project_full_description)\n",
    "\n",
    "            # rep = [\"<p>\", \"</p>\"]\n",
    "            # for s in rep:\n",
    "            #     if s in project_full_description:\n",
    "            #         project_full_description = project_full_description.replace(s, \"\")\n",
    "\n",
    "            projects_data_list.append(\n",
    "                {\n",
    "                    \"Имя проекта\": project_name,\n",
    "                    \"URL логотипа проекта\": project_logo,\n",
    "                    \"Короткое описание проекта\": project_short_description,\n",
    "                    \"Сайт проекта\": project_website,\n",
    "                    \"Полное описание проекта\": project_full_description.strip()\n",
    "                }\n",
    "            )\n",
    "\n",
    "        iteration_count -= 1\n",
    "        print(f\"Итерация #{item} завершена, осталось итераций #{iteration_count}\")\n",
    "        if iteration_count == 0:\n",
    "            print(\"Сбор данных завершен\")\n",
    "        time.sleep(random.randrange(2, 4))\n",
    "\n",
    "    with open(\"data/projects_data.json\", \"a\", encoding=\"utf-8\") as file:\n",
    "        json.dump(projects_data_list, file, indent=4, ensure_ascii=False)\n",
    "\n",
    "\n",
    "def main():\n",
    "    get_data(\"http://www.edutainme.ru/edindex/ajax.php?params=%7B%22LETTER%22%3Anull%2C%22RESTART%22%3A%22N%22%2C%22CHECK_DATES%22%3Afalse%2C%22arrWHERE%22%3A%5B%22iblock_startaps%22%5D%2C%22arrFILTER%22%3A%5B%22iblock_startaps%22%5D%2C%22startups%22%3A%22Y%22%2C%22SHOW_WHERE%22%3Atrue%2C%22PAGE_RESULT_COUNT%22%3A9%2C%22CACHE_TYPE%22%3A%22A%22%2C%22CACHE_TIME%22%3A0%2C%22TAGS_SORT%22%3A%22NAME%22%2C%22TAGS_PAGE_ELEMENTS%22%3A%22999999999999999999%22%2C%22TAGS_PERIOD%22%3A%22%22%2C%22TAGS_URL_SEARCH%22%3A%22%22%2C%22TAGS_INHERIT%22%3A%22Y%22%2C%22SHOW_RATING%22%3A%22Y%22%2C%22FONT_MAX%22%3A%2214%22%2C%22FONT_MIN%22%3A%2214%22%2C%22COLOR_NEW%22%3A%22000000%22%2C%22COLOR_OLD%22%3A%22C8C8C8%22%2C%22PERIOD_NEW_TAGS%22%3A%22%22%2C%22DISPLAY_TOP_PAGER%22%3A%22N%22%2C%22DISPLAY_BOTTOM_PAGER%22%3A%22N%22%2C%22SHOW_CHAIN%22%3A%22Y%22%2C%22COLOR_TYPE%22%3A%22Y%22%2C%22WIDTH%22%3A%22100%25%22%2C%22USE_LANGUAGE_GUESS%22%3A%22N%22%2C%22PATH_TO_USER_PROFILE%22%3A%22%23SITE_DIR%23people%5C%2Fuser%5C%2F%23USER_ID%23%5C%2F%22%2C%22SHOW_WHEN%22%3Afalse%2C%22PAGER_TITLE%22%3A%22%5Cu0420%5Cu0435%5Cu0437%5Cu0443%5Cu043b%5Cu044c%5Cu0442%5Cu0430%5Cu0442%5Cu044b+%5Cu043f%5Cu043e%5Cu0438%5Cu0441%5Cu043a%5Cu0430%22%2C%22PAGER_SHOW_ALWAYS%22%3Atrue%2C%22USE_TITLE_RANK%22%3Afalse%2C%22PAGER_TEMPLATE%22%3A%22%22%2C%22DEFAULT_SORT%22%3A%22rank%22%2C%22noTitle%22%3A%22Y%22%7D\")\n",
    "\n",
    "\n",
    "if __name__ == \"__main__\":\n",
    "    main()"
   ]
  },
  {
   "cell_type": "code",
   "execution_count": null,
   "metadata": {},
   "outputs": [],
   "source": [
    "# \n"
   ]
  },
  {
   "cell_type": "markdown",
   "metadata": {},
   "source": [
    "##  УРОК 4 | Парсинг сайтов | requests, beautifulsoup, lxml, proxy"
   ]
  },
  {
   "cell_type": "code",
   "execution_count": null,
   "metadata": {},
   "outputs": [],
   "source": [
    "# https://www.youtube.com/watch?v=arBTqminwU8"
   ]
  },
  {
   "cell_type": "code",
   "execution_count": 67,
   "metadata": {},
   "outputs": [],
   "source": [
    "# Импортируем необходимые для урока библиотеки\n",
    "import requests\n",
    "from bs4 import BeautifulSoup\n",
    "from proxy_auth import proxies\n",
    "import json"
   ]
  },
  {
   "cell_type": "markdown",
   "metadata": {},
   "source": [
    "### Константы для проекта:"
   ]
  },
  {
   "cell_type": "code",
   "execution_count": null,
   "metadata": {},
   "outputs": [],
   "source": [
    "# Создаём переменные-КОНСТАНТЫ\n",
    "# 1. Адрес основного хоста\n",
    "HOST = 'https://www.skiddle.com' \n",
    "\n",
    "# 2. Адрес страницы для парсинга\n",
    "URL = 'https://www.skiddle.com/news/festivals/'\n",
    "\n",
    "#5. Создаём словарь заголовков\n",
    "# Это нужно для некоторых сайтов (но не для всех - для этого необязательно)\n",
    "# чтобы показать сайту, что ВЫ НЕ БОТ, а обычный пользователь\n",
    "HEADERS = {\n",
    "    'accept': 'text/html,application/xhtml+xml,application/xml;q=0.9,image/avif,image/webp,image/apng,*/*;q=0.8,application/signed-exchange;v=b3;q=0.9',\n",
    "    'user-agent': 'Mozilla/5.0 (Windows NT 10.0; Win64; x64) AppleWebKit/537.36 (KHTML, like Gecko) Chrome/109.0.0.0 Safari/537.36'\n",
    "}\n",
    "\n",
    "# 4. Название финального файла\n",
    "# CSV = 'catalog.csv'\n",
    "\n",
    "# 6. PROXY\n",
    "PROXIES = {\n",
    "    \"https\": \"your_proxy_ip:port\"\n",
    "}\n",
    "\n",
    "# Хороший proxy сервис (канадский):\n",
    "# https://proxy6.net/a/149995"
   ]
  },
  {
   "cell_type": "code",
   "execution_count": 68,
   "metadata": {},
   "outputs": [],
   "source": [
    "# URL-ссылка на страницу с категориями продуктов и калориями\n",
    "# url = \"https://health-diet.ru/table_calorie/?utm_source=leftMenu&utm_medium=table_calorie\""
   ]
  },
  {
   "cell_type": "code",
   "execution_count": 69,
   "metadata": {},
   "outputs": [],
   "source": [
    "# Создаём словарь заголовков\n",
    "\n",
    "# Это нужно для некоторых сайтов (но не для всех - для этого необязательно)\n",
    "# чтобы показать сайту, что ВЫ НЕ БОТ, а обычный пользователь\n",
    "headers = {\n",
    "    \"Accept\": \"text/html,application/xhtml+xml,application/xml;q=0.9,image/avif,image/webp,image/apng,*/*;q=0.8,application/signed-exchange;v=b3;q=0.9\",\n",
    "    \"User-Agent\": \"Mozilla/5.0 (Windows NT 10.0; Win64; x64) AppleWebKit/537.36 (KHTML, like Gecko) Chrome/109.0.0.0 Safari/537.36\"\n",
    "}"
   ]
  },
  {
   "cell_type": "markdown",
   "metadata": {},
   "source": [
    "### Изучаем структуру страницы"
   ]
  },
  {
   "cell_type": "code",
   "execution_count": null,
   "metadata": {},
   "outputs": [],
   "source": [
    "# \n"
   ]
  },
  {
   "cell_type": "code",
   "execution_count": null,
   "metadata": {},
   "outputs": [],
   "source": [
    "# \n"
   ]
  },
  {
   "cell_type": "code",
   "execution_count": null,
   "metadata": {},
   "outputs": [],
   "source": [
    "# \n"
   ]
  },
  {
   "cell_type": "markdown",
   "metadata": {},
   "source": [
    "### Сбор всех ссылок"
   ]
  },
  {
   "cell_type": "code",
   "execution_count": null,
   "metadata": {},
   "outputs": [],
   "source": [
    "# Пишем цикл для создания списка всех заголовков\n",
    "fests_urls_list = []"
   ]
  },
  {
   "cell_type": "code",
   "execution_count": null,
   "metadata": {},
   "outputs": [],
   "source": [
    "# \n",
    "for i in range(0, 15, 15):\n",
    "    url = f\"https://www.skiddle.com/news/festivals/{i}\"\n",
    "\n",
    "    req = requests.get(url=url, headers=headers)\n",
    "    json_data = json.loads(req.text)\n",
    "    html_response = json_data[\"html\"]\n",
    "    \n",
    "    with open(f\"data4/index_{i}.html\", \"w\") as file:\n",
    "        file.write(html_response)"
   ]
  },
  {
   "cell_type": "code",
   "execution_count": null,
   "metadata": {},
   "outputs": [],
   "source": [
    "# \n"
   ]
  },
  {
   "cell_type": "markdown",
   "metadata": {},
   "source": [
    "### Отправляем запросы через Proxy"
   ]
  },
  {
   "cell_type": "code",
   "execution_count": null,
   "metadata": {},
   "outputs": [],
   "source": [
    "# \n"
   ]
  },
  {
   "cell_type": "code",
   "execution_count": null,
   "metadata": {},
   "outputs": [],
   "source": [
    "# \n"
   ]
  },
  {
   "cell_type": "code",
   "execution_count": null,
   "metadata": {},
   "outputs": [],
   "source": [
    "# \n"
   ]
  },
  {
   "cell_type": "markdown",
   "metadata": {},
   "source": [
    "### Сбор данных, получаем имя и дату фестиваля"
   ]
  },
  {
   "cell_type": "code",
   "execution_count": null,
   "metadata": {},
   "outputs": [],
   "source": [
    "# \n"
   ]
  },
  {
   "cell_type": "code",
   "execution_count": null,
   "metadata": {},
   "outputs": [],
   "source": [
    "# \n"
   ]
  },
  {
   "cell_type": "code",
   "execution_count": null,
   "metadata": {},
   "outputs": [],
   "source": [
    "# \n"
   ]
  },
  {
   "cell_type": "markdown",
   "metadata": {},
   "source": [
    "### Собираем контактные данные"
   ]
  },
  {
   "cell_type": "code",
   "execution_count": null,
   "metadata": {},
   "outputs": [],
   "source": [
    "# 14:34 - string.split(\"разделитель\", maxsplit = количество разбиений) тоисть contact_detail_list.split(\":\", 1)\n",
    "\n",
    "# Как всегда, восхитительно!\n",
    "# Только у меня идея, там, где мы сплитовали по двоеточию, можно было избежать ifelse, \n",
    "# если мы просто будем разделять по двоеточию+пробел, это же уникальный разделитель всегда\n",
    "\n",
    "# Для .split(\":\"), можно было просто написать .split(\":\", 1), у него есть встроенное ограничение на количество дроблений"
   ]
  },
  {
   "cell_type": "code",
   "execution_count": null,
   "metadata": {},
   "outputs": [],
   "source": [
    "# \n"
   ]
  },
  {
   "cell_type": "code",
   "execution_count": null,
   "metadata": {},
   "outputs": [],
   "source": [
    "# \n"
   ]
  },
  {
   "cell_type": "markdown",
   "metadata": {},
   "source": [
    "### Сохранение и запись данных в json файл"
   ]
  },
  {
   "cell_type": "code",
   "execution_count": null,
   "metadata": {},
   "outputs": [],
   "source": [
    "# \n"
   ]
  },
  {
   "cell_type": "code",
   "execution_count": null,
   "metadata": {},
   "outputs": [],
   "source": [
    "# \n"
   ]
  },
  {
   "cell_type": "code",
   "execution_count": null,
   "metadata": {},
   "outputs": [],
   "source": [
    "# \n"
   ]
  },
  {
   "cell_type": "markdown",
   "metadata": {},
   "source": [
    "### Запуск парсера"
   ]
  },
  {
   "cell_type": "code",
   "execution_count": null,
   "metadata": {},
   "outputs": [],
   "source": [
    "# \n"
   ]
  },
  {
   "cell_type": "code",
   "execution_count": null,
   "metadata": {},
   "outputs": [],
   "source": [
    "# \n",
    "# collect all fests URLs\n",
    "# В первую очередь собираем все ссылки на фестивали (их можно собрать используя библиотеку Selenium)\n",
    "\n",
    "# Создаём список под наши ссылки:\n",
    "fests_urls_list = []\n",
    "\n",
    "# for i in range(0, 192, 24):\n",
    "for i in range(0, 24, 24):\n",
    "    url = f\"https://www.skiddle.com/festivals/search/?ajaxing=1&sort=0&fest_name=&from_date=24%20Jan%202021&to_date=&where%5B%5D=2&where%5B%5D=3&where%5B%5D=4&where%5B%5D=6&where%5B%5D=7&where%5B%5D=8&where%5B%5D=9&where%5B%5D=10&maxprice=500&o={i}&bannertitle=May\"\n",
    "\n",
    "    req = requests.get(url=url, headers=headers)\n",
    "#     req = requests.get(url=url, headers=headers, proxies=PROXIES)\n",
    "# В ответ нам прилетает словарь - получим в JSON-данные:\n",
    "    json_data = json.loads(req.text)\n",
    "# Нужные нам данные содержатся в HTML коде с одноимённым ключом - заберём их:\n",
    "    html_response = json_data[\"html\"]\n",
    "\n",
    "# Запишем их в файл и посмотрим, что получилось:\n",
    "    with open(f\"data/index_{i}.html\", \"w\") as file:\n",
    "        file.write(html_response)\n",
    "\n",
    "# Прочитаем файл, поместим и запишем код в переменную SRC:\n",
    "    with open(f\"data/index_{i}.html\") as file:\n",
    "        src = file.read()\n",
    "\n",
    "# Создаём объект супа: \n",
    "    soup = BeautifulSoup(src, \"lxml\")\n",
    "# Определяем все ссылки фестивалей на одной странице по тэгу \"А\" и определённому классу:\n",
    "    cards = soup.find_all(\"a\", class_=\"card-details-link\")\n",
    "\n",
    "# Создаём переменную под наши ссылки:\n",
    "# Пробежимся в цикле по ссылкам и заберём атрибуты HREF и запишем их в созданный в начале кода словарь:\n",
    "    for item in cards:\n",
    "        fest_url = \"https://www.skiddle.com\" + item.get(\"href\")\n",
    "#         fest_url = HOST + item.get(\"href\")\n",
    "        fests_urls_list.append(fest_url)\n",
    "\n",
    "# Посмотрим что лежит в списке:\n",
    "#     print(fests_urls_list)\n",
    "\n",
    "# collect fest info\n",
    "# Теперь пробегаемся в цикле по всем ссылкам для сбора необходимой информации про фестивали:\n",
    "count = 0\n",
    "\n",
    "# Создаём список для общих данных:\n",
    "fest_list_result = []\n",
    "for url in fests_urls_list:\n",
    "    count += 1\n",
    "    print(count)\n",
    "    print(url)\n",
    "\n",
    "# Отправляем запрос по каждой ссылке:\n",
    "    req = requests.get(url=url, headers=headers)\n",
    "#     req = requests.get(url=url, headers=headers, proxies=PROXIES)\n",
    "\n",
    "    try:\n",
    "        soup = BeautifulSoup(req.text, \"lxml\")\n",
    "# Определяем блок с информацией по фестивалю:\n",
    "        fest_info_block = soup.find(\"div\", class_=\"top-info-cont\")\n",
    "\n",
    "        fest_name = fest_info_block.find(\"h1\").text.strip() # Название фестиваля (на всякий случай обрезаем пробелы с обеих сторон)\n",
    "        fest_date = fest_info_block.find(\"h3\").text.strip() # Дата фестиваля\n",
    "# Ссылка на локацию\n",
    "        fest_location_url = \"https://www.skiddle.com\" + fest_info_block.find(\"a\", class_=\"tc-white\").get(\"href\")\n",
    "\n",
    "        # get contact details and info:\n",
    "# Собираем контактные данные:\n",
    "        req = requests.get(url=fest_location_url, headers=headers)\n",
    "#         req = requests.get(url=fest_location_url, headers=headers, proxies=PROXIES)\n",
    "        soup = BeautifulSoup(req.text, \"lxml\")\n",
    "\n",
    "# Если у блока с контактами нет общих особенностей (типа класса) можно определить следующий блок через команду FIND_NEXT:\n",
    "        contact_details = soup.find(\"h2\", string=\"Venue contact details and info\").find_next()\n",
    "        items = [item.text for item in contact_details.find_all(\"p\")]\n",
    "\n",
    "# Разбиваем текстовую информацию по строкам, по атрибутам словаря (ключ:значение) так как всю информацию мы получаем слитно:\n",
    "        contact_details_dict = {}\n",
    "        for contact_detail in items:\n",
    "            contact_detail_list = contact_detail.split(\":\")\n",
    "\n",
    "# Разбиваем на ключ:значение по знаку \":\" и склеиваем текст ссылки обратно, так как ссылка содержит в себе знак \":\":\n",
    "            if len(contact_detail_list) == 3:\n",
    "                contact_details_dict[contact_detail_list[0].strip()] = contact_detail_list[1].strip() + \":\"\\\n",
    "                                                                       + contact_detail_list[2].strip()\n",
    "# ... а для всех остальных полей ключом будет [0]-элемент, а значением-[1] :\n",
    "            else:\n",
    "                contact_details_dict[contact_detail_list[0].strip()] = contact_detail_list[1].strip()\n",
    "\n",
    "# Наполняем список с общими данными на каждой итерации новым словарём:\n",
    "        fest_list_result.append(\n",
    "            {\n",
    "                \"Fest name\": fest_name,\n",
    "                \"Fest date\": fest_date,\n",
    "                \"Contacts data\": contact_details_dict\n",
    "            }\n",
    "        )\n",
    "\n",
    "    except Exception as ex:\n",
    "        print(ex)\n",
    "        print(\"Damn...There was some error...\")\n",
    "\n",
    "# После выполнения скрипта запишем список в JSON-файл:\n",
    "with open(\"fest_list_result.json\", \"a\", encoding=\"utf-8\") as file:\n",
    "    json.dump(fest_list_result, file, indent=4, ensure_ascii=False)"
   ]
  },
  {
   "cell_type": "code",
   "execution_count": null,
   "metadata": {},
   "outputs": [],
   "source": [
    "# \n"
   ]
  },
  {
   "cell_type": "code",
   "execution_count": null,
   "metadata": {},
   "outputs": [],
   "source": [
    "### "
   ]
  },
  {
   "cell_type": "code",
   "execution_count": null,
   "metadata": {},
   "outputs": [],
   "source": [
    "# \n"
   ]
  },
  {
   "cell_type": "markdown",
   "metadata": {},
   "source": [
    "##  УРОК 5 "
   ]
  },
  {
   "cell_type": "code",
   "execution_count": null,
   "metadata": {},
   "outputs": [],
   "source": [
    "# \n"
   ]
  },
  {
   "cell_type": "code",
   "execution_count": null,
   "metadata": {},
   "outputs": [],
   "source": [
    "# https://www.youtube.com/watch?v=gy_YlibMW6Q"
   ]
  },
  {
   "cell_type": "code",
   "execution_count": 67,
   "metadata": {},
   "outputs": [],
   "source": [
    "# Импортируем необходимые для урока библиотеки\n",
    "import os\n",
    "import requests\n",
    "import img2pdf"
   ]
  },
  {
   "cell_type": "markdown",
   "metadata": {},
   "source": [
    "### Константы для проекта:"
   ]
  },
  {
   "cell_type": "code",
   "execution_count": null,
   "metadata": {},
   "outputs": [],
   "source": [
    "# Создаём переменные-КОНСТАНТЫ\n",
    "# 1. Адрес основного хоста\n",
    "HOST = 'https://vc.ru' \n",
    "\n",
    "# 2. Адрес страницы для парсинга\n",
    "URL = 'https://vc.ru/popular'\n",
    "\n",
    "# 3. Это нужно для некоторых сайтов (но не для всех - для этого необязательно)\n",
    "# чтобы показать сайту, что ВЫ НЕ БОТ, а обычный пользователь\n",
    "HEADERS = {\n",
    "    'accept': 'text/html,application/xhtml+xml,application/xml;q=0.9,image/avif,image/webp,image/apng,*/*;q=0.8,application/signed-exchange;v=b3;q=0.9',\n",
    "    'user-agent': 'Mozilla/5.0 (Windows NT 10.0; Win64; x64) AppleWebKit/537.36 (KHTML, like Gecko) Chrome/109.0.0.0 Safari/537.36'\n",
    "}\n",
    "\n",
    "# 4. Название финального файла\n",
    "# CSV = 'catalog.csv'\n",
    "\n",
    "#5. Создаём словарь заголовков\n",
    "\n",
    "# Это нужно для некоторых сайтов (но не для всех - для этого необязательно)\n",
    "# чтобы показать сайту, что ВЫ НЕ БОТ, а обычный пользователь\n",
    "headers = {\n",
    "    \"accept\": \"text/html,application/xhtml+xml,application/xml;q=0.9,image/avif,image/webp,image/apng,*/*;q=0.8,application/signed-exchange;v=b3;q=0.9\",\n",
    "    \"user-agent\": \"Mozilla/5.0 (Windows NT 10.0; Win64; x64) AppleWebKit/537.36 (KHTML, like Gecko) Chrome/109.0.0.0 Safari/537.36\"\n",
    "}"
   ]
  },
  {
   "cell_type": "code",
   "execution_count": null,
   "metadata": {},
   "outputs": [],
   "source": [
    "# \n"
   ]
  },
  {
   "cell_type": "markdown",
   "metadata": {},
   "source": [
    "### Изучаем структуру страницы"
   ]
  },
  {
   "cell_type": "code",
   "execution_count": null,
   "metadata": {},
   "outputs": [],
   "source": [
    "# \n"
   ]
  },
  {
   "cell_type": "code",
   "execution_count": null,
   "metadata": {},
   "outputs": [],
   "source": [
    "# \n"
   ]
  },
  {
   "cell_type": "code",
   "execution_count": null,
   "metadata": {},
   "outputs": [],
   "source": [
    "# \n"
   ]
  },
  {
   "cell_type": "code",
   "execution_count": null,
   "metadata": {},
   "outputs": [],
   "source": [
    "### "
   ]
  },
  {
   "cell_type": "code",
   "execution_count": null,
   "metadata": {},
   "outputs": [],
   "source": [
    "# \n"
   ]
  },
  {
   "cell_type": "code",
   "execution_count": null,
   "metadata": {},
   "outputs": [],
   "source": [
    "# \n"
   ]
  },
  {
   "cell_type": "code",
   "execution_count": null,
   "metadata": {},
   "outputs": [],
   "source": [
    "# \n"
   ]
  },
  {
   "cell_type": "code",
   "execution_count": null,
   "metadata": {},
   "outputs": [],
   "source": [
    "### "
   ]
  },
  {
   "cell_type": "code",
   "execution_count": null,
   "metadata": {},
   "outputs": [],
   "source": [
    "# \n"
   ]
  },
  {
   "cell_type": "code",
   "execution_count": null,
   "metadata": {},
   "outputs": [],
   "source": [
    "# \n"
   ]
  },
  {
   "cell_type": "code",
   "execution_count": null,
   "metadata": {},
   "outputs": [],
   "source": [
    "# \n"
   ]
  },
  {
   "cell_type": "code",
   "execution_count": null,
   "metadata": {},
   "outputs": [],
   "source": [
    "### "
   ]
  },
  {
   "cell_type": "code",
   "execution_count": null,
   "metadata": {},
   "outputs": [],
   "source": [
    "# \n"
   ]
  },
  {
   "cell_type": "code",
   "execution_count": null,
   "metadata": {},
   "outputs": [],
   "source": [
    "# \n"
   ]
  },
  {
   "cell_type": "code",
   "execution_count": null,
   "metadata": {},
   "outputs": [],
   "source": [
    "# \n"
   ]
  },
  {
   "cell_type": "code",
   "execution_count": null,
   "metadata": {},
   "outputs": [],
   "source": [
    "### "
   ]
  },
  {
   "cell_type": "code",
   "execution_count": null,
   "metadata": {},
   "outputs": [],
   "source": [
    "# \n"
   ]
  },
  {
   "cell_type": "code",
   "execution_count": null,
   "metadata": {},
   "outputs": [],
   "source": [
    "# \n"
   ]
  },
  {
   "cell_type": "code",
   "execution_count": null,
   "metadata": {},
   "outputs": [],
   "source": [
    "# \n"
   ]
  },
  {
   "cell_type": "code",
   "execution_count": null,
   "metadata": {},
   "outputs": [],
   "source": [
    "### "
   ]
  },
  {
   "cell_type": "code",
   "execution_count": null,
   "metadata": {},
   "outputs": [],
   "source": [
    "# \n"
   ]
  },
  {
   "cell_type": "code",
   "execution_count": null,
   "metadata": {},
   "outputs": [],
   "source": [
    "# \n"
   ]
  },
  {
   "cell_type": "code",
   "execution_count": null,
   "metadata": {},
   "outputs": [],
   "source": [
    "# \n"
   ]
  },
  {
   "cell_type": "code",
   "execution_count": null,
   "metadata": {},
   "outputs": [],
   "source": [
    "### "
   ]
  },
  {
   "cell_type": "code",
   "execution_count": null,
   "metadata": {},
   "outputs": [],
   "source": [
    "# \n"
   ]
  },
  {
   "cell_type": "code",
   "execution_count": null,
   "metadata": {},
   "outputs": [],
   "source": [
    "# \n"
   ]
  },
  {
   "cell_type": "code",
   "execution_count": null,
   "metadata": {},
   "outputs": [],
   "source": [
    "# \n"
   ]
  },
  {
   "cell_type": "code",
   "execution_count": null,
   "metadata": {},
   "outputs": [],
   "source": [
    "### "
   ]
  },
  {
   "cell_type": "code",
   "execution_count": null,
   "metadata": {},
   "outputs": [],
   "source": [
    "# \n"
   ]
  },
  {
   "cell_type": "code",
   "execution_count": null,
   "metadata": {},
   "outputs": [],
   "source": [
    "# \n"
   ]
  },
  {
   "cell_type": "code",
   "execution_count": null,
   "metadata": {},
   "outputs": [],
   "source": [
    "# \n"
   ]
  },
  {
   "cell_type": "code",
   "execution_count": null,
   "metadata": {},
   "outputs": [],
   "source": [
    "### "
   ]
  },
  {
   "cell_type": "code",
   "execution_count": null,
   "metadata": {},
   "outputs": [],
   "source": [
    "# \n"
   ]
  },
  {
   "cell_type": "code",
   "execution_count": null,
   "metadata": {},
   "outputs": [],
   "source": [
    "# \n"
   ]
  },
  {
   "cell_type": "code",
   "execution_count": null,
   "metadata": {},
   "outputs": [],
   "source": [
    "# \n"
   ]
  },
  {
   "cell_type": "code",
   "execution_count": null,
   "metadata": {},
   "outputs": [],
   "source": [
    "### "
   ]
  },
  {
   "cell_type": "code",
   "execution_count": null,
   "metadata": {},
   "outputs": [],
   "source": [
    "# \n"
   ]
  },
  {
   "cell_type": "code",
   "execution_count": null,
   "metadata": {},
   "outputs": [],
   "source": [
    "# \n"
   ]
  },
  {
   "cell_type": "code",
   "execution_count": null,
   "metadata": {},
   "outputs": [],
   "source": [
    "# \n"
   ]
  },
  {
   "cell_type": "code",
   "execution_count": null,
   "metadata": {},
   "outputs": [],
   "source": [
    "### "
   ]
  },
  {
   "cell_type": "code",
   "execution_count": null,
   "metadata": {},
   "outputs": [],
   "source": [
    "# \n"
   ]
  },
  {
   "cell_type": "code",
   "execution_count": null,
   "metadata": {},
   "outputs": [],
   "source": [
    "# \n"
   ]
  },
  {
   "cell_type": "code",
   "execution_count": null,
   "metadata": {},
   "outputs": [],
   "source": [
    "# \n"
   ]
  },
  {
   "cell_type": "code",
   "execution_count": null,
   "metadata": {},
   "outputs": [],
   "source": [
    "### "
   ]
  },
  {
   "cell_type": "code",
   "execution_count": null,
   "metadata": {},
   "outputs": [],
   "source": [
    "# \n"
   ]
  },
  {
   "cell_type": "code",
   "execution_count": null,
   "metadata": {},
   "outputs": [],
   "source": [
    "# \n"
   ]
  },
  {
   "cell_type": "code",
   "execution_count": null,
   "metadata": {},
   "outputs": [],
   "source": [
    "# \n",
    "def get_data():\n",
    "    headers = {\n",
    "        \"Accept\": \"image/avif,image/webp,image/apng,image/svg+xml,image/*,*/*;q=0.8\",\n",
    "        \"User-Agent\": \"Mozilla/5.0 (X11; Linux x86_64) AppleWebKit/537.36 (KHTML, like Gecko) Chrome/88.0.4324.182 Safari/537.36\"\n",
    "    }\n",
    "\n",
    "    img_list = []\n",
    "    for i in range(1, 49):\n",
    "        url = f\"https://www.recordpower.co.uk/flip/Winter2020/files/mobile/{i}.jpg\"\n",
    "        req = requests.get(url=url, headers=headers)\n",
    "        response = req.content\n",
    "\n",
    "        with open(f\"media/{i}.jpg\", \"wb\") as file:\n",
    "            file.write(response)\n",
    "            img_list.append(f\"media/{i}.jpg\")\n",
    "            print(f\"Downloaded {i} of 48\")\n",
    "\n",
    "    print(\"#\" * 20)\n",
    "    print(img_list)\n",
    "\n",
    "    # create PDF file\n",
    "    with open(\"result.pdf\", \"wb\") as f:\n",
    "        f.write(img2pdf.convert(img_list))\n",
    "\n",
    "    print(\"PDF file created successfully!\")\n",
    "\n",
    "\n",
    "def write_to_pdf():\n",
    "    # print(os.listdir(\"media\"))\n",
    "    img_list = [f\"media/{i}.jpg\" for i in range(1, 49)]\n",
    "\n",
    "    # create PDF file\n",
    "    with open(\"result.pdf\", \"wb\") as f:\n",
    "        f.write(img2pdf.convert(img_list))\n",
    "\n",
    "    print(\"PDF file created successfully!\")\n",
    "\n",
    "\n",
    "def main():\n",
    "    # get_data()\n",
    "    write_to_pdf()\n",
    "\n",
    "\n",
    "if __name__ == '__main__':\n",
    "    main()\n"
   ]
  },
  {
   "cell_type": "code",
   "execution_count": null,
   "metadata": {},
   "outputs": [],
   "source": [
    "### "
   ]
  },
  {
   "cell_type": "code",
   "execution_count": null,
   "metadata": {},
   "outputs": [],
   "source": [
    "# \n"
   ]
  },
  {
   "cell_type": "code",
   "execution_count": null,
   "metadata": {},
   "outputs": [],
   "source": [
    "# \n"
   ]
  },
  {
   "cell_type": "code",
   "execution_count": null,
   "metadata": {},
   "outputs": [],
   "source": [
    "# \n"
   ]
  },
  {
   "cell_type": "code",
   "execution_count": null,
   "metadata": {},
   "outputs": [],
   "source": [
    "# \n"
   ]
  },
  {
   "cell_type": "code",
   "execution_count": null,
   "metadata": {},
   "outputs": [],
   "source": [
    "# \n"
   ]
  },
  {
   "cell_type": "markdown",
   "metadata": {},
   "source": [
    "##  УРОК 6 "
   ]
  },
  {
   "cell_type": "code",
   "execution_count": null,
   "metadata": {},
   "outputs": [],
   "source": [
    "# \n"
   ]
  },
  {
   "cell_type": "code",
   "execution_count": null,
   "metadata": {},
   "outputs": [],
   "source": [
    "# https://www.youtube.com/watch?v=gy_YlibMW6Q"
   ]
  },
  {
   "cell_type": "code",
   "execution_count": 67,
   "metadata": {},
   "outputs": [],
   "source": [
    "# Импортируем необходимые для урока библиотеки\n"
   ]
  },
  {
   "cell_type": "markdown",
   "metadata": {},
   "source": [
    "### Константы для проекта:"
   ]
  },
  {
   "cell_type": "code",
   "execution_count": null,
   "metadata": {},
   "outputs": [],
   "source": [
    "# Создаём переменные-КОНСТАНТЫ\n",
    "# 1. Адрес основного хоста\n",
    "HOST = 'https://vc.ru' \n",
    "\n",
    "# 2. Адрес страницы для парсинга\n",
    "URL = 'https://vc.ru/popular'\n",
    "\n",
    "# 3. Это нужно для некоторых сайтов (но не для всех - для этого необязательно)\n",
    "# чтобы показать сайту, что ВЫ НЕ БОТ, а обычный пользователь\n",
    "HEADERS = {\n",
    "    'accept': 'text/html,application/xhtml+xml,application/xml;q=0.9,image/avif,image/webp,image/apng,*/*;q=0.8,application/signed-exchange;v=b3;q=0.9',\n",
    "    'user-agent': 'Mozilla/5.0 (Windows NT 10.0; Win64; x64) AppleWebKit/537.36 (KHTML, like Gecko) Chrome/109.0.0.0 Safari/537.36'\n",
    "}\n",
    "\n",
    "# 4. Название финального файла\n",
    "# CSV = 'catalog.csv'\n",
    "\n",
    "#5. Создаём словарь заголовков\n",
    "\n",
    "# Это нужно для некоторых сайтов (но не для всех - для этого необязательно)\n",
    "# чтобы показать сайту, что ВЫ НЕ БОТ, а обычный пользователь\n",
    "headers = {\n",
    "    \"accept\": \"text/html,application/xhtml+xml,application/xml;q=0.9,image/avif,image/webp,image/apng,*/*;q=0.8,application/signed-exchange;v=b3;q=0.9\",\n",
    "    \"user-agent\": \"Mozilla/5.0 (Windows NT 10.0; Win64; x64) AppleWebKit/537.36 (KHTML, like Gecko) Chrome/109.0.0.0 Safari/537.36\"\n",
    "}"
   ]
  },
  {
   "cell_type": "code",
   "execution_count": null,
   "metadata": {},
   "outputs": [],
   "source": [
    "# \n"
   ]
  },
  {
   "cell_type": "markdown",
   "metadata": {},
   "source": [
    "### Изучаем структуру страницы"
   ]
  },
  {
   "cell_type": "code",
   "execution_count": null,
   "metadata": {},
   "outputs": [],
   "source": [
    "# \n"
   ]
  },
  {
   "cell_type": "code",
   "execution_count": null,
   "metadata": {},
   "outputs": [],
   "source": [
    "# \n"
   ]
  },
  {
   "cell_type": "code",
   "execution_count": null,
   "metadata": {},
   "outputs": [],
   "source": [
    "# \n"
   ]
  },
  {
   "cell_type": "code",
   "execution_count": null,
   "metadata": {},
   "outputs": [],
   "source": [
    "### "
   ]
  },
  {
   "cell_type": "code",
   "execution_count": null,
   "metadata": {},
   "outputs": [],
   "source": [
    "# \n"
   ]
  },
  {
   "cell_type": "code",
   "execution_count": null,
   "metadata": {},
   "outputs": [],
   "source": [
    "# \n"
   ]
  },
  {
   "cell_type": "code",
   "execution_count": null,
   "metadata": {},
   "outputs": [],
   "source": [
    "# \n"
   ]
  },
  {
   "cell_type": "code",
   "execution_count": null,
   "metadata": {},
   "outputs": [],
   "source": [
    "### "
   ]
  },
  {
   "cell_type": "code",
   "execution_count": null,
   "metadata": {},
   "outputs": [],
   "source": [
    "# \n"
   ]
  },
  {
   "cell_type": "code",
   "execution_count": null,
   "metadata": {},
   "outputs": [],
   "source": [
    "# \n"
   ]
  },
  {
   "cell_type": "code",
   "execution_count": null,
   "metadata": {},
   "outputs": [],
   "source": [
    "# \n"
   ]
  },
  {
   "cell_type": "code",
   "execution_count": null,
   "metadata": {},
   "outputs": [],
   "source": [
    "### "
   ]
  },
  {
   "cell_type": "code",
   "execution_count": null,
   "metadata": {},
   "outputs": [],
   "source": [
    "# \n"
   ]
  },
  {
   "cell_type": "code",
   "execution_count": null,
   "metadata": {},
   "outputs": [],
   "source": [
    "# \n"
   ]
  },
  {
   "cell_type": "code",
   "execution_count": null,
   "metadata": {},
   "outputs": [],
   "source": [
    "# \n"
   ]
  },
  {
   "cell_type": "code",
   "execution_count": null,
   "metadata": {},
   "outputs": [],
   "source": [
    "### "
   ]
  },
  {
   "cell_type": "code",
   "execution_count": null,
   "metadata": {},
   "outputs": [],
   "source": [
    "# \n"
   ]
  },
  {
   "cell_type": "code",
   "execution_count": null,
   "metadata": {},
   "outputs": [],
   "source": [
    "# \n"
   ]
  },
  {
   "cell_type": "code",
   "execution_count": null,
   "metadata": {},
   "outputs": [],
   "source": [
    "# \n"
   ]
  },
  {
   "cell_type": "code",
   "execution_count": null,
   "metadata": {},
   "outputs": [],
   "source": [
    "### "
   ]
  },
  {
   "cell_type": "code",
   "execution_count": null,
   "metadata": {},
   "outputs": [],
   "source": [
    "# \n"
   ]
  },
  {
   "cell_type": "code",
   "execution_count": null,
   "metadata": {},
   "outputs": [],
   "source": [
    "# \n"
   ]
  },
  {
   "cell_type": "code",
   "execution_count": null,
   "metadata": {},
   "outputs": [],
   "source": [
    "# \n"
   ]
  },
  {
   "cell_type": "code",
   "execution_count": null,
   "metadata": {},
   "outputs": [],
   "source": [
    "### "
   ]
  },
  {
   "cell_type": "code",
   "execution_count": null,
   "metadata": {},
   "outputs": [],
   "source": [
    "# \n"
   ]
  },
  {
   "cell_type": "code",
   "execution_count": null,
   "metadata": {},
   "outputs": [],
   "source": [
    "# \n"
   ]
  },
  {
   "cell_type": "code",
   "execution_count": null,
   "metadata": {},
   "outputs": [],
   "source": [
    "# \n"
   ]
  },
  {
   "cell_type": "code",
   "execution_count": null,
   "metadata": {},
   "outputs": [],
   "source": [
    "### "
   ]
  },
  {
   "cell_type": "code",
   "execution_count": null,
   "metadata": {},
   "outputs": [],
   "source": [
    "# \n"
   ]
  },
  {
   "cell_type": "code",
   "execution_count": null,
   "metadata": {},
   "outputs": [],
   "source": [
    "# \n"
   ]
  },
  {
   "cell_type": "code",
   "execution_count": null,
   "metadata": {},
   "outputs": [],
   "source": [
    "# \n"
   ]
  },
  {
   "cell_type": "code",
   "execution_count": null,
   "metadata": {},
   "outputs": [],
   "source": [
    "### "
   ]
  },
  {
   "cell_type": "code",
   "execution_count": null,
   "metadata": {},
   "outputs": [],
   "source": [
    "# \n"
   ]
  },
  {
   "cell_type": "code",
   "execution_count": null,
   "metadata": {},
   "outputs": [],
   "source": [
    "# \n"
   ]
  },
  {
   "cell_type": "code",
   "execution_count": null,
   "metadata": {},
   "outputs": [],
   "source": [
    "# \n"
   ]
  },
  {
   "cell_type": "code",
   "execution_count": null,
   "metadata": {},
   "outputs": [],
   "source": [
    "### "
   ]
  },
  {
   "cell_type": "code",
   "execution_count": null,
   "metadata": {},
   "outputs": [],
   "source": [
    "# \n"
   ]
  },
  {
   "cell_type": "code",
   "execution_count": null,
   "metadata": {},
   "outputs": [],
   "source": [
    "# \n"
   ]
  },
  {
   "cell_type": "code",
   "execution_count": null,
   "metadata": {},
   "outputs": [],
   "source": [
    "# \n"
   ]
  },
  {
   "cell_type": "code",
   "execution_count": null,
   "metadata": {},
   "outputs": [],
   "source": [
    "### "
   ]
  },
  {
   "cell_type": "code",
   "execution_count": null,
   "metadata": {},
   "outputs": [],
   "source": [
    "# \n"
   ]
  },
  {
   "cell_type": "code",
   "execution_count": null,
   "metadata": {},
   "outputs": [],
   "source": [
    "# \n"
   ]
  },
  {
   "cell_type": "code",
   "execution_count": null,
   "metadata": {},
   "outputs": [],
   "source": [
    "# \n"
   ]
  },
  {
   "cell_type": "code",
   "execution_count": null,
   "metadata": {},
   "outputs": [],
   "source": [
    "### "
   ]
  },
  {
   "cell_type": "code",
   "execution_count": null,
   "metadata": {},
   "outputs": [],
   "source": [
    "# \n"
   ]
  },
  {
   "cell_type": "code",
   "execution_count": null,
   "metadata": {},
   "outputs": [],
   "source": [
    "# \n"
   ]
  },
  {
   "cell_type": "code",
   "execution_count": null,
   "metadata": {},
   "outputs": [],
   "source": [
    "# \n"
   ]
  },
  {
   "cell_type": "code",
   "execution_count": null,
   "metadata": {},
   "outputs": [],
   "source": [
    "### "
   ]
  },
  {
   "cell_type": "code",
   "execution_count": null,
   "metadata": {},
   "outputs": [],
   "source": [
    "# \n"
   ]
  },
  {
   "cell_type": "code",
   "execution_count": null,
   "metadata": {},
   "outputs": [],
   "source": [
    "# \n"
   ]
  },
  {
   "cell_type": "code",
   "execution_count": null,
   "metadata": {},
   "outputs": [],
   "source": [
    "# \n"
   ]
  },
  {
   "cell_type": "code",
   "execution_count": null,
   "metadata": {},
   "outputs": [],
   "source": [
    "# \n"
   ]
  },
  {
   "cell_type": "code",
   "execution_count": null,
   "metadata": {},
   "outputs": [],
   "source": [
    "# \n"
   ]
  },
  {
   "cell_type": "markdown",
   "metadata": {},
   "source": [
    "##  УРОК 7 "
   ]
  },
  {
   "cell_type": "code",
   "execution_count": null,
   "metadata": {},
   "outputs": [],
   "source": [
    "# \n"
   ]
  },
  {
   "cell_type": "code",
   "execution_count": null,
   "metadata": {},
   "outputs": [],
   "source": [
    "# https://www.youtube.com/watch?v=gy_YlibMW6Q"
   ]
  },
  {
   "cell_type": "code",
   "execution_count": 67,
   "metadata": {},
   "outputs": [],
   "source": [
    "# Импортируем необходимые для урока библиотеки\n"
   ]
  },
  {
   "cell_type": "markdown",
   "metadata": {},
   "source": [
    "### Константы для проекта:"
   ]
  },
  {
   "cell_type": "code",
   "execution_count": null,
   "metadata": {},
   "outputs": [],
   "source": [
    "# Создаём переменные-КОНСТАНТЫ\n",
    "# 1. Адрес основного хоста\n",
    "HOST = 'https://vc.ru' \n",
    "\n",
    "# 2. Адрес страницы для парсинга\n",
    "URL = 'https://vc.ru/popular'\n",
    "\n",
    "# 3. Это нужно для некоторых сайтов (но не для всех - для этого необязательно)\n",
    "# чтобы показать сайту, что ВЫ НЕ БОТ, а обычный пользователь\n",
    "HEADERS = {\n",
    "    'accept': 'text/html,application/xhtml+xml,application/xml;q=0.9,image/avif,image/webp,image/apng,*/*;q=0.8,application/signed-exchange;v=b3;q=0.9',\n",
    "    'user-agent': 'Mozilla/5.0 (Windows NT 10.0; Win64; x64) AppleWebKit/537.36 (KHTML, like Gecko) Chrome/109.0.0.0 Safari/537.36'\n",
    "}\n",
    "\n",
    "# 4. Название финального файла\n",
    "# CSV = 'catalog.csv'\n",
    "\n",
    "#5. Создаём словарь заголовков\n",
    "\n",
    "# Это нужно для некоторых сайтов (но не для всех - для этого необязательно)\n",
    "# чтобы показать сайту, что ВЫ НЕ БОТ, а обычный пользователь\n",
    "headers = {\n",
    "    \"accept\": \"text/html,application/xhtml+xml,application/xml;q=0.9,image/avif,image/webp,image/apng,*/*;q=0.8,application/signed-exchange;v=b3;q=0.9\",\n",
    "    \"user-agent\": \"Mozilla/5.0 (Windows NT 10.0; Win64; x64) AppleWebKit/537.36 (KHTML, like Gecko) Chrome/109.0.0.0 Safari/537.36\"\n",
    "}"
   ]
  },
  {
   "cell_type": "code",
   "execution_count": null,
   "metadata": {},
   "outputs": [],
   "source": [
    "# \n"
   ]
  },
  {
   "cell_type": "markdown",
   "metadata": {},
   "source": [
    "### Изучаем структуру страницы"
   ]
  },
  {
   "cell_type": "code",
   "execution_count": null,
   "metadata": {},
   "outputs": [],
   "source": [
    "# \n"
   ]
  },
  {
   "cell_type": "code",
   "execution_count": null,
   "metadata": {},
   "outputs": [],
   "source": [
    "# \n"
   ]
  },
  {
   "cell_type": "code",
   "execution_count": null,
   "metadata": {},
   "outputs": [],
   "source": [
    "# \n"
   ]
  },
  {
   "cell_type": "code",
   "execution_count": null,
   "metadata": {},
   "outputs": [],
   "source": [
    "### "
   ]
  },
  {
   "cell_type": "code",
   "execution_count": null,
   "metadata": {},
   "outputs": [],
   "source": [
    "# \n"
   ]
  },
  {
   "cell_type": "code",
   "execution_count": null,
   "metadata": {},
   "outputs": [],
   "source": [
    "# \n"
   ]
  },
  {
   "cell_type": "code",
   "execution_count": null,
   "metadata": {},
   "outputs": [],
   "source": [
    "# \n"
   ]
  },
  {
   "cell_type": "code",
   "execution_count": null,
   "metadata": {},
   "outputs": [],
   "source": [
    "### "
   ]
  },
  {
   "cell_type": "code",
   "execution_count": null,
   "metadata": {},
   "outputs": [],
   "source": [
    "# \n"
   ]
  },
  {
   "cell_type": "code",
   "execution_count": null,
   "metadata": {},
   "outputs": [],
   "source": [
    "# \n"
   ]
  },
  {
   "cell_type": "code",
   "execution_count": null,
   "metadata": {},
   "outputs": [],
   "source": [
    "# \n"
   ]
  },
  {
   "cell_type": "code",
   "execution_count": null,
   "metadata": {},
   "outputs": [],
   "source": [
    "### "
   ]
  },
  {
   "cell_type": "code",
   "execution_count": null,
   "metadata": {},
   "outputs": [],
   "source": [
    "# \n"
   ]
  },
  {
   "cell_type": "code",
   "execution_count": null,
   "metadata": {},
   "outputs": [],
   "source": [
    "# \n"
   ]
  },
  {
   "cell_type": "code",
   "execution_count": null,
   "metadata": {},
   "outputs": [],
   "source": [
    "# \n"
   ]
  },
  {
   "cell_type": "code",
   "execution_count": null,
   "metadata": {},
   "outputs": [],
   "source": [
    "### "
   ]
  },
  {
   "cell_type": "code",
   "execution_count": null,
   "metadata": {},
   "outputs": [],
   "source": [
    "# \n"
   ]
  },
  {
   "cell_type": "code",
   "execution_count": null,
   "metadata": {},
   "outputs": [],
   "source": [
    "# \n"
   ]
  },
  {
   "cell_type": "code",
   "execution_count": null,
   "metadata": {},
   "outputs": [],
   "source": [
    "# \n"
   ]
  },
  {
   "cell_type": "code",
   "execution_count": null,
   "metadata": {},
   "outputs": [],
   "source": [
    "### "
   ]
  },
  {
   "cell_type": "code",
   "execution_count": null,
   "metadata": {},
   "outputs": [],
   "source": [
    "# \n"
   ]
  },
  {
   "cell_type": "code",
   "execution_count": null,
   "metadata": {},
   "outputs": [],
   "source": [
    "# \n"
   ]
  },
  {
   "cell_type": "code",
   "execution_count": null,
   "metadata": {},
   "outputs": [],
   "source": [
    "# \n"
   ]
  },
  {
   "cell_type": "code",
   "execution_count": null,
   "metadata": {},
   "outputs": [],
   "source": [
    "### "
   ]
  },
  {
   "cell_type": "code",
   "execution_count": null,
   "metadata": {},
   "outputs": [],
   "source": [
    "# \n"
   ]
  },
  {
   "cell_type": "code",
   "execution_count": null,
   "metadata": {},
   "outputs": [],
   "source": [
    "# \n"
   ]
  },
  {
   "cell_type": "code",
   "execution_count": null,
   "metadata": {},
   "outputs": [],
   "source": [
    "# \n"
   ]
  },
  {
   "cell_type": "code",
   "execution_count": null,
   "metadata": {},
   "outputs": [],
   "source": [
    "### "
   ]
  },
  {
   "cell_type": "code",
   "execution_count": null,
   "metadata": {},
   "outputs": [],
   "source": [
    "# \n"
   ]
  },
  {
   "cell_type": "code",
   "execution_count": null,
   "metadata": {},
   "outputs": [],
   "source": [
    "# \n"
   ]
  },
  {
   "cell_type": "code",
   "execution_count": null,
   "metadata": {},
   "outputs": [],
   "source": [
    "# \n"
   ]
  },
  {
   "cell_type": "code",
   "execution_count": null,
   "metadata": {},
   "outputs": [],
   "source": [
    "### "
   ]
  },
  {
   "cell_type": "code",
   "execution_count": null,
   "metadata": {},
   "outputs": [],
   "source": [
    "# \n"
   ]
  },
  {
   "cell_type": "code",
   "execution_count": null,
   "metadata": {},
   "outputs": [],
   "source": [
    "# \n"
   ]
  },
  {
   "cell_type": "code",
   "execution_count": null,
   "metadata": {},
   "outputs": [],
   "source": [
    "# \n"
   ]
  },
  {
   "cell_type": "code",
   "execution_count": null,
   "metadata": {},
   "outputs": [],
   "source": [
    "### "
   ]
  },
  {
   "cell_type": "code",
   "execution_count": null,
   "metadata": {},
   "outputs": [],
   "source": [
    "# \n"
   ]
  },
  {
   "cell_type": "code",
   "execution_count": null,
   "metadata": {},
   "outputs": [],
   "source": [
    "# \n"
   ]
  },
  {
   "cell_type": "code",
   "execution_count": null,
   "metadata": {},
   "outputs": [],
   "source": [
    "# \n"
   ]
  },
  {
   "cell_type": "code",
   "execution_count": null,
   "metadata": {},
   "outputs": [],
   "source": [
    "### "
   ]
  },
  {
   "cell_type": "code",
   "execution_count": null,
   "metadata": {},
   "outputs": [],
   "source": [
    "# \n"
   ]
  },
  {
   "cell_type": "code",
   "execution_count": null,
   "metadata": {},
   "outputs": [],
   "source": [
    "# \n"
   ]
  },
  {
   "cell_type": "code",
   "execution_count": null,
   "metadata": {},
   "outputs": [],
   "source": [
    "# \n"
   ]
  },
  {
   "cell_type": "code",
   "execution_count": null,
   "metadata": {},
   "outputs": [],
   "source": [
    "### "
   ]
  },
  {
   "cell_type": "code",
   "execution_count": null,
   "metadata": {},
   "outputs": [],
   "source": [
    "# \n"
   ]
  },
  {
   "cell_type": "code",
   "execution_count": null,
   "metadata": {},
   "outputs": [],
   "source": [
    "# \n"
   ]
  },
  {
   "cell_type": "code",
   "execution_count": null,
   "metadata": {},
   "outputs": [],
   "source": [
    "# \n"
   ]
  },
  {
   "cell_type": "code",
   "execution_count": null,
   "metadata": {},
   "outputs": [],
   "source": [
    "### "
   ]
  },
  {
   "cell_type": "code",
   "execution_count": null,
   "metadata": {},
   "outputs": [],
   "source": [
    "# \n"
   ]
  },
  {
   "cell_type": "code",
   "execution_count": null,
   "metadata": {},
   "outputs": [],
   "source": [
    "# \n"
   ]
  },
  {
   "cell_type": "code",
   "execution_count": null,
   "metadata": {},
   "outputs": [],
   "source": [
    "# \n"
   ]
  },
  {
   "cell_type": "code",
   "execution_count": null,
   "metadata": {},
   "outputs": [],
   "source": [
    "# \n"
   ]
  },
  {
   "cell_type": "code",
   "execution_count": null,
   "metadata": {},
   "outputs": [],
   "source": [
    "# \n"
   ]
  },
  {
   "cell_type": "markdown",
   "metadata": {},
   "source": [
    "##  УРОК 8 "
   ]
  },
  {
   "cell_type": "code",
   "execution_count": null,
   "metadata": {},
   "outputs": [],
   "source": [
    "# \n"
   ]
  },
  {
   "cell_type": "code",
   "execution_count": null,
   "metadata": {},
   "outputs": [],
   "source": [
    "# https://www.youtube.com/watch?v=gy_YlibMW6Q"
   ]
  },
  {
   "cell_type": "code",
   "execution_count": 67,
   "metadata": {},
   "outputs": [],
   "source": [
    "# Импортируем необходимые для урока библиотеки\n"
   ]
  },
  {
   "cell_type": "markdown",
   "metadata": {},
   "source": [
    "### Константы для проекта:"
   ]
  },
  {
   "cell_type": "code",
   "execution_count": null,
   "metadata": {},
   "outputs": [],
   "source": [
    "# Создаём переменные-КОНСТАНТЫ\n",
    "# 1. Адрес основного хоста\n",
    "HOST = 'https://vc.ru' \n",
    "\n",
    "# 2. Адрес страницы для парсинга\n",
    "URL = 'https://vc.ru/popular'\n",
    "\n",
    "# 3. Это нужно для некоторых сайтов (но не для всех - для этого необязательно)\n",
    "# чтобы показать сайту, что ВЫ НЕ БОТ, а обычный пользователь\n",
    "HEADERS = {\n",
    "    'accept': 'text/html,application/xhtml+xml,application/xml;q=0.9,image/avif,image/webp,image/apng,*/*;q=0.8,application/signed-exchange;v=b3;q=0.9',\n",
    "    'user-agent': 'Mozilla/5.0 (Windows NT 10.0; Win64; x64) AppleWebKit/537.36 (KHTML, like Gecko) Chrome/109.0.0.0 Safari/537.36'\n",
    "}\n",
    "\n",
    "# 4. Название финального файла\n",
    "# CSV = 'catalog.csv'\n",
    "\n",
    "#5. Создаём словарь заголовков\n",
    "\n",
    "# Это нужно для некоторых сайтов (но не для всех - для этого необязательно)\n",
    "# чтобы показать сайту, что ВЫ НЕ БОТ, а обычный пользователь\n",
    "headers = {\n",
    "    \"accept\": \"text/html,application/xhtml+xml,application/xml;q=0.9,image/avif,image/webp,image/apng,*/*;q=0.8,application/signed-exchange;v=b3;q=0.9\",\n",
    "    \"user-agent\": \"Mozilla/5.0 (Windows NT 10.0; Win64; x64) AppleWebKit/537.36 (KHTML, like Gecko) Chrome/109.0.0.0 Safari/537.36\"\n",
    "}"
   ]
  },
  {
   "cell_type": "code",
   "execution_count": null,
   "metadata": {},
   "outputs": [],
   "source": [
    "# \n"
   ]
  },
  {
   "cell_type": "markdown",
   "metadata": {},
   "source": [
    "### Изучаем структуру страницы"
   ]
  },
  {
   "cell_type": "code",
   "execution_count": null,
   "metadata": {},
   "outputs": [],
   "source": [
    "# \n"
   ]
  },
  {
   "cell_type": "code",
   "execution_count": null,
   "metadata": {},
   "outputs": [],
   "source": [
    "# \n"
   ]
  },
  {
   "cell_type": "code",
   "execution_count": null,
   "metadata": {},
   "outputs": [],
   "source": [
    "# \n"
   ]
  },
  {
   "cell_type": "code",
   "execution_count": null,
   "metadata": {},
   "outputs": [],
   "source": [
    "### "
   ]
  },
  {
   "cell_type": "code",
   "execution_count": null,
   "metadata": {},
   "outputs": [],
   "source": [
    "# \n"
   ]
  },
  {
   "cell_type": "code",
   "execution_count": null,
   "metadata": {},
   "outputs": [],
   "source": [
    "# \n"
   ]
  },
  {
   "cell_type": "code",
   "execution_count": null,
   "metadata": {},
   "outputs": [],
   "source": [
    "# \n"
   ]
  },
  {
   "cell_type": "code",
   "execution_count": null,
   "metadata": {},
   "outputs": [],
   "source": [
    "### "
   ]
  },
  {
   "cell_type": "code",
   "execution_count": null,
   "metadata": {},
   "outputs": [],
   "source": [
    "# \n"
   ]
  },
  {
   "cell_type": "code",
   "execution_count": null,
   "metadata": {},
   "outputs": [],
   "source": [
    "# \n"
   ]
  },
  {
   "cell_type": "code",
   "execution_count": null,
   "metadata": {},
   "outputs": [],
   "source": [
    "# \n"
   ]
  },
  {
   "cell_type": "code",
   "execution_count": null,
   "metadata": {},
   "outputs": [],
   "source": [
    "### "
   ]
  },
  {
   "cell_type": "code",
   "execution_count": null,
   "metadata": {},
   "outputs": [],
   "source": [
    "# \n"
   ]
  },
  {
   "cell_type": "code",
   "execution_count": null,
   "metadata": {},
   "outputs": [],
   "source": [
    "# \n"
   ]
  },
  {
   "cell_type": "code",
   "execution_count": null,
   "metadata": {},
   "outputs": [],
   "source": [
    "# \n"
   ]
  },
  {
   "cell_type": "code",
   "execution_count": null,
   "metadata": {},
   "outputs": [],
   "source": [
    "### "
   ]
  },
  {
   "cell_type": "code",
   "execution_count": null,
   "metadata": {},
   "outputs": [],
   "source": [
    "# \n"
   ]
  },
  {
   "cell_type": "code",
   "execution_count": null,
   "metadata": {},
   "outputs": [],
   "source": [
    "# \n"
   ]
  },
  {
   "cell_type": "code",
   "execution_count": null,
   "metadata": {},
   "outputs": [],
   "source": [
    "# \n"
   ]
  },
  {
   "cell_type": "code",
   "execution_count": null,
   "metadata": {},
   "outputs": [],
   "source": [
    "### "
   ]
  },
  {
   "cell_type": "code",
   "execution_count": null,
   "metadata": {},
   "outputs": [],
   "source": [
    "# \n"
   ]
  },
  {
   "cell_type": "code",
   "execution_count": null,
   "metadata": {},
   "outputs": [],
   "source": [
    "# \n"
   ]
  },
  {
   "cell_type": "code",
   "execution_count": null,
   "metadata": {},
   "outputs": [],
   "source": [
    "# \n"
   ]
  },
  {
   "cell_type": "code",
   "execution_count": null,
   "metadata": {},
   "outputs": [],
   "source": [
    "### "
   ]
  },
  {
   "cell_type": "code",
   "execution_count": null,
   "metadata": {},
   "outputs": [],
   "source": [
    "# \n"
   ]
  },
  {
   "cell_type": "code",
   "execution_count": null,
   "metadata": {},
   "outputs": [],
   "source": [
    "# \n"
   ]
  },
  {
   "cell_type": "code",
   "execution_count": null,
   "metadata": {},
   "outputs": [],
   "source": [
    "# \n"
   ]
  },
  {
   "cell_type": "code",
   "execution_count": null,
   "metadata": {},
   "outputs": [],
   "source": [
    "### "
   ]
  },
  {
   "cell_type": "code",
   "execution_count": null,
   "metadata": {},
   "outputs": [],
   "source": [
    "# \n"
   ]
  },
  {
   "cell_type": "code",
   "execution_count": null,
   "metadata": {},
   "outputs": [],
   "source": [
    "# \n"
   ]
  },
  {
   "cell_type": "code",
   "execution_count": null,
   "metadata": {},
   "outputs": [],
   "source": [
    "# \n"
   ]
  },
  {
   "cell_type": "code",
   "execution_count": null,
   "metadata": {},
   "outputs": [],
   "source": [
    "### "
   ]
  },
  {
   "cell_type": "code",
   "execution_count": null,
   "metadata": {},
   "outputs": [],
   "source": [
    "# \n"
   ]
  },
  {
   "cell_type": "code",
   "execution_count": null,
   "metadata": {},
   "outputs": [],
   "source": [
    "# \n"
   ]
  },
  {
   "cell_type": "code",
   "execution_count": null,
   "metadata": {},
   "outputs": [],
   "source": [
    "# \n"
   ]
  },
  {
   "cell_type": "code",
   "execution_count": null,
   "metadata": {},
   "outputs": [],
   "source": [
    "### "
   ]
  },
  {
   "cell_type": "code",
   "execution_count": null,
   "metadata": {},
   "outputs": [],
   "source": [
    "# \n"
   ]
  },
  {
   "cell_type": "code",
   "execution_count": null,
   "metadata": {},
   "outputs": [],
   "source": [
    "# \n"
   ]
  },
  {
   "cell_type": "code",
   "execution_count": null,
   "metadata": {},
   "outputs": [],
   "source": [
    "# \n"
   ]
  },
  {
   "cell_type": "code",
   "execution_count": null,
   "metadata": {},
   "outputs": [],
   "source": [
    "### "
   ]
  },
  {
   "cell_type": "code",
   "execution_count": null,
   "metadata": {},
   "outputs": [],
   "source": [
    "# \n"
   ]
  },
  {
   "cell_type": "code",
   "execution_count": null,
   "metadata": {},
   "outputs": [],
   "source": [
    "# \n"
   ]
  },
  {
   "cell_type": "code",
   "execution_count": null,
   "metadata": {},
   "outputs": [],
   "source": [
    "# \n"
   ]
  },
  {
   "cell_type": "code",
   "execution_count": null,
   "metadata": {},
   "outputs": [],
   "source": [
    "### "
   ]
  },
  {
   "cell_type": "code",
   "execution_count": null,
   "metadata": {},
   "outputs": [],
   "source": [
    "# \n"
   ]
  },
  {
   "cell_type": "code",
   "execution_count": null,
   "metadata": {},
   "outputs": [],
   "source": [
    "# \n"
   ]
  },
  {
   "cell_type": "code",
   "execution_count": null,
   "metadata": {},
   "outputs": [],
   "source": [
    "# \n"
   ]
  },
  {
   "cell_type": "code",
   "execution_count": null,
   "metadata": {},
   "outputs": [],
   "source": [
    "### "
   ]
  },
  {
   "cell_type": "code",
   "execution_count": null,
   "metadata": {},
   "outputs": [],
   "source": [
    "# \n"
   ]
  },
  {
   "cell_type": "code",
   "execution_count": null,
   "metadata": {},
   "outputs": [],
   "source": [
    "# \n"
   ]
  },
  {
   "cell_type": "code",
   "execution_count": null,
   "metadata": {},
   "outputs": [],
   "source": [
    "# \n"
   ]
  },
  {
   "cell_type": "code",
   "execution_count": null,
   "metadata": {},
   "outputs": [],
   "source": [
    "# \n"
   ]
  },
  {
   "cell_type": "code",
   "execution_count": null,
   "metadata": {},
   "outputs": [],
   "source": [
    "# \n"
   ]
  },
  {
   "cell_type": "markdown",
   "metadata": {},
   "source": [
    "##  УРОК 9 "
   ]
  },
  {
   "cell_type": "code",
   "execution_count": null,
   "metadata": {},
   "outputs": [],
   "source": [
    "# \n"
   ]
  },
  {
   "cell_type": "code",
   "execution_count": null,
   "metadata": {},
   "outputs": [],
   "source": [
    "# https://www.youtube.com/watch?v=gy_YlibMW6Q"
   ]
  },
  {
   "cell_type": "code",
   "execution_count": 67,
   "metadata": {},
   "outputs": [],
   "source": [
    "# Импортируем необходимые для урока библиотеки\n"
   ]
  },
  {
   "cell_type": "markdown",
   "metadata": {},
   "source": [
    "### Константы для проекта:"
   ]
  },
  {
   "cell_type": "code",
   "execution_count": null,
   "metadata": {},
   "outputs": [],
   "source": [
    "# Создаём переменные-КОНСТАНТЫ\n",
    "# 1. Адрес основного хоста\n",
    "HOST = 'https://vc.ru' \n",
    "\n",
    "# 2. Адрес страницы для парсинга\n",
    "URL = 'https://vc.ru/popular'\n",
    "\n",
    "# 3. Это нужно для некоторых сайтов (но не для всех - для этого необязательно)\n",
    "# чтобы показать сайту, что ВЫ НЕ БОТ, а обычный пользователь\n",
    "HEADERS = {\n",
    "    'accept': 'text/html,application/xhtml+xml,application/xml;q=0.9,image/avif,image/webp,image/apng,*/*;q=0.8,application/signed-exchange;v=b3;q=0.9',\n",
    "    'user-agent': 'Mozilla/5.0 (Windows NT 10.0; Win64; x64) AppleWebKit/537.36 (KHTML, like Gecko) Chrome/109.0.0.0 Safari/537.36'\n",
    "}\n",
    "\n",
    "# 4. Название финального файла\n",
    "# CSV = 'catalog.csv'\n",
    "\n",
    "#5. Создаём словарь заголовков\n",
    "\n",
    "# Это нужно для некоторых сайтов (но не для всех - для этого необязательно)\n",
    "# чтобы показать сайту, что ВЫ НЕ БОТ, а обычный пользователь\n",
    "headers = {\n",
    "    \"accept\": \"text/html,application/xhtml+xml,application/xml;q=0.9,image/avif,image/webp,image/apng,*/*;q=0.8,application/signed-exchange;v=b3;q=0.9\",\n",
    "    \"user-agent\": \"Mozilla/5.0 (Windows NT 10.0; Win64; x64) AppleWebKit/537.36 (KHTML, like Gecko) Chrome/109.0.0.0 Safari/537.36\"\n",
    "}"
   ]
  },
  {
   "cell_type": "code",
   "execution_count": null,
   "metadata": {},
   "outputs": [],
   "source": [
    "# \n"
   ]
  },
  {
   "cell_type": "markdown",
   "metadata": {},
   "source": [
    "### Изучаем структуру страницы"
   ]
  },
  {
   "cell_type": "code",
   "execution_count": null,
   "metadata": {},
   "outputs": [],
   "source": [
    "# \n"
   ]
  },
  {
   "cell_type": "code",
   "execution_count": null,
   "metadata": {},
   "outputs": [],
   "source": [
    "# \n"
   ]
  },
  {
   "cell_type": "code",
   "execution_count": null,
   "metadata": {},
   "outputs": [],
   "source": [
    "# \n"
   ]
  },
  {
   "cell_type": "code",
   "execution_count": null,
   "metadata": {},
   "outputs": [],
   "source": [
    "### "
   ]
  },
  {
   "cell_type": "code",
   "execution_count": null,
   "metadata": {},
   "outputs": [],
   "source": [
    "# \n"
   ]
  },
  {
   "cell_type": "code",
   "execution_count": null,
   "metadata": {},
   "outputs": [],
   "source": [
    "# \n"
   ]
  },
  {
   "cell_type": "code",
   "execution_count": null,
   "metadata": {},
   "outputs": [],
   "source": [
    "# \n"
   ]
  },
  {
   "cell_type": "code",
   "execution_count": null,
   "metadata": {},
   "outputs": [],
   "source": [
    "### "
   ]
  },
  {
   "cell_type": "code",
   "execution_count": null,
   "metadata": {},
   "outputs": [],
   "source": [
    "# \n"
   ]
  },
  {
   "cell_type": "code",
   "execution_count": null,
   "metadata": {},
   "outputs": [],
   "source": [
    "# \n"
   ]
  },
  {
   "cell_type": "code",
   "execution_count": null,
   "metadata": {},
   "outputs": [],
   "source": [
    "# \n"
   ]
  },
  {
   "cell_type": "code",
   "execution_count": null,
   "metadata": {},
   "outputs": [],
   "source": [
    "### "
   ]
  },
  {
   "cell_type": "code",
   "execution_count": null,
   "metadata": {},
   "outputs": [],
   "source": [
    "# \n"
   ]
  },
  {
   "cell_type": "code",
   "execution_count": null,
   "metadata": {},
   "outputs": [],
   "source": [
    "# \n"
   ]
  },
  {
   "cell_type": "code",
   "execution_count": null,
   "metadata": {},
   "outputs": [],
   "source": [
    "# \n"
   ]
  },
  {
   "cell_type": "code",
   "execution_count": null,
   "metadata": {},
   "outputs": [],
   "source": [
    "### "
   ]
  },
  {
   "cell_type": "code",
   "execution_count": null,
   "metadata": {},
   "outputs": [],
   "source": [
    "# \n"
   ]
  },
  {
   "cell_type": "code",
   "execution_count": null,
   "metadata": {},
   "outputs": [],
   "source": [
    "# \n"
   ]
  },
  {
   "cell_type": "code",
   "execution_count": null,
   "metadata": {},
   "outputs": [],
   "source": [
    "# \n"
   ]
  },
  {
   "cell_type": "code",
   "execution_count": null,
   "metadata": {},
   "outputs": [],
   "source": [
    "### "
   ]
  },
  {
   "cell_type": "code",
   "execution_count": null,
   "metadata": {},
   "outputs": [],
   "source": [
    "# \n"
   ]
  },
  {
   "cell_type": "code",
   "execution_count": null,
   "metadata": {},
   "outputs": [],
   "source": [
    "# \n"
   ]
  },
  {
   "cell_type": "code",
   "execution_count": null,
   "metadata": {},
   "outputs": [],
   "source": [
    "# \n"
   ]
  },
  {
   "cell_type": "code",
   "execution_count": null,
   "metadata": {},
   "outputs": [],
   "source": [
    "### "
   ]
  },
  {
   "cell_type": "code",
   "execution_count": null,
   "metadata": {},
   "outputs": [],
   "source": [
    "# \n"
   ]
  },
  {
   "cell_type": "code",
   "execution_count": null,
   "metadata": {},
   "outputs": [],
   "source": [
    "# \n"
   ]
  },
  {
   "cell_type": "code",
   "execution_count": null,
   "metadata": {},
   "outputs": [],
   "source": [
    "# \n"
   ]
  },
  {
   "cell_type": "code",
   "execution_count": null,
   "metadata": {},
   "outputs": [],
   "source": [
    "### "
   ]
  },
  {
   "cell_type": "code",
   "execution_count": null,
   "metadata": {},
   "outputs": [],
   "source": [
    "# \n"
   ]
  },
  {
   "cell_type": "code",
   "execution_count": null,
   "metadata": {},
   "outputs": [],
   "source": [
    "# \n"
   ]
  },
  {
   "cell_type": "code",
   "execution_count": null,
   "metadata": {},
   "outputs": [],
   "source": [
    "# \n"
   ]
  },
  {
   "cell_type": "code",
   "execution_count": null,
   "metadata": {},
   "outputs": [],
   "source": [
    "### "
   ]
  },
  {
   "cell_type": "code",
   "execution_count": null,
   "metadata": {},
   "outputs": [],
   "source": [
    "# \n"
   ]
  },
  {
   "cell_type": "code",
   "execution_count": null,
   "metadata": {},
   "outputs": [],
   "source": [
    "# \n"
   ]
  },
  {
   "cell_type": "code",
   "execution_count": null,
   "metadata": {},
   "outputs": [],
   "source": [
    "# \n"
   ]
  },
  {
   "cell_type": "code",
   "execution_count": null,
   "metadata": {},
   "outputs": [],
   "source": [
    "### "
   ]
  },
  {
   "cell_type": "code",
   "execution_count": null,
   "metadata": {},
   "outputs": [],
   "source": [
    "# \n"
   ]
  },
  {
   "cell_type": "code",
   "execution_count": null,
   "metadata": {},
   "outputs": [],
   "source": [
    "# \n"
   ]
  },
  {
   "cell_type": "code",
   "execution_count": null,
   "metadata": {},
   "outputs": [],
   "source": [
    "# \n"
   ]
  },
  {
   "cell_type": "code",
   "execution_count": null,
   "metadata": {},
   "outputs": [],
   "source": [
    "### "
   ]
  },
  {
   "cell_type": "code",
   "execution_count": null,
   "metadata": {},
   "outputs": [],
   "source": [
    "# \n"
   ]
  },
  {
   "cell_type": "code",
   "execution_count": null,
   "metadata": {},
   "outputs": [],
   "source": [
    "# \n"
   ]
  },
  {
   "cell_type": "code",
   "execution_count": null,
   "metadata": {},
   "outputs": [],
   "source": [
    "# \n"
   ]
  },
  {
   "cell_type": "code",
   "execution_count": null,
   "metadata": {},
   "outputs": [],
   "source": [
    "### "
   ]
  },
  {
   "cell_type": "code",
   "execution_count": null,
   "metadata": {},
   "outputs": [],
   "source": [
    "# \n"
   ]
  },
  {
   "cell_type": "code",
   "execution_count": null,
   "metadata": {},
   "outputs": [],
   "source": [
    "# \n"
   ]
  },
  {
   "cell_type": "code",
   "execution_count": null,
   "metadata": {},
   "outputs": [],
   "source": [
    "# \n"
   ]
  },
  {
   "cell_type": "code",
   "execution_count": null,
   "metadata": {},
   "outputs": [],
   "source": [
    "### "
   ]
  },
  {
   "cell_type": "code",
   "execution_count": null,
   "metadata": {},
   "outputs": [],
   "source": [
    "# \n"
   ]
  },
  {
   "cell_type": "code",
   "execution_count": null,
   "metadata": {},
   "outputs": [],
   "source": [
    "# \n"
   ]
  },
  {
   "cell_type": "code",
   "execution_count": null,
   "metadata": {},
   "outputs": [],
   "source": [
    "# \n"
   ]
  },
  {
   "cell_type": "code",
   "execution_count": null,
   "metadata": {},
   "outputs": [],
   "source": [
    "# \n"
   ]
  },
  {
   "cell_type": "code",
   "execution_count": null,
   "metadata": {},
   "outputs": [],
   "source": [
    "# \n"
   ]
  },
  {
   "cell_type": "markdown",
   "metadata": {},
   "source": [
    "##  УРОК 10 "
   ]
  },
  {
   "cell_type": "code",
   "execution_count": null,
   "metadata": {},
   "outputs": [],
   "source": [
    "# \n"
   ]
  },
  {
   "cell_type": "code",
   "execution_count": null,
   "metadata": {},
   "outputs": [],
   "source": [
    "# https://www.youtube.com/watch?v=gy_YlibMW6Q"
   ]
  },
  {
   "cell_type": "code",
   "execution_count": 67,
   "metadata": {},
   "outputs": [],
   "source": [
    "# Импортируем необходимые для урока библиотеки\n"
   ]
  },
  {
   "cell_type": "markdown",
   "metadata": {},
   "source": [
    "### Константы для проекта:"
   ]
  },
  {
   "cell_type": "code",
   "execution_count": null,
   "metadata": {},
   "outputs": [],
   "source": [
    "# Создаём переменные-КОНСТАНТЫ\n",
    "# 1. Адрес основного хоста\n",
    "HOST = 'https://vc.ru' \n",
    "\n",
    "# 2. Адрес страницы для парсинга\n",
    "URL = 'https://vc.ru/popular'\n",
    "\n",
    "# 3. Это нужно для некоторых сайтов (но не для всех - для этого необязательно)\n",
    "# чтобы показать сайту, что ВЫ НЕ БОТ, а обычный пользователь\n",
    "HEADERS = {\n",
    "    'accept': 'text/html,application/xhtml+xml,application/xml;q=0.9,image/avif,image/webp,image/apng,*/*;q=0.8,application/signed-exchange;v=b3;q=0.9',\n",
    "    'user-agent': 'Mozilla/5.0 (Windows NT 10.0; Win64; x64) AppleWebKit/537.36 (KHTML, like Gecko) Chrome/109.0.0.0 Safari/537.36'\n",
    "}\n",
    "\n",
    "# 4. Название финального файла\n",
    "# CSV = 'catalog.csv'\n",
    "\n",
    "#5. Создаём словарь заголовков\n",
    "\n",
    "# Это нужно для некоторых сайтов (но не для всех - для этого необязательно)\n",
    "# чтобы показать сайту, что ВЫ НЕ БОТ, а обычный пользователь\n",
    "headers = {\n",
    "    \"accept\": \"text/html,application/xhtml+xml,application/xml;q=0.9,image/avif,image/webp,image/apng,*/*;q=0.8,application/signed-exchange;v=b3;q=0.9\",\n",
    "    \"user-agent\": \"Mozilla/5.0 (Windows NT 10.0; Win64; x64) AppleWebKit/537.36 (KHTML, like Gecko) Chrome/109.0.0.0 Safari/537.36\"\n",
    "}"
   ]
  },
  {
   "cell_type": "code",
   "execution_count": null,
   "metadata": {},
   "outputs": [],
   "source": [
    "# \n"
   ]
  },
  {
   "cell_type": "markdown",
   "metadata": {},
   "source": [
    "### Изучаем структуру страницы"
   ]
  },
  {
   "cell_type": "code",
   "execution_count": null,
   "metadata": {},
   "outputs": [],
   "source": [
    "# \n"
   ]
  },
  {
   "cell_type": "code",
   "execution_count": null,
   "metadata": {},
   "outputs": [],
   "source": [
    "# \n"
   ]
  },
  {
   "cell_type": "code",
   "execution_count": null,
   "metadata": {},
   "outputs": [],
   "source": [
    "# \n"
   ]
  },
  {
   "cell_type": "code",
   "execution_count": null,
   "metadata": {},
   "outputs": [],
   "source": [
    "### "
   ]
  },
  {
   "cell_type": "code",
   "execution_count": null,
   "metadata": {},
   "outputs": [],
   "source": [
    "# \n"
   ]
  },
  {
   "cell_type": "code",
   "execution_count": null,
   "metadata": {},
   "outputs": [],
   "source": [
    "# \n"
   ]
  },
  {
   "cell_type": "code",
   "execution_count": null,
   "metadata": {},
   "outputs": [],
   "source": [
    "# \n"
   ]
  },
  {
   "cell_type": "code",
   "execution_count": null,
   "metadata": {},
   "outputs": [],
   "source": [
    "### "
   ]
  },
  {
   "cell_type": "code",
   "execution_count": null,
   "metadata": {},
   "outputs": [],
   "source": [
    "# \n"
   ]
  },
  {
   "cell_type": "code",
   "execution_count": null,
   "metadata": {},
   "outputs": [],
   "source": [
    "# \n"
   ]
  },
  {
   "cell_type": "code",
   "execution_count": null,
   "metadata": {},
   "outputs": [],
   "source": [
    "# \n"
   ]
  },
  {
   "cell_type": "code",
   "execution_count": null,
   "metadata": {},
   "outputs": [],
   "source": [
    "### "
   ]
  },
  {
   "cell_type": "code",
   "execution_count": null,
   "metadata": {},
   "outputs": [],
   "source": [
    "# \n"
   ]
  },
  {
   "cell_type": "code",
   "execution_count": null,
   "metadata": {},
   "outputs": [],
   "source": [
    "# \n"
   ]
  },
  {
   "cell_type": "code",
   "execution_count": null,
   "metadata": {},
   "outputs": [],
   "source": [
    "# \n"
   ]
  },
  {
   "cell_type": "code",
   "execution_count": null,
   "metadata": {},
   "outputs": [],
   "source": [
    "### "
   ]
  },
  {
   "cell_type": "code",
   "execution_count": null,
   "metadata": {},
   "outputs": [],
   "source": [
    "# \n"
   ]
  },
  {
   "cell_type": "code",
   "execution_count": null,
   "metadata": {},
   "outputs": [],
   "source": [
    "# \n"
   ]
  },
  {
   "cell_type": "code",
   "execution_count": null,
   "metadata": {},
   "outputs": [],
   "source": [
    "# \n"
   ]
  },
  {
   "cell_type": "code",
   "execution_count": null,
   "metadata": {},
   "outputs": [],
   "source": [
    "### "
   ]
  },
  {
   "cell_type": "code",
   "execution_count": null,
   "metadata": {},
   "outputs": [],
   "source": [
    "# \n"
   ]
  },
  {
   "cell_type": "code",
   "execution_count": null,
   "metadata": {},
   "outputs": [],
   "source": [
    "# \n"
   ]
  },
  {
   "cell_type": "code",
   "execution_count": null,
   "metadata": {},
   "outputs": [],
   "source": [
    "# \n"
   ]
  },
  {
   "cell_type": "code",
   "execution_count": null,
   "metadata": {},
   "outputs": [],
   "source": [
    "### "
   ]
  },
  {
   "cell_type": "code",
   "execution_count": null,
   "metadata": {},
   "outputs": [],
   "source": [
    "# \n"
   ]
  },
  {
   "cell_type": "code",
   "execution_count": null,
   "metadata": {},
   "outputs": [],
   "source": [
    "# \n"
   ]
  },
  {
   "cell_type": "code",
   "execution_count": null,
   "metadata": {},
   "outputs": [],
   "source": [
    "# \n"
   ]
  },
  {
   "cell_type": "code",
   "execution_count": null,
   "metadata": {},
   "outputs": [],
   "source": [
    "### "
   ]
  },
  {
   "cell_type": "code",
   "execution_count": null,
   "metadata": {},
   "outputs": [],
   "source": [
    "# \n"
   ]
  },
  {
   "cell_type": "code",
   "execution_count": null,
   "metadata": {},
   "outputs": [],
   "source": [
    "# \n"
   ]
  },
  {
   "cell_type": "code",
   "execution_count": null,
   "metadata": {},
   "outputs": [],
   "source": [
    "# \n"
   ]
  },
  {
   "cell_type": "code",
   "execution_count": null,
   "metadata": {},
   "outputs": [],
   "source": [
    "### "
   ]
  },
  {
   "cell_type": "code",
   "execution_count": null,
   "metadata": {},
   "outputs": [],
   "source": [
    "# \n"
   ]
  },
  {
   "cell_type": "code",
   "execution_count": null,
   "metadata": {},
   "outputs": [],
   "source": [
    "# \n"
   ]
  },
  {
   "cell_type": "code",
   "execution_count": null,
   "metadata": {},
   "outputs": [],
   "source": [
    "# \n"
   ]
  },
  {
   "cell_type": "code",
   "execution_count": null,
   "metadata": {},
   "outputs": [],
   "source": [
    "### "
   ]
  },
  {
   "cell_type": "code",
   "execution_count": null,
   "metadata": {},
   "outputs": [],
   "source": [
    "# \n"
   ]
  },
  {
   "cell_type": "code",
   "execution_count": null,
   "metadata": {},
   "outputs": [],
   "source": [
    "# \n"
   ]
  },
  {
   "cell_type": "code",
   "execution_count": null,
   "metadata": {},
   "outputs": [],
   "source": [
    "# \n"
   ]
  },
  {
   "cell_type": "code",
   "execution_count": null,
   "metadata": {},
   "outputs": [],
   "source": [
    "### "
   ]
  },
  {
   "cell_type": "code",
   "execution_count": null,
   "metadata": {},
   "outputs": [],
   "source": [
    "# \n"
   ]
  },
  {
   "cell_type": "code",
   "execution_count": null,
   "metadata": {},
   "outputs": [],
   "source": [
    "# \n"
   ]
  },
  {
   "cell_type": "code",
   "execution_count": null,
   "metadata": {},
   "outputs": [],
   "source": [
    "# \n"
   ]
  },
  {
   "cell_type": "code",
   "execution_count": null,
   "metadata": {},
   "outputs": [],
   "source": [
    "### "
   ]
  },
  {
   "cell_type": "code",
   "execution_count": null,
   "metadata": {},
   "outputs": [],
   "source": [
    "# \n"
   ]
  },
  {
   "cell_type": "code",
   "execution_count": null,
   "metadata": {},
   "outputs": [],
   "source": [
    "# \n"
   ]
  },
  {
   "cell_type": "code",
   "execution_count": null,
   "metadata": {},
   "outputs": [],
   "source": [
    "# \n"
   ]
  },
  {
   "cell_type": "code",
   "execution_count": null,
   "metadata": {},
   "outputs": [],
   "source": [
    "### "
   ]
  },
  {
   "cell_type": "code",
   "execution_count": null,
   "metadata": {},
   "outputs": [],
   "source": [
    "# \n"
   ]
  },
  {
   "cell_type": "code",
   "execution_count": null,
   "metadata": {},
   "outputs": [],
   "source": [
    "# \n"
   ]
  },
  {
   "cell_type": "code",
   "execution_count": null,
   "metadata": {},
   "outputs": [],
   "source": [
    "# \n"
   ]
  },
  {
   "cell_type": "code",
   "execution_count": null,
   "metadata": {},
   "outputs": [],
   "source": [
    "# \n"
   ]
  },
  {
   "cell_type": "code",
   "execution_count": null,
   "metadata": {},
   "outputs": [],
   "source": [
    "# \n"
   ]
  },
  {
   "cell_type": "markdown",
   "metadata": {},
   "source": [
    "#  УРОК 11 "
   ]
  },
  {
   "cell_type": "code",
   "execution_count": null,
   "metadata": {},
   "outputs": [],
   "source": [
    "# \n"
   ]
  },
  {
   "cell_type": "code",
   "execution_count": null,
   "metadata": {},
   "outputs": [],
   "source": [
    "# https://www.youtube.com/watch?v=gy_YlibMW6Q"
   ]
  },
  {
   "cell_type": "code",
   "execution_count": 67,
   "metadata": {},
   "outputs": [],
   "source": [
    "# Импортируем необходимые для урока библиотеки\n"
   ]
  },
  {
   "cell_type": "markdown",
   "metadata": {},
   "source": [
    "### Константы для проекта:"
   ]
  },
  {
   "cell_type": "code",
   "execution_count": null,
   "metadata": {},
   "outputs": [],
   "source": [
    "# Создаём переменные-КОНСТАНТЫ\n",
    "# 1. Адрес основного хоста\n",
    "HOST = 'https://vc.ru' \n",
    "\n",
    "# 2. Адрес страницы для парсинга\n",
    "URL = 'https://vc.ru/popular'\n",
    "\n",
    "# 3. Это нужно для некоторых сайтов (но не для всех - для этого необязательно)\n",
    "# чтобы показать сайту, что ВЫ НЕ БОТ, а обычный пользователь\n",
    "HEADERS = {\n",
    "    'accept': 'text/html,application/xhtml+xml,application/xml;q=0.9,image/avif,image/webp,image/apng,*/*;q=0.8,application/signed-exchange;v=b3;q=0.9',\n",
    "    'user-agent': 'Mozilla/5.0 (Windows NT 10.0; Win64; x64) AppleWebKit/537.36 (KHTML, like Gecko) Chrome/109.0.0.0 Safari/537.36'\n",
    "}\n",
    "\n",
    "# 4. Название финального файла\n",
    "# CSV = 'catalog.csv'\n",
    "\n",
    "#5. Создаём словарь заголовков\n",
    "\n",
    "# Это нужно для некоторых сайтов (но не для всех - для этого необязательно)\n",
    "# чтобы показать сайту, что ВЫ НЕ БОТ, а обычный пользователь\n",
    "headers = {\n",
    "    \"accept\": \"text/html,application/xhtml+xml,application/xml;q=0.9,image/avif,image/webp,image/apng,*/*;q=0.8,application/signed-exchange;v=b3;q=0.9\",\n",
    "    \"user-agent\": \"Mozilla/5.0 (Windows NT 10.0; Win64; x64) AppleWebKit/537.36 (KHTML, like Gecko) Chrome/109.0.0.0 Safari/537.36\"\n",
    "}"
   ]
  },
  {
   "cell_type": "code",
   "execution_count": null,
   "metadata": {},
   "outputs": [],
   "source": [
    "# \n"
   ]
  },
  {
   "cell_type": "markdown",
   "metadata": {},
   "source": [
    "### Изучаем структуру страницы"
   ]
  },
  {
   "cell_type": "code",
   "execution_count": null,
   "metadata": {},
   "outputs": [],
   "source": [
    "# \n"
   ]
  },
  {
   "cell_type": "code",
   "execution_count": null,
   "metadata": {},
   "outputs": [],
   "source": [
    "# \n"
   ]
  },
  {
   "cell_type": "code",
   "execution_count": null,
   "metadata": {},
   "outputs": [],
   "source": [
    "# \n"
   ]
  },
  {
   "cell_type": "code",
   "execution_count": null,
   "metadata": {},
   "outputs": [],
   "source": [
    "### "
   ]
  },
  {
   "cell_type": "code",
   "execution_count": null,
   "metadata": {},
   "outputs": [],
   "source": [
    "# \n"
   ]
  },
  {
   "cell_type": "code",
   "execution_count": null,
   "metadata": {},
   "outputs": [],
   "source": [
    "# \n"
   ]
  },
  {
   "cell_type": "code",
   "execution_count": null,
   "metadata": {},
   "outputs": [],
   "source": [
    "# \n"
   ]
  },
  {
   "cell_type": "code",
   "execution_count": null,
   "metadata": {},
   "outputs": [],
   "source": [
    "### "
   ]
  },
  {
   "cell_type": "code",
   "execution_count": null,
   "metadata": {},
   "outputs": [],
   "source": [
    "# \n"
   ]
  },
  {
   "cell_type": "code",
   "execution_count": null,
   "metadata": {},
   "outputs": [],
   "source": [
    "# \n"
   ]
  },
  {
   "cell_type": "code",
   "execution_count": null,
   "metadata": {},
   "outputs": [],
   "source": [
    "# \n"
   ]
  },
  {
   "cell_type": "code",
   "execution_count": null,
   "metadata": {},
   "outputs": [],
   "source": [
    "### "
   ]
  },
  {
   "cell_type": "code",
   "execution_count": null,
   "metadata": {},
   "outputs": [],
   "source": [
    "# \n"
   ]
  },
  {
   "cell_type": "code",
   "execution_count": null,
   "metadata": {},
   "outputs": [],
   "source": [
    "# \n"
   ]
  },
  {
   "cell_type": "code",
   "execution_count": null,
   "metadata": {},
   "outputs": [],
   "source": [
    "# \n"
   ]
  },
  {
   "cell_type": "code",
   "execution_count": null,
   "metadata": {},
   "outputs": [],
   "source": [
    "### "
   ]
  },
  {
   "cell_type": "code",
   "execution_count": null,
   "metadata": {},
   "outputs": [],
   "source": [
    "# \n"
   ]
  },
  {
   "cell_type": "code",
   "execution_count": null,
   "metadata": {},
   "outputs": [],
   "source": [
    "# \n"
   ]
  },
  {
   "cell_type": "code",
   "execution_count": null,
   "metadata": {},
   "outputs": [],
   "source": [
    "# \n"
   ]
  },
  {
   "cell_type": "code",
   "execution_count": null,
   "metadata": {},
   "outputs": [],
   "source": [
    "### "
   ]
  },
  {
   "cell_type": "code",
   "execution_count": null,
   "metadata": {},
   "outputs": [],
   "source": [
    "# \n"
   ]
  },
  {
   "cell_type": "code",
   "execution_count": null,
   "metadata": {},
   "outputs": [],
   "source": [
    "# \n"
   ]
  },
  {
   "cell_type": "code",
   "execution_count": null,
   "metadata": {},
   "outputs": [],
   "source": [
    "# \n"
   ]
  },
  {
   "cell_type": "code",
   "execution_count": null,
   "metadata": {},
   "outputs": [],
   "source": [
    "### "
   ]
  },
  {
   "cell_type": "code",
   "execution_count": null,
   "metadata": {},
   "outputs": [],
   "source": [
    "# \n"
   ]
  },
  {
   "cell_type": "code",
   "execution_count": null,
   "metadata": {},
   "outputs": [],
   "source": [
    "# \n"
   ]
  },
  {
   "cell_type": "code",
   "execution_count": null,
   "metadata": {},
   "outputs": [],
   "source": [
    "# \n"
   ]
  },
  {
   "cell_type": "code",
   "execution_count": null,
   "metadata": {},
   "outputs": [],
   "source": [
    "### "
   ]
  },
  {
   "cell_type": "code",
   "execution_count": null,
   "metadata": {},
   "outputs": [],
   "source": [
    "# \n"
   ]
  },
  {
   "cell_type": "code",
   "execution_count": null,
   "metadata": {},
   "outputs": [],
   "source": [
    "# \n"
   ]
  },
  {
   "cell_type": "code",
   "execution_count": null,
   "metadata": {},
   "outputs": [],
   "source": [
    "# \n"
   ]
  },
  {
   "cell_type": "code",
   "execution_count": null,
   "metadata": {},
   "outputs": [],
   "source": [
    "### "
   ]
  },
  {
   "cell_type": "code",
   "execution_count": null,
   "metadata": {},
   "outputs": [],
   "source": [
    "# \n"
   ]
  },
  {
   "cell_type": "code",
   "execution_count": null,
   "metadata": {},
   "outputs": [],
   "source": [
    "# \n"
   ]
  },
  {
   "cell_type": "code",
   "execution_count": null,
   "metadata": {},
   "outputs": [],
   "source": [
    "# \n"
   ]
  },
  {
   "cell_type": "code",
   "execution_count": null,
   "metadata": {},
   "outputs": [],
   "source": [
    "### "
   ]
  },
  {
   "cell_type": "code",
   "execution_count": null,
   "metadata": {},
   "outputs": [],
   "source": [
    "# \n"
   ]
  },
  {
   "cell_type": "code",
   "execution_count": null,
   "metadata": {},
   "outputs": [],
   "source": [
    "# \n"
   ]
  },
  {
   "cell_type": "code",
   "execution_count": null,
   "metadata": {},
   "outputs": [],
   "source": [
    "# \n"
   ]
  },
  {
   "cell_type": "code",
   "execution_count": null,
   "metadata": {},
   "outputs": [],
   "source": [
    "### "
   ]
  },
  {
   "cell_type": "code",
   "execution_count": null,
   "metadata": {},
   "outputs": [],
   "source": [
    "# \n"
   ]
  },
  {
   "cell_type": "code",
   "execution_count": null,
   "metadata": {},
   "outputs": [],
   "source": [
    "# \n"
   ]
  },
  {
   "cell_type": "code",
   "execution_count": null,
   "metadata": {},
   "outputs": [],
   "source": [
    "# \n"
   ]
  },
  {
   "cell_type": "code",
   "execution_count": null,
   "metadata": {},
   "outputs": [],
   "source": [
    "### "
   ]
  },
  {
   "cell_type": "code",
   "execution_count": null,
   "metadata": {},
   "outputs": [],
   "source": [
    "# \n"
   ]
  },
  {
   "cell_type": "code",
   "execution_count": null,
   "metadata": {},
   "outputs": [],
   "source": [
    "# \n"
   ]
  },
  {
   "cell_type": "code",
   "execution_count": null,
   "metadata": {},
   "outputs": [],
   "source": [
    "# \n"
   ]
  },
  {
   "cell_type": "code",
   "execution_count": null,
   "metadata": {},
   "outputs": [],
   "source": [
    "### "
   ]
  },
  {
   "cell_type": "code",
   "execution_count": null,
   "metadata": {},
   "outputs": [],
   "source": [
    "# \n"
   ]
  },
  {
   "cell_type": "code",
   "execution_count": null,
   "metadata": {},
   "outputs": [],
   "source": [
    "# \n"
   ]
  },
  {
   "cell_type": "code",
   "execution_count": null,
   "metadata": {},
   "outputs": [],
   "source": [
    "# \n"
   ]
  },
  {
   "cell_type": "code",
   "execution_count": null,
   "metadata": {},
   "outputs": [],
   "source": [
    "# \n"
   ]
  },
  {
   "cell_type": "code",
   "execution_count": null,
   "metadata": {},
   "outputs": [],
   "source": [
    "# \n"
   ]
  },
  {
   "cell_type": "markdown",
   "metadata": {},
   "source": [
    "#  УРОК 12 "
   ]
  },
  {
   "cell_type": "code",
   "execution_count": null,
   "metadata": {},
   "outputs": [],
   "source": [
    "# \n"
   ]
  },
  {
   "cell_type": "code",
   "execution_count": null,
   "metadata": {},
   "outputs": [],
   "source": [
    "# https://www.youtube.com/watch?v=gy_YlibMW6Q"
   ]
  },
  {
   "cell_type": "code",
   "execution_count": 67,
   "metadata": {},
   "outputs": [],
   "source": [
    "# Импортируем необходимые для урока библиотеки\n"
   ]
  },
  {
   "cell_type": "markdown",
   "metadata": {},
   "source": [
    "### Константы для проекта:"
   ]
  },
  {
   "cell_type": "code",
   "execution_count": null,
   "metadata": {},
   "outputs": [],
   "source": [
    "# Создаём переменные-КОНСТАНТЫ\n",
    "# 1. Адрес основного хоста\n",
    "HOST = 'https://vc.ru' \n",
    "\n",
    "# 2. Адрес страницы для парсинга\n",
    "URL = 'https://vc.ru/popular'\n",
    "\n",
    "# 3. Это нужно для некоторых сайтов (но не для всех - для этого необязательно)\n",
    "# чтобы показать сайту, что ВЫ НЕ БОТ, а обычный пользователь\n",
    "HEADERS = {\n",
    "    'accept': 'text/html,application/xhtml+xml,application/xml;q=0.9,image/avif,image/webp,image/apng,*/*;q=0.8,application/signed-exchange;v=b3;q=0.9',\n",
    "    'user-agent': 'Mozilla/5.0 (Windows NT 10.0; Win64; x64) AppleWebKit/537.36 (KHTML, like Gecko) Chrome/109.0.0.0 Safari/537.36'\n",
    "}\n",
    "\n",
    "# 4. Название финального файла\n",
    "# CSV = 'catalog.csv'\n",
    "\n",
    "#5. Создаём словарь заголовков\n",
    "\n",
    "# Это нужно для некоторых сайтов (но не для всех - для этого необязательно)\n",
    "# чтобы показать сайту, что ВЫ НЕ БОТ, а обычный пользователь\n",
    "headers = {\n",
    "    \"accept\": \"text/html,application/xhtml+xml,application/xml;q=0.9,image/avif,image/webp,image/apng,*/*;q=0.8,application/signed-exchange;v=b3;q=0.9\",\n",
    "    \"user-agent\": \"Mozilla/5.0 (Windows NT 10.0; Win64; x64) AppleWebKit/537.36 (KHTML, like Gecko) Chrome/109.0.0.0 Safari/537.36\"\n",
    "}"
   ]
  },
  {
   "cell_type": "code",
   "execution_count": null,
   "metadata": {},
   "outputs": [],
   "source": [
    "# \n"
   ]
  },
  {
   "cell_type": "markdown",
   "metadata": {},
   "source": [
    "### Изучаем структуру страницы"
   ]
  },
  {
   "cell_type": "code",
   "execution_count": null,
   "metadata": {},
   "outputs": [],
   "source": [
    "# \n"
   ]
  },
  {
   "cell_type": "code",
   "execution_count": null,
   "metadata": {},
   "outputs": [],
   "source": [
    "# \n"
   ]
  },
  {
   "cell_type": "code",
   "execution_count": null,
   "metadata": {},
   "outputs": [],
   "source": [
    "# \n"
   ]
  },
  {
   "cell_type": "code",
   "execution_count": null,
   "metadata": {},
   "outputs": [],
   "source": [
    "### "
   ]
  },
  {
   "cell_type": "code",
   "execution_count": null,
   "metadata": {},
   "outputs": [],
   "source": [
    "# \n"
   ]
  },
  {
   "cell_type": "code",
   "execution_count": null,
   "metadata": {},
   "outputs": [],
   "source": [
    "# \n"
   ]
  },
  {
   "cell_type": "code",
   "execution_count": null,
   "metadata": {},
   "outputs": [],
   "source": [
    "# \n"
   ]
  },
  {
   "cell_type": "code",
   "execution_count": null,
   "metadata": {},
   "outputs": [],
   "source": [
    "### "
   ]
  },
  {
   "cell_type": "code",
   "execution_count": null,
   "metadata": {},
   "outputs": [],
   "source": [
    "# \n"
   ]
  },
  {
   "cell_type": "code",
   "execution_count": null,
   "metadata": {},
   "outputs": [],
   "source": [
    "# \n"
   ]
  },
  {
   "cell_type": "code",
   "execution_count": null,
   "metadata": {},
   "outputs": [],
   "source": [
    "# \n"
   ]
  },
  {
   "cell_type": "code",
   "execution_count": null,
   "metadata": {},
   "outputs": [],
   "source": [
    "### "
   ]
  },
  {
   "cell_type": "code",
   "execution_count": null,
   "metadata": {},
   "outputs": [],
   "source": [
    "# \n"
   ]
  },
  {
   "cell_type": "code",
   "execution_count": null,
   "metadata": {},
   "outputs": [],
   "source": [
    "# \n"
   ]
  },
  {
   "cell_type": "code",
   "execution_count": null,
   "metadata": {},
   "outputs": [],
   "source": [
    "# \n"
   ]
  },
  {
   "cell_type": "code",
   "execution_count": null,
   "metadata": {},
   "outputs": [],
   "source": [
    "### "
   ]
  },
  {
   "cell_type": "code",
   "execution_count": null,
   "metadata": {},
   "outputs": [],
   "source": [
    "# \n"
   ]
  },
  {
   "cell_type": "code",
   "execution_count": null,
   "metadata": {},
   "outputs": [],
   "source": [
    "# \n"
   ]
  },
  {
   "cell_type": "code",
   "execution_count": null,
   "metadata": {},
   "outputs": [],
   "source": [
    "# \n"
   ]
  },
  {
   "cell_type": "code",
   "execution_count": null,
   "metadata": {},
   "outputs": [],
   "source": [
    "### "
   ]
  },
  {
   "cell_type": "code",
   "execution_count": null,
   "metadata": {},
   "outputs": [],
   "source": [
    "# \n"
   ]
  },
  {
   "cell_type": "code",
   "execution_count": null,
   "metadata": {},
   "outputs": [],
   "source": [
    "# \n"
   ]
  },
  {
   "cell_type": "code",
   "execution_count": null,
   "metadata": {},
   "outputs": [],
   "source": [
    "# \n"
   ]
  },
  {
   "cell_type": "code",
   "execution_count": null,
   "metadata": {},
   "outputs": [],
   "source": [
    "### "
   ]
  },
  {
   "cell_type": "code",
   "execution_count": null,
   "metadata": {},
   "outputs": [],
   "source": [
    "# \n"
   ]
  },
  {
   "cell_type": "code",
   "execution_count": null,
   "metadata": {},
   "outputs": [],
   "source": [
    "# \n"
   ]
  },
  {
   "cell_type": "code",
   "execution_count": null,
   "metadata": {},
   "outputs": [],
   "source": [
    "# \n"
   ]
  },
  {
   "cell_type": "code",
   "execution_count": null,
   "metadata": {},
   "outputs": [],
   "source": [
    "### "
   ]
  },
  {
   "cell_type": "code",
   "execution_count": null,
   "metadata": {},
   "outputs": [],
   "source": [
    "# \n"
   ]
  },
  {
   "cell_type": "code",
   "execution_count": null,
   "metadata": {},
   "outputs": [],
   "source": [
    "# \n"
   ]
  },
  {
   "cell_type": "code",
   "execution_count": null,
   "metadata": {},
   "outputs": [],
   "source": [
    "# \n"
   ]
  },
  {
   "cell_type": "code",
   "execution_count": null,
   "metadata": {},
   "outputs": [],
   "source": [
    "### "
   ]
  },
  {
   "cell_type": "code",
   "execution_count": null,
   "metadata": {},
   "outputs": [],
   "source": [
    "# \n"
   ]
  },
  {
   "cell_type": "code",
   "execution_count": null,
   "metadata": {},
   "outputs": [],
   "source": [
    "# \n"
   ]
  },
  {
   "cell_type": "code",
   "execution_count": null,
   "metadata": {},
   "outputs": [],
   "source": [
    "# \n"
   ]
  },
  {
   "cell_type": "code",
   "execution_count": null,
   "metadata": {},
   "outputs": [],
   "source": [
    "### "
   ]
  },
  {
   "cell_type": "code",
   "execution_count": null,
   "metadata": {},
   "outputs": [],
   "source": [
    "# \n"
   ]
  },
  {
   "cell_type": "code",
   "execution_count": null,
   "metadata": {},
   "outputs": [],
   "source": [
    "# \n"
   ]
  },
  {
   "cell_type": "code",
   "execution_count": null,
   "metadata": {},
   "outputs": [],
   "source": [
    "# \n"
   ]
  },
  {
   "cell_type": "code",
   "execution_count": null,
   "metadata": {},
   "outputs": [],
   "source": [
    "### "
   ]
  },
  {
   "cell_type": "code",
   "execution_count": null,
   "metadata": {},
   "outputs": [],
   "source": [
    "# \n"
   ]
  },
  {
   "cell_type": "code",
   "execution_count": null,
   "metadata": {},
   "outputs": [],
   "source": [
    "# \n"
   ]
  },
  {
   "cell_type": "code",
   "execution_count": null,
   "metadata": {},
   "outputs": [],
   "source": [
    "# \n"
   ]
  },
  {
   "cell_type": "code",
   "execution_count": null,
   "metadata": {},
   "outputs": [],
   "source": [
    "### "
   ]
  },
  {
   "cell_type": "code",
   "execution_count": null,
   "metadata": {},
   "outputs": [],
   "source": [
    "# \n"
   ]
  },
  {
   "cell_type": "code",
   "execution_count": null,
   "metadata": {},
   "outputs": [],
   "source": [
    "# \n"
   ]
  },
  {
   "cell_type": "code",
   "execution_count": null,
   "metadata": {},
   "outputs": [],
   "source": [
    "# \n"
   ]
  },
  {
   "cell_type": "code",
   "execution_count": null,
   "metadata": {},
   "outputs": [],
   "source": [
    "### "
   ]
  },
  {
   "cell_type": "code",
   "execution_count": null,
   "metadata": {},
   "outputs": [],
   "source": [
    "# \n"
   ]
  },
  {
   "cell_type": "code",
   "execution_count": null,
   "metadata": {},
   "outputs": [],
   "source": [
    "# \n"
   ]
  },
  {
   "cell_type": "code",
   "execution_count": null,
   "metadata": {},
   "outputs": [],
   "source": [
    "# \n"
   ]
  },
  {
   "cell_type": "code",
   "execution_count": null,
   "metadata": {},
   "outputs": [],
   "source": [
    "# \n"
   ]
  },
  {
   "cell_type": "code",
   "execution_count": null,
   "metadata": {},
   "outputs": [],
   "source": [
    "# \n"
   ]
  },
  {
   "cell_type": "markdown",
   "metadata": {},
   "source": [
    "#  УРОК 13 "
   ]
  },
  {
   "cell_type": "code",
   "execution_count": null,
   "metadata": {},
   "outputs": [],
   "source": [
    "# \n"
   ]
  },
  {
   "cell_type": "code",
   "execution_count": null,
   "metadata": {},
   "outputs": [],
   "source": [
    "# https://www.youtube.com/watch?v=gy_YlibMW6Q"
   ]
  },
  {
   "cell_type": "code",
   "execution_count": 67,
   "metadata": {},
   "outputs": [],
   "source": [
    "# Импортируем необходимые для урока библиотеки\n"
   ]
  },
  {
   "cell_type": "markdown",
   "metadata": {},
   "source": [
    "### Константы для проекта:"
   ]
  },
  {
   "cell_type": "code",
   "execution_count": null,
   "metadata": {},
   "outputs": [],
   "source": [
    "# Создаём переменные-КОНСТАНТЫ\n",
    "# 1. Адрес основного хоста\n",
    "HOST = 'https://vc.ru' \n",
    "\n",
    "# 2. Адрес страницы для парсинга\n",
    "URL = 'https://vc.ru/popular'\n",
    "\n",
    "# 3. Это нужно для некоторых сайтов (но не для всех - для этого необязательно)\n",
    "# чтобы показать сайту, что ВЫ НЕ БОТ, а обычный пользователь\n",
    "HEADERS = {\n",
    "    'accept': 'text/html,application/xhtml+xml,application/xml;q=0.9,image/avif,image/webp,image/apng,*/*;q=0.8,application/signed-exchange;v=b3;q=0.9',\n",
    "    'user-agent': 'Mozilla/5.0 (Windows NT 10.0; Win64; x64) AppleWebKit/537.36 (KHTML, like Gecko) Chrome/109.0.0.0 Safari/537.36'\n",
    "}\n",
    "\n",
    "# 4. Название финального файла\n",
    "# CSV = 'catalog.csv'\n",
    "\n",
    "#5. Создаём словарь заголовков\n",
    "\n",
    "# Это нужно для некоторых сайтов (но не для всех - для этого необязательно)\n",
    "# чтобы показать сайту, что ВЫ НЕ БОТ, а обычный пользователь\n",
    "headers = {\n",
    "    \"accept\": \"text/html,application/xhtml+xml,application/xml;q=0.9,image/avif,image/webp,image/apng,*/*;q=0.8,application/signed-exchange;v=b3;q=0.9\",\n",
    "    \"user-agent\": \"Mozilla/5.0 (Windows NT 10.0; Win64; x64) AppleWebKit/537.36 (KHTML, like Gecko) Chrome/109.0.0.0 Safari/537.36\"\n",
    "}"
   ]
  },
  {
   "cell_type": "code",
   "execution_count": null,
   "metadata": {},
   "outputs": [],
   "source": [
    "# \n"
   ]
  },
  {
   "cell_type": "markdown",
   "metadata": {},
   "source": [
    "### Изучаем структуру страницы"
   ]
  },
  {
   "cell_type": "code",
   "execution_count": null,
   "metadata": {},
   "outputs": [],
   "source": [
    "# \n"
   ]
  },
  {
   "cell_type": "code",
   "execution_count": null,
   "metadata": {},
   "outputs": [],
   "source": [
    "# \n"
   ]
  },
  {
   "cell_type": "code",
   "execution_count": null,
   "metadata": {},
   "outputs": [],
   "source": [
    "# \n"
   ]
  },
  {
   "cell_type": "code",
   "execution_count": null,
   "metadata": {},
   "outputs": [],
   "source": [
    "### "
   ]
  },
  {
   "cell_type": "code",
   "execution_count": null,
   "metadata": {},
   "outputs": [],
   "source": [
    "# \n"
   ]
  },
  {
   "cell_type": "code",
   "execution_count": null,
   "metadata": {},
   "outputs": [],
   "source": [
    "# \n"
   ]
  },
  {
   "cell_type": "code",
   "execution_count": null,
   "metadata": {},
   "outputs": [],
   "source": [
    "# \n"
   ]
  },
  {
   "cell_type": "code",
   "execution_count": null,
   "metadata": {},
   "outputs": [],
   "source": [
    "### "
   ]
  },
  {
   "cell_type": "code",
   "execution_count": null,
   "metadata": {},
   "outputs": [],
   "source": [
    "# \n"
   ]
  },
  {
   "cell_type": "code",
   "execution_count": null,
   "metadata": {},
   "outputs": [],
   "source": [
    "# \n"
   ]
  },
  {
   "cell_type": "code",
   "execution_count": null,
   "metadata": {},
   "outputs": [],
   "source": [
    "# \n"
   ]
  },
  {
   "cell_type": "code",
   "execution_count": null,
   "metadata": {},
   "outputs": [],
   "source": [
    "### "
   ]
  },
  {
   "cell_type": "code",
   "execution_count": null,
   "metadata": {},
   "outputs": [],
   "source": [
    "# \n"
   ]
  },
  {
   "cell_type": "code",
   "execution_count": null,
   "metadata": {},
   "outputs": [],
   "source": [
    "# \n"
   ]
  },
  {
   "cell_type": "code",
   "execution_count": null,
   "metadata": {},
   "outputs": [],
   "source": [
    "# \n"
   ]
  },
  {
   "cell_type": "code",
   "execution_count": null,
   "metadata": {},
   "outputs": [],
   "source": [
    "### "
   ]
  },
  {
   "cell_type": "code",
   "execution_count": null,
   "metadata": {},
   "outputs": [],
   "source": [
    "# \n"
   ]
  },
  {
   "cell_type": "code",
   "execution_count": null,
   "metadata": {},
   "outputs": [],
   "source": [
    "# \n"
   ]
  },
  {
   "cell_type": "code",
   "execution_count": null,
   "metadata": {},
   "outputs": [],
   "source": [
    "# \n"
   ]
  },
  {
   "cell_type": "code",
   "execution_count": null,
   "metadata": {},
   "outputs": [],
   "source": [
    "### "
   ]
  },
  {
   "cell_type": "code",
   "execution_count": null,
   "metadata": {},
   "outputs": [],
   "source": [
    "# \n"
   ]
  },
  {
   "cell_type": "code",
   "execution_count": null,
   "metadata": {},
   "outputs": [],
   "source": [
    "# \n"
   ]
  },
  {
   "cell_type": "code",
   "execution_count": null,
   "metadata": {},
   "outputs": [],
   "source": [
    "# \n"
   ]
  },
  {
   "cell_type": "code",
   "execution_count": null,
   "metadata": {},
   "outputs": [],
   "source": [
    "### "
   ]
  },
  {
   "cell_type": "code",
   "execution_count": null,
   "metadata": {},
   "outputs": [],
   "source": [
    "# \n"
   ]
  },
  {
   "cell_type": "code",
   "execution_count": null,
   "metadata": {},
   "outputs": [],
   "source": [
    "# \n"
   ]
  },
  {
   "cell_type": "code",
   "execution_count": null,
   "metadata": {},
   "outputs": [],
   "source": [
    "# \n"
   ]
  },
  {
   "cell_type": "code",
   "execution_count": null,
   "metadata": {},
   "outputs": [],
   "source": [
    "### "
   ]
  },
  {
   "cell_type": "code",
   "execution_count": null,
   "metadata": {},
   "outputs": [],
   "source": [
    "# \n"
   ]
  },
  {
   "cell_type": "code",
   "execution_count": null,
   "metadata": {},
   "outputs": [],
   "source": [
    "# \n"
   ]
  },
  {
   "cell_type": "code",
   "execution_count": null,
   "metadata": {},
   "outputs": [],
   "source": [
    "# \n"
   ]
  },
  {
   "cell_type": "code",
   "execution_count": null,
   "metadata": {},
   "outputs": [],
   "source": [
    "### "
   ]
  },
  {
   "cell_type": "code",
   "execution_count": null,
   "metadata": {},
   "outputs": [],
   "source": [
    "# \n"
   ]
  },
  {
   "cell_type": "code",
   "execution_count": null,
   "metadata": {},
   "outputs": [],
   "source": [
    "# \n"
   ]
  },
  {
   "cell_type": "code",
   "execution_count": null,
   "metadata": {},
   "outputs": [],
   "source": [
    "# \n"
   ]
  },
  {
   "cell_type": "code",
   "execution_count": null,
   "metadata": {},
   "outputs": [],
   "source": [
    "### "
   ]
  },
  {
   "cell_type": "code",
   "execution_count": null,
   "metadata": {},
   "outputs": [],
   "source": [
    "# \n"
   ]
  },
  {
   "cell_type": "code",
   "execution_count": null,
   "metadata": {},
   "outputs": [],
   "source": [
    "# \n"
   ]
  },
  {
   "cell_type": "code",
   "execution_count": null,
   "metadata": {},
   "outputs": [],
   "source": [
    "# \n"
   ]
  },
  {
   "cell_type": "code",
   "execution_count": null,
   "metadata": {},
   "outputs": [],
   "source": [
    "### "
   ]
  },
  {
   "cell_type": "code",
   "execution_count": null,
   "metadata": {},
   "outputs": [],
   "source": [
    "# \n"
   ]
  },
  {
   "cell_type": "code",
   "execution_count": null,
   "metadata": {},
   "outputs": [],
   "source": [
    "# \n"
   ]
  },
  {
   "cell_type": "code",
   "execution_count": null,
   "metadata": {},
   "outputs": [],
   "source": [
    "# \n"
   ]
  },
  {
   "cell_type": "code",
   "execution_count": null,
   "metadata": {},
   "outputs": [],
   "source": [
    "### "
   ]
  },
  {
   "cell_type": "code",
   "execution_count": null,
   "metadata": {},
   "outputs": [],
   "source": [
    "# \n"
   ]
  },
  {
   "cell_type": "code",
   "execution_count": null,
   "metadata": {},
   "outputs": [],
   "source": [
    "# \n"
   ]
  },
  {
   "cell_type": "code",
   "execution_count": null,
   "metadata": {},
   "outputs": [],
   "source": [
    "# \n"
   ]
  },
  {
   "cell_type": "code",
   "execution_count": null,
   "metadata": {},
   "outputs": [],
   "source": [
    "### "
   ]
  },
  {
   "cell_type": "code",
   "execution_count": null,
   "metadata": {},
   "outputs": [],
   "source": [
    "# \n"
   ]
  },
  {
   "cell_type": "code",
   "execution_count": null,
   "metadata": {},
   "outputs": [],
   "source": [
    "# \n"
   ]
  },
  {
   "cell_type": "code",
   "execution_count": null,
   "metadata": {},
   "outputs": [],
   "source": [
    "# \n"
   ]
  },
  {
   "cell_type": "code",
   "execution_count": null,
   "metadata": {},
   "outputs": [],
   "source": [
    "# \n"
   ]
  },
  {
   "cell_type": "code",
   "execution_count": null,
   "metadata": {},
   "outputs": [],
   "source": [
    "# \n"
   ]
  }
 ],
 "metadata": {
  "kernelspec": {
   "display_name": "Python 3",
   "language": "python",
   "name": "python3"
  },
  "language_info": {
   "codemirror_mode": {
    "name": "ipython",
    "version": 3
   },
   "file_extension": ".py",
   "mimetype": "text/x-python",
   "name": "python",
   "nbconvert_exporter": "python",
   "pygments_lexer": "ipython3",
   "version": "3.8.3"
  }
 },
 "nbformat": 4,
 "nbformat_minor": 4
}
