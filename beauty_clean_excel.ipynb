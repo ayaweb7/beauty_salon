{
 "cells": [
  {
   "cell_type": "markdown",
   "metadata": {},
   "source": [
    "# Analysis and Visualization of Test Data from SpreadSheets Excel"
   ]
  },
  {
   "cell_type": "markdown",
   "metadata": {},
   "source": [
    "## Подключаем нужные библиотеки все сразу\n",
    "### для запуска всего проекта"
   ]
  },
  {
   "cell_type": "code",
   "execution_count": 3,
   "metadata": {},
   "outputs": [],
   "source": [
    "# Pandas & Numpy\n",
    "import pandas as pd\n",
    "import numpy as np\n",
    "import sys\n",
    "\n",
    "# Для работы с форматом даты и временными рядами, строковыми форматами и генерацией случайных величин\n",
    "from datetime import datetime, timedelta, date, time\n",
    "from io import StringIO\n",
    "import random\n",
    "\n",
    "# Для работы с HTML кодом в Python используют модуль etree:\n",
    "from urllib.request import urlopen\n",
    "from lxml import etree\n",
    "from openpyxl import Workbook\n",
    "\n",
    "# Подключаем библиотеку для парсинга сайтов !!!!!!!!!!!!!\n",
    "import requests\n",
    "\n",
    "# Подключаем библиотеку для поиска элементов кода на сайте !!!!!!!!!!!!!\n",
    "from bs4 import BeautifulSoup\n",
    "\n",
    "# Подключаем библиотеку для соединения с google-таблицами !!!!!!!!!!!!!\n",
    "import gspread\n",
    "\n",
    "# Vizualization - Seaborn & MatPlotLib\n",
    "import seaborn as sns\n",
    "import matplotlib.pyplot as plt\n",
    "%matplotlib inline"
   ]
  },
  {
   "cell_type": "code",
   "execution_count": null,
   "metadata": {},
   "outputs": [],
   "source": []
  },
  {
   "cell_type": "markdown",
   "metadata": {},
   "source": [
    "# Generating New Test Data"
   ]
  },
  {
   "cell_type": "markdown",
   "metadata": {},
   "source": [
    "## Data Option 1"
   ]
  },
  {
   "cell_type": "markdown",
   "metadata": {},
   "source": [
    "### Random Date Functions"
   ]
  },
  {
   "cell_type": "markdown",
   "metadata": {},
   "source": [
    "#### 1 Beginning of the Period"
   ]
  },
  {
   "cell_type": "code",
   "execution_count": 6,
   "metadata": {},
   "outputs": [],
   "source": [
    "def entry_start():\n",
    "    date_entry = input('Enter the START-date in DD.MM.YYYY format: ')\n",
    "    day, month, year = map(int, date_entry.split('.'))\n",
    "    date_start = datetime(year, month, day).date()\n",
    "\n",
    "    return date_start"
   ]
  },
  {
   "cell_type": "code",
   "execution_count": 3,
   "metadata": {},
   "outputs": [
    {
     "name": "stdout",
     "output_type": "stream",
     "text": [
      "Enter a START-date in DD.MM.YYYY format01.01.2024\n"
     ]
    },
    {
     "data": {
      "text/plain": [
       "datetime.date(2024, 1, 1)"
      ]
     },
     "execution_count": 3,
     "metadata": {},
     "output_type": "execute_result"
    }
   ],
   "source": [
    "entry_start()\n",
    "# print(entry_start())"
   ]
  },
  {
   "cell_type": "code",
   "execution_count": 7,
   "metadata": {},
   "outputs": [
    {
     "name": "stdout",
     "output_type": "stream",
     "text": [
      "Enter a START-date in DD.MM.YYYY format: 21.10.2024\n",
      "2024-10-21\n"
     ]
    }
   ],
   "source": [
    "print(entry_start())"
   ]
  },
  {
   "cell_type": "markdown",
   "metadata": {},
   "source": [
    "#### 2 End of the Period"
   ]
  },
  {
   "cell_type": "code",
   "execution_count": 10,
   "metadata": {},
   "outputs": [],
   "source": [
    "def entry_end():\n",
    "    date_entry = input('Enter the END-date in DD.MM.YYYY format: ')\n",
    "    day, month, year = map(int, date_entry.split('.'))\n",
    "    date_end = datetime(year, month, day).date()\n",
    "\n",
    "    return date_end"
   ]
  },
  {
   "cell_type": "code",
   "execution_count": 8,
   "metadata": {},
   "outputs": [],
   "source": [
    "# entry_end()\n",
    "# print(entry_start())"
   ]
  },
  {
   "cell_type": "code",
   "execution_count": 9,
   "metadata": {},
   "outputs": [],
   "source": [
    "# print(entry_end())"
   ]
  },
  {
   "cell_type": "markdown",
   "metadata": {},
   "source": [
    "#### 3 Random Date from the Selected period"
   ]
  },
  {
   "cell_type": "code",
   "execution_count": 11,
   "metadata": {},
   "outputs": [],
   "source": [
    "def random_date(start_date, end_date):\n",
    "    df = start_date + timedelta(days=random.randint(0, (end_date - start_date).days))\n",
    "    df = df.strftime(\"%d.%m.%Y\")\n",
    "    \n",
    "    return df"
   ]
  },
  {
   "cell_type": "code",
   "execution_count": 12,
   "metadata": {},
   "outputs": [
    {
     "name": "stdout",
     "output_type": "stream",
     "text": [
      "Enter a START-date in DD.MM.YYYY format: 01.01.2024\n",
      "Enter the END-date in DD.MM.YYYY format: 31.01.2024\n",
      "19.01.2024\n"
     ]
    }
   ],
   "source": [
    "print(random_date(entry_start(), entry_end()))"
   ]
  },
  {
   "cell_type": "code",
   "execution_count": null,
   "metadata": {},
   "outputs": [],
   "source": []
  },
  {
   "cell_type": "markdown",
   "metadata": {},
   "source": [
    "### 4 Random Time Function"
   ]
  },
  {
   "cell_type": "code",
   "execution_count": 13,
   "metadata": {},
   "outputs": [],
   "source": [
    "def random_time():\n",
    "    sec_mins = ['00', '01', '02', '03', '04', '05', '06', '07','08', '09',\n",
    "               '10', '11', '12', '13', '14', '15', '16', '17','18', '19',\n",
    "               '20', '21', '22', '23', '24', '25', '26', '27','28', '29',\n",
    "               '30', '31', '32', '33', '34', '35', '36', '37','38', '39',\n",
    "               '40', '41', '42', '43', '44', '45', '46', '47','48', '49',\n",
    "               '50', '51', '52', '53', '54', '55', '56', '57','58', '59']\n",
    "\n",
    "    hours = ['08', '09', '10', '11', '12', '13', '14', '15','16', '17']\n",
    "\n",
    "    second = random.choice(sec_mins)\n",
    "    minute = random.choice(sec_mins)\n",
    "    hour = random.choice(hours)\n",
    "\n",
    "    df = \":\".join([hour, minute, second])\n",
    "    \n",
    "    return df"
   ]
  },
  {
   "cell_type": "code",
   "execution_count": 14,
   "metadata": {},
   "outputs": [
    {
     "name": "stdout",
     "output_type": "stream",
     "text": [
      "17:47:42\n"
     ]
    }
   ],
   "source": [
    "print(random_time())"
   ]
  },
  {
   "cell_type": "markdown",
   "metadata": {},
   "source": [
    "## Для этой функции нужны результаты вспомогательных функций"
   ]
  },
  {
   "cell_type": "code",
   "execution_count": 15,
   "metadata": {},
   "outputs": [],
   "source": [
    "def visits():\n",
    "# Сформируем список из случайных дат:\n",
    "    number_of_visits = random.randint(700, 1000)\n",
    "    dates_of_visits = []\n",
    "    \n",
    "    # Интервал между датами задаем функциями:\n",
    "    start_date = entry_start()\n",
    "    end_date = entry_end()\n",
    "    \n",
    "    # Списки анкетных данных:\n",
    "    knowledge_source = ['Соц.сети', 'Реклама', 'От знакомых', 'Случайно']\n",
    "    visits = ['Несколько раз в неделю', 'Один раз в неделю', 'Несколько раз в месяц', 'Несколько раз в год']\n",
    "    staffs = ['Приятный', 'Нейтральный', 'Неприятный']\n",
    "    procedures = ['Парикмахер', 'Лешмейкер', 'Бровист', 'Маникюр', 'Педикюр',\n",
    "                  'Массаж', 'Косметолог', 'Солярий', 'Соляная комната']\n",
    "    prices = ['Низкие', 'Приемлемые', 'Высокие', 'Недоступные']\n",
    "    offers = ['',\n",
    "              'нет',\n",
    "              'Нет замечаний',\n",
    "              'Сложно записаться на выходные дни',\n",
    "              'Сомнительная чистота в зале',\n",
    "              'Поставьте музыку в зале',\n",
    "              'Нет предложений',\n",
    "              'Плохое освещение в санитарной комнате',\n",
    "              'Сделайте Wi-Fi в салоне']\n",
    "    genders = ['Женский', 'Мужской']\n",
    "    ages = ['от 18 до 25', 'от 26 до 35', 'от 36 до 45', 'от 46 до 55', '55+']\n",
    "    statuses = ['Студент', 'Служащий', 'Рабочий', 'Предприниматель',\n",
    "                'Домохозяйка', 'Безработный', 'Пенсионер']\n",
    "    incomes = ['менее 30 тысяч', 'от 30 тысяч до 100 тысяч', 'более 100 тысяч']\n",
    "    \n",
    "    # Основной цикл - зависит от общего количества визитов за выбранный период:\n",
    "    while len(dates_of_visits) < number_of_visits:\n",
    "    # number_of_procedures (nop)\n",
    "        nop = random.randint(1, 4)\n",
    "        procedure = []\n",
    "    #     print('nop=', nop)\n",
    "        procedures = ['Парикмахер', 'Лешмейкер', 'Бровист', 'Маникюр', 'Педикюр',\n",
    "                      'Массаж', 'Косметолог', 'Солярий', 'Соляная комната']\n",
    "    \n",
    "    # Используем ранее объявленные функции для генерации даты и времени:\n",
    "        date_of_visits = random_date(start_date, end_date)\n",
    "        time_of_visits = random_time()\n",
    "    \n",
    "    # Остальные столбцы:\n",
    "        knowledge = random.choice(knowledge_source)\n",
    "        visit = random.choice(visits)\n",
    "        staff = random.choice(staffs)\n",
    "        quality = random.randint(1, 5)\n",
    "        price = random.choice(prices)\n",
    "        offer = random.choice(offers)\n",
    "        gender = random.choice(genders)\n",
    "        age = random.choice(ages)\n",
    "        status = random.choice(statuses)\n",
    "        income = random.choice(incomes)\n",
    "    \n",
    "    # Процедуры (множественный выбор):\n",
    "        i = 0\n",
    "        while i < nop:\n",
    "            procedure_one = []\n",
    "            procedure_one.append(random.choice(procedures))\n",
    "    #         print(procedure_one, 'type(procedure_one) = ', type(procedure_one))\n",
    "            procedure.append(procedure_one[0])\n",
    "            procedures.remove(procedure_one[0])\n",
    "            i+=1\n",
    "    \n",
    "    # Формируем список списков из анкетных данных:\n",
    "    # Список PROCEDURE сразу преобразуем в строку !!!!!\n",
    "        dates_of_visits.append([date_of_visits, time_of_visits, knowledge, visit,\n",
    "                                  staff, ', '.join(map(str, procedure)), quality, price,\n",
    "                                  offer, gender, age, status, income])\n",
    "    \n",
    "    print('Количество визитов - {}; Начало периода - {}; Окончание периода - {}'.format(number_of_visits, \n",
    "                                                                                        start_date, \n",
    "                                                                                        end_date))\n",
    "    \n",
    "    # создаем и выводим DataFrame с данными о сотрудниках\n",
    "    form = pd.DataFrame(dates_of_visits, columns=['Дата визита', 'Время визита', 'Откуда узнали', 'Частота посещений',\n",
    "                                                  'Персонал', 'Процедуры', 'Оценка услуги', 'Оценка цен',\n",
    "                                                  'Предложения', 'Пол', 'Возраст', 'Статус', 'Доход'])\n",
    "    form[\"Дата и время\"] = form[[\"Дата визита\", \"Время визита\"]].agg(\" \".join, axis=1)\n",
    "    \n",
    "    # сортируем данные по столбцу 'Дата визита' \n",
    "    form = form.sort_values(['Дата визита', 'Время визита'], ascending=[True, True])\n",
    "\n",
    "#    form_4.to_excel(\"visits.xlsx\", sheet_name='beauty_visits')\n",
    "    return form"
   ]
  },
  {
   "cell_type": "code",
   "execution_count": 17,
   "metadata": {},
   "outputs": [
    {
     "name": "stdout",
     "output_type": "stream",
     "text": [
      "Enter a START-date in DD.MM.YYYY format: 01.01.2024\n",
      "Enter the END-date in DD.MM.YYYY format: 31.01.2024\n",
      "Количество визитов - 982; Начало периода - 2024-01-01; Окончание периода - 2024-01-31\n"
     ]
    }
   ],
   "source": [
    "form = visits()"
   ]
  },
  {
   "cell_type": "code",
   "execution_count": 18,
   "metadata": {},
   "outputs": [
    {
     "data": {
      "text/html": [
       "<div>\n",
       "<style scoped>\n",
       "    .dataframe tbody tr th:only-of-type {\n",
       "        vertical-align: middle;\n",
       "    }\n",
       "\n",
       "    .dataframe tbody tr th {\n",
       "        vertical-align: top;\n",
       "    }\n",
       "\n",
       "    .dataframe thead th {\n",
       "        text-align: right;\n",
       "    }\n",
       "</style>\n",
       "<table border=\"1\" class=\"dataframe\">\n",
       "  <thead>\n",
       "    <tr style=\"text-align: right;\">\n",
       "      <th></th>\n",
       "      <th>Дата визита</th>\n",
       "      <th>Время визита</th>\n",
       "      <th>Откуда узнали</th>\n",
       "      <th>Частота посещений</th>\n",
       "      <th>Персонал</th>\n",
       "      <th>Процедуры</th>\n",
       "      <th>Оценка услуги</th>\n",
       "      <th>Оценка цен</th>\n",
       "      <th>Предложения</th>\n",
       "      <th>Пол</th>\n",
       "      <th>Возраст</th>\n",
       "      <th>Статус</th>\n",
       "      <th>Доход</th>\n",
       "      <th>Дата и время</th>\n",
       "    </tr>\n",
       "  </thead>\n",
       "  <tbody>\n",
       "    <tr>\n",
       "      <th>608</th>\n",
       "      <td>01.01.2024</td>\n",
       "      <td>08:01:27</td>\n",
       "      <td>Случайно</td>\n",
       "      <td>Несколько раз в год</td>\n",
       "      <td>Нейтральный</td>\n",
       "      <td>Маникюр</td>\n",
       "      <td>3</td>\n",
       "      <td>Низкие</td>\n",
       "      <td>Плохое освещение в санитарной комнате</td>\n",
       "      <td>Женский</td>\n",
       "      <td>от 36 до 45</td>\n",
       "      <td>Предприниматель</td>\n",
       "      <td>менее 30 тысяч</td>\n",
       "      <td>01.01.2024 08:01:27</td>\n",
       "    </tr>\n",
       "    <tr>\n",
       "      <th>556</th>\n",
       "      <td>01.01.2024</td>\n",
       "      <td>08:02:14</td>\n",
       "      <td>Случайно</td>\n",
       "      <td>Несколько раз в месяц</td>\n",
       "      <td>Неприятный</td>\n",
       "      <td>Массаж</td>\n",
       "      <td>3</td>\n",
       "      <td>Высокие</td>\n",
       "      <td>Сложно записаться на выходные дни</td>\n",
       "      <td>Женский</td>\n",
       "      <td>55+</td>\n",
       "      <td>Студент</td>\n",
       "      <td>менее 30 тысяч</td>\n",
       "      <td>01.01.2024 08:02:14</td>\n",
       "    </tr>\n",
       "    <tr>\n",
       "      <th>638</th>\n",
       "      <td>01.01.2024</td>\n",
       "      <td>08:11:22</td>\n",
       "      <td>От знакомых</td>\n",
       "      <td>Несколько раз в месяц</td>\n",
       "      <td>Неприятный</td>\n",
       "      <td>Массаж, Соляная комната, Косметолог, Лешмейкер</td>\n",
       "      <td>5</td>\n",
       "      <td>Высокие</td>\n",
       "      <td>Сделайте Wi-Fi в салоне</td>\n",
       "      <td>Мужской</td>\n",
       "      <td>от 46 до 55</td>\n",
       "      <td>Домохозяйка</td>\n",
       "      <td>менее 30 тысяч</td>\n",
       "      <td>01.01.2024 08:11:22</td>\n",
       "    </tr>\n",
       "  </tbody>\n",
       "</table>\n",
       "</div>"
      ],
      "text/plain": [
       "    Дата визита Время визита Откуда узнали      Частота посещений  \\\n",
       "608  01.01.2024     08:01:27      Случайно    Несколько раз в год   \n",
       "556  01.01.2024     08:02:14      Случайно  Несколько раз в месяц   \n",
       "638  01.01.2024     08:11:22   От знакомых  Несколько раз в месяц   \n",
       "\n",
       "        Персонал                                       Процедуры  \\\n",
       "608  Нейтральный                                         Маникюр   \n",
       "556   Неприятный                                          Массаж   \n",
       "638   Неприятный  Массаж, Соляная комната, Косметолог, Лешмейкер   \n",
       "\n",
       "     Оценка услуги Оценка цен                            Предложения      Пол  \\\n",
       "608              3     Низкие  Плохое освещение в санитарной комнате  Женский   \n",
       "556              3    Высокие      Сложно записаться на выходные дни  Женский   \n",
       "638              5    Высокие                Сделайте Wi-Fi в салоне  Мужской   \n",
       "\n",
       "         Возраст           Статус           Доход         Дата и время  \n",
       "608  от 36 до 45  Предприниматель  менее 30 тысяч  01.01.2024 08:01:27  \n",
       "556          55+          Студент  менее 30 тысяч  01.01.2024 08:02:14  \n",
       "638  от 46 до 55      Домохозяйка  менее 30 тысяч  01.01.2024 08:11:22  "
      ]
     },
     "execution_count": 18,
     "metadata": {},
     "output_type": "execute_result"
    }
   ],
   "source": [
    "form.head(3)"
   ]
  },
  {
   "cell_type": "code",
   "execution_count": null,
   "metadata": {},
   "outputs": [],
   "source": [
    "# При необходимости сохраняем результаты генерации в Excel-файл в этой же папке на диске\n",
    "# form.to_excel(\"visits_5.xlsx\", sheet_name='beauty_visits')"
   ]
  },
  {
   "cell_type": "code",
   "execution_count": null,
   "metadata": {},
   "outputs": [],
   "source": []
  },
  {
   "cell_type": "code",
   "execution_count": null,
   "metadata": {},
   "outputs": [],
   "source": []
  },
  {
   "cell_type": "markdown",
   "metadata": {},
   "source": [
    "## Функция VISITS_MASTER содержит в себе ВСЕ вспомогательные функции"
   ]
  },
  {
   "cell_type": "code",
   "execution_count": 19,
   "metadata": {},
   "outputs": [],
   "source": [
    "def visits_master():\n",
    "# Сформируем список из случайных дат:\n",
    "    number_of_visits = random.randint(700, 1000)\n",
    "    dates_of_visits = []\n",
    "    \n",
    "# AUXILIARY FUNCTIONS !!!!!\n",
    "# 1 Beginning of the Period    \n",
    "    def entry_start():\n",
    "        date_entry = input('Enter the START-date in DD.MM.YYYY format: ')\n",
    "        day, month, year = map(int, date_entry.split('.'))\n",
    "        date_start = datetime(year, month, day).date()\n",
    "        return date_start\n",
    "\n",
    "# 2 End of the Period\n",
    "    def entry_end():\n",
    "        date_entry = input('Enter the END-date in DD.MM.YYYY format: ')\n",
    "        day, month, year = map(int, date_entry.split('.'))\n",
    "        date_end = datetime(year, month, day).date()\n",
    "        return date_end\n",
    "    \n",
    "# 3 Random Date from the Selected period\n",
    "    def random_date(start_date, end_date):\n",
    "        df = start_date + timedelta(days=random.randint(0, (end_date - start_date).days))\n",
    "        df = df.strftime(\"%d.%m.%Y\")\n",
    "        return df\n",
    "    \n",
    "# 4 Random Time Function\n",
    "    def random_time():\n",
    "        sec_mins = ['00', '01', '02', '03', '04', '05', '06', '07','08', '09',\n",
    "                   '10', '11', '12', '13', '14', '15', '16', '17','18', '19',\n",
    "                   '20', '21', '22', '23', '24', '25', '26', '27','28', '29',\n",
    "                   '30', '31', '32', '33', '34', '35', '36', '37','38', '39',\n",
    "                   '40', '41', '42', '43', '44', '45', '46', '47','48', '49',\n",
    "                   '50', '51', '52', '53', '54', '55', '56', '57','58', '59']\n",
    "\n",
    "        hours = ['08', '09', '10', '11', '12', '13', '14', '15','16', '17']\n",
    "\n",
    "        second = random.choice(sec_mins)\n",
    "        minute = random.choice(sec_mins)\n",
    "        hour = random.choice(hours)\n",
    "\n",
    "        df = \":\".join([hour, minute, second])\n",
    "        return df\n",
    "\n",
    "# FINISH OF AUXILIARY FUNCTIONS !!!!!\n",
    "    \n",
    "    # Интервал между датами задаем функциями:\n",
    "    start_date = entry_start()\n",
    "    end_date = entry_end()\n",
    "    \n",
    "    # Списки анкетных данных:\n",
    "    knowledge_source = ['Соц.сети', 'Реклама', 'От знакомых', 'Случайно']\n",
    "    visits = ['Несколько раз в неделю', 'Один раз в неделю', 'Несколько раз в месяц', 'Несколько раз в год']\n",
    "    staffs = ['Приятный', 'Нейтральный', 'Неприятный']\n",
    "    procedures = ['Парикмахер', 'Лешмейкер', 'Бровист', 'Маникюр', 'Педикюр',\n",
    "                  'Массаж', 'Косметолог', 'Солярий', 'Соляная комната']\n",
    "    prices = ['Низкие', 'Приемлемые', 'Высокие', 'Недоступные']\n",
    "    offers = ['',\n",
    "              'нет',\n",
    "              'Нет замечаний',\n",
    "              'Сложно записаться на выходные дни',\n",
    "              'Сомнительная чистота в зале',\n",
    "              'Поставьте музыку в зале',\n",
    "              'Нет предложений',\n",
    "              'Плохое освещение в санитарной комнате',\n",
    "              'Сделайте Wi-Fi в салоне']\n",
    "    genders = ['Женский', 'Мужской']\n",
    "    ages = ['от 18 до 25', 'от 26 до 35', 'от 36 до 45', 'от 46 до 55', '55+']\n",
    "    statuses = ['Студент', 'Служащий', 'Рабочий', 'Предприниматель',\n",
    "                'Домохозяйка', 'Безработный', 'Пенсионер']\n",
    "    incomes = ['менее 30 тысяч', 'от 30 тысяч до 100 тысяч', 'более 100 тысяч']\n",
    "    \n",
    "    # Основной цикл - зависит от общего количества визитов за выбранный период:\n",
    "    while len(dates_of_visits) < number_of_visits:\n",
    "    # number_of_procedures (nop)\n",
    "        nop = random.randint(1, 4)\n",
    "        procedure = []\n",
    "    #     print('nop=', nop)\n",
    "        procedures = ['Парикмахер', 'Лешмейкер', 'Бровист', 'Маникюр', 'Педикюр',\n",
    "                      'Массаж', 'Косметолог', 'Солярий', 'Соляная комната']\n",
    "    \n",
    "    # Используем ранее объявленные функции для генерации даты и времени:\n",
    "        date_of_visits = random_date(start_date, end_date)\n",
    "        time_of_visits = random_time()\n",
    "    \n",
    "    # Остальные столбцы:\n",
    "        knowledge = random.choice(knowledge_source)\n",
    "        visit = random.choice(visits)\n",
    "        staff = random.choice(staffs)\n",
    "        quality = random.randint(1, 5)\n",
    "        price = random.choice(prices)\n",
    "        offer = random.choice(offers)\n",
    "        gender = random.choice(genders)\n",
    "        age = random.choice(ages)\n",
    "        status = random.choice(statuses)\n",
    "        income = random.choice(incomes)\n",
    "    \n",
    "    # Процедуры (множественный выбор):\n",
    "        i = 0\n",
    "        while i < nop:\n",
    "            procedure_one = []\n",
    "            procedure_one.append(random.choice(procedures))\n",
    "    #         print(procedure_one, 'type(procedure_one) = ', type(procedure_one))\n",
    "            procedure.append(procedure_one[0])\n",
    "            procedures.remove(procedure_one[0])\n",
    "            i+=1\n",
    "    \n",
    "    # Формируем список списков из анкетных данных:\n",
    "    # Список PROCEDURE сразу преобразуем в строку !!!!!\n",
    "        dates_of_visits.append([date_of_visits, time_of_visits, knowledge, visit,\n",
    "                                  staff, ', '.join(map(str, procedure)), quality, price,\n",
    "                                  offer, gender, age, status, income])\n",
    "    \n",
    "    print('Количество визитов - {}; Начало периода - {}; Окончание периода - {}'.format(number_of_visits, \n",
    "                                                                                        start_date, \n",
    "                                                                                        end_date))\n",
    "    \n",
    "    # создаем и выводим DataFrame с данными о сотрудниках\n",
    "    form = pd.DataFrame(dates_of_visits, columns=['Дата визита', 'Время визита', 'Откуда узнали', 'Частота посещений',\n",
    "                                                  'Персонал', 'Процедуры', 'Оценка услуги', 'Оценка цен',\n",
    "                                                  'Предложения', 'Пол', 'Возраст', 'Статус', 'Доход'])\n",
    "    form[\"Дата и время\"] = form[[\"Дата визита\", \"Время визита\"]].agg(\" \".join, axis=1)\n",
    "    \n",
    "    # сортируем данные по столбцу 'Дата визита' \n",
    "    form = form.sort_values(['Дата визита', 'Время визита'], ascending=[True, True])\n",
    "\n",
    "#    form_4.to_excel(\"visits.xlsx\", sheet_name='beauty_visits')\n",
    "    return form"
   ]
  },
  {
   "cell_type": "code",
   "execution_count": 20,
   "metadata": {},
   "outputs": [
    {
     "name": "stdout",
     "output_type": "stream",
     "text": [
      "Enter the START-date in DD.MM.YYYY format: 01.02.2024\n",
      "Enter the END-date in DD.MM.YYYY format: 28.02.2024\n",
      "Количество визитов - 831; Начало периода - 2024-02-01; Окончание периода - 2024-02-28\n"
     ]
    }
   ],
   "source": [
    "form_master = visits_master()"
   ]
  },
  {
   "cell_type": "code",
   "execution_count": 21,
   "metadata": {},
   "outputs": [
    {
     "data": {
      "text/html": [
       "<div>\n",
       "<style scoped>\n",
       "    .dataframe tbody tr th:only-of-type {\n",
       "        vertical-align: middle;\n",
       "    }\n",
       "\n",
       "    .dataframe tbody tr th {\n",
       "        vertical-align: top;\n",
       "    }\n",
       "\n",
       "    .dataframe thead th {\n",
       "        text-align: right;\n",
       "    }\n",
       "</style>\n",
       "<table border=\"1\" class=\"dataframe\">\n",
       "  <thead>\n",
       "    <tr style=\"text-align: right;\">\n",
       "      <th></th>\n",
       "      <th>Дата визита</th>\n",
       "      <th>Время визита</th>\n",
       "      <th>Откуда узнали</th>\n",
       "      <th>Частота посещений</th>\n",
       "      <th>Персонал</th>\n",
       "      <th>Процедуры</th>\n",
       "      <th>Оценка услуги</th>\n",
       "      <th>Оценка цен</th>\n",
       "      <th>Предложения</th>\n",
       "      <th>Пол</th>\n",
       "      <th>Возраст</th>\n",
       "      <th>Статус</th>\n",
       "      <th>Доход</th>\n",
       "      <th>Дата и время</th>\n",
       "    </tr>\n",
       "  </thead>\n",
       "  <tbody>\n",
       "    <tr>\n",
       "      <th>744</th>\n",
       "      <td>01.02.2024</td>\n",
       "      <td>08:00:04</td>\n",
       "      <td>Реклама</td>\n",
       "      <td>Один раз в неделю</td>\n",
       "      <td>Нейтральный</td>\n",
       "      <td>Массаж, Парикмахер</td>\n",
       "      <td>2</td>\n",
       "      <td>Приемлемые</td>\n",
       "      <td>Плохое освещение в санитарной комнате</td>\n",
       "      <td>Женский</td>\n",
       "      <td>от 26 до 35</td>\n",
       "      <td>Безработный</td>\n",
       "      <td>от 30 тысяч до 100 тысяч</td>\n",
       "      <td>01.02.2024 08:00:04</td>\n",
       "    </tr>\n",
       "    <tr>\n",
       "      <th>654</th>\n",
       "      <td>01.02.2024</td>\n",
       "      <td>08:35:27</td>\n",
       "      <td>Случайно</td>\n",
       "      <td>Несколько раз в год</td>\n",
       "      <td>Нейтральный</td>\n",
       "      <td>Массаж, Соляная комната, Солярий</td>\n",
       "      <td>3</td>\n",
       "      <td>Приемлемые</td>\n",
       "      <td>Плохое освещение в санитарной комнате</td>\n",
       "      <td>Женский</td>\n",
       "      <td>от 18 до 25</td>\n",
       "      <td>Служащий</td>\n",
       "      <td>более 100 тысяч</td>\n",
       "      <td>01.02.2024 08:35:27</td>\n",
       "    </tr>\n",
       "    <tr>\n",
       "      <th>279</th>\n",
       "      <td>01.02.2024</td>\n",
       "      <td>08:37:13</td>\n",
       "      <td>От знакомых</td>\n",
       "      <td>Несколько раз в год</td>\n",
       "      <td>Неприятный</td>\n",
       "      <td>Массаж, Солярий, Лешмейкер</td>\n",
       "      <td>5</td>\n",
       "      <td>Высокие</td>\n",
       "      <td></td>\n",
       "      <td>Женский</td>\n",
       "      <td>55+</td>\n",
       "      <td>Студент</td>\n",
       "      <td>менее 30 тысяч</td>\n",
       "      <td>01.02.2024 08:37:13</td>\n",
       "    </tr>\n",
       "  </tbody>\n",
       "</table>\n",
       "</div>"
      ],
      "text/plain": [
       "    Дата визита Время визита Откуда узнали    Частота посещений     Персонал  \\\n",
       "744  01.02.2024     08:00:04       Реклама    Один раз в неделю  Нейтральный   \n",
       "654  01.02.2024     08:35:27      Случайно  Несколько раз в год  Нейтральный   \n",
       "279  01.02.2024     08:37:13   От знакомых  Несколько раз в год   Неприятный   \n",
       "\n",
       "                            Процедуры  Оценка услуги  Оценка цен  \\\n",
       "744                Массаж, Парикмахер              2  Приемлемые   \n",
       "654  Массаж, Соляная комната, Солярий              3  Приемлемые   \n",
       "279        Массаж, Солярий, Лешмейкер              5     Высокие   \n",
       "\n",
       "                               Предложения      Пол      Возраст       Статус  \\\n",
       "744  Плохое освещение в санитарной комнате  Женский  от 26 до 35  Безработный   \n",
       "654  Плохое освещение в санитарной комнате  Женский  от 18 до 25     Служащий   \n",
       "279                                         Женский          55+      Студент   \n",
       "\n",
       "                        Доход         Дата и время  \n",
       "744  от 30 тысяч до 100 тысяч  01.02.2024 08:00:04  \n",
       "654           более 100 тысяч  01.02.2024 08:35:27  \n",
       "279            менее 30 тысяч  01.02.2024 08:37:13  "
      ]
     },
     "execution_count": 21,
     "metadata": {},
     "output_type": "execute_result"
    }
   ],
   "source": [
    "form_master.head(3)"
   ]
  },
  {
   "cell_type": "code",
   "execution_count": null,
   "metadata": {},
   "outputs": [],
   "source": [
    "# При необходимости сохраняем результаты генерации в Excel-файл в этой же папке на диске\n",
    "# form_master.to_excel(\"visits_5.xlsx\", sheet_name='beauty_visits')"
   ]
  },
  {
   "cell_type": "code",
   "execution_count": null,
   "metadata": {},
   "outputs": [],
   "source": []
  },
  {
   "cell_type": "markdown",
   "metadata": {},
   "source": [
    "# Downloading and Preprocessing Data"
   ]
  },
  {
   "cell_type": "code",
   "execution_count": null,
   "metadata": {},
   "outputs": [],
   "source": [
    "df = pd.read_excel('visits_3.xlsx', index_col=0)\n",
    "df.head()"
   ]
  },
  {
   "cell_type": "code",
   "execution_count": null,
   "metadata": {},
   "outputs": [],
   "source": [
    "df.columns"
   ]
  },
  {
   "cell_type": "code",
   "execution_count": null,
   "metadata": {},
   "outputs": [],
   "source": [
    "df.shape"
   ]
  },
  {
   "cell_type": "code",
   "execution_count": null,
   "metadata": {},
   "outputs": [],
   "source": [
    "df.dtypes"
   ]
  },
  {
   "cell_type": "markdown",
   "metadata": {},
   "source": [
    "## Main Function"
   ]
  },
  {
   "cell_type": "code",
   "execution_count": 4,
   "metadata": {},
   "outputs": [],
   "source": [
    "# $$$$$$$$$$$$$$$$$$$$$$$$$$$$          FUNCTION BEAUTY SALON          $$$$$$$$$$$$$$$$$$$$$$$$$$$$$$$$$\n",
    "# Функция считывает файл, \n",
    "# переименовывает колонки, \n",
    "# преобразует колонку 'Дата и время' в формат DATETIME, \n",
    "# сохраняет результат в новый файл.\n",
    "\n",
    "def beauty_test(file_name):\n",
    "    df = pd.read_excel(file_name, index_col=0)\n",
    "    df = df \\\n",
    "    .rename(columns={'Дата визита': 'date',\n",
    "                     'Время визита': 'time',\n",
    "                     'Откуда узнали': 'knowledge_source',\n",
    "                     'Частота посещений': 'visit_frequency',\n",
    "                     'Персонал': 'staff_rating',\n",
    "                     'Процедуры': 'procedures',\n",
    "                     'Оценка услуги': 'service_quality',\n",
    "                     'Оценка цен': 'price_rating',\n",
    "                     'Предложения': 'offers',\n",
    "                     'Пол': 'gender',\n",
    "                     'Возраст': 'age',\n",
    "                     'Статус': 'social_status',\n",
    "                     'Доход': 'income_level',\n",
    "                     'Дата и время': 'date_time'})\n",
    "    \n",
    "# convert the string column to a Timedelta column\n",
    "    df['date_time'] = pd.to_datetime(df['date_time'], format=\"%d.%m.%Y %H:%M:%S\")\n",
    "\n",
    "    return df"
   ]
  },
  {
   "cell_type": "code",
   "execution_count": 5,
   "metadata": {},
   "outputs": [],
   "source": [
    "beauty = beauty_test('visits_3.xlsx')"
   ]
  },
  {
   "cell_type": "code",
   "execution_count": 6,
   "metadata": {},
   "outputs": [
    {
     "data": {
      "text/html": [
       "<div>\n",
       "<style scoped>\n",
       "    .dataframe tbody tr th:only-of-type {\n",
       "        vertical-align: middle;\n",
       "    }\n",
       "\n",
       "    .dataframe tbody tr th {\n",
       "        vertical-align: top;\n",
       "    }\n",
       "\n",
       "    .dataframe thead th {\n",
       "        text-align: right;\n",
       "    }\n",
       "</style>\n",
       "<table border=\"1\" class=\"dataframe\">\n",
       "  <thead>\n",
       "    <tr style=\"text-align: right;\">\n",
       "      <th></th>\n",
       "      <th>date</th>\n",
       "      <th>time</th>\n",
       "      <th>knowledge_source</th>\n",
       "      <th>visit_frequency</th>\n",
       "      <th>staff_rating</th>\n",
       "      <th>procedures</th>\n",
       "      <th>service_quality</th>\n",
       "      <th>price_rating</th>\n",
       "      <th>offers</th>\n",
       "      <th>gender</th>\n",
       "      <th>age</th>\n",
       "      <th>social_status</th>\n",
       "      <th>income_level</th>\n",
       "      <th>date_time</th>\n",
       "    </tr>\n",
       "  </thead>\n",
       "  <tbody>\n",
       "    <tr>\n",
       "      <th>520</th>\n",
       "      <td>01.10.2024</td>\n",
       "      <td>08:00:44</td>\n",
       "      <td>Соц.сети</td>\n",
       "      <td>Один раз в неделю</td>\n",
       "      <td>Неприятный</td>\n",
       "      <td>Косметолог, Педикюр, Лешмейкер, Бровист</td>\n",
       "      <td>1</td>\n",
       "      <td>Высокие</td>\n",
       "      <td>Сделайте Wi-Fi в салоне</td>\n",
       "      <td>Мужской</td>\n",
       "      <td>от 18 до 25</td>\n",
       "      <td>Служащий</td>\n",
       "      <td>от 30 тысяч до 100 тысяч</td>\n",
       "      <td>2024-10-01 08:00:44</td>\n",
       "    </tr>\n",
       "    <tr>\n",
       "      <th>257</th>\n",
       "      <td>01.10.2024</td>\n",
       "      <td>08:22:18</td>\n",
       "      <td>Соц.сети</td>\n",
       "      <td>Несколько раз в неделю</td>\n",
       "      <td>Нейтральный</td>\n",
       "      <td>Бровист, Массаж, Лешмейкер, Маникюр</td>\n",
       "      <td>3</td>\n",
       "      <td>Приемлемые</td>\n",
       "      <td>Нет замечаний</td>\n",
       "      <td>Женский</td>\n",
       "      <td>от 18 до 25</td>\n",
       "      <td>Служащий</td>\n",
       "      <td>от 30 тысяч до 100 тысяч</td>\n",
       "      <td>2024-10-01 08:22:18</td>\n",
       "    </tr>\n",
       "    <tr>\n",
       "      <th>7</th>\n",
       "      <td>01.10.2024</td>\n",
       "      <td>08:32:44</td>\n",
       "      <td>Соц.сети</td>\n",
       "      <td>Несколько раз в месяц</td>\n",
       "      <td>Приятный</td>\n",
       "      <td>Лешмейкер</td>\n",
       "      <td>1</td>\n",
       "      <td>Низкие</td>\n",
       "      <td>Сложно записаться на выходные дни</td>\n",
       "      <td>Женский</td>\n",
       "      <td>от 26 до 35</td>\n",
       "      <td>Рабочий</td>\n",
       "      <td>более 100 тысяч</td>\n",
       "      <td>2024-10-01 08:32:44</td>\n",
       "    </tr>\n",
       "  </tbody>\n",
       "</table>\n",
       "</div>"
      ],
      "text/plain": [
       "           date      time knowledge_source         visit_frequency  \\\n",
       "520  01.10.2024  08:00:44         Соц.сети       Один раз в неделю   \n",
       "257  01.10.2024  08:22:18         Соц.сети  Несколько раз в неделю   \n",
       "7    01.10.2024  08:32:44         Соц.сети   Несколько раз в месяц   \n",
       "\n",
       "    staff_rating                               procedures  service_quality  \\\n",
       "520   Неприятный  Косметолог, Педикюр, Лешмейкер, Бровист                1   \n",
       "257  Нейтральный      Бровист, Массаж, Лешмейкер, Маникюр                3   \n",
       "7       Приятный                                Лешмейкер                1   \n",
       "\n",
       "    price_rating                             offers   gender          age  \\\n",
       "520      Высокие            Сделайте Wi-Fi в салоне  Мужской  от 18 до 25   \n",
       "257   Приемлемые                      Нет замечаний  Женский  от 18 до 25   \n",
       "7         Низкие  Сложно записаться на выходные дни  Женский  от 26 до 35   \n",
       "\n",
       "    social_status              income_level           date_time  \n",
       "520      Служащий  от 30 тысяч до 100 тысяч 2024-10-01 08:00:44  \n",
       "257      Служащий  от 30 тысяч до 100 тысяч 2024-10-01 08:22:18  \n",
       "7         Рабочий           более 100 тысяч 2024-10-01 08:32:44  "
      ]
     },
     "execution_count": 6,
     "metadata": {},
     "output_type": "execute_result"
    }
   ],
   "source": [
    "beauty.head(3)"
   ]
  },
  {
   "cell_type": "code",
   "execution_count": 7,
   "metadata": {},
   "outputs": [
    {
     "data": {
      "text/plain": [
       "(777, 14)"
      ]
     },
     "execution_count": 7,
     "metadata": {},
     "output_type": "execute_result"
    }
   ],
   "source": [
    "beauty.shape"
   ]
  },
  {
   "cell_type": "code",
   "execution_count": null,
   "metadata": {},
   "outputs": [],
   "source": []
  },
  {
   "cell_type": "markdown",
   "metadata": {},
   "source": [
    "### 1. Все что связано с процедурами"
   ]
  },
  {
   "cell_type": "code",
   "execution_count": 1,
   "metadata": {},
   "outputs": [
    {
     "ename": "NameError",
     "evalue": "name 'beauty' is not defined",
     "output_type": "error",
     "traceback": [
      "\u001b[1;31m---------------------------------------------------------------------------\u001b[0m",
      "\u001b[1;31mNameError\u001b[0m                                 Traceback (most recent call last)",
      "\u001b[1;32m<ipython-input-1-e28e71c316bc>\u001b[0m in \u001b[0;36m<module>\u001b[1;34m\u001b[0m\n\u001b[0;32m      3\u001b[0m \u001b[1;31m# Количество дублированных строк равно\u001b[0m\u001b[1;33m\u001b[0m\u001b[1;33m\u001b[0m\u001b[1;33m\u001b[0m\u001b[0m\n\u001b[0;32m      4\u001b[0m \u001b[1;31m# числу перечисленных через запятую значений в одном из столбцов.\u001b[0m\u001b[1;33m\u001b[0m\u001b[1;33m\u001b[0m\u001b[1;33m\u001b[0m\u001b[0m\n\u001b[1;32m----> 5\u001b[1;33m \u001b[0mres_procedures\u001b[0m \u001b[1;33m=\u001b[0m \u001b[0mbeauty\u001b[0m\u001b[1;33m.\u001b[0m\u001b[0massign\u001b[0m\u001b[1;33m(\u001b[0m\u001b[0mprocedures\u001b[0m\u001b[1;33m=\u001b[0m\u001b[0mbeauty\u001b[0m\u001b[1;33m[\u001b[0m\u001b[1;34m'procedures'\u001b[0m\u001b[1;33m]\u001b[0m\u001b[1;33m.\u001b[0m\u001b[0mstr\u001b[0m\u001b[1;33m.\u001b[0m\u001b[0msplit\u001b[0m\u001b[1;33m(\u001b[0m\u001b[1;34m\", \"\u001b[0m\u001b[1;33m)\u001b[0m\u001b[1;33m)\u001b[0m\u001b[1;33m.\u001b[0m\u001b[0mexplode\u001b[0m\u001b[1;33m(\u001b[0m\u001b[1;34m'procedures'\u001b[0m\u001b[1;33m)\u001b[0m\u001b[1;33m\u001b[0m\u001b[1;33m\u001b[0m\u001b[0m\n\u001b[0m\u001b[0;32m      6\u001b[0m \u001b[0mres_procedures\u001b[0m\u001b[1;33m.\u001b[0m\u001b[0mhead\u001b[0m\u001b[1;33m(\u001b[0m\u001b[1;33m)\u001b[0m\u001b[1;33m\u001b[0m\u001b[1;33m\u001b[0m\u001b[0m\n",
      "\u001b[1;31mNameError\u001b[0m: name 'beauty' is not defined"
     ]
    }
   ],
   "source": [
    "# Формула дублирует строки, в которых есть данные, перечисленные через запятую.\n",
    "\n",
    "# Количество дублированных строк равно\n",
    "# числу перечисленных через запятую значений в одном из столбцов.\n",
    "res_procedures = beauty.assign(procedures=beauty['procedures'].str.split(\", \")).explode('procedures')\n",
    "res_procedures.head()"
   ]
  },
  {
   "cell_type": "markdown",
   "metadata": {},
   "source": [
    "#### Общее количество процедур"
   ]
  },
  {
   "cell_type": "code",
   "execution_count": null,
   "metadata": {},
   "outputs": [],
   "source": []
  },
  {
   "cell_type": "code",
   "execution_count": null,
   "metadata": {},
   "outputs": [],
   "source": []
  },
  {
   "cell_type": "code",
   "execution_count": null,
   "metadata": {},
   "outputs": [],
   "source": []
  },
  {
   "cell_type": "code",
   "execution_count": null,
   "metadata": {},
   "outputs": [],
   "source": []
  },
  {
   "cell_type": "code",
   "execution_count": null,
   "metadata": {},
   "outputs": [],
   "source": []
  },
  {
   "cell_type": "code",
   "execution_count": null,
   "metadata": {},
   "outputs": [],
   "source": []
  },
  {
   "cell_type": "code",
   "execution_count": null,
   "metadata": {},
   "outputs": [],
   "source": []
  },
  {
   "cell_type": "code",
   "execution_count": null,
   "metadata": {},
   "outputs": [],
   "source": []
  },
  {
   "cell_type": "code",
   "execution_count": null,
   "metadata": {},
   "outputs": [],
   "source": []
  }
 ],
 "metadata": {
  "kernelspec": {
   "display_name": "Python 3",
   "language": "python",
   "name": "python3"
  },
  "language_info": {
   "codemirror_mode": {
    "name": "ipython",
    "version": 3
   },
   "file_extension": ".py",
   "mimetype": "text/x-python",
   "name": "python",
   "nbconvert_exporter": "python",
   "pygments_lexer": "ipython3",
   "version": "3.8.3"
  }
 },
 "nbformat": 4,
 "nbformat_minor": 4
}
